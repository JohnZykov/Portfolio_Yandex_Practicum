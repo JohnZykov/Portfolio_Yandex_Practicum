{
  "cells": [
    {
      "cell_type": "markdown",
      "metadata": {
        "id": "qbXGTYjzzhIf"
      },
      "source": [
        "# Исследование объявлений о продаже квартир\n",
        "\n",
        "В данном проекте мы провели исследование данных сервиса Яндекс Недвижимость, используя архив объявлений о продаже квартир в Санкт-Петербурге и соседних населённых пунктах за несколько лет. Наша задача заключалась в предобработке данных и анализе для выявления интересных особенностей и зависимостей, характеризующих рынок недвижимости.\n",
        "\n",
        "В базе данных каждой квартиры содержатся два типа данных: данные, добавленные пользователями, и картографические данные. Первый тип данных включает в себя информацию о площади квартиры, этаже, количестве балконов, а второй тип - расстояния до центра города, аэропорта и ближайшего парка."
      ]
    },
    {
      "cell_type": "markdown",
      "source": [
        "### Описание данных\n",
        "- `airports_nearest` — расстояние до ближайшего аэропорта в метрах (м)\n",
        "- `balcony` — число балконов\n",
        "- `ceiling_height` — высота потолков (м)\n",
        "- `cityCenters_nearest` — расстояние до центра города (м)\n",
        "- `days_exposition` — сколько дней было размещено объявление (от публикации до снятия)\n",
        "- `first_day_exposition` — дата публикации\n",
        "- `floor` — этаж\n",
        "- `floors_total` — всего этажей в доме\n",
        "- `is_apartment` — апартаменты\n",
        "- `kitchen_area` — площадь кухни в квадратных метрах (м²)\n",
        "- `last_price` — цена на момент снятия с публикации\n",
        "- `living_area` — жилая площадь в квадратных метрах (м²)\n",
        "- `locality_name` — название населённого пункта\n",
        "- `open_plan` — свободная планировка\n",
        "- `parks_around3000` — число парков в радиусе 3 км\n",
        "- `parks_nearest` — расстояние до ближайшего парка (м)\n",
        "- `ponds_around3000` — число водоёмов в радиусе 3 км\n",
        "- `ponds_nearest` — расстояние до ближайшего водоёма (м)\n",
        "- `rooms` — число комнат\n",
        "- `studio` — квартира-студия\n",
        "- `total_area` — общая площадь квартиры в квадратных метрах (м²)\n",
        "- `total_images` — число фотографий квартиры в объявлении"
      ],
      "metadata": {
        "id": "aCrgb2Ho209J"
      }
    },
    {
      "cell_type": "markdown",
      "metadata": {
        "id": "0Qc-HURYzhIg"
      },
      "source": [
        "### Импорт библиотек, данных и их первичное изучение"
      ]
    },
    {
      "cell_type": "code",
      "execution_count": null,
      "metadata": {
        "id": "HfqsU9CczhIg"
      },
      "outputs": [],
      "source": [
        "import pandas as pd #\n",
        "import numpy as np\n",
        "import seaborn as sns\n",
        "import matplotlib.pyplot as plt"
      ]
    },
    {
      "cell_type": "code",
      "execution_count": null,
      "metadata": {
        "id": "wPgdwsATzhIh",
        "outputId": "1c1f3348-bfdf-4fe5-813e-55e983dae7aa"
      },
      "outputs": [
        {
          "data": {
            "text/html": [
              "<div>\n",
              "<style scoped>\n",
              "    .dataframe tbody tr th:only-of-type {\n",
              "        vertical-align: middle;\n",
              "    }\n",
              "\n",
              "    .dataframe tbody tr th {\n",
              "        vertical-align: top;\n",
              "    }\n",
              "\n",
              "    .dataframe thead th {\n",
              "        text-align: right;\n",
              "    }\n",
              "</style>\n",
              "<table border=\"1\" class=\"dataframe\">\n",
              "  <thead>\n",
              "    <tr style=\"text-align: right;\">\n",
              "      <th></th>\n",
              "      <th>total_images</th>\n",
              "      <th>last_price</th>\n",
              "      <th>total_area</th>\n",
              "      <th>first_day_exposition</th>\n",
              "      <th>rooms</th>\n",
              "      <th>ceiling_height</th>\n",
              "      <th>floors_total</th>\n",
              "      <th>living_area</th>\n",
              "      <th>floor</th>\n",
              "      <th>is_apartment</th>\n",
              "      <th>studio</th>\n",
              "      <th>open_plan</th>\n",
              "      <th>kitchen_area</th>\n",
              "      <th>balcony</th>\n",
              "      <th>locality_name</th>\n",
              "      <th>airports_nearest</th>\n",
              "      <th>cityCenters_nearest</th>\n",
              "      <th>parks_around3000</th>\n",
              "      <th>parks_nearest</th>\n",
              "      <th>ponds_around3000</th>\n",
              "      <th>ponds_nearest</th>\n",
              "      <th>days_exposition</th>\n",
              "    </tr>\n",
              "  </thead>\n",
              "  <tbody>\n",
              "    <tr>\n",
              "      <th>19254</th>\n",
              "      <td>13</td>\n",
              "      <td>4900000.0</td>\n",
              "      <td>42.0</td>\n",
              "      <td>2018-09-27T00:00:00</td>\n",
              "      <td>2</td>\n",
              "      <td>2.5</td>\n",
              "      <td>9.0</td>\n",
              "      <td>28.0</td>\n",
              "      <td>7</td>\n",
              "      <td>NaN</td>\n",
              "      <td>False</td>\n",
              "      <td>False</td>\n",
              "      <td>8.0</td>\n",
              "      <td>NaN</td>\n",
              "      <td>Санкт-Петербург</td>\n",
              "      <td>46128.0</td>\n",
              "      <td>19699.0</td>\n",
              "      <td>0.0</td>\n",
              "      <td>NaN</td>\n",
              "      <td>0.0</td>\n",
              "      <td>NaN</td>\n",
              "      <td>30.0</td>\n",
              "    </tr>\n",
              "    <tr>\n",
              "      <th>5509</th>\n",
              "      <td>0</td>\n",
              "      <td>3600000.0</td>\n",
              "      <td>42.5</td>\n",
              "      <td>2016-07-01T00:00:00</td>\n",
              "      <td>2</td>\n",
              "      <td>NaN</td>\n",
              "      <td>9.0</td>\n",
              "      <td>28.0</td>\n",
              "      <td>2</td>\n",
              "      <td>NaN</td>\n",
              "      <td>False</td>\n",
              "      <td>False</td>\n",
              "      <td>NaN</td>\n",
              "      <td>0.0</td>\n",
              "      <td>Санкт-Петербург</td>\n",
              "      <td>12731.0</td>\n",
              "      <td>11954.0</td>\n",
              "      <td>1.0</td>\n",
              "      <td>36.0</td>\n",
              "      <td>1.0</td>\n",
              "      <td>924.0</td>\n",
              "      <td>21.0</td>\n",
              "    </tr>\n",
              "    <tr>\n",
              "      <th>4590</th>\n",
              "      <td>6</td>\n",
              "      <td>2890000.0</td>\n",
              "      <td>32.7</td>\n",
              "      <td>2018-11-02T00:00:00</td>\n",
              "      <td>1</td>\n",
              "      <td>NaN</td>\n",
              "      <td>27.0</td>\n",
              "      <td>15.4</td>\n",
              "      <td>26</td>\n",
              "      <td>NaN</td>\n",
              "      <td>False</td>\n",
              "      <td>False</td>\n",
              "      <td>8.8</td>\n",
              "      <td>2.0</td>\n",
              "      <td>посёлок Мурино</td>\n",
              "      <td>NaN</td>\n",
              "      <td>NaN</td>\n",
              "      <td>NaN</td>\n",
              "      <td>NaN</td>\n",
              "      <td>NaN</td>\n",
              "      <td>NaN</td>\n",
              "      <td>38.0</td>\n",
              "    </tr>\n",
              "    <tr>\n",
              "      <th>20455</th>\n",
              "      <td>14</td>\n",
              "      <td>16499000.0</td>\n",
              "      <td>94.1</td>\n",
              "      <td>2017-06-30T00:00:00</td>\n",
              "      <td>3</td>\n",
              "      <td>NaN</td>\n",
              "      <td>13.0</td>\n",
              "      <td>38.7</td>\n",
              "      <td>11</td>\n",
              "      <td>NaN</td>\n",
              "      <td>False</td>\n",
              "      <td>False</td>\n",
              "      <td>33.9</td>\n",
              "      <td>1.0</td>\n",
              "      <td>Санкт-Петербург</td>\n",
              "      <td>37412.0</td>\n",
              "      <td>8370.0</td>\n",
              "      <td>1.0</td>\n",
              "      <td>392.0</td>\n",
              "      <td>2.0</td>\n",
              "      <td>359.0</td>\n",
              "      <td>453.0</td>\n",
              "    </tr>\n",
              "    <tr>\n",
              "      <th>4810</th>\n",
              "      <td>6</td>\n",
              "      <td>9822904.0</td>\n",
              "      <td>65.5</td>\n",
              "      <td>2018-02-13T00:00:00</td>\n",
              "      <td>2</td>\n",
              "      <td>3.3</td>\n",
              "      <td>5.0</td>\n",
              "      <td>NaN</td>\n",
              "      <td>5</td>\n",
              "      <td>NaN</td>\n",
              "      <td>False</td>\n",
              "      <td>False</td>\n",
              "      <td>21.5</td>\n",
              "      <td>1.0</td>\n",
              "      <td>Санкт-Петербург</td>\n",
              "      <td>17462.0</td>\n",
              "      <td>16465.0</td>\n",
              "      <td>1.0</td>\n",
              "      <td>1205.0</td>\n",
              "      <td>2.0</td>\n",
              "      <td>97.0</td>\n",
              "      <td>441.0</td>\n",
              "    </tr>\n",
              "  </tbody>\n",
              "</table>\n",
              "</div>"
            ],
            "text/plain": [
              "       total_images  last_price  total_area first_day_exposition  rooms  \\\n",
              "19254            13   4900000.0        42.0  2018-09-27T00:00:00      2   \n",
              "5509              0   3600000.0        42.5  2016-07-01T00:00:00      2   \n",
              "4590              6   2890000.0        32.7  2018-11-02T00:00:00      1   \n",
              "20455            14  16499000.0        94.1  2017-06-30T00:00:00      3   \n",
              "4810              6   9822904.0        65.5  2018-02-13T00:00:00      2   \n",
              "\n",
              "       ceiling_height  floors_total  living_area  floor is_apartment  studio  \\\n",
              "19254             2.5           9.0         28.0      7          NaN   False   \n",
              "5509              NaN           9.0         28.0      2          NaN   False   \n",
              "4590              NaN          27.0         15.4     26          NaN   False   \n",
              "20455             NaN          13.0         38.7     11          NaN   False   \n",
              "4810              3.3           5.0          NaN      5          NaN   False   \n",
              "\n",
              "       open_plan  kitchen_area  balcony    locality_name  airports_nearest  \\\n",
              "19254      False           8.0      NaN  Санкт-Петербург           46128.0   \n",
              "5509       False           NaN      0.0  Санкт-Петербург           12731.0   \n",
              "4590       False           8.8      2.0   посёлок Мурино               NaN   \n",
              "20455      False          33.9      1.0  Санкт-Петербург           37412.0   \n",
              "4810       False          21.5      1.0  Санкт-Петербург           17462.0   \n",
              "\n",
              "       cityCenters_nearest  parks_around3000  parks_nearest  ponds_around3000  \\\n",
              "19254              19699.0               0.0            NaN               0.0   \n",
              "5509               11954.0               1.0           36.0               1.0   \n",
              "4590                   NaN               NaN            NaN               NaN   \n",
              "20455               8370.0               1.0          392.0               2.0   \n",
              "4810               16465.0               1.0         1205.0               2.0   \n",
              "\n",
              "       ponds_nearest  days_exposition  \n",
              "19254            NaN             30.0  \n",
              "5509           924.0             21.0  \n",
              "4590             NaN             38.0  \n",
              "20455          359.0            453.0  \n",
              "4810            97.0            441.0  "
            ]
          },
          "execution_count": 2,
          "metadata": {},
          "output_type": "execute_result"
        }
      ],
      "source": [
        "data = pd.read_csv('.../real_estate_data.csv', sep='\\t') #\n",
        "pd.set_option('display.max_columns', None)"
      ]
    },
    {
      "cell_type": "markdown",
      "source": [
        "Посмотрим на данные, построив гистограммы все столбцов."
      ],
      "metadata": {
        "id": "0gdUneMC2ppd"
      }
    },
    {
      "cell_type": "code",
      "execution_count": null,
      "metadata": {
        "id": "tKrYhHjZzhIi",
        "outputId": "aa705afb-4fe1-4fc0-e0fb-b86373471935"
      },
      "outputs": [
        {
          "data": {
            "image/png": "[encoded data removed]",
            "text/plain": [
              "<Figure size 1080x1440 with 20 Axes>"
            ]
          },
          "metadata": {
            "needs_background": "light"
          },
          "output_type": "display_data"
        }
      ],
      "source": [
        "data.hist(figsize=(15, 20));"
      ]
    },
    {
      "cell_type": "markdown",
      "metadata": {
        "id": "u3Fx4uYczhIi"
      },
      "source": [
        "Большая часть распределений выглядит правдоподобно. А вот в колонках `last_price`, `total_area` и `ceiling_height` скорее всего есть выбросы. Исследуем данных дополнительно дальше.\n",
        "А сейчас исследуем пропуски."
      ]
    },
    {
      "cell_type": "code",
      "execution_count": null,
      "metadata": {
        "id": "qhslj64IzhIj",
        "outputId": "5343e712-063b-48cc-8053-15f181e0a262"
      },
      "outputs": [
        {
          "name": "stdout",
          "output_type": "stream",
          "text": [
            "<class 'pandas.core.frame.DataFrame'>\n",
            "RangeIndex: 23699 entries, 0 to 23698\n",
            "Data columns (total 22 columns):\n",
            " #   Column                Non-Null Count  Dtype  \n",
            "---  ------                --------------  -----  \n",
            " 0   total_images          23699 non-null  int64  \n",
            " 1   last_price            23699 non-null  float64\n",
            " 2   total_area            23699 non-null  float64\n",
            " 3   first_day_exposition  23699 non-null  object \n",
            " 4   rooms                 23699 non-null  int64  \n",
            " 5   ceiling_height        14504 non-null  float64\n",
            " 6   floors_total          23613 non-null  float64\n",
            " 7   living_area           21796 non-null  float64\n",
            " 8   floor                 23699 non-null  int64  \n",
            " 9   is_apartment          2775 non-null   object \n",
            " 10  studio                23699 non-null  bool   \n",
            " 11  open_plan             23699 non-null  bool   \n",
            " 12  kitchen_area          21421 non-null  float64\n",
            " 13  balcony               12180 non-null  float64\n",
            " 14  locality_name         23650 non-null  object \n",
            " 15  airports_nearest      18157 non-null  float64\n",
            " 16  cityCenters_nearest   18180 non-null  float64\n",
            " 17  parks_around3000      18181 non-null  float64\n",
            " 18  parks_nearest         8079 non-null   float64\n",
            " 19  ponds_around3000      18181 non-null  float64\n",
            " 20  ponds_nearest         9110 non-null   float64\n",
            " 21  days_exposition       20518 non-null  float64\n",
            "dtypes: bool(2), float64(14), int64(3), object(3)\n",
            "memory usage: 3.7+ MB\n"
          ]
        }
      ],
      "source": [
        "data.info()"
      ]
    },
    {
      "cell_type": "markdown",
      "metadata": {
        "id": "DektmVCPzhIj"
      },
      "source": [
        "Видим, что в данных присутсвуют пропуски, и в некоторые признаках есть неккоректные типы данных.\n",
        "\"first_day_exposition\" и \"days_exposition\" нужно превратить в datetime.\n",
        "\"balcony\", \"parks_nearest\", \"ponds_nearest\" в int,\n",
        "is_apartment в bool.\n",
        "\n",
        "Посмотрим количество пропусков."
      ]
    },
    {
      "cell_type": "code",
      "execution_count": null,
      "metadata": {
        "id": "sxRapY9ozhIj",
        "outputId": "9b24a874-e2b9-463a-c718-c6f3d75add9e"
      },
      "outputs": [
        {
          "data": {
            "text/plain": [
              "total_images                0\n",
              "open_plan                   0\n",
              "floor                       0\n",
              "rooms                       0\n",
              "studio                      0\n",
              "total_area                  0\n",
              "last_price                  0\n",
              "first_day_exposition        0\n",
              "locality_name              49\n",
              "floors_total               86\n",
              "living_area              1903\n",
              "kitchen_area             2278\n",
              "days_exposition          3181\n",
              "ponds_around3000         5518\n",
              "parks_around3000         5518\n",
              "cityCenters_nearest      5519\n",
              "airports_nearest         5542\n",
              "ceiling_height           9195\n",
              "balcony                 11519\n",
              "ponds_nearest           14589\n",
              "parks_nearest           15620\n",
              "is_apartment            20924\n",
              "dtype: int64"
            ]
          },
          "execution_count": 5,
          "metadata": {},
          "output_type": "execute_result"
        }
      ],
      "source": [
        "data.isnull().sum().sort_values()"
      ]
    },
    {
      "cell_type": "markdown",
      "source": [
        "И количество пропусков в процентах от общего числа записей."
      ],
      "metadata": {
        "id": "f3zwAb2DSFQV"
      }
    },
    {
      "cell_type": "code",
      "execution_count": null,
      "metadata": {
        "id": "w2c2p4NZzhIj",
        "outputId": "8c7f60bb-fff9-4778-87fb-afbebb092a99"
      },
      "outputs": [
        {
          "data": {
            "text/plain": [
              "total_images             0.000000\n",
              "open_plan                0.000000\n",
              "floor                    0.000000\n",
              "rooms                    0.000000\n",
              "studio                   0.000000\n",
              "total_area               0.000000\n",
              "last_price               0.000000\n",
              "first_day_exposition     0.000000\n",
              "locality_name            0.206760\n",
              "floors_total             0.362885\n",
              "living_area              8.029875\n",
              "kitchen_area             9.612220\n",
              "days_exposition         13.422507\n",
              "ponds_around3000        23.283683\n",
              "parks_around3000        23.283683\n",
              "cityCenters_nearest     23.287902\n",
              "airports_nearest        23.384953\n",
              "ceiling_height          38.799105\n",
              "balcony                 48.605426\n",
              "ponds_nearest           61.559559\n",
              "parks_nearest           65.909954\n",
              "is_apartment            88.290645\n",
              "dtype: float64"
            ]
          },
          "execution_count": 6,
          "metadata": {},
          "output_type": "execute_result"
        }
      ],
      "source": [
        "data.isnull().sum().sort_values()/data.shape[0]*100"
      ]
    },
    {
      "cell_type": "code",
      "execution_count": null,
      "metadata": {
        "id": "Z6E1TmjSzhIj",
        "outputId": "15d268c1-d682-4028-d482-806d470b159d"
      },
      "outputs": [
        {
          "name": "stdout",
          "output_type": "stream",
          "text": [
            "763000000.0\n"
          ]
        }
      ],
      "source": [
        "data.describe()\n",
        "print(data['last_price'].max())"
      ]
    },
    {
      "cell_type": "markdown",
      "source": [
        "Вызывает подозрение количество комнат и высота потолков.\n",
        "Сделаем срез таблицы и посмотрим на правдоподобность данных по объектам с большим количествам комнат.\n"
      ],
      "metadata": {
        "id": "KMJarCefSNoR"
      }
    },
    {
      "cell_type": "code",
      "execution_count": null,
      "metadata": {
        "id": "TT_a_iM4zhIj",
        "outputId": "368d2ec0-9c06-439a-a9f6-8ba5046f61b5"
      },
      "outputs": [
        {
          "data": {
            "text/html": [
              "<div>\n",
              "<style scoped>\n",
              "    .dataframe tbody tr th:only-of-type {\n",
              "        vertical-align: middle;\n",
              "    }\n",
              "\n",
              "    .dataframe tbody tr th {\n",
              "        vertical-align: top;\n",
              "    }\n",
              "\n",
              "    .dataframe thead th {\n",
              "        text-align: right;\n",
              "    }\n",
              "</style>\n",
              "<table border=\"1\" class=\"dataframe\">\n",
              "  <thead>\n",
              "    <tr style=\"text-align: right;\">\n",
              "      <th></th>\n",
              "      <th>total_images</th>\n",
              "      <th>last_price</th>\n",
              "      <th>total_area</th>\n",
              "      <th>first_day_exposition</th>\n",
              "      <th>rooms</th>\n",
              "      <th>ceiling_height</th>\n",
              "      <th>floors_total</th>\n",
              "      <th>living_area</th>\n",
              "      <th>floor</th>\n",
              "      <th>is_apartment</th>\n",
              "      <th>studio</th>\n",
              "      <th>open_plan</th>\n",
              "      <th>kitchen_area</th>\n",
              "      <th>balcony</th>\n",
              "      <th>locality_name</th>\n",
              "      <th>airports_nearest</th>\n",
              "      <th>cityCenters_nearest</th>\n",
              "      <th>parks_around3000</th>\n",
              "      <th>parks_nearest</th>\n",
              "      <th>ponds_around3000</th>\n",
              "      <th>ponds_nearest</th>\n",
              "      <th>days_exposition</th>\n",
              "    </tr>\n",
              "  </thead>\n",
              "  <tbody>\n",
              "    <tr>\n",
              "      <th>648</th>\n",
              "      <td>3</td>\n",
              "      <td>17500000.0</td>\n",
              "      <td>183.7</td>\n",
              "      <td>2018-07-01T00:00:00</td>\n",
              "      <td>11</td>\n",
              "      <td>3.40</td>\n",
              "      <td>7.0</td>\n",
              "      <td>138.8</td>\n",
              "      <td>7</td>\n",
              "      <td>NaN</td>\n",
              "      <td>False</td>\n",
              "      <td>False</td>\n",
              "      <td>13.3</td>\n",
              "      <td>NaN</td>\n",
              "      <td>Санкт-Петербург</td>\n",
              "      <td>23606.0</td>\n",
              "      <td>3148.0</td>\n",
              "      <td>0.0</td>\n",
              "      <td>NaN</td>\n",
              "      <td>0.0</td>\n",
              "      <td>NaN</td>\n",
              "      <td>NaN</td>\n",
              "    </tr>\n",
              "    <tr>\n",
              "      <th>866</th>\n",
              "      <td>5</td>\n",
              "      <td>25000000.0</td>\n",
              "      <td>363.0</td>\n",
              "      <td>2017-12-23T00:00:00</td>\n",
              "      <td>14</td>\n",
              "      <td>3.16</td>\n",
              "      <td>5.0</td>\n",
              "      <td>222.0</td>\n",
              "      <td>4</td>\n",
              "      <td>NaN</td>\n",
              "      <td>False</td>\n",
              "      <td>False</td>\n",
              "      <td>16.6</td>\n",
              "      <td>NaN</td>\n",
              "      <td>Санкт-Петербург</td>\n",
              "      <td>38076.0</td>\n",
              "      <td>7950.0</td>\n",
              "      <td>0.0</td>\n",
              "      <td>NaN</td>\n",
              "      <td>2.0</td>\n",
              "      <td>435.0</td>\n",
              "      <td>418.0</td>\n",
              "    </tr>\n",
              "    <tr>\n",
              "      <th>5358</th>\n",
              "      <td>20</td>\n",
              "      <td>65000000.0</td>\n",
              "      <td>590.0</td>\n",
              "      <td>2019-02-14T00:00:00</td>\n",
              "      <td>15</td>\n",
              "      <td>3.50</td>\n",
              "      <td>6.0</td>\n",
              "      <td>409.0</td>\n",
              "      <td>3</td>\n",
              "      <td>NaN</td>\n",
              "      <td>False</td>\n",
              "      <td>False</td>\n",
              "      <td>100.0</td>\n",
              "      <td>NaN</td>\n",
              "      <td>Санкт-Петербург</td>\n",
              "      <td>24447.0</td>\n",
              "      <td>4666.0</td>\n",
              "      <td>1.0</td>\n",
              "      <td>767.0</td>\n",
              "      <td>0.0</td>\n",
              "      <td>NaN</td>\n",
              "      <td>14.0</td>\n",
              "    </tr>\n",
              "    <tr>\n",
              "      <th>9688</th>\n",
              "      <td>8</td>\n",
              "      <td>33000000.0</td>\n",
              "      <td>194.1</td>\n",
              "      <td>2017-02-07T00:00:00</td>\n",
              "      <td>11</td>\n",
              "      <td>3.43</td>\n",
              "      <td>5.0</td>\n",
              "      <td>129.0</td>\n",
              "      <td>2</td>\n",
              "      <td>NaN</td>\n",
              "      <td>False</td>\n",
              "      <td>False</td>\n",
              "      <td>11.9</td>\n",
              "      <td>NaN</td>\n",
              "      <td>Санкт-Петербург</td>\n",
              "      <td>21469.0</td>\n",
              "      <td>1015.0</td>\n",
              "      <td>1.0</td>\n",
              "      <td>686.0</td>\n",
              "      <td>2.0</td>\n",
              "      <td>66.0</td>\n",
              "      <td>813.0</td>\n",
              "    </tr>\n",
              "    <tr>\n",
              "      <th>14498</th>\n",
              "      <td>6</td>\n",
              "      <td>32250000.0</td>\n",
              "      <td>374.6</td>\n",
              "      <td>2018-06-09T00:00:00</td>\n",
              "      <td>19</td>\n",
              "      <td>NaN</td>\n",
              "      <td>5.0</td>\n",
              "      <td>264.5</td>\n",
              "      <td>2</td>\n",
              "      <td>NaN</td>\n",
              "      <td>False</td>\n",
              "      <td>False</td>\n",
              "      <td>27.6</td>\n",
              "      <td>NaN</td>\n",
              "      <td>Санкт-Петербург</td>\n",
              "      <td>19497.0</td>\n",
              "      <td>3574.0</td>\n",
              "      <td>0.0</td>\n",
              "      <td>NaN</td>\n",
              "      <td>2.0</td>\n",
              "      <td>548.0</td>\n",
              "      <td>114.0</td>\n",
              "    </tr>\n",
              "    <tr>\n",
              "      <th>18848</th>\n",
              "      <td>6</td>\n",
              "      <td>28500000.0</td>\n",
              "      <td>270.0</td>\n",
              "      <td>2015-03-02T00:00:00</td>\n",
              "      <td>16</td>\n",
              "      <td>3.00</td>\n",
              "      <td>4.0</td>\n",
              "      <td>180.0</td>\n",
              "      <td>4</td>\n",
              "      <td>NaN</td>\n",
              "      <td>False</td>\n",
              "      <td>False</td>\n",
              "      <td>13.0</td>\n",
              "      <td>1.0</td>\n",
              "      <td>Санкт-Петербург</td>\n",
              "      <td>23575.0</td>\n",
              "      <td>4142.0</td>\n",
              "      <td>1.0</td>\n",
              "      <td>516.0</td>\n",
              "      <td>0.0</td>\n",
              "      <td>NaN</td>\n",
              "      <td>1365.0</td>\n",
              "    </tr>\n",
              "    <tr>\n",
              "      <th>19540</th>\n",
              "      <td>8</td>\n",
              "      <td>420000000.0</td>\n",
              "      <td>900.0</td>\n",
              "      <td>2017-12-06T00:00:00</td>\n",
              "      <td>12</td>\n",
              "      <td>2.80</td>\n",
              "      <td>25.0</td>\n",
              "      <td>409.7</td>\n",
              "      <td>25</td>\n",
              "      <td>NaN</td>\n",
              "      <td>False</td>\n",
              "      <td>False</td>\n",
              "      <td>112.0</td>\n",
              "      <td>NaN</td>\n",
              "      <td>Санкт-Петербург</td>\n",
              "      <td>30706.0</td>\n",
              "      <td>7877.0</td>\n",
              "      <td>0.0</td>\n",
              "      <td>NaN</td>\n",
              "      <td>2.0</td>\n",
              "      <td>318.0</td>\n",
              "      <td>106.0</td>\n",
              "    </tr>\n",
              "    <tr>\n",
              "      <th>20829</th>\n",
              "      <td>6</td>\n",
              "      <td>28659000.0</td>\n",
              "      <td>245.4</td>\n",
              "      <td>2016-03-31T00:00:00</td>\n",
              "      <td>14</td>\n",
              "      <td>NaN</td>\n",
              "      <td>4.0</td>\n",
              "      <td>168.3</td>\n",
              "      <td>2</td>\n",
              "      <td>NaN</td>\n",
              "      <td>False</td>\n",
              "      <td>False</td>\n",
              "      <td>25.9</td>\n",
              "      <td>0.0</td>\n",
              "      <td>Санкт-Петербург</td>\n",
              "      <td>21104.0</td>\n",
              "      <td>2054.0</td>\n",
              "      <td>3.0</td>\n",
              "      <td>541.0</td>\n",
              "      <td>2.0</td>\n",
              "      <td>118.0</td>\n",
              "      <td>95.0</td>\n",
              "    </tr>\n",
              "  </tbody>\n",
              "</table>\n",
              "</div>"
            ],
            "text/plain": [
              "       total_images   last_price  total_area first_day_exposition  rooms  \\\n",
              "648               3   17500000.0       183.7  2018-07-01T00:00:00     11   \n",
              "866               5   25000000.0       363.0  2017-12-23T00:00:00     14   \n",
              "5358             20   65000000.0       590.0  2019-02-14T00:00:00     15   \n",
              "9688              8   33000000.0       194.1  2017-02-07T00:00:00     11   \n",
              "14498             6   32250000.0       374.6  2018-06-09T00:00:00     19   \n",
              "18848             6   28500000.0       270.0  2015-03-02T00:00:00     16   \n",
              "19540             8  420000000.0       900.0  2017-12-06T00:00:00     12   \n",
              "20829             6   28659000.0       245.4  2016-03-31T00:00:00     14   \n",
              "\n",
              "       ceiling_height  floors_total  living_area  floor is_apartment  studio  \\\n",
              "648              3.40           7.0        138.8      7          NaN   False   \n",
              "866              3.16           5.0        222.0      4          NaN   False   \n",
              "5358             3.50           6.0        409.0      3          NaN   False   \n",
              "9688             3.43           5.0        129.0      2          NaN   False   \n",
              "14498             NaN           5.0        264.5      2          NaN   False   \n",
              "18848            3.00           4.0        180.0      4          NaN   False   \n",
              "19540            2.80          25.0        409.7     25          NaN   False   \n",
              "20829             NaN           4.0        168.3      2          NaN   False   \n",
              "\n",
              "       open_plan  kitchen_area  balcony    locality_name  airports_nearest  \\\n",
              "648        False          13.3      NaN  Санкт-Петербург           23606.0   \n",
              "866        False          16.6      NaN  Санкт-Петербург           38076.0   \n",
              "5358       False         100.0      NaN  Санкт-Петербург           24447.0   \n",
              "9688       False          11.9      NaN  Санкт-Петербург           21469.0   \n",
              "14498      False          27.6      NaN  Санкт-Петербург           19497.0   \n",
              "18848      False          13.0      1.0  Санкт-Петербург           23575.0   \n",
              "19540      False         112.0      NaN  Санкт-Петербург           30706.0   \n",
              "20829      False          25.9      0.0  Санкт-Петербург           21104.0   \n",
              "\n",
              "       cityCenters_nearest  parks_around3000  parks_nearest  ponds_around3000  \\\n",
              "648                 3148.0               0.0            NaN               0.0   \n",
              "866                 7950.0               0.0            NaN               2.0   \n",
              "5358                4666.0               1.0          767.0               0.0   \n",
              "9688                1015.0               1.0          686.0               2.0   \n",
              "14498               3574.0               0.0            NaN               2.0   \n",
              "18848               4142.0               1.0          516.0               0.0   \n",
              "19540               7877.0               0.0            NaN               2.0   \n",
              "20829               2054.0               3.0          541.0               2.0   \n",
              "\n",
              "       ponds_nearest  days_exposition  \n",
              "648              NaN              NaN  \n",
              "866            435.0            418.0  \n",
              "5358             NaN             14.0  \n",
              "9688            66.0            813.0  \n",
              "14498          548.0            114.0  \n",
              "18848            NaN           1365.0  \n",
              "19540          318.0            106.0  \n",
              "20829          118.0             95.0  "
            ]
          },
          "execution_count": 8,
          "metadata": {},
          "output_type": "execute_result"
        }
      ],
      "source": [
        "data.query('rooms > 10')"
      ]
    },
    {
      "cell_type": "markdown",
      "source": [
        "Объекты с большим количеством комнат имеют большую площадь и стоят дорого.\n",
        "Вернемся к вопросу с комнатами в нашем проекте позже.\n"
      ],
      "metadata": {
        "id": "y6x520CySXKK"
      }
    },
    {
      "cell_type": "code",
      "execution_count": null,
      "metadata": {
        "id": "e7ynkqRnzhIj",
        "outputId": "0d1334f8-1478-4aa5-e84b-538020d79eb4"
      },
      "outputs": [
        {
          "data": {
            "text/html": [
              "<div>\n",
              "<style scoped>\n",
              "    .dataframe tbody tr th:only-of-type {\n",
              "        vertical-align: middle;\n",
              "    }\n",
              "\n",
              "    .dataframe tbody tr th {\n",
              "        vertical-align: top;\n",
              "    }\n",
              "\n",
              "    .dataframe thead th {\n",
              "        text-align: right;\n",
              "    }\n",
              "</style>\n",
              "<table border=\"1\" class=\"dataframe\">\n",
              "  <thead>\n",
              "    <tr style=\"text-align: right;\">\n",
              "      <th></th>\n",
              "      <th>last_price</th>\n",
              "      <th>total_area</th>\n",
              "      <th>rooms</th>\n",
              "      <th>ceiling_height</th>\n",
              "    </tr>\n",
              "  </thead>\n",
              "  <tbody>\n",
              "    <tr>\n",
              "      <th>355</th>\n",
              "      <td>3600000.0</td>\n",
              "      <td>55.2</td>\n",
              "      <td>2</td>\n",
              "      <td>25.0</td>\n",
              "    </tr>\n",
              "    <tr>\n",
              "      <th>3148</th>\n",
              "      <td>2900000.0</td>\n",
              "      <td>75.0</td>\n",
              "      <td>3</td>\n",
              "      <td>32.0</td>\n",
              "    </tr>\n",
              "    <tr>\n",
              "      <th>4643</th>\n",
              "      <td>4300000.0</td>\n",
              "      <td>45.0</td>\n",
              "      <td>2</td>\n",
              "      <td>25.0</td>\n",
              "    </tr>\n",
              "    <tr>\n",
              "      <th>4876</th>\n",
              "      <td>3000000.0</td>\n",
              "      <td>25.0</td>\n",
              "      <td>0</td>\n",
              "      <td>27.0</td>\n",
              "    </tr>\n",
              "    <tr>\n",
              "      <th>5076</th>\n",
              "      <td>3850000.0</td>\n",
              "      <td>30.5</td>\n",
              "      <td>1</td>\n",
              "      <td>24.0</td>\n",
              "    </tr>\n",
              "    <tr>\n",
              "      <th>5246</th>\n",
              "      <td>2500000.0</td>\n",
              "      <td>54.0</td>\n",
              "      <td>2</td>\n",
              "      <td>27.0</td>\n",
              "    </tr>\n",
              "    <tr>\n",
              "      <th>5669</th>\n",
              "      <td>4400000.0</td>\n",
              "      <td>50.0</td>\n",
              "      <td>2</td>\n",
              "      <td>26.0</td>\n",
              "    </tr>\n",
              "    <tr>\n",
              "      <th>5807</th>\n",
              "      <td>8150000.0</td>\n",
              "      <td>80.0</td>\n",
              "      <td>2</td>\n",
              "      <td>27.0</td>\n",
              "    </tr>\n",
              "    <tr>\n",
              "      <th>6246</th>\n",
              "      <td>3300000.0</td>\n",
              "      <td>44.4</td>\n",
              "      <td>2</td>\n",
              "      <td>25.0</td>\n",
              "    </tr>\n",
              "    <tr>\n",
              "      <th>9379</th>\n",
              "      <td>3950000.0</td>\n",
              "      <td>42.0</td>\n",
              "      <td>3</td>\n",
              "      <td>25.0</td>\n",
              "    </tr>\n",
              "    <tr>\n",
              "      <th>10773</th>\n",
              "      <td>3800000.0</td>\n",
              "      <td>58.0</td>\n",
              "      <td>2</td>\n",
              "      <td>27.0</td>\n",
              "    </tr>\n",
              "    <tr>\n",
              "      <th>11285</th>\n",
              "      <td>1950000.0</td>\n",
              "      <td>37.0</td>\n",
              "      <td>1</td>\n",
              "      <td>25.0</td>\n",
              "    </tr>\n",
              "    <tr>\n",
              "      <th>14382</th>\n",
              "      <td>1700000.0</td>\n",
              "      <td>35.0</td>\n",
              "      <td>1</td>\n",
              "      <td>25.0</td>\n",
              "    </tr>\n",
              "    <tr>\n",
              "      <th>15061</th>\n",
              "      <td>5600000.0</td>\n",
              "      <td>56.4</td>\n",
              "      <td>2</td>\n",
              "      <td>14.0</td>\n",
              "    </tr>\n",
              "    <tr>\n",
              "      <th>17496</th>\n",
              "      <td>6700000.0</td>\n",
              "      <td>92.9</td>\n",
              "      <td>3</td>\n",
              "      <td>20.0</td>\n",
              "    </tr>\n",
              "    <tr>\n",
              "      <th>17857</th>\n",
              "      <td>3900000.0</td>\n",
              "      <td>56.0</td>\n",
              "      <td>3</td>\n",
              "      <td>27.0</td>\n",
              "    </tr>\n",
              "    <tr>\n",
              "      <th>18545</th>\n",
              "      <td>3750000.0</td>\n",
              "      <td>43.0</td>\n",
              "      <td>2</td>\n",
              "      <td>25.0</td>\n",
              "    </tr>\n",
              "    <tr>\n",
              "      <th>20478</th>\n",
              "      <td>8000000.0</td>\n",
              "      <td>45.0</td>\n",
              "      <td>1</td>\n",
              "      <td>27.0</td>\n",
              "    </tr>\n",
              "    <tr>\n",
              "      <th>20507</th>\n",
              "      <td>5950000.0</td>\n",
              "      <td>60.0</td>\n",
              "      <td>2</td>\n",
              "      <td>22.6</td>\n",
              "    </tr>\n",
              "    <tr>\n",
              "      <th>21377</th>\n",
              "      <td>4900000.0</td>\n",
              "      <td>42.0</td>\n",
              "      <td>1</td>\n",
              "      <td>27.5</td>\n",
              "    </tr>\n",
              "    <tr>\n",
              "      <th>21824</th>\n",
              "      <td>2450000.0</td>\n",
              "      <td>44.0</td>\n",
              "      <td>2</td>\n",
              "      <td>27.0</td>\n",
              "    </tr>\n",
              "    <tr>\n",
              "      <th>22309</th>\n",
              "      <td>5300000.0</td>\n",
              "      <td>45.0</td>\n",
              "      <td>1</td>\n",
              "      <td>10.3</td>\n",
              "    </tr>\n",
              "    <tr>\n",
              "      <th>22336</th>\n",
              "      <td>9999000.0</td>\n",
              "      <td>92.4</td>\n",
              "      <td>2</td>\n",
              "      <td>32.0</td>\n",
              "    </tr>\n",
              "    <tr>\n",
              "      <th>22869</th>\n",
              "      <td>15000000.0</td>\n",
              "      <td>25.0</td>\n",
              "      <td>1</td>\n",
              "      <td>100.0</td>\n",
              "    </tr>\n",
              "    <tr>\n",
              "      <th>22938</th>\n",
              "      <td>4000000.0</td>\n",
              "      <td>98.0</td>\n",
              "      <td>4</td>\n",
              "      <td>27.0</td>\n",
              "    </tr>\n",
              "  </tbody>\n",
              "</table>\n",
              "</div>"
            ],
            "text/plain": [
              "       last_price  total_area  rooms  ceiling_height\n",
              "355     3600000.0        55.2      2            25.0\n",
              "3148    2900000.0        75.0      3            32.0\n",
              "4643    4300000.0        45.0      2            25.0\n",
              "4876    3000000.0        25.0      0            27.0\n",
              "5076    3850000.0        30.5      1            24.0\n",
              "5246    2500000.0        54.0      2            27.0\n",
              "5669    4400000.0        50.0      2            26.0\n",
              "5807    8150000.0        80.0      2            27.0\n",
              "6246    3300000.0        44.4      2            25.0\n",
              "9379    3950000.0        42.0      3            25.0\n",
              "10773   3800000.0        58.0      2            27.0\n",
              "11285   1950000.0        37.0      1            25.0\n",
              "14382   1700000.0        35.0      1            25.0\n",
              "15061   5600000.0        56.4      2            14.0\n",
              "17496   6700000.0        92.9      3            20.0\n",
              "17857   3900000.0        56.0      3            27.0\n",
              "18545   3750000.0        43.0      2            25.0\n",
              "20478   8000000.0        45.0      1            27.0\n",
              "20507   5950000.0        60.0      2            22.6\n",
              "21377   4900000.0        42.0      1            27.5\n",
              "21824   2450000.0        44.0      2            27.0\n",
              "22309   5300000.0        45.0      1            10.3\n",
              "22336   9999000.0        92.4      2            32.0\n",
              "22869  15000000.0        25.0      1           100.0\n",
              "22938   4000000.0        98.0      4            27.0"
            ]
          },
          "execution_count": 9,
          "metadata": {},
          "output_type": "execute_result"
        }
      ],
      "source": [
        "data.query('ceiling_height > 10')[['last_price', 'total_area', 'rooms', 'ceiling_height']]"
      ]
    },
    {
      "cell_type": "markdown",
      "source": [
        "Скорее всего ошибка при внесении данных — вместо сантиметров написали метры.\n",
        "Посмотрим названия населенных пунктов. В названиях есть неявные дубликаты."
      ],
      "metadata": {
        "id": "gdr9wNeIS0kN"
      }
    },
    {
      "cell_type": "code",
      "execution_count": null,
      "metadata": {
        "id": "Z4D_NffFzhIj",
        "outputId": "ba3b2d1e-e675-45c4-a437-3bd143e48255"
      },
      "outputs": [
        {
          "data": {
            "text/plain": [
              "array(['Санкт-Петербург', 'посёлок Шушары', 'городской посёлок Янино-1',\n",
              "       'посёлок Парголово', 'посёлок Мурино', 'Ломоносов', 'Сертолово',\n",
              "       'Петергоф', 'Пушкин', 'деревня Кудрово', 'Коммунар', 'Колпино',\n",
              "       'поселок городского типа Красный Бор', 'Гатчина', 'поселок Мурино',\n",
              "       'деревня Фёдоровское', 'Выборг', 'Кронштадт', 'Кировск',\n",
              "       'деревня Новое Девяткино', 'посёлок Металлострой',\n",
              "       'посёлок городского типа Лебяжье',\n",
              "       'посёлок городского типа Сиверский', 'поселок Молодцово',\n",
              "       'поселок городского типа Кузьмоловский',\n",
              "       'садовое товарищество Новая Ропша', 'Павловск',\n",
              "       'деревня Пикколово', 'Всеволожск', 'Волхов', 'Кингисепп',\n",
              "       'Приозерск', 'Сестрорецк', 'деревня Куттузи', 'посёлок Аннино',\n",
              "       'поселок городского типа Ефимовский', 'посёлок Плодовое',\n",
              "       'деревня Заклинье', 'поселок Торковичи', 'поселок Первомайское',\n",
              "       'Красное Село', 'посёлок Понтонный', 'Сясьстрой', 'деревня Старая',\n",
              "       'деревня Лесколово', 'посёлок Новый Свет', 'Сланцы',\n",
              "       'село Путилово', 'Ивангород', 'Мурино', 'Шлиссельбург',\n",
              "       'Никольское', 'Зеленогорск', 'Сосновый Бор', 'поселок Новый Свет',\n",
              "       'деревня Оржицы', 'деревня Кальтино', 'Кудрово',\n",
              "       'поселок Романовка', 'посёлок Бугры', 'поселок Бугры',\n",
              "       'поселок городского типа Рощино', 'Кириши', 'Луга', 'Волосово',\n",
              "       'Отрадное', 'село Павлово', 'поселок Оредеж', 'село Копорье',\n",
              "       'посёлок городского типа Красный Бор', 'посёлок Молодёжное',\n",
              "       'Тихвин', 'посёлок Победа', 'деревня Нурма',\n",
              "       'поселок городского типа Синявино', 'Тосно',\n",
              "       'посёлок городского типа Кузьмоловский', 'посёлок Стрельна',\n",
              "       'Бокситогорск', 'посёлок Александровская', 'деревня Лопухинка',\n",
              "       'Пикалёво', 'поселок Терволово',\n",
              "       'поселок городского типа Советский', 'Подпорожье',\n",
              "       'посёлок Петровское', 'посёлок городского типа Токсово',\n",
              "       'поселок Сельцо', 'посёлок городского типа Вырица',\n",
              "       'деревня Кипень', 'деревня Келози', 'деревня Вартемяги',\n",
              "       'посёлок Тельмана', 'поселок Севастьяново',\n",
              "       'городской поселок Большая Ижора', nan,\n",
              "       'городской посёлок Павлово', 'деревня Агалатово',\n",
              "       'посёлок Новогорелово', 'городской посёлок Лесогорский',\n",
              "       'деревня Лаголово', 'поселок Цвелодубово',\n",
              "       'поселок городского типа Рахья', 'поселок городского типа Вырица',\n",
              "       'деревня Белогорка', 'поселок Заводской',\n",
              "       'городской посёлок Новоселье', 'деревня Большие Колпаны',\n",
              "       'деревня Горбунки', 'деревня Батово', 'деревня Заневка',\n",
              "       'деревня Иссад', 'Приморск', 'городской посёлок Фёдоровское',\n",
              "       'деревня Мистолово', 'Новая Ладога', 'поселок Зимитицы',\n",
              "       'поселок Барышево', 'деревня Разметелево',\n",
              "       'поселок городского типа имени Свердлова', 'деревня Пеники',\n",
              "       'поселок Рябово', 'деревня Пудомяги', 'поселок станции Корнево',\n",
              "       'деревня Низино', 'деревня Бегуницы', 'посёлок Поляны',\n",
              "       'городской посёлок Мга', 'поселок Елизаветино',\n",
              "       'посёлок городского типа Кузнечное', 'деревня Колтуши',\n",
              "       'поселок Запорожское', 'посёлок городского типа Рощино',\n",
              "       'деревня Гостилицы', 'деревня Малое Карлино',\n",
              "       'посёлок Мичуринское', 'посёлок городского типа имени Морозова',\n",
              "       'посёлок Песочный', 'посёлок Сосново', 'деревня Аро',\n",
              "       'поселок Ильичёво', 'посёлок городского типа Тайцы',\n",
              "       'деревня Малое Верево', 'деревня Извара', 'поселок станции Вещево',\n",
              "       'село Паша', 'деревня Калитино',\n",
              "       'посёлок городского типа Ульяновка', 'деревня Чудской Бор',\n",
              "       'поселок городского типа Дубровка', 'деревня Мины',\n",
              "       'поселок Войсковицы', 'посёлок городского типа имени Свердлова',\n",
              "       'деревня Коркино', 'посёлок Ропша',\n",
              "       'поселок городского типа Приладожский', 'посёлок Щеглово',\n",
              "       'посёлок Гаврилово', 'Лодейное Поле', 'деревня Рабитицы',\n",
              "       'поселок городского типа Никольский', 'деревня Кузьмолово',\n",
              "       'деревня Малые Колпаны', 'поселок Тельмана',\n",
              "       'посёлок Петро-Славянка', 'городской посёлок Назия',\n",
              "       'посёлок Репино', 'посёлок Ильичёво', 'поселок Углово',\n",
              "       'поселок Старая Малукса', 'садовое товарищество Рахья',\n",
              "       'поселок Аннино', 'поселок Победа', 'деревня Меньково',\n",
              "       'деревня Старые Бегуницы', 'посёлок Сапёрный', 'поселок Семрино',\n",
              "       'поселок Гаврилово', 'поселок Глажево', 'поселок Кобринское',\n",
              "       'деревня Гарболово', 'деревня Юкки',\n",
              "       'поселок станции Приветнинское', 'деревня Мануйлово',\n",
              "       'деревня Пчева', 'поселок Поляны', 'поселок Цвылёво',\n",
              "       'поселок Мельниково', 'посёлок Пудость', 'посёлок Усть-Луга',\n",
              "       'Светогорск', 'Любань', 'поселок Селезнёво',\n",
              "       'поселок городского типа Рябово', 'Каменногорск', 'деревня Кривко',\n",
              "       'поселок Глебычево', 'деревня Парицы', 'поселок Жилпосёлок',\n",
              "       'посёлок городского типа Мга', 'городской поселок Янино-1',\n",
              "       'посёлок Войскорово', 'село Никольское', 'посёлок Терволово',\n",
              "       'поселок Стеклянный', 'посёлок городского типа Важины',\n",
              "       'посёлок Мыза-Ивановка', 'село Русско-Высоцкое',\n",
              "       'поселок городского типа Лебяжье',\n",
              "       'поселок городского типа Форносово', 'село Старая Ладога',\n",
              "       'поселок Житково', 'городской посёлок Виллози', 'деревня Лампово',\n",
              "       'деревня Шпаньково', 'деревня Лаврики', 'посёлок Сумино',\n",
              "       'посёлок Возрождение', 'деревня Старосиверская',\n",
              "       'посёлок Кикерино', 'поселок Возрождение',\n",
              "       'деревня Старое Хинколово', 'посёлок Пригородный',\n",
              "       'посёлок Торфяное', 'городской посёлок Будогощь',\n",
              "       'поселок Суходолье', 'поселок Красная Долина', 'деревня Хапо-Ое',\n",
              "       'поселок городского типа Дружная Горка', 'поселок Лисий Нос',\n",
              "       'деревня Яльгелево', 'посёлок Стеклянный', 'село Рождествено',\n",
              "       'деревня Старополье', 'посёлок Левашово', 'деревня Сяськелево',\n",
              "       'деревня Камышовка',\n",
              "       'садоводческое некоммерческое товарищество Лесная Поляна',\n",
              "       'деревня Хязельки', 'поселок Жилгородок',\n",
              "       'посёлок городского типа Павлово', 'деревня Ялгино',\n",
              "       'поселок Новый Учхоз', 'городской посёлок Рощино',\n",
              "       'поселок Гончарово', 'поселок Почап', 'посёлок Сапёрное',\n",
              "       'посёлок Платформа 69-й километр', 'поселок Каложицы',\n",
              "       'деревня Фалилеево', 'деревня Пельгора',\n",
              "       'поселок городского типа Лесогорский', 'деревня Торошковичи',\n",
              "       'посёлок Белоостров', 'посёлок Алексеевка', 'поселок Серебрянский',\n",
              "       'поселок Лукаши', 'поселок Петровское', 'деревня Щеглово',\n",
              "       'поселок Мичуринское', 'деревня Тарасово', 'поселок Кингисеппский',\n",
              "       'посёлок при железнодорожной станции Вещево', 'поселок Ушаки',\n",
              "       'деревня Котлы', 'деревня Сижно', 'деревня Торосово',\n",
              "       'посёлок Форт Красная Горка', 'поселок городского типа Токсово',\n",
              "       'деревня Новолисино', 'посёлок станции Громово', 'деревня Глинка',\n",
              "       'посёлок Мельниково', 'поселок городского типа Назия',\n",
              "       'деревня Старая Пустошь', 'поселок Коммунары', 'поселок Починок',\n",
              "       'посёлок городского типа Вознесенье', 'деревня Разбегаево',\n",
              "       'посёлок городского типа Рябово', 'поселок Гладкое',\n",
              "       'посёлок при железнодорожной станции Приветнинское',\n",
              "       'поселок Тёсово-4', 'посёлок Жилгородок', 'деревня Бор',\n",
              "       'посёлок Коробицыно', 'деревня Большая Вруда', 'деревня Курковицы',\n",
              "       'посёлок Лисий Нос', 'городской посёлок Советский',\n",
              "       'посёлок Кобралово', 'деревня Суоранда', 'поселок Кобралово',\n",
              "       'поселок городского типа Кондратьево',\n",
              "       'коттеджный поселок Счастье', 'поселок Любань', 'деревня Реброво',\n",
              "       'деревня Зимитицы', 'деревня Тойворово', 'поселок Семиозерье',\n",
              "       'поселок Лесное', 'поселок Совхозный', 'поселок Усть-Луга',\n",
              "       'посёлок Ленинское', 'посёлок Суйда',\n",
              "       'посёлок городского типа Форносово', 'деревня Нижние Осельки',\n",
              "       'посёлок станции Свирь', 'поселок Перово', 'Высоцк',\n",
              "       'поселок Гарболово', 'село Шум', 'поселок Котельский',\n",
              "       'поселок станции Лужайка', 'деревня Большая Пустомержа',\n",
              "       'поселок Красносельское', 'деревня Вахнова Кара', 'деревня Пижма',\n",
              "       'коттеджный поселок Кивеннапа Север', 'поселок Коробицыно',\n",
              "       'поселок Ромашки', 'посёлок Перово', 'деревня Каськово',\n",
              "       'деревня Куровицы', 'посёлок Плоское', 'поселок Сумино',\n",
              "       'поселок городского типа Большая Ижора', 'поселок Кирпичное',\n",
              "       'деревня Ям-Тесово', 'деревня Раздолье', 'деревня Терпилицы',\n",
              "       'посёлок Шугозеро', 'деревня Ваганово', 'поселок Пушное',\n",
              "       'садовое товарищество Садко', 'посёлок Усть-Ижора',\n",
              "       'деревня Выскатка', 'городской посёлок Свирьстрой',\n",
              "       'поселок Громово', 'деревня Кисельня', 'посёлок Старая Малукса',\n",
              "       'деревня Трубников Бор', 'поселок Калитино',\n",
              "       'посёлок Высокоключевой', 'садовое товарищество Приладожский',\n",
              "       'посёлок Пансионат Зелёный Бор', 'деревня Ненимяки',\n",
              "       'поселок Пансионат Зелёный Бор', 'деревня Снегирёвка',\n",
              "       'деревня Рапполово', 'деревня Пустынка', 'поселок Рабитицы',\n",
              "       'деревня Большой Сабск', 'деревня Русско', 'деревня Лупполово',\n",
              "       'деревня Большое Рейзино', 'деревня Малая Романовка',\n",
              "       'поселок Дружноселье', 'поселок Пчевжа', 'поселок Володарское',\n",
              "       'деревня Нижняя', 'коттеджный посёлок Лесное', 'деревня Тихковицы',\n",
              "       'деревня Борисова Грива', 'посёлок Дзержинского'], dtype=object)"
            ]
          },
          "execution_count": 11,
          "metadata": {},
          "output_type": "execute_result"
        }
      ],
      "source": [
        "data['locality_name'].unique()"
      ]
    },
    {
      "cell_type": "markdown",
      "source": [
        "В названиях насленных пунктов есть неявные дубликаты."
      ],
      "metadata": {
        "id": "h0zbqREGTJ9f"
      }
    },
    {
      "cell_type": "markdown",
      "metadata": {
        "id": "YO8pOl_jzhIk"
      },
      "source": [
        "**Вывод**:\n",
        "\n",
        "Мы обнаружили наличие значительного количества пропущенных значений в различных столбцах. Для заполнения этих пропусков используем различные стратегии. Например, в случае количества балконов мы заменим пропуски нулевыми значениями, так как предположили, что отсутствие информации о балконах означает их отсутствие. В других случаях, таких как расстояния до аэропорта или наличие пруда, мы оставим пропуски без изменений, поскольку эти данные не были существенными для целей исследования. Для некоторых параметров, где пропущенные значения были значительными, мы используем медианные значения."
      ]
    },
    {
      "cell_type": "markdown",
      "metadata": {
        "id": "oY8gKEFHzhIk"
      },
      "source": [
        "### Предобработка данных"
      ]
    },
    {
      "cell_type": "markdown",
      "metadata": {
        "id": "DkvSivzuzhIk"
      },
      "source": [
        "Пройдемся по каждому столбцу: обработаем пропуски и в нужных местах заменим тип данных. В начале сделаем копию дата фрейма и будем работать с ней."
      ]
    },
    {
      "cell_type": "code",
      "execution_count": null,
      "metadata": {
        "id": "Pzae0Gr5zhIk"
      },
      "outputs": [],
      "source": [
        "data_prep = data"
      ]
    },
    {
      "cell_type": "code",
      "execution_count": null,
      "metadata": {
        "scrolled": true,
        "id": "zTmLFJoAzhIk",
        "outputId": "bb9bbe41-8086-463d-9afe-32383551947d"
      },
      "outputs": [
        {
          "name": "stdout",
          "output_type": "stream",
          "text": [
            "<class 'pandas.core.frame.DataFrame'>\n",
            "RangeIndex: 23699 entries, 0 to 23698\n",
            "Data columns (total 22 columns):\n",
            " #   Column                Non-Null Count  Dtype  \n",
            "---  ------                --------------  -----  \n",
            " 0   total_images          23699 non-null  int64  \n",
            " 1   last_price            23699 non-null  float64\n",
            " 2   total_area            23699 non-null  float64\n",
            " 3   first_day_exposition  23699 non-null  object \n",
            " 4   rooms                 23699 non-null  int64  \n",
            " 5   ceiling_height        14504 non-null  float64\n",
            " 6   floors_total          23613 non-null  float64\n",
            " 7   living_area           21796 non-null  float64\n",
            " 8   floor                 23699 non-null  int64  \n",
            " 9   is_apartment          2775 non-null   object \n",
            " 10  studio                23699 non-null  bool   \n",
            " 11  open_plan             23699 non-null  bool   \n",
            " 12  kitchen_area          21421 non-null  float64\n",
            " 13  balcony               12180 non-null  float64\n",
            " 14  locality_name         23650 non-null  object \n",
            " 15  airports_nearest      18157 non-null  float64\n",
            " 16  cityCenters_nearest   18180 non-null  float64\n",
            " 17  parks_around3000      18181 non-null  float64\n",
            " 18  parks_nearest         8079 non-null   float64\n",
            " 19  ponds_around3000      18181 non-null  float64\n",
            " 20  ponds_nearest         9110 non-null   float64\n",
            " 21  days_exposition       20518 non-null  float64\n",
            "dtypes: bool(2), float64(14), int64(3), object(3)\n",
            "memory usage: 3.7+ MB\n"
          ]
        }
      ],
      "source": [
        "data_prep.info()"
      ]
    },
    {
      "cell_type": "markdown",
      "source": [
        "Приведем `first_day_exposition` к правильному формату `dataTime` и посмотрим, что замена произведена корректно."
      ],
      "metadata": {
        "id": "YaQukQ72Y8of"
      }
    },
    {
      "cell_type": "code",
      "execution_count": null,
      "metadata": {
        "id": "Rq_cYEK1zhIk",
        "outputId": "32b68cba-65b2-4b41-9c0a-e19992ab135c"
      },
      "outputs": [
        {
          "data": {
            "text/plain": [
              "0   2019-03-07\n",
              "1   2018-12-04\n",
              "2   2015-08-20\n",
              "3   2015-07-24\n",
              "4   2018-06-19\n",
              "Name: first_day_exposition, dtype: datetime64[ns]"
            ]
          },
          "execution_count": 14,
          "metadata": {},
          "output_type": "execute_result"
        }
      ],
      "source": [
        "data_prep['first_day_exposition'] = pd.to_datetime(data_prep['first_day_exposition'], format='%Y-%m-%d')\n",
        "data_prep['first_day_exposition'].head()\n"
      ]
    },
    {
      "cell_type": "markdown",
      "source": [
        "Выше мы обнаружили, что существуют квартиры с аномальной высотой потолков.\n",
        "Мы предположили, что это связано с тем, что данные были указаны в сантиметрах.\n",
        "Передвинем запятую влево на один знак у квартир с высотой потолков большей или равной 20 метрам.\n"
      ],
      "metadata": {
        "id": "KX8kFMoDZGin"
      }
    },
    {
      "cell_type": "code",
      "execution_count": null,
      "metadata": {
        "id": "qWex8dn-zhIk"
      },
      "outputs": [],
      "source": [
        "data_prep['ceiling_height'] = data_prep['ceiling_height'].apply(lambda x: x/10 if x>=20 else x)"
      ]
    },
    {
      "cell_type": "code",
      "source": [
        "Проверим, что получилось."
      ],
      "metadata": {
        "id": "XtKCcKpiZeM5"
      },
      "execution_count": null,
      "outputs": []
    },
    {
      "cell_type": "code",
      "execution_count": null,
      "metadata": {
        "id": "grygwx1HzhIk",
        "outputId": "27fd5b3b-21b3-453c-f32a-f207416850fb"
      },
      "outputs": [
        {
          "data": {
            "text/html": [
              "<div>\n",
              "<style scoped>\n",
              "    .dataframe tbody tr th:only-of-type {\n",
              "        vertical-align: middle;\n",
              "    }\n",
              "\n",
              "    .dataframe tbody tr th {\n",
              "        vertical-align: top;\n",
              "    }\n",
              "\n",
              "    .dataframe thead th {\n",
              "        text-align: right;\n",
              "    }\n",
              "</style>\n",
              "<table border=\"1\" class=\"dataframe\">\n",
              "  <thead>\n",
              "    <tr style=\"text-align: right;\">\n",
              "      <th></th>\n",
              "      <th>last_price</th>\n",
              "      <th>total_area</th>\n",
              "      <th>rooms</th>\n",
              "      <th>ceiling_height</th>\n",
              "    </tr>\n",
              "  </thead>\n",
              "  <tbody>\n",
              "    <tr>\n",
              "      <th>15061</th>\n",
              "      <td>5600000.0</td>\n",
              "      <td>56.4</td>\n",
              "      <td>2</td>\n",
              "      <td>14.0</td>\n",
              "    </tr>\n",
              "    <tr>\n",
              "      <th>22309</th>\n",
              "      <td>5300000.0</td>\n",
              "      <td>45.0</td>\n",
              "      <td>1</td>\n",
              "      <td>10.3</td>\n",
              "    </tr>\n",
              "  </tbody>\n",
              "</table>\n",
              "</div>"
            ],
            "text/plain": [
              "       last_price  total_area  rooms  ceiling_height\n",
              "15061   5600000.0        56.4      2            14.0\n",
              "22309   5300000.0        45.0      1            10.3"
            ]
          },
          "execution_count": 16,
          "metadata": {},
          "output_type": "execute_result"
        }
      ],
      "source": [
        "data_prep.query('ceiling_height > 10')[['last_price', 'total_area', 'rooms', 'ceiling_height']]"
      ]
    },
    {
      "cell_type": "markdown",
      "source": [
        "Заполним пропущенные значения высоты потолков на медиану 2.65, так как основная часть данных в этом столбце находится в небольшом диапазоне"
      ],
      "metadata": {
        "id": "7iyGyJ8dZrH-"
      }
    },
    {
      "cell_type": "code",
      "execution_count": null,
      "metadata": {
        "id": "JvpYoGrtzhIk"
      },
      "outputs": [],
      "source": [
        "data_prep['ceiling_height'] = data_prep['ceiling_height'].fillna(2.65)"
      ]
    },
    {
      "cell_type": "markdown",
      "source": [
        "Заменим пропущенные значени во `floors total` на этаж квартиры."
      ],
      "metadata": {
        "id": "P1QSrZ-nZ56U"
      }
    },
    {
      "cell_type": "code",
      "execution_count": null,
      "metadata": {
        "id": "R8hNfsxWzhIl"
      },
      "outputs": [],
      "source": [
        "data_prep['floors_total'] = np.where(data_prep['floors_total'].isnull(), data_prep['floor'], data_prep['floors_total'])\n",
        "data_prep['floors_total'] = data_prep['floors_total'].astype('int')"
      ]
    },
    {
      "cell_type": "markdown",
      "source": [
        "Чтобы заполнить пропуски в 'living_area' посмотрим как распределены данные."
      ],
      "metadata": {
        "id": "amDhkLcTaEHM"
      }
    },
    {
      "cell_type": "code",
      "execution_count": null,
      "metadata": {
        "id": "Xg0VCeMQzhIl",
        "outputId": "f5ca67c6-cebc-4011-dd18-6cdd246c20d9"
      },
      "outputs": [
        {
          "data": {
            "text/html": [
              "<div>\n",
              "<style scoped>\n",
              "    .dataframe tbody tr th:only-of-type {\n",
              "        vertical-align: middle;\n",
              "    }\n",
              "\n",
              "    .dataframe tbody tr th {\n",
              "        vertical-align: top;\n",
              "    }\n",
              "\n",
              "    .dataframe thead th {\n",
              "        text-align: right;\n",
              "    }\n",
              "</style>\n",
              "<table border=\"1\" class=\"dataframe\">\n",
              "  <thead>\n",
              "    <tr style=\"text-align: right;\">\n",
              "      <th></th>\n",
              "      <th>count</th>\n",
              "      <th>mean</th>\n",
              "    </tr>\n",
              "    <tr>\n",
              "      <th>rooms</th>\n",
              "      <th></th>\n",
              "      <th></th>\n",
              "    </tr>\n",
              "  </thead>\n",
              "  <tbody>\n",
              "    <tr>\n",
              "      <th>0</th>\n",
              "      <td>183</td>\n",
              "      <td>18.865246</td>\n",
              "    </tr>\n",
              "    <tr>\n",
              "      <th>1</th>\n",
              "      <td>7388</td>\n",
              "      <td>17.893552</td>\n",
              "    </tr>\n",
              "    <tr>\n",
              "      <th>2</th>\n",
              "      <td>7296</td>\n",
              "      <td>31.736849</td>\n",
              "    </tr>\n",
              "    <tr>\n",
              "      <th>3</th>\n",
              "      <td>5366</td>\n",
              "      <td>47.387941</td>\n",
              "    </tr>\n",
              "    <tr>\n",
              "      <th>4</th>\n",
              "      <td>1089</td>\n",
              "      <td>66.983223</td>\n",
              "    </tr>\n",
              "    <tr>\n",
              "      <th>5</th>\n",
              "      <td>292</td>\n",
              "      <td>100.009247</td>\n",
              "    </tr>\n",
              "    <tr>\n",
              "      <th>6</th>\n",
              "      <td>99</td>\n",
              "      <td>130.983636</td>\n",
              "    </tr>\n",
              "    <tr>\n",
              "      <th>7</th>\n",
              "      <td>53</td>\n",
              "      <td>163.564151</td>\n",
              "    </tr>\n",
              "    <tr>\n",
              "      <th>8</th>\n",
              "      <td>12</td>\n",
              "      <td>168.683333</td>\n",
              "    </tr>\n",
              "    <tr>\n",
              "      <th>9</th>\n",
              "      <td>7</td>\n",
              "      <td>190.257143</td>\n",
              "    </tr>\n",
              "    <tr>\n",
              "      <th>10</th>\n",
              "      <td>3</td>\n",
              "      <td>165.566667</td>\n",
              "    </tr>\n",
              "    <tr>\n",
              "      <th>11</th>\n",
              "      <td>2</td>\n",
              "      <td>133.900000</td>\n",
              "    </tr>\n",
              "    <tr>\n",
              "      <th>12</th>\n",
              "      <td>1</td>\n",
              "      <td>409.700000</td>\n",
              "    </tr>\n",
              "    <tr>\n",
              "      <th>14</th>\n",
              "      <td>2</td>\n",
              "      <td>195.150000</td>\n",
              "    </tr>\n",
              "    <tr>\n",
              "      <th>15</th>\n",
              "      <td>1</td>\n",
              "      <td>409.000000</td>\n",
              "    </tr>\n",
              "    <tr>\n",
              "      <th>16</th>\n",
              "      <td>1</td>\n",
              "      <td>180.000000</td>\n",
              "    </tr>\n",
              "    <tr>\n",
              "      <th>19</th>\n",
              "      <td>1</td>\n",
              "      <td>264.500000</td>\n",
              "    </tr>\n",
              "  </tbody>\n",
              "</table>\n",
              "</div>"
            ],
            "text/plain": [
              "       count        mean\n",
              "rooms                   \n",
              "0        183   18.865246\n",
              "1       7388   17.893552\n",
              "2       7296   31.736849\n",
              "3       5366   47.387941\n",
              "4       1089   66.983223\n",
              "5        292  100.009247\n",
              "6         99  130.983636\n",
              "7         53  163.564151\n",
              "8         12  168.683333\n",
              "9          7  190.257143\n",
              "10         3  165.566667\n",
              "11         2  133.900000\n",
              "12         1  409.700000\n",
              "14         2  195.150000\n",
              "15         1  409.000000\n",
              "16         1  180.000000\n",
              "19         1  264.500000"
            ]
          },
          "execution_count": 20,
          "metadata": {},
          "output_type": "execute_result"
        }
      ],
      "source": [
        "data.groupby('rooms')['living_area'].agg(['count','mean'])"
      ]
    },
    {
      "cell_type": "markdown",
      "source": [
        "Всё логично — чем больше комнат, тем больше квартира. Используем средние значения площади квартиры в зависимости от количества комнат, чтобы заменить пропуски."
      ],
      "metadata": {
        "id": "5LGaZR_RaGrw"
      }
    },
    {
      "cell_type": "code",
      "execution_count": null,
      "metadata": {
        "id": "sjUk-LIRzhIs"
      },
      "outputs": [],
      "source": [
        "data_prep['living_area'] = data_prep['living_area'].fillna(data_prep.groupby('rooms')['living_area'].transform('mean'))"
      ]
    },
    {
      "cell_type": "markdown",
      "source": [
        "Размер кухни заменим на 0, предположив, что в этом случае кухня совмещена с жилой комнатой."
      ],
      "metadata": {
        "id": "-8mAEHV0aWfM"
      }
    },
    {
      "cell_type": "code",
      "execution_count": null,
      "metadata": {
        "id": "M-80uVc0zhIs"
      },
      "outputs": [],
      "source": [
        "data_prep['kitchen_area'] = data_prep['kitchen_area'].fillna(0)"
      ]
    },
    {
      "cell_type": "markdown",
      "source": [
        "С балконом предположим тоже самое — если не указан, то его и нет. Заодно сменим у балконов тип float на `integer`."
      ],
      "metadata": {
        "id": "E1SUzlgDaeOx"
      }
    },
    {
      "cell_type": "code",
      "execution_count": null,
      "metadata": {
        "id": "sFQlhnhOzhIs"
      },
      "outputs": [],
      "source": [
        "data_prep['balcony'] = data_prep['balcony'].fillna(0)"
      ]
    },
    {
      "cell_type": "code",
      "execution_count": null,
      "metadata": {
        "id": "7xyDJyLzzhIs"
      },
      "outputs": [],
      "source": [
        "data_prep['balcony'] = data_prep['balcony'].astype('int')"
      ]
    },
    {
      "cell_type": "markdown",
      "source": [
        "Проверим, что пробелов нет и данные приведены к нужному типу."
      ],
      "metadata": {
        "id": "bSmmkC3vasmj"
      }
    },
    {
      "cell_type": "code",
      "execution_count": null,
      "metadata": {
        "id": "TcW9bzMfzhIs",
        "outputId": "84dd0ec2-d031-4a87-cd12-779059f8f4bc"
      },
      "outputs": [
        {
          "name": "stdout",
          "output_type": "stream",
          "text": [
            "<class 'pandas.core.frame.DataFrame'>\n",
            "RangeIndex: 23699 entries, 0 to 23698\n",
            "Data columns (total 22 columns):\n",
            " #   Column                Non-Null Count  Dtype         \n",
            "---  ------                --------------  -----         \n",
            " 0   total_images          23699 non-null  int64         \n",
            " 1   last_price            23699 non-null  float64       \n",
            " 2   total_area            23699 non-null  float64       \n",
            " 3   first_day_exposition  23699 non-null  datetime64[ns]\n",
            " 4   rooms                 23699 non-null  int64         \n",
            " 5   ceiling_height        23699 non-null  float64       \n",
            " 6   floors_total          23699 non-null  int64         \n",
            " 7   living_area           23699 non-null  float64       \n",
            " 8   floor                 23699 non-null  int64         \n",
            " 9   is_apartment          2775 non-null   object        \n",
            " 10  studio                23699 non-null  bool          \n",
            " 11  open_plan             23699 non-null  bool          \n",
            " 12  kitchen_area          23699 non-null  float64       \n",
            " 13  balcony               23699 non-null  int64         \n",
            " 14  locality_name         23650 non-null  object        \n",
            " 15  airports_nearest      18157 non-null  float64       \n",
            " 16  cityCenters_nearest   18180 non-null  float64       \n",
            " 17  parks_around3000      18181 non-null  float64       \n",
            " 18  parks_nearest         8079 non-null   float64       \n",
            " 19  ponds_around3000      18181 non-null  float64       \n",
            " 20  ponds_nearest         9110 non-null   float64       \n",
            " 21  days_exposition       20518 non-null  float64       \n",
            "dtypes: bool(2), datetime64[ns](1), float64(12), int64(5), object(2)\n",
            "memory usage: 3.7+ MB\n"
          ]
        }
      ],
      "source": [
        "data_prep.info()"
      ]
    },
    {
      "cell_type": "markdown",
      "source": [
        "Посмотрим есть ли в датасете полные дубликаты строк."
      ],
      "metadata": {
        "id": "8mhZYlR-a0MN"
      }
    },
    {
      "cell_type": "code",
      "execution_count": null,
      "metadata": {
        "id": "kwviHk2fzhIs",
        "outputId": "90dcfa6a-8726-4027-ac35-cc515e43796c"
      },
      "outputs": [
        {
          "name": "stdout",
          "output_type": "stream",
          "text": [
            "0\n"
          ]
        }
      ],
      "source": [
        "print(len(data_prep[data_prep.duplicated()]))"
      ]
    },
    {
      "cell_type": "markdown",
      "source": [
        "Полных дубликатов нет. Поправим неявные дубликаты в названиях населенных пунктов."
      ],
      "metadata": {
        "id": "HdCiG9NCbpY7"
      }
    },
    {
      "cell_type": "code",
      "execution_count": null,
      "metadata": {
        "scrolled": false,
        "id": "TWTYDzZuzhIt",
        "outputId": "8452cfa4-b90a-4387-8ccb-df61da4ede28"
      },
      "outputs": [
        {
          "data": {
            "text/plain": [
              "array(['Санкт-Петербург', 'посёлок Шушары', 'городской посёлок Янино-1',\n",
              "       'посёлок Парголово', 'посёлок Мурино', 'Ломоносов', 'Сертолово',\n",
              "       'Петергоф', 'Пушкин', 'деревня Кудрово', 'Коммунар', 'Колпино',\n",
              "       'поселок городского типа Красный Бор', 'Гатчина', 'поселок Мурино',\n",
              "       'деревня Фёдоровское', 'Выборг', 'Кронштадт', 'Кировск',\n",
              "       'деревня Новое Девяткино', 'посёлок Металлострой',\n",
              "       'посёлок городского типа Лебяжье',\n",
              "       'посёлок городского типа Сиверский', 'поселок Молодцово',\n",
              "       'поселок городского типа Кузьмоловский',\n",
              "       'садовое товарищество Новая Ропша', 'Павловск',\n",
              "       'деревня Пикколово', 'Всеволожск', 'Волхов', 'Кингисепп',\n",
              "       'Приозерск', 'Сестрорецк', 'деревня Куттузи', 'посёлок Аннино',\n",
              "       'поселок городского типа Ефимовский', 'посёлок Плодовое',\n",
              "       'деревня Заклинье', 'поселок Торковичи', 'поселок Первомайское',\n",
              "       'Красное Село', 'посёлок Понтонный', 'Сясьстрой', 'деревня Старая',\n",
              "       'деревня Лесколово', 'посёлок Новый Свет', 'Сланцы',\n",
              "       'село Путилово', 'Ивангород', 'Мурино', 'Шлиссельбург',\n",
              "       'Никольское', 'Зеленогорск', 'Сосновый Бор', 'поселок Новый Свет',\n",
              "       'деревня Оржицы', 'деревня Кальтино', 'Кудрово',\n",
              "       'поселок Романовка', 'посёлок Бугры', 'поселок Бугры',\n",
              "       'поселок городского типа Рощино', 'Кириши', 'Луга', 'Волосово',\n",
              "       'Отрадное', 'село Павлово', 'поселок Оредеж', 'село Копорье',\n",
              "       'посёлок городского типа Красный Бор', 'посёлок Молодёжное',\n",
              "       'Тихвин', 'посёлок Победа', 'деревня Нурма',\n",
              "       'поселок городского типа Синявино', 'Тосно',\n",
              "       'посёлок городского типа Кузьмоловский', 'посёлок Стрельна',\n",
              "       'Бокситогорск', 'посёлок Александровская', 'деревня Лопухинка',\n",
              "       'Пикалёво', 'поселок Терволово',\n",
              "       'поселок городского типа Советский', 'Подпорожье',\n",
              "       'посёлок Петровское', 'посёлок городского типа Токсово',\n",
              "       'поселок Сельцо', 'посёлок городского типа Вырица',\n",
              "       'деревня Кипень', 'деревня Келози', 'деревня Вартемяги',\n",
              "       'посёлок Тельмана', 'поселок Севастьяново',\n",
              "       'городской поселок Большая Ижора', nan,\n",
              "       'городской посёлок Павлово', 'деревня Агалатово',\n",
              "       'посёлок Новогорелово', 'городской посёлок Лесогорский',\n",
              "       'деревня Лаголово', 'поселок Цвелодубово',\n",
              "       'поселок городского типа Рахья', 'поселок городского типа Вырица',\n",
              "       'деревня Белогорка', 'поселок Заводской',\n",
              "       'городской посёлок Новоселье', 'деревня Большие Колпаны',\n",
              "       'деревня Горбунки', 'деревня Батово', 'деревня Заневка',\n",
              "       'деревня Иссад', 'Приморск', 'городской посёлок Фёдоровское',\n",
              "       'деревня Мистолово', 'Новая Ладога', 'поселок Зимитицы',\n",
              "       'поселок Барышево', 'деревня Разметелево',\n",
              "       'поселок городского типа имени Свердлова', 'деревня Пеники',\n",
              "       'поселок Рябово', 'деревня Пудомяги', 'поселок станции Корнево',\n",
              "       'деревня Низино', 'деревня Бегуницы', 'посёлок Поляны',\n",
              "       'городской посёлок Мга', 'поселок Елизаветино',\n",
              "       'посёлок городского типа Кузнечное', 'деревня Колтуши',\n",
              "       'поселок Запорожское', 'посёлок городского типа Рощино',\n",
              "       'деревня Гостилицы', 'деревня Малое Карлино',\n",
              "       'посёлок Мичуринское', 'посёлок городского типа имени Морозова',\n",
              "       'посёлок Песочный', 'посёлок Сосново', 'деревня Аро',\n",
              "       'поселок Ильичёво', 'посёлок городского типа Тайцы',\n",
              "       'деревня Малое Верево', 'деревня Извара', 'поселок станции Вещево',\n",
              "       'село Паша', 'деревня Калитино',\n",
              "       'посёлок городского типа Ульяновка', 'деревня Чудской Бор',\n",
              "       'поселок городского типа Дубровка', 'деревня Мины',\n",
              "       'поселок Войсковицы', 'посёлок городского типа имени Свердлова',\n",
              "       'деревня Коркино', 'посёлок Ропша',\n",
              "       'поселок городского типа Приладожский', 'посёлок Щеглово',\n",
              "       'посёлок Гаврилово', 'Лодейное Поле', 'деревня Рабитицы',\n",
              "       'поселок городского типа Никольский', 'деревня Кузьмолово',\n",
              "       'деревня Малые Колпаны', 'поселок Тельмана',\n",
              "       'посёлок Петро-Славянка', 'городской посёлок Назия',\n",
              "       'посёлок Репино', 'посёлок Ильичёво', 'поселок Углово',\n",
              "       'поселок Старая Малукса', 'садовое товарищество Рахья',\n",
              "       'поселок Аннино', 'поселок Победа', 'деревня Меньково',\n",
              "       'деревня Старые Бегуницы', 'посёлок Сапёрный', 'поселок Семрино',\n",
              "       'поселок Гаврилово', 'поселок Глажево', 'поселок Кобринское',\n",
              "       'деревня Гарболово', 'деревня Юкки',\n",
              "       'поселок станции Приветнинское', 'деревня Мануйлово',\n",
              "       'деревня Пчева', 'поселок Поляны', 'поселок Цвылёво',\n",
              "       'поселок Мельниково', 'посёлок Пудость', 'посёлок Усть-Луга',\n",
              "       'Светогорск', 'Любань', 'поселок Селезнёво',\n",
              "       'поселок городского типа Рябово', 'Каменногорск', 'деревня Кривко',\n",
              "       'поселок Глебычево', 'деревня Парицы', 'поселок Жилпосёлок',\n",
              "       'посёлок городского типа Мга', 'городской поселок Янино-1',\n",
              "       'посёлок Войскорово', 'село Никольское', 'посёлок Терволово',\n",
              "       'поселок Стеклянный', 'посёлок городского типа Важины',\n",
              "       'посёлок Мыза-Ивановка', 'село Русско-Высоцкое',\n",
              "       'поселок городского типа Лебяжье',\n",
              "       'поселок городского типа Форносово', 'село Старая Ладога',\n",
              "       'поселок Житково', 'городской посёлок Виллози', 'деревня Лампово',\n",
              "       'деревня Шпаньково', 'деревня Лаврики', 'посёлок Сумино',\n",
              "       'посёлок Возрождение', 'деревня Старосиверская',\n",
              "       'посёлок Кикерино', 'поселок Возрождение',\n",
              "       'деревня Старое Хинколово', 'посёлок Пригородный',\n",
              "       'посёлок Торфяное', 'городской посёлок Будогощь',\n",
              "       'поселок Суходолье', 'поселок Красная Долина', 'деревня Хапо-Ое',\n",
              "       'поселок городского типа Дружная Горка', 'поселок Лисий Нос',\n",
              "       'деревня Яльгелево', 'посёлок Стеклянный', 'село Рождествено',\n",
              "       'деревня Старополье', 'посёлок Левашово', 'деревня Сяськелево',\n",
              "       'деревня Камышовка',\n",
              "       'садоводческое некоммерческое товарищество Лесная Поляна',\n",
              "       'деревня Хязельки', 'поселок Жилгородок',\n",
              "       'посёлок городского типа Павлово', 'деревня Ялгино',\n",
              "       'поселок Новый Учхоз', 'городской посёлок Рощино',\n",
              "       'поселок Гончарово', 'поселок Почап', 'посёлок Сапёрное',\n",
              "       'посёлок Платформа 69-й километр', 'поселок Каложицы',\n",
              "       'деревня Фалилеево', 'деревня Пельгора',\n",
              "       'поселок городского типа Лесогорский', 'деревня Торошковичи',\n",
              "       'посёлок Белоостров', 'посёлок Алексеевка', 'поселок Серебрянский',\n",
              "       'поселок Лукаши', 'поселок Петровское', 'деревня Щеглово',\n",
              "       'поселок Мичуринское', 'деревня Тарасово', 'поселок Кингисеппский',\n",
              "       'посёлок при железнодорожной станции Вещево', 'поселок Ушаки',\n",
              "       'деревня Котлы', 'деревня Сижно', 'деревня Торосово',\n",
              "       'посёлок Форт Красная Горка', 'поселок городского типа Токсово',\n",
              "       'деревня Новолисино', 'посёлок станции Громово', 'деревня Глинка',\n",
              "       'посёлок Мельниково', 'поселок городского типа Назия',\n",
              "       'деревня Старая Пустошь', 'поселок Коммунары', 'поселок Починок',\n",
              "       'посёлок городского типа Вознесенье', 'деревня Разбегаево',\n",
              "       'посёлок городского типа Рябово', 'поселок Гладкое',\n",
              "       'посёлок при железнодорожной станции Приветнинское',\n",
              "       'поселок Тёсово-4', 'посёлок Жилгородок', 'деревня Бор',\n",
              "       'посёлок Коробицыно', 'деревня Большая Вруда', 'деревня Курковицы',\n",
              "       'посёлок Лисий Нос', 'городской посёлок Советский',\n",
              "       'посёлок Кобралово', 'деревня Суоранда', 'поселок Кобралово',\n",
              "       'поселок городского типа Кондратьево',\n",
              "       'коттеджный поселок Счастье', 'поселок Любань', 'деревня Реброво',\n",
              "       'деревня Зимитицы', 'деревня Тойворово', 'поселок Семиозерье',\n",
              "       'поселок Лесное', 'поселок Совхозный', 'поселок Усть-Луга',\n",
              "       'посёлок Ленинское', 'посёлок Суйда',\n",
              "       'посёлок городского типа Форносово', 'деревня Нижние Осельки',\n",
              "       'посёлок станции Свирь', 'поселок Перово', 'Высоцк',\n",
              "       'поселок Гарболово', 'село Шум', 'поселок Котельский',\n",
              "       'поселок станции Лужайка', 'деревня Большая Пустомержа',\n",
              "       'поселок Красносельское', 'деревня Вахнова Кара', 'деревня Пижма',\n",
              "       'коттеджный поселок Кивеннапа Север', 'поселок Коробицыно',\n",
              "       'поселок Ромашки', 'посёлок Перово', 'деревня Каськово',\n",
              "       'деревня Куровицы', 'посёлок Плоское', 'поселок Сумино',\n",
              "       'поселок городского типа Большая Ижора', 'поселок Кирпичное',\n",
              "       'деревня Ям-Тесово', 'деревня Раздолье', 'деревня Терпилицы',\n",
              "       'посёлок Шугозеро', 'деревня Ваганово', 'поселок Пушное',\n",
              "       'садовое товарищество Садко', 'посёлок Усть-Ижора',\n",
              "       'деревня Выскатка', 'городской посёлок Свирьстрой',\n",
              "       'поселок Громово', 'деревня Кисельня', 'посёлок Старая Малукса',\n",
              "       'деревня Трубников Бор', 'поселок Калитино',\n",
              "       'посёлок Высокоключевой', 'садовое товарищество Приладожский',\n",
              "       'посёлок Пансионат Зелёный Бор', 'деревня Ненимяки',\n",
              "       'поселок Пансионат Зелёный Бор', 'деревня Снегирёвка',\n",
              "       'деревня Рапполово', 'деревня Пустынка', 'поселок Рабитицы',\n",
              "       'деревня Большой Сабск', 'деревня Русско', 'деревня Лупполово',\n",
              "       'деревня Большое Рейзино', 'деревня Малая Романовка',\n",
              "       'поселок Дружноселье', 'поселок Пчевжа', 'поселок Володарское',\n",
              "       'деревня Нижняя', 'коттеджный посёлок Лесное', 'деревня Тихковицы',\n",
              "       'деревня Борисова Грива', 'посёлок Дзержинского'], dtype=object)"
            ]
          },
          "execution_count": 27,
          "metadata": {},
          "output_type": "execute_result"
        }
      ],
      "source": [
        "data_prep['locality_name'].unique()"
      ]
    },
    {
      "cell_type": "code",
      "execution_count": null,
      "metadata": {
        "id": "EezCG7KQzhIt",
        "outputId": "d728c0c8-8179-42c6-8eef-3cf687d79cf0"
      },
      "outputs": [
        {
          "name": "stdout",
          "output_type": "stream",
          "text": [
            "Уникальных населенных пунктов: 365\n"
          ]
        }
      ],
      "source": [
        "unique_len = len(data_prep['locality_name'].unique())\n",
        "print(f'Уникальных населенных пунктов: {unique_len}')"
      ]
    },
    {
      "cell_type": "code",
      "execution_count": null,
      "metadata": {
        "id": "uENxOIC5zhIt"
      },
      "outputs": [],
      "source": [
        "data_prep['locality_name'] = data_prep['locality_name'].str.replace('(?:поселок городского типа)|(?:посёлок городского типа)|(?:посёлок)|(?:городской посёлок)|(?:городской поселок)|(?:коттеджный посёлок)', 'поселок', regex=True)"
      ]
    },
    {
      "cell_type": "code",
      "execution_count": null,
      "metadata": {
        "id": "NSPFV66kzhIt",
        "outputId": "894687f1-c652-49b6-a9f1-e03d822daca1"
      },
      "outputs": [
        {
          "name": "stdout",
          "output_type": "stream",
          "text": [
            "Уникальных населенных пунктов: 322\n"
          ]
        }
      ],
      "source": [
        "unique_len = len(data_prep['locality_name'].unique())\n",
        "print(f'Уникальных населенных пунктов: {unique_len}')"
      ]
    },
    {
      "cell_type": "markdown",
      "metadata": {
        "id": "J79UzyCWzhIt"
      },
      "source": [
        "Были удалены неявные дубликаты (например, \"посёлок\" и \"поселок\") в населенных пунктах. Таким образом, количество уникальных населенных пунктов уменьшилось с 365 до 322."
      ]
    },
    {
      "cell_type": "markdown",
      "metadata": {
        "id": "5zJ7bbMKzhIt"
      },
      "source": [
        "Изучим данные и избавимся от аномальных значений для следующих параметров: площадь квартиры, стоимость, количество комнат."
      ]
    },
    {
      "cell_type": "code",
      "execution_count": null,
      "metadata": {
        "id": "JlKYBCOKzhIt",
        "outputId": "a5281c6c-42df-4540-fc58-c07a5c645e61"
      },
      "outputs": [
        {
          "data": {
            "text/plain": [
              "count    23699.000000\n",
              "mean        60.348651\n",
              "std         35.654083\n",
              "min         12.000000\n",
              "25%         40.000000\n",
              "50%         52.000000\n",
              "75%         69.900000\n",
              "max        900.000000\n",
              "Name: total_area, dtype: float64"
            ]
          },
          "execution_count": 31,
          "metadata": {},
          "output_type": "execute_result"
        }
      ],
      "source": [
        "data_prep['total_area'].describe()"
      ]
    },
    {
      "cell_type": "code",
      "execution_count": null,
      "metadata": {
        "id": "qYu5r5ggzhIt",
        "outputId": "5763ecdb-1a7c-4746-d0e3-d04537a62765"
      },
      "outputs": [
        {
          "data": {
            "image/png": "[encoded data removed]",
            "text/plain": [
              "<Figure size 432x288 with 1 Axes>"
            ]
          },
          "metadata": {
            "needs_background": "light"
          },
          "output_type": "display_data"
        }
      ],
      "source": [
        "data_prep['total_area'].hist(bins=50);\n",
        "plt.axvline(300, c='r');"
      ]
    },
    {
      "cell_type": "markdown",
      "metadata": {
        "id": "FfKkfoIezhIt"
      },
      "source": [
        "Всё, что правее красной линии (63 квартиры) — считаем аномалией, которой можно пренебречь."
      ]
    },
    {
      "cell_type": "code",
      "execution_count": null,
      "metadata": {
        "id": "II1afEpBzhIt",
        "outputId": "106cec41-95fe-420e-fae7-a0f96fc7c5ca"
      },
      "outputs": [
        {
          "data": {
            "text/plain": [
              "count    23636.000000\n",
              "mean        59.430665\n",
              "std         30.461986\n",
              "min         12.000000\n",
              "25%         40.000000\n",
              "50%         52.000000\n",
              "75%         69.400000\n",
              "max        297.500000\n",
              "Name: total_area, dtype: float64"
            ]
          },
          "execution_count": 33,
          "metadata": {},
          "output_type": "execute_result"
        }
      ],
      "source": [
        "data_prep = data_prep.query('total_area < 300')\n",
        "data_prep['total_area'].describe()"
      ]
    },
    {
      "cell_type": "code",
      "execution_count": null,
      "metadata": {
        "id": "3Lcr88mZzhIu",
        "outputId": "0a3921ce-25c9-481d-b91f-9bad4f2c9f5c"
      },
      "outputs": [
        {
          "data": {
            "text/plain": [
              "count    2.363600e+04\n",
              "mean     6.301715e+06\n",
              "std      7.755279e+06\n",
              "min      1.219000e+04\n",
              "25%      3.400000e+06\n",
              "50%      4.615000e+06\n",
              "75%      6.750000e+06\n",
              "max      3.300000e+08\n",
              "Name: last_price, dtype: float64"
            ]
          },
          "execution_count": 34,
          "metadata": {},
          "output_type": "execute_result"
        }
      ],
      "source": [
        "data_prep['last_price'].describe()"
      ]
    },
    {
      "cell_type": "code",
      "execution_count": null,
      "metadata": {
        "id": "Qbrgs-eszhIu",
        "outputId": "e4aa43b8-e037-4fd2-a65d-113b6489d742"
      },
      "outputs": [
        {
          "data": {
            "image/png": "[encoded data removed]",
            "text/plain": [
              "<Figure size 432x288 with 1 Axes>"
            ]
          },
          "metadata": {
            "needs_background": "light"
          },
          "output_type": "display_data"
        }
      ],
      "source": [
        "data_prep['last_price'].hist(bins=50);\n",
        "plt.axvline(50000000, c='r');"
      ]
    },
    {
      "cell_type": "markdown",
      "source": [
        "Уберем из дата фрейма аномальные значения."
      ],
      "metadata": {
        "id": "aLQO_Z9mcD9q"
      }
    },
    {
      "cell_type": "code",
      "execution_count": null,
      "metadata": {
        "id": "Fn6hXXSyzhIu",
        "outputId": "f98d04a0-ee11-451a-c3ca-6618a6c7e314"
      },
      "outputs": [
        {
          "data": {
            "image/png": "[encoded data removed]",
            "text/plain": [
              "<Figure size 432x288 with 1 Axes>"
            ]
          },
          "metadata": {
            "needs_background": "light"
          },
          "output_type": "display_data"
        }
      ],
      "source": [
        "data_prep = data_prep.query('last_price < 50000000')\n",
        "data_prep['last_price'].hist(bins=50);"
      ]
    },
    {
      "cell_type": "code",
      "execution_count": null,
      "metadata": {
        "id": "w4MXaL1qzhIu",
        "outputId": "53bcc388-293d-4536-e5ef-77f7b2bb8d80"
      },
      "outputs": [
        {
          "data": {
            "text/plain": [
              "count    2.353300e+04\n",
              "mean     5.954932e+06\n",
              "std      4.826167e+06\n",
              "min      1.219000e+04\n",
              "25%      3.400000e+06\n",
              "50%      4.600000e+06\n",
              "75%      6.700000e+06\n",
              "max      4.990000e+07\n",
              "Name: last_price, dtype: float64"
            ]
          },
          "execution_count": 37,
          "metadata": {},
          "output_type": "execute_result"
        }
      ],
      "source": [
        "data_prep['last_price'].describe()"
      ]
    },
    {
      "cell_type": "markdown",
      "source": [
        "Отсечем из нашаего датафрейма 18 квартир с количеством комнат больще 7."
      ],
      "metadata": {
        "id": "cOd_ucelcIEa"
      }
    },
    {
      "cell_type": "code",
      "execution_count": null,
      "metadata": {
        "id": "Jp3X2uwDzhIu",
        "outputId": "f356de68-2dd3-4117-9b36-8ccfde8509b0"
      },
      "outputs": [
        {
          "data": {
            "text/plain": [
              "1     8046\n",
              "2     7934\n",
              "3     5780\n",
              "4     1143\n",
              "5      292\n",
              "0      196\n",
              "6       84\n",
              "7       40\n",
              "8        7\n",
              "9        4\n",
              "10       3\n",
              "11       2\n",
              "16       1\n",
              "14       1\n",
              "Name: rooms, dtype: int64"
            ]
          },
          "execution_count": 38,
          "metadata": {},
          "output_type": "execute_result"
        }
      ],
      "source": [
        "data_prep['rooms'].value_counts()"
      ]
    },
    {
      "cell_type": "code",
      "execution_count": null,
      "metadata": {
        "id": "PeVRN4u3zhIu"
      },
      "outputs": [],
      "source": [
        "data_prep = data_prep.query('rooms < 8')"
      ]
    },
    {
      "cell_type": "markdown",
      "metadata": {
        "id": "6IsSKq4SzhIu"
      },
      "source": [
        "Проверим сколько данных удалили их датафрейма."
      ]
    },
    {
      "cell_type": "code",
      "execution_count": null,
      "metadata": {
        "id": "6zKh8dfkzhIu",
        "outputId": "a02235e1-e620-450c-c9fe-50a13cddf0ac"
      },
      "outputs": [
        {
          "data": {
            "text/plain": [
              "0.9922359593231782"
            ]
          },
          "execution_count": 40,
          "metadata": {},
          "output_type": "execute_result"
        }
      ],
      "source": [
        "data_prep.shape[0] / data.shape[0]"
      ]
    },
    {
      "cell_type": "markdown",
      "metadata": {
        "id": "c23HtS7DzhIu"
      },
      "source": [
        "Чтобы не потерть многообразие данных, мы удалили только выраженные аномалии. Таким образом, объем данных сократился менее 1%."
      ]
    },
    {
      "cell_type": "markdown",
      "metadata": {
        "id": "CvTrLV0izhIu"
      },
      "source": [
        "<b>Выводы:</b>\n",
        "Обнаружили пробелы в данных и устранили их по возможности.\n",
        "<ol>\n",
        "<li>Обработали пропуски и заменили их оптимальным способом  </li>\n",
        "<li>В столбцах  `is_apartment` `airports_nearest`  `cityCenters_nearest` `parks_around3000` `parks_nearest` `ponds_around3000` `ponds_around3000` много пропусков, но нет очевидного способа корректно их заменить. Оставим как есть.</li>\n",
        "<li>Привели к корректному типу данных столбцы `first_day_exposition` `floors_total` `balcony` </li>\n",
        "<li>Изучили столбцы со стоимостью квартир, количеством комнат и общей площадью и удалили выраженные аномалии. Объем данных сократился меньше, чем на 1%. </li>\n",
        "</ol>"
      ]
    },
    {
      "cell_type": "markdown",
      "metadata": {
        "id": "Db-aj7BszhIv"
      },
      "source": [
        "### Добавление новых признаков"
      ]
    },
    {
      "cell_type": "markdown",
      "source": [
        "Для проведения анализа добавим в датасет новые признаки:\n",
        "- цену квадратного метра жилья\n",
        "- дни недели, месяцы и года размещения объявлений\n",
        "- категории по этажам квартир."
      ],
      "metadata": {
        "id": "y6z2VYNtc47h"
      }
    },
    {
      "cell_type": "markdown",
      "source": [
        "Добавим цену квадратного метра `price_m `, округлим до 1 знака после запятой."
      ],
      "metadata": {
        "id": "9Dp0zrImcfJg"
      }
    },
    {
      "cell_type": "code",
      "execution_count": null,
      "metadata": {
        "id": "3aI9Mw12zhIv"
      },
      "outputs": [],
      "source": [
        "data_prep['price_m'] = (data_prep['last_price'] / data_prep['total_area']).round(1)"
      ]
    },
    {
      "cell_type": "markdown",
      "source": [
        "Добавим новые новые колонки с годом, месяцем и днем."
      ],
      "metadata": {
        "id": "Y7BzXXT7clVn"
      }
    },
    {
      "cell_type": "code",
      "execution_count": null,
      "metadata": {
        "id": "cZswh8kLzhIv"
      },
      "outputs": [],
      "source": [
        "data_prep['weekday_exposition'] = data_prep['first_day_exposition'].dt.weekday\n",
        "data_prep['month_exposition'] = data_prep['first_day_exposition'].dt.month_name()\n",
        "data_prep['year_exposition'] = data_prep['first_day_exposition'].dt.year"
      ]
    },
    {
      "cell_type": "code",
      "execution_count": null,
      "metadata": {
        "id": "qu3TX3KRzhIv",
        "outputId": "6a9af7f0-08bf-4700-a75f-43205df41060"
      },
      "outputs": [
        {
          "data": {
            "text/html": [
              "<div>\n",
              "<style scoped>\n",
              "    .dataframe tbody tr th:only-of-type {\n",
              "        vertical-align: middle;\n",
              "    }\n",
              "\n",
              "    .dataframe tbody tr th {\n",
              "        vertical-align: top;\n",
              "    }\n",
              "\n",
              "    .dataframe thead th {\n",
              "        text-align: right;\n",
              "    }\n",
              "</style>\n",
              "<table border=\"1\" class=\"dataframe\">\n",
              "  <thead>\n",
              "    <tr style=\"text-align: right;\">\n",
              "      <th></th>\n",
              "      <th>total_images</th>\n",
              "      <th>last_price</th>\n",
              "      <th>total_area</th>\n",
              "      <th>first_day_exposition</th>\n",
              "      <th>rooms</th>\n",
              "      <th>ceiling_height</th>\n",
              "      <th>floors_total</th>\n",
              "      <th>living_area</th>\n",
              "      <th>floor</th>\n",
              "      <th>is_apartment</th>\n",
              "      <th>studio</th>\n",
              "      <th>open_plan</th>\n",
              "      <th>kitchen_area</th>\n",
              "      <th>balcony</th>\n",
              "      <th>locality_name</th>\n",
              "      <th>airports_nearest</th>\n",
              "      <th>cityCenters_nearest</th>\n",
              "      <th>parks_around3000</th>\n",
              "      <th>parks_nearest</th>\n",
              "      <th>ponds_around3000</th>\n",
              "      <th>ponds_nearest</th>\n",
              "      <th>days_exposition</th>\n",
              "      <th>price_m</th>\n",
              "      <th>weekday_exposition</th>\n",
              "      <th>month_exposition</th>\n",
              "      <th>year_exposition</th>\n",
              "    </tr>\n",
              "  </thead>\n",
              "  <tbody>\n",
              "    <tr>\n",
              "      <th>0</th>\n",
              "      <td>20</td>\n",
              "      <td>13000000.0</td>\n",
              "      <td>108.00</td>\n",
              "      <td>2019-03-07</td>\n",
              "      <td>3</td>\n",
              "      <td>2.70</td>\n",
              "      <td>16</td>\n",
              "      <td>51.000000</td>\n",
              "      <td>8</td>\n",
              "      <td>NaN</td>\n",
              "      <td>False</td>\n",
              "      <td>False</td>\n",
              "      <td>25.00</td>\n",
              "      <td>0</td>\n",
              "      <td>Санкт-Петербург</td>\n",
              "      <td>18863.0</td>\n",
              "      <td>16028.0</td>\n",
              "      <td>1.0</td>\n",
              "      <td>482.0</td>\n",
              "      <td>2.0</td>\n",
              "      <td>755.0</td>\n",
              "      <td>NaN</td>\n",
              "      <td>120370.4</td>\n",
              "      <td>3</td>\n",
              "      <td>March</td>\n",
              "      <td>2019</td>\n",
              "    </tr>\n",
              "    <tr>\n",
              "      <th>1</th>\n",
              "      <td>7</td>\n",
              "      <td>3350000.0</td>\n",
              "      <td>40.40</td>\n",
              "      <td>2018-12-04</td>\n",
              "      <td>1</td>\n",
              "      <td>2.65</td>\n",
              "      <td>11</td>\n",
              "      <td>18.600000</td>\n",
              "      <td>1</td>\n",
              "      <td>NaN</td>\n",
              "      <td>False</td>\n",
              "      <td>False</td>\n",
              "      <td>11.00</td>\n",
              "      <td>2</td>\n",
              "      <td>поселок Шушары</td>\n",
              "      <td>12817.0</td>\n",
              "      <td>18603.0</td>\n",
              "      <td>0.0</td>\n",
              "      <td>NaN</td>\n",
              "      <td>0.0</td>\n",
              "      <td>NaN</td>\n",
              "      <td>81.0</td>\n",
              "      <td>82920.8</td>\n",
              "      <td>1</td>\n",
              "      <td>December</td>\n",
              "      <td>2018</td>\n",
              "    </tr>\n",
              "    <tr>\n",
              "      <th>2</th>\n",
              "      <td>10</td>\n",
              "      <td>5196000.0</td>\n",
              "      <td>56.00</td>\n",
              "      <td>2015-08-20</td>\n",
              "      <td>2</td>\n",
              "      <td>2.65</td>\n",
              "      <td>5</td>\n",
              "      <td>34.300000</td>\n",
              "      <td>4</td>\n",
              "      <td>NaN</td>\n",
              "      <td>False</td>\n",
              "      <td>False</td>\n",
              "      <td>8.30</td>\n",
              "      <td>0</td>\n",
              "      <td>Санкт-Петербург</td>\n",
              "      <td>21741.0</td>\n",
              "      <td>13933.0</td>\n",
              "      <td>1.0</td>\n",
              "      <td>90.0</td>\n",
              "      <td>2.0</td>\n",
              "      <td>574.0</td>\n",
              "      <td>558.0</td>\n",
              "      <td>92785.7</td>\n",
              "      <td>3</td>\n",
              "      <td>August</td>\n",
              "      <td>2015</td>\n",
              "    </tr>\n",
              "    <tr>\n",
              "      <th>4</th>\n",
              "      <td>2</td>\n",
              "      <td>10000000.0</td>\n",
              "      <td>100.00</td>\n",
              "      <td>2018-06-19</td>\n",
              "      <td>2</td>\n",
              "      <td>3.03</td>\n",
              "      <td>14</td>\n",
              "      <td>32.000000</td>\n",
              "      <td>13</td>\n",
              "      <td>NaN</td>\n",
              "      <td>False</td>\n",
              "      <td>False</td>\n",
              "      <td>41.00</td>\n",
              "      <td>0</td>\n",
              "      <td>Санкт-Петербург</td>\n",
              "      <td>31856.0</td>\n",
              "      <td>8098.0</td>\n",
              "      <td>2.0</td>\n",
              "      <td>112.0</td>\n",
              "      <td>1.0</td>\n",
              "      <td>48.0</td>\n",
              "      <td>121.0</td>\n",
              "      <td>100000.0</td>\n",
              "      <td>1</td>\n",
              "      <td>June</td>\n",
              "      <td>2018</td>\n",
              "    </tr>\n",
              "    <tr>\n",
              "      <th>5</th>\n",
              "      <td>10</td>\n",
              "      <td>2890000.0</td>\n",
              "      <td>30.40</td>\n",
              "      <td>2018-09-10</td>\n",
              "      <td>1</td>\n",
              "      <td>2.65</td>\n",
              "      <td>12</td>\n",
              "      <td>14.400000</td>\n",
              "      <td>5</td>\n",
              "      <td>NaN</td>\n",
              "      <td>False</td>\n",
              "      <td>False</td>\n",
              "      <td>9.10</td>\n",
              "      <td>0</td>\n",
              "      <td>поселок Янино-1</td>\n",
              "      <td>NaN</td>\n",
              "      <td>NaN</td>\n",
              "      <td>NaN</td>\n",
              "      <td>NaN</td>\n",
              "      <td>NaN</td>\n",
              "      <td>NaN</td>\n",
              "      <td>55.0</td>\n",
              "      <td>95065.8</td>\n",
              "      <td>0</td>\n",
              "      <td>September</td>\n",
              "      <td>2018</td>\n",
              "    </tr>\n",
              "    <tr>\n",
              "      <th>6</th>\n",
              "      <td>6</td>\n",
              "      <td>3700000.0</td>\n",
              "      <td>37.30</td>\n",
              "      <td>2017-11-02</td>\n",
              "      <td>1</td>\n",
              "      <td>2.65</td>\n",
              "      <td>26</td>\n",
              "      <td>10.600000</td>\n",
              "      <td>6</td>\n",
              "      <td>NaN</td>\n",
              "      <td>False</td>\n",
              "      <td>False</td>\n",
              "      <td>14.40</td>\n",
              "      <td>1</td>\n",
              "      <td>поселок Парголово</td>\n",
              "      <td>52996.0</td>\n",
              "      <td>19143.0</td>\n",
              "      <td>0.0</td>\n",
              "      <td>NaN</td>\n",
              "      <td>0.0</td>\n",
              "      <td>NaN</td>\n",
              "      <td>155.0</td>\n",
              "      <td>99195.7</td>\n",
              "      <td>3</td>\n",
              "      <td>November</td>\n",
              "      <td>2017</td>\n",
              "    </tr>\n",
              "    <tr>\n",
              "      <th>7</th>\n",
              "      <td>5</td>\n",
              "      <td>7915000.0</td>\n",
              "      <td>71.60</td>\n",
              "      <td>2019-04-18</td>\n",
              "      <td>2</td>\n",
              "      <td>2.65</td>\n",
              "      <td>24</td>\n",
              "      <td>31.736849</td>\n",
              "      <td>22</td>\n",
              "      <td>NaN</td>\n",
              "      <td>False</td>\n",
              "      <td>False</td>\n",
              "      <td>18.90</td>\n",
              "      <td>2</td>\n",
              "      <td>Санкт-Петербург</td>\n",
              "      <td>23982.0</td>\n",
              "      <td>11634.0</td>\n",
              "      <td>0.0</td>\n",
              "      <td>NaN</td>\n",
              "      <td>0.0</td>\n",
              "      <td>NaN</td>\n",
              "      <td>NaN</td>\n",
              "      <td>110544.7</td>\n",
              "      <td>3</td>\n",
              "      <td>April</td>\n",
              "      <td>2019</td>\n",
              "    </tr>\n",
              "    <tr>\n",
              "      <th>8</th>\n",
              "      <td>20</td>\n",
              "      <td>2900000.0</td>\n",
              "      <td>33.16</td>\n",
              "      <td>2018-05-23</td>\n",
              "      <td>1</td>\n",
              "      <td>2.65</td>\n",
              "      <td>27</td>\n",
              "      <td>15.430000</td>\n",
              "      <td>26</td>\n",
              "      <td>NaN</td>\n",
              "      <td>False</td>\n",
              "      <td>False</td>\n",
              "      <td>8.81</td>\n",
              "      <td>0</td>\n",
              "      <td>поселок Мурино</td>\n",
              "      <td>NaN</td>\n",
              "      <td>NaN</td>\n",
              "      <td>NaN</td>\n",
              "      <td>NaN</td>\n",
              "      <td>NaN</td>\n",
              "      <td>NaN</td>\n",
              "      <td>189.0</td>\n",
              "      <td>87454.8</td>\n",
              "      <td>2</td>\n",
              "      <td>May</td>\n",
              "      <td>2018</td>\n",
              "    </tr>\n",
              "    <tr>\n",
              "      <th>9</th>\n",
              "      <td>18</td>\n",
              "      <td>5400000.0</td>\n",
              "      <td>61.00</td>\n",
              "      <td>2017-02-26</td>\n",
              "      <td>3</td>\n",
              "      <td>2.50</td>\n",
              "      <td>9</td>\n",
              "      <td>43.600000</td>\n",
              "      <td>7</td>\n",
              "      <td>NaN</td>\n",
              "      <td>False</td>\n",
              "      <td>False</td>\n",
              "      <td>6.50</td>\n",
              "      <td>2</td>\n",
              "      <td>Санкт-Петербург</td>\n",
              "      <td>50898.0</td>\n",
              "      <td>15008.0</td>\n",
              "      <td>0.0</td>\n",
              "      <td>NaN</td>\n",
              "      <td>0.0</td>\n",
              "      <td>NaN</td>\n",
              "      <td>289.0</td>\n",
              "      <td>88524.6</td>\n",
              "      <td>6</td>\n",
              "      <td>February</td>\n",
              "      <td>2017</td>\n",
              "    </tr>\n",
              "    <tr>\n",
              "      <th>10</th>\n",
              "      <td>5</td>\n",
              "      <td>5050000.0</td>\n",
              "      <td>39.60</td>\n",
              "      <td>2017-11-16</td>\n",
              "      <td>1</td>\n",
              "      <td>2.67</td>\n",
              "      <td>12</td>\n",
              "      <td>20.300000</td>\n",
              "      <td>3</td>\n",
              "      <td>NaN</td>\n",
              "      <td>False</td>\n",
              "      <td>False</td>\n",
              "      <td>8.50</td>\n",
              "      <td>0</td>\n",
              "      <td>Санкт-Петербург</td>\n",
              "      <td>38357.0</td>\n",
              "      <td>13878.0</td>\n",
              "      <td>1.0</td>\n",
              "      <td>310.0</td>\n",
              "      <td>2.0</td>\n",
              "      <td>553.0</td>\n",
              "      <td>137.0</td>\n",
              "      <td>127525.3</td>\n",
              "      <td>3</td>\n",
              "      <td>November</td>\n",
              "      <td>2017</td>\n",
              "    </tr>\n",
              "  </tbody>\n",
              "</table>\n",
              "</div>"
            ],
            "text/plain": [
              "    total_images  last_price  total_area first_day_exposition  rooms  \\\n",
              "0             20  13000000.0      108.00           2019-03-07      3   \n",
              "1              7   3350000.0       40.40           2018-12-04      1   \n",
              "2             10   5196000.0       56.00           2015-08-20      2   \n",
              "4              2  10000000.0      100.00           2018-06-19      2   \n",
              "5             10   2890000.0       30.40           2018-09-10      1   \n",
              "6              6   3700000.0       37.30           2017-11-02      1   \n",
              "7              5   7915000.0       71.60           2019-04-18      2   \n",
              "8             20   2900000.0       33.16           2018-05-23      1   \n",
              "9             18   5400000.0       61.00           2017-02-26      3   \n",
              "10             5   5050000.0       39.60           2017-11-16      1   \n",
              "\n",
              "    ceiling_height  floors_total  living_area  floor is_apartment  studio  \\\n",
              "0             2.70            16    51.000000      8          NaN   False   \n",
              "1             2.65            11    18.600000      1          NaN   False   \n",
              "2             2.65             5    34.300000      4          NaN   False   \n",
              "4             3.03            14    32.000000     13          NaN   False   \n",
              "5             2.65            12    14.400000      5          NaN   False   \n",
              "6             2.65            26    10.600000      6          NaN   False   \n",
              "7             2.65            24    31.736849     22          NaN   False   \n",
              "8             2.65            27    15.430000     26          NaN   False   \n",
              "9             2.50             9    43.600000      7          NaN   False   \n",
              "10            2.67            12    20.300000      3          NaN   False   \n",
              "\n",
              "    open_plan  kitchen_area  balcony      locality_name  airports_nearest  \\\n",
              "0       False         25.00        0    Санкт-Петербург           18863.0   \n",
              "1       False         11.00        2     поселок Шушары           12817.0   \n",
              "2       False          8.30        0    Санкт-Петербург           21741.0   \n",
              "4       False         41.00        0    Санкт-Петербург           31856.0   \n",
              "5       False          9.10        0    поселок Янино-1               NaN   \n",
              "6       False         14.40        1  поселок Парголово           52996.0   \n",
              "7       False         18.90        2    Санкт-Петербург           23982.0   \n",
              "8       False          8.81        0     поселок Мурино               NaN   \n",
              "9       False          6.50        2    Санкт-Петербург           50898.0   \n",
              "10      False          8.50        0    Санкт-Петербург           38357.0   \n",
              "\n",
              "    cityCenters_nearest  parks_around3000  parks_nearest  ponds_around3000  \\\n",
              "0               16028.0               1.0          482.0               2.0   \n",
              "1               18603.0               0.0            NaN               0.0   \n",
              "2               13933.0               1.0           90.0               2.0   \n",
              "4                8098.0               2.0          112.0               1.0   \n",
              "5                   NaN               NaN            NaN               NaN   \n",
              "6               19143.0               0.0            NaN               0.0   \n",
              "7               11634.0               0.0            NaN               0.0   \n",
              "8                   NaN               NaN            NaN               NaN   \n",
              "9               15008.0               0.0            NaN               0.0   \n",
              "10              13878.0               1.0          310.0               2.0   \n",
              "\n",
              "    ponds_nearest  days_exposition   price_m  weekday_exposition  \\\n",
              "0           755.0              NaN  120370.4                   3   \n",
              "1             NaN             81.0   82920.8                   1   \n",
              "2           574.0            558.0   92785.7                   3   \n",
              "4            48.0            121.0  100000.0                   1   \n",
              "5             NaN             55.0   95065.8                   0   \n",
              "6             NaN            155.0   99195.7                   3   \n",
              "7             NaN              NaN  110544.7                   3   \n",
              "8             NaN            189.0   87454.8                   2   \n",
              "9             NaN            289.0   88524.6                   6   \n",
              "10          553.0            137.0  127525.3                   3   \n",
              "\n",
              "   month_exposition  year_exposition  \n",
              "0             March             2019  \n",
              "1          December             2018  \n",
              "2            August             2015  \n",
              "4              June             2018  \n",
              "5         September             2018  \n",
              "6          November             2017  \n",
              "7             April             2019  \n",
              "8               May             2018  \n",
              "9          February             2017  \n",
              "10         November             2017  "
            ]
          },
          "execution_count": 43,
          "metadata": {},
          "output_type": "execute_result"
        }
      ],
      "source": [
        "data_prep.head(10)"
      ]
    },
    {
      "cell_type": "markdown",
      "source": [
        "Создадим функцию, которая раздели этажи на три категории (первый, последний и другой) и применим к датафрейму."
      ],
      "metadata": {
        "id": "uybtz6oGcp2r"
      }
    },
    {
      "cell_type": "code",
      "execution_count": null,
      "metadata": {
        "id": "zUOQrgVbzhIv"
      },
      "outputs": [],
      "source": [
        "def floor_position(row):\n",
        "    if row['floor'] == 1:\n",
        "        return 'первый'\n",
        "    if row['floor'] == row['floors_total']:\n",
        "        return 'последний'\n",
        "    else:\n",
        "        return 'другой'\n",
        "\n",
        "data_prep['floor_cat'] =  data_prep.apply(floor_position, axis=1)"
      ]
    },
    {
      "cell_type": "code",
      "execution_count": null,
      "metadata": {
        "id": "toj2yb-IzhIv",
        "outputId": "129a9b57-597f-4d29-c742-ae6f8a14d1bb"
      },
      "outputs": [
        {
          "data": {
            "text/html": [
              "<div>\n",
              "<style scoped>\n",
              "    .dataframe tbody tr th:only-of-type {\n",
              "        vertical-align: middle;\n",
              "    }\n",
              "\n",
              "    .dataframe tbody tr th {\n",
              "        vertical-align: top;\n",
              "    }\n",
              "\n",
              "    .dataframe thead th {\n",
              "        text-align: right;\n",
              "    }\n",
              "</style>\n",
              "<table border=\"1\" class=\"dataframe\">\n",
              "  <thead>\n",
              "    <tr style=\"text-align: right;\">\n",
              "      <th></th>\n",
              "      <th>floor</th>\n",
              "      <th>floors_total</th>\n",
              "      <th>floor_cat</th>\n",
              "    </tr>\n",
              "  </thead>\n",
              "  <tbody>\n",
              "    <tr>\n",
              "      <th>12413</th>\n",
              "      <td>7</td>\n",
              "      <td>9</td>\n",
              "      <td>другой</td>\n",
              "    </tr>\n",
              "    <tr>\n",
              "      <th>13228</th>\n",
              "      <td>2</td>\n",
              "      <td>3</td>\n",
              "      <td>другой</td>\n",
              "    </tr>\n",
              "    <tr>\n",
              "      <th>10612</th>\n",
              "      <td>4</td>\n",
              "      <td>4</td>\n",
              "      <td>последний</td>\n",
              "    </tr>\n",
              "    <tr>\n",
              "      <th>10111</th>\n",
              "      <td>5</td>\n",
              "      <td>5</td>\n",
              "      <td>последний</td>\n",
              "    </tr>\n",
              "    <tr>\n",
              "      <th>12052</th>\n",
              "      <td>1</td>\n",
              "      <td>4</td>\n",
              "      <td>первый</td>\n",
              "    </tr>\n",
              "    <tr>\n",
              "      <th>17759</th>\n",
              "      <td>5</td>\n",
              "      <td>25</td>\n",
              "      <td>другой</td>\n",
              "    </tr>\n",
              "    <tr>\n",
              "      <th>5768</th>\n",
              "      <td>5</td>\n",
              "      <td>10</td>\n",
              "      <td>другой</td>\n",
              "    </tr>\n",
              "    <tr>\n",
              "      <th>13102</th>\n",
              "      <td>8</td>\n",
              "      <td>16</td>\n",
              "      <td>другой</td>\n",
              "    </tr>\n",
              "    <tr>\n",
              "      <th>2202</th>\n",
              "      <td>5</td>\n",
              "      <td>12</td>\n",
              "      <td>другой</td>\n",
              "    </tr>\n",
              "    <tr>\n",
              "      <th>2806</th>\n",
              "      <td>2</td>\n",
              "      <td>11</td>\n",
              "      <td>другой</td>\n",
              "    </tr>\n",
              "  </tbody>\n",
              "</table>\n",
              "</div>"
            ],
            "text/plain": [
              "       floor  floors_total  floor_cat\n",
              "12413      7             9     другой\n",
              "13228      2             3     другой\n",
              "10612      4             4  последний\n",
              "10111      5             5  последний\n",
              "12052      1             4     первый\n",
              "17759      5            25     другой\n",
              "5768       5            10     другой\n",
              "13102      8            16     другой\n",
              "2202       5            12     другой\n",
              "2806       2            11     другой"
            ]
          },
          "execution_count": 45,
          "metadata": {},
          "output_type": "execute_result"
        }
      ],
      "source": [
        "data_prep[['floor','floors_total', 'floor_cat']].sample(10)\n"
      ]
    },
    {
      "cell_type": "markdown",
      "source": [
        "Посчитаем и добавим в таблицу расстояние в км до центра города. Округлим значения."
      ],
      "metadata": {
        "id": "3270q9QKcxWV"
      }
    },
    {
      "cell_type": "code",
      "execution_count": null,
      "metadata": {
        "id": "jeLoBciPzhIw"
      },
      "outputs": [],
      "source": [
        "data_prep['city_centers_distance'] = data_prep['cityCenters_nearest']/1000\n",
        "data_prep['city_centers_distance'] = data_prep['city_centers_distance'].round()"
      ]
    },
    {
      "cell_type": "code",
      "execution_count": null,
      "metadata": {
        "scrolled": true,
        "id": "L3wHdSlkzhIw",
        "outputId": "241ad231-2712-4958-86bb-55e21000b01a"
      },
      "outputs": [
        {
          "data": {
            "text/html": [
              "<div>\n",
              "<style scoped>\n",
              "    .dataframe tbody tr th:only-of-type {\n",
              "        vertical-align: middle;\n",
              "    }\n",
              "\n",
              "    .dataframe tbody tr th {\n",
              "        vertical-align: top;\n",
              "    }\n",
              "\n",
              "    .dataframe thead th {\n",
              "        text-align: right;\n",
              "    }\n",
              "</style>\n",
              "<table border=\"1\" class=\"dataframe\">\n",
              "  <thead>\n",
              "    <tr style=\"text-align: right;\">\n",
              "      <th></th>\n",
              "      <th>total_images</th>\n",
              "      <th>last_price</th>\n",
              "      <th>total_area</th>\n",
              "      <th>first_day_exposition</th>\n",
              "      <th>rooms</th>\n",
              "      <th>ceiling_height</th>\n",
              "      <th>floors_total</th>\n",
              "      <th>living_area</th>\n",
              "      <th>floor</th>\n",
              "      <th>is_apartment</th>\n",
              "      <th>studio</th>\n",
              "      <th>open_plan</th>\n",
              "      <th>kitchen_area</th>\n",
              "      <th>balcony</th>\n",
              "      <th>locality_name</th>\n",
              "      <th>airports_nearest</th>\n",
              "      <th>cityCenters_nearest</th>\n",
              "      <th>parks_around3000</th>\n",
              "      <th>parks_nearest</th>\n",
              "      <th>ponds_around3000</th>\n",
              "      <th>ponds_nearest</th>\n",
              "      <th>days_exposition</th>\n",
              "      <th>price_m</th>\n",
              "      <th>weekday_exposition</th>\n",
              "      <th>month_exposition</th>\n",
              "      <th>year_exposition</th>\n",
              "      <th>floor_cat</th>\n",
              "      <th>city_centers_distance</th>\n",
              "    </tr>\n",
              "  </thead>\n",
              "  <tbody>\n",
              "    <tr>\n",
              "      <th>0</th>\n",
              "      <td>20</td>\n",
              "      <td>13000000.0</td>\n",
              "      <td>108.00</td>\n",
              "      <td>2019-03-07</td>\n",
              "      <td>3</td>\n",
              "      <td>2.70</td>\n",
              "      <td>16</td>\n",
              "      <td>51.000000</td>\n",
              "      <td>8</td>\n",
              "      <td>NaN</td>\n",
              "      <td>False</td>\n",
              "      <td>False</td>\n",
              "      <td>25.00</td>\n",
              "      <td>0</td>\n",
              "      <td>Санкт-Петербург</td>\n",
              "      <td>18863.0</td>\n",
              "      <td>16028.0</td>\n",
              "      <td>1.0</td>\n",
              "      <td>482.0</td>\n",
              "      <td>2.0</td>\n",
              "      <td>755.0</td>\n",
              "      <td>NaN</td>\n",
              "      <td>120370.4</td>\n",
              "      <td>3</td>\n",
              "      <td>March</td>\n",
              "      <td>2019</td>\n",
              "      <td>другой</td>\n",
              "      <td>16.0</td>\n",
              "    </tr>\n",
              "    <tr>\n",
              "      <th>1</th>\n",
              "      <td>7</td>\n",
              "      <td>3350000.0</td>\n",
              "      <td>40.40</td>\n",
              "      <td>2018-12-04</td>\n",
              "      <td>1</td>\n",
              "      <td>2.65</td>\n",
              "      <td>11</td>\n",
              "      <td>18.600000</td>\n",
              "      <td>1</td>\n",
              "      <td>NaN</td>\n",
              "      <td>False</td>\n",
              "      <td>False</td>\n",
              "      <td>11.00</td>\n",
              "      <td>2</td>\n",
              "      <td>поселок Шушары</td>\n",
              "      <td>12817.0</td>\n",
              "      <td>18603.0</td>\n",
              "      <td>0.0</td>\n",
              "      <td>NaN</td>\n",
              "      <td>0.0</td>\n",
              "      <td>NaN</td>\n",
              "      <td>81.0</td>\n",
              "      <td>82920.8</td>\n",
              "      <td>1</td>\n",
              "      <td>December</td>\n",
              "      <td>2018</td>\n",
              "      <td>первый</td>\n",
              "      <td>19.0</td>\n",
              "    </tr>\n",
              "    <tr>\n",
              "      <th>2</th>\n",
              "      <td>10</td>\n",
              "      <td>5196000.0</td>\n",
              "      <td>56.00</td>\n",
              "      <td>2015-08-20</td>\n",
              "      <td>2</td>\n",
              "      <td>2.65</td>\n",
              "      <td>5</td>\n",
              "      <td>34.300000</td>\n",
              "      <td>4</td>\n",
              "      <td>NaN</td>\n",
              "      <td>False</td>\n",
              "      <td>False</td>\n",
              "      <td>8.30</td>\n",
              "      <td>0</td>\n",
              "      <td>Санкт-Петербург</td>\n",
              "      <td>21741.0</td>\n",
              "      <td>13933.0</td>\n",
              "      <td>1.0</td>\n",
              "      <td>90.0</td>\n",
              "      <td>2.0</td>\n",
              "      <td>574.0</td>\n",
              "      <td>558.0</td>\n",
              "      <td>92785.7</td>\n",
              "      <td>3</td>\n",
              "      <td>August</td>\n",
              "      <td>2015</td>\n",
              "      <td>другой</td>\n",
              "      <td>14.0</td>\n",
              "    </tr>\n",
              "    <tr>\n",
              "      <th>4</th>\n",
              "      <td>2</td>\n",
              "      <td>10000000.0</td>\n",
              "      <td>100.00</td>\n",
              "      <td>2018-06-19</td>\n",
              "      <td>2</td>\n",
              "      <td>3.03</td>\n",
              "      <td>14</td>\n",
              "      <td>32.000000</td>\n",
              "      <td>13</td>\n",
              "      <td>NaN</td>\n",
              "      <td>False</td>\n",
              "      <td>False</td>\n",
              "      <td>41.00</td>\n",
              "      <td>0</td>\n",
              "      <td>Санкт-Петербург</td>\n",
              "      <td>31856.0</td>\n",
              "      <td>8098.0</td>\n",
              "      <td>2.0</td>\n",
              "      <td>112.0</td>\n",
              "      <td>1.0</td>\n",
              "      <td>48.0</td>\n",
              "      <td>121.0</td>\n",
              "      <td>100000.0</td>\n",
              "      <td>1</td>\n",
              "      <td>June</td>\n",
              "      <td>2018</td>\n",
              "      <td>другой</td>\n",
              "      <td>8.0</td>\n",
              "    </tr>\n",
              "    <tr>\n",
              "      <th>5</th>\n",
              "      <td>10</td>\n",
              "      <td>2890000.0</td>\n",
              "      <td>30.40</td>\n",
              "      <td>2018-09-10</td>\n",
              "      <td>1</td>\n",
              "      <td>2.65</td>\n",
              "      <td>12</td>\n",
              "      <td>14.400000</td>\n",
              "      <td>5</td>\n",
              "      <td>NaN</td>\n",
              "      <td>False</td>\n",
              "      <td>False</td>\n",
              "      <td>9.10</td>\n",
              "      <td>0</td>\n",
              "      <td>поселок Янино-1</td>\n",
              "      <td>NaN</td>\n",
              "      <td>NaN</td>\n",
              "      <td>NaN</td>\n",
              "      <td>NaN</td>\n",
              "      <td>NaN</td>\n",
              "      <td>NaN</td>\n",
              "      <td>55.0</td>\n",
              "      <td>95065.8</td>\n",
              "      <td>0</td>\n",
              "      <td>September</td>\n",
              "      <td>2018</td>\n",
              "      <td>другой</td>\n",
              "      <td>NaN</td>\n",
              "    </tr>\n",
              "    <tr>\n",
              "      <th>6</th>\n",
              "      <td>6</td>\n",
              "      <td>3700000.0</td>\n",
              "      <td>37.30</td>\n",
              "      <td>2017-11-02</td>\n",
              "      <td>1</td>\n",
              "      <td>2.65</td>\n",
              "      <td>26</td>\n",
              "      <td>10.600000</td>\n",
              "      <td>6</td>\n",
              "      <td>NaN</td>\n",
              "      <td>False</td>\n",
              "      <td>False</td>\n",
              "      <td>14.40</td>\n",
              "      <td>1</td>\n",
              "      <td>поселок Парголово</td>\n",
              "      <td>52996.0</td>\n",
              "      <td>19143.0</td>\n",
              "      <td>0.0</td>\n",
              "      <td>NaN</td>\n",
              "      <td>0.0</td>\n",
              "      <td>NaN</td>\n",
              "      <td>155.0</td>\n",
              "      <td>99195.7</td>\n",
              "      <td>3</td>\n",
              "      <td>November</td>\n",
              "      <td>2017</td>\n",
              "      <td>другой</td>\n",
              "      <td>19.0</td>\n",
              "    </tr>\n",
              "    <tr>\n",
              "      <th>7</th>\n",
              "      <td>5</td>\n",
              "      <td>7915000.0</td>\n",
              "      <td>71.60</td>\n",
              "      <td>2019-04-18</td>\n",
              "      <td>2</td>\n",
              "      <td>2.65</td>\n",
              "      <td>24</td>\n",
              "      <td>31.736849</td>\n",
              "      <td>22</td>\n",
              "      <td>NaN</td>\n",
              "      <td>False</td>\n",
              "      <td>False</td>\n",
              "      <td>18.90</td>\n",
              "      <td>2</td>\n",
              "      <td>Санкт-Петербург</td>\n",
              "      <td>23982.0</td>\n",
              "      <td>11634.0</td>\n",
              "      <td>0.0</td>\n",
              "      <td>NaN</td>\n",
              "      <td>0.0</td>\n",
              "      <td>NaN</td>\n",
              "      <td>NaN</td>\n",
              "      <td>110544.7</td>\n",
              "      <td>3</td>\n",
              "      <td>April</td>\n",
              "      <td>2019</td>\n",
              "      <td>другой</td>\n",
              "      <td>12.0</td>\n",
              "    </tr>\n",
              "    <tr>\n",
              "      <th>8</th>\n",
              "      <td>20</td>\n",
              "      <td>2900000.0</td>\n",
              "      <td>33.16</td>\n",
              "      <td>2018-05-23</td>\n",
              "      <td>1</td>\n",
              "      <td>2.65</td>\n",
              "      <td>27</td>\n",
              "      <td>15.430000</td>\n",
              "      <td>26</td>\n",
              "      <td>NaN</td>\n",
              "      <td>False</td>\n",
              "      <td>False</td>\n",
              "      <td>8.81</td>\n",
              "      <td>0</td>\n",
              "      <td>поселок Мурино</td>\n",
              "      <td>NaN</td>\n",
              "      <td>NaN</td>\n",
              "      <td>NaN</td>\n",
              "      <td>NaN</td>\n",
              "      <td>NaN</td>\n",
              "      <td>NaN</td>\n",
              "      <td>189.0</td>\n",
              "      <td>87454.8</td>\n",
              "      <td>2</td>\n",
              "      <td>May</td>\n",
              "      <td>2018</td>\n",
              "      <td>другой</td>\n",
              "      <td>NaN</td>\n",
              "    </tr>\n",
              "    <tr>\n",
              "      <th>9</th>\n",
              "      <td>18</td>\n",
              "      <td>5400000.0</td>\n",
              "      <td>61.00</td>\n",
              "      <td>2017-02-26</td>\n",
              "      <td>3</td>\n",
              "      <td>2.50</td>\n",
              "      <td>9</td>\n",
              "      <td>43.600000</td>\n",
              "      <td>7</td>\n",
              "      <td>NaN</td>\n",
              "      <td>False</td>\n",
              "      <td>False</td>\n",
              "      <td>6.50</td>\n",
              "      <td>2</td>\n",
              "      <td>Санкт-Петербург</td>\n",
              "      <td>50898.0</td>\n",
              "      <td>15008.0</td>\n",
              "      <td>0.0</td>\n",
              "      <td>NaN</td>\n",
              "      <td>0.0</td>\n",
              "      <td>NaN</td>\n",
              "      <td>289.0</td>\n",
              "      <td>88524.6</td>\n",
              "      <td>6</td>\n",
              "      <td>February</td>\n",
              "      <td>2017</td>\n",
              "      <td>другой</td>\n",
              "      <td>15.0</td>\n",
              "    </tr>\n",
              "    <tr>\n",
              "      <th>10</th>\n",
              "      <td>5</td>\n",
              "      <td>5050000.0</td>\n",
              "      <td>39.60</td>\n",
              "      <td>2017-11-16</td>\n",
              "      <td>1</td>\n",
              "      <td>2.67</td>\n",
              "      <td>12</td>\n",
              "      <td>20.300000</td>\n",
              "      <td>3</td>\n",
              "      <td>NaN</td>\n",
              "      <td>False</td>\n",
              "      <td>False</td>\n",
              "      <td>8.50</td>\n",
              "      <td>0</td>\n",
              "      <td>Санкт-Петербург</td>\n",
              "      <td>38357.0</td>\n",
              "      <td>13878.0</td>\n",
              "      <td>1.0</td>\n",
              "      <td>310.0</td>\n",
              "      <td>2.0</td>\n",
              "      <td>553.0</td>\n",
              "      <td>137.0</td>\n",
              "      <td>127525.3</td>\n",
              "      <td>3</td>\n",
              "      <td>November</td>\n",
              "      <td>2017</td>\n",
              "      <td>другой</td>\n",
              "      <td>14.0</td>\n",
              "    </tr>\n",
              "  </tbody>\n",
              "</table>\n",
              "</div>"
            ],
            "text/plain": [
              "    total_images  last_price  total_area first_day_exposition  rooms  \\\n",
              "0             20  13000000.0      108.00           2019-03-07      3   \n",
              "1              7   3350000.0       40.40           2018-12-04      1   \n",
              "2             10   5196000.0       56.00           2015-08-20      2   \n",
              "4              2  10000000.0      100.00           2018-06-19      2   \n",
              "5             10   2890000.0       30.40           2018-09-10      1   \n",
              "6              6   3700000.0       37.30           2017-11-02      1   \n",
              "7              5   7915000.0       71.60           2019-04-18      2   \n",
              "8             20   2900000.0       33.16           2018-05-23      1   \n",
              "9             18   5400000.0       61.00           2017-02-26      3   \n",
              "10             5   5050000.0       39.60           2017-11-16      1   \n",
              "\n",
              "    ceiling_height  floors_total  living_area  floor is_apartment  studio  \\\n",
              "0             2.70            16    51.000000      8          NaN   False   \n",
              "1             2.65            11    18.600000      1          NaN   False   \n",
              "2             2.65             5    34.300000      4          NaN   False   \n",
              "4             3.03            14    32.000000     13          NaN   False   \n",
              "5             2.65            12    14.400000      5          NaN   False   \n",
              "6             2.65            26    10.600000      6          NaN   False   \n",
              "7             2.65            24    31.736849     22          NaN   False   \n",
              "8             2.65            27    15.430000     26          NaN   False   \n",
              "9             2.50             9    43.600000      7          NaN   False   \n",
              "10            2.67            12    20.300000      3          NaN   False   \n",
              "\n",
              "    open_plan  kitchen_area  balcony      locality_name  airports_nearest  \\\n",
              "0       False         25.00        0    Санкт-Петербург           18863.0   \n",
              "1       False         11.00        2     поселок Шушары           12817.0   \n",
              "2       False          8.30        0    Санкт-Петербург           21741.0   \n",
              "4       False         41.00        0    Санкт-Петербург           31856.0   \n",
              "5       False          9.10        0    поселок Янино-1               NaN   \n",
              "6       False         14.40        1  поселок Парголово           52996.0   \n",
              "7       False         18.90        2    Санкт-Петербург           23982.0   \n",
              "8       False          8.81        0     поселок Мурино               NaN   \n",
              "9       False          6.50        2    Санкт-Петербург           50898.0   \n",
              "10      False          8.50        0    Санкт-Петербург           38357.0   \n",
              "\n",
              "    cityCenters_nearest  parks_around3000  parks_nearest  ponds_around3000  \\\n",
              "0               16028.0               1.0          482.0               2.0   \n",
              "1               18603.0               0.0            NaN               0.0   \n",
              "2               13933.0               1.0           90.0               2.0   \n",
              "4                8098.0               2.0          112.0               1.0   \n",
              "5                   NaN               NaN            NaN               NaN   \n",
              "6               19143.0               0.0            NaN               0.0   \n",
              "7               11634.0               0.0            NaN               0.0   \n",
              "8                   NaN               NaN            NaN               NaN   \n",
              "9               15008.0               0.0            NaN               0.0   \n",
              "10              13878.0               1.0          310.0               2.0   \n",
              "\n",
              "    ponds_nearest  days_exposition   price_m  weekday_exposition  \\\n",
              "0           755.0              NaN  120370.4                   3   \n",
              "1             NaN             81.0   82920.8                   1   \n",
              "2           574.0            558.0   92785.7                   3   \n",
              "4            48.0            121.0  100000.0                   1   \n",
              "5             NaN             55.0   95065.8                   0   \n",
              "6             NaN            155.0   99195.7                   3   \n",
              "7             NaN              NaN  110544.7                   3   \n",
              "8             NaN            189.0   87454.8                   2   \n",
              "9             NaN            289.0   88524.6                   6   \n",
              "10          553.0            137.0  127525.3                   3   \n",
              "\n",
              "   month_exposition  year_exposition floor_cat  city_centers_distance  \n",
              "0             March             2019    другой                   16.0  \n",
              "1          December             2018    первый                   19.0  \n",
              "2            August             2015    другой                   14.0  \n",
              "4              June             2018    другой                    8.0  \n",
              "5         September             2018    другой                    NaN  \n",
              "6          November             2017    другой                   19.0  \n",
              "7             April             2019    другой                   12.0  \n",
              "8               May             2018    другой                    NaN  \n",
              "9          February             2017    другой                   15.0  \n",
              "10         November             2017    другой                   14.0  "
            ]
          },
          "execution_count": 47,
          "metadata": {},
          "output_type": "execute_result"
        }
      ],
      "source": [
        "data_prep.head(10)"
      ]
    },
    {
      "cell_type": "markdown",
      "metadata": {
        "id": "DvN6VNdhzhIw"
      },
      "source": [
        "Добавили в таблицу данные, которые пригодятся нам в дальнейшем анализе."
      ]
    },
    {
      "cell_type": "markdown",
      "metadata": {
        "id": "55gKlyAYzhIw"
      },
      "source": [
        "<h2>Исследовательский анализ данных</h2>\n",
        "\n",
        "Изучим и опишем следующие параметры\n",
        "  - общая площадь;\n",
        "  - жилая площадь;\n",
        "  - площадь кухни;\n",
        "  - цена объекта;\n",
        "  - количество комнат;\n",
        "  - высота потолков;\n",
        "  - этаж квартиры;\n",
        "  - тип этажа квартиры («первый», «последний», «другой»);\n",
        "  - общее количество этажей в доме;\n",
        "  - расстояние до центра города в метрах;\n",
        "  - расстояние до ближайшего аэропорта;\n",
        "  - расстояние до ближайшего парка;\n",
        "  - день и месяц публикации объявления"
      ]
    },
    {
      "cell_type": "code",
      "execution_count": null,
      "metadata": {
        "id": "rMbLlIeyzhIw",
        "outputId": "00b8328a-6964-40ed-ee16-3064a7d62a07"
      },
      "outputs": [
        {
          "data": {
            "text/plain": [
              "Index(['total_images', 'last_price', 'total_area', 'first_day_exposition',\n",
              "       'rooms', 'ceiling_height', 'floors_total', 'living_area', 'floor',\n",
              "       'is_apartment', 'studio', 'open_plan', 'kitchen_area', 'balcony',\n",
              "       'locality_name', 'airports_nearest', 'cityCenters_nearest',\n",
              "       'parks_around3000', 'parks_nearest', 'ponds_around3000',\n",
              "       'ponds_nearest', 'days_exposition', 'price_m', 'weekday_exposition',\n",
              "       'month_exposition', 'year_exposition', 'floor_cat',\n",
              "       'city_centers_distance'],\n",
              "      dtype='object')"
            ]
          },
          "execution_count": 48,
          "metadata": {},
          "output_type": "execute_result"
        }
      ],
      "source": [
        "data_prep.columns"
      ]
    },
    {
      "cell_type": "markdown",
      "source": [
        "Напишем функцию для описания параметра."
      ],
      "metadata": {
        "id": "oqagnaJuflsh"
      }
    },
    {
      "cell_type": "code",
      "execution_count": null,
      "metadata": {
        "id": "HoNRNKeHzhIw"
      },
      "outputs": [],
      "source": [
        "def describer(column,bins=50, cut=200):\n",
        "    return [data_prep[column].describe(),\n",
        "            data_prep.plot(y = column, kind = 'hist', bins = bins, grid=True, figsize = (5,3), range = (0,cut))]"
      ]
    },
    {
      "cell_type": "markdown",
      "source": [
        "Изучим площади квартир."
      ],
      "metadata": {
        "id": "SaFxj_Hvfph0"
      }
    },
    {
      "cell_type": "code",
      "execution_count": null,
      "metadata": {
        "id": "f-d8WydHzhIw",
        "outputId": "2e691a2c-c9cc-4751-eb47-3955736266db"
      },
      "outputs": [
        {
          "data": {
            "text/plain": [
              "[count    23515.000000\n",
              " mean        58.693853\n",
              " std         28.510408\n",
              " min         12.000000\n",
              " 25%         40.000000\n",
              " 50%         52.000000\n",
              " 75%         69.000000\n",
              " max        297.500000\n",
              " Name: total_area, dtype: float64,\n",
              " <AxesSubplot:ylabel='Frequency'>]"
            ]
          },
          "execution_count": 50,
          "metadata": {},
          "output_type": "execute_result"
        },
        {
          "data": {
            "image/png": "[encoded data removed]",
            "text/plain": [
              "<Figure size 360x216 with 1 Axes>"
            ]
          },
          "metadata": {
            "needs_background": "light"
          },
          "output_type": "display_data"
        }
      ],
      "source": [
        "describer(\"total_area\")"
      ]
    },
    {
      "cell_type": "markdown",
      "source": [
        "- Средняя площадь квартир составляет примерно 58.69 квадратных метров.\n",
        "- Минимальная площадь квартиры в выборке составляет 12 квадратных метров, а максимальная - 297.5 квадратных метров.\n",
        "- 25% квартир имеют площадь менее 40 квадратных метров, 50% квартир имеют площадь менее 52 квадратных метров, и 75% квартир имеют площадь менее 69 квадратных метров."
      ],
      "metadata": {
        "id": "fDOFnUeDgiVA"
      }
    },
    {
      "cell_type": "markdown",
      "source": [
        "Изучим жилые площади."
      ],
      "metadata": {
        "id": "MLaJb8hrf4AZ"
      }
    },
    {
      "cell_type": "code",
      "execution_count": null,
      "metadata": {
        "id": "fHJmxK9xzhIw",
        "outputId": "c1e3cc30-b9b5-487c-a2ba-508e9614e94e"
      },
      "outputs": [
        {
          "data": {
            "text/plain": [
              "[count    23515.000000\n",
              " mean        33.578659\n",
              " std         18.468183\n",
              " min          2.000000\n",
              " 25%         18.300000\n",
              " 50%         30.170000\n",
              " 75%         42.200000\n",
              " max        211.000000\n",
              " Name: living_area, dtype: float64,\n",
              " <AxesSubplot:ylabel='Frequency'>]"
            ]
          },
          "execution_count": 52,
          "metadata": {},
          "output_type": "execute_result"
        },
        {
          "data": {
            "image/png": "[encoded data removed]",
            "text/plain": [
              "<Figure size 360x216 with 1 Axes>"
            ]
          },
          "metadata": {
            "needs_background": "light"
          },
          "output_type": "display_data"
        }
      ],
      "source": [
        "describer('living_area', 100, 100)"
      ]
    },
    {
      "cell_type": "markdown",
      "source": [
        "Визуально выделяются три пика: приблизительно в райное 18, 30 и 47 кв. м.\n",
        "По всей видимости, это особенности типовой советской застройки — площади 1, 2, 3-комнатный квартир.\n",
        "Изучим площадь кухни."
      ],
      "metadata": {
        "id": "dyQ0Q-vof6Ol"
      }
    },
    {
      "cell_type": "code",
      "execution_count": null,
      "metadata": {
        "id": "xNQfMC-NzhIw",
        "outputId": "aa569b7d-7444-4a10-e270-782e5c1e925b"
      },
      "outputs": [
        {
          "data": {
            "text/plain": [
              "[count    23515.000000\n",
              " mean         9.414716\n",
              " std          5.947836\n",
              " min          0.000000\n",
              " 25%          6.300000\n",
              " 50%          8.900000\n",
              " 75%         11.300000\n",
              " max        100.700000\n",
              " Name: kitchen_area, dtype: float64,\n",
              " <AxesSubplot:ylabel='Frequency'>]"
            ]
          },
          "execution_count": 54,
          "metadata": {},
          "output_type": "execute_result"
        },
        {
          "data": {
            "image/png": "[encoded data removed]",
            "text/plain": [
              "<Figure size 360x216 with 1 Axes>"
            ]
          },
          "metadata": {
            "needs_background": "light"
          },
          "output_type": "display_data"
        }
      ],
      "source": [
        "describer('kitchen_area',70, 50)"
      ]
    },
    {
      "cell_type": "markdown",
      "metadata": {
        "id": "tVRFmHBAzhIx"
      },
      "source": [
        "При предоработке данных мы приравняли отсутвие данных в столбце `площадь кухни` нулю.\n",
        "Поэтому неудивительно, что в датасете завышенное количество \"студий\".\n"
      ]
    },
    {
      "cell_type": "code",
      "execution_count": null,
      "metadata": {
        "id": "6Ikh6hIvzhIx",
        "outputId": "87c9470a-3645-41be-89d4-54fedf31b90f"
      },
      "outputs": [
        {
          "data": {
            "text/plain": [
              "[count    2.351500e+04\n",
              " mean     5.941536e+06\n",
              " std      4.799509e+06\n",
              " min      1.219000e+04\n",
              " 25%      3.400000e+06\n",
              " 50%      4.600000e+06\n",
              " 75%      6.700000e+06\n",
              " max      4.990000e+07\n",
              " Name: last_price, dtype: float64,\n",
              " <AxesSubplot:ylabel='Frequency'>]"
            ]
          },
          "execution_count": 55,
          "metadata": {},
          "output_type": "execute_result"
        },
        {
          "data": {
            "image/png": "[encoded data removed]",
            "text/plain": [
              "<Figure size 360x216 with 1 Axes>"
            ]
          },
          "metadata": {
            "needs_background": "light"
          },
          "output_type": "display_data"
        }
      ],
      "source": [
        "describer('last_price',30,50000000)"
      ]
    },
    {
      "cell_type": "markdown",
      "metadata": {
        "id": "Z7EtDdWCzhIx"
      },
      "source": [
        "Средняя цена составляет около 5,941,536 рублей, при этом стандартное отклонение достаточно высокое, что указывает на значительную вариабельность цен в выборке.\n",
        "Посмотрим на количество комнат."
      ]
    },
    {
      "cell_type": "code",
      "execution_count": null,
      "metadata": {
        "id": "O364gXstzhIx",
        "outputId": "b6202f7e-dd08-415c-c19b-8046e268519d"
      },
      "outputs": [
        {
          "data": {
            "text/plain": [
              "[count    23515.000000\n",
              " mean         2.044227\n",
              " std          1.012552\n",
              " min          0.000000\n",
              " 25%          1.000000\n",
              " 50%          2.000000\n",
              " 75%          3.000000\n",
              " max          7.000000\n",
              " Name: rooms, dtype: float64,\n",
              " <AxesSubplot:ylabel='Frequency'>]"
            ]
          },
          "execution_count": 56,
          "metadata": {},
          "output_type": "execute_result"
        },
        {
          "data": {
            "image/png": "[encoded data removed]",
            "text/plain": [
              "<Figure size 360x216 with 1 Axes>"
            ]
          },
          "metadata": {
            "needs_background": "light"
          },
          "output_type": "display_data"
        }
      ],
      "source": [
        "describer('rooms', 10, 10)"
      ]
    },
    {
      "cell_type": "code",
      "execution_count": null,
      "metadata": {
        "id": "0NqtC32uzhIx"
      },
      "outputs": [],
      "source": [
        "Большинство квартир однокомнатные и двухкомнатные квартир. Трехкомнатных меньше."
      ]
    },
    {
      "cell_type": "code",
      "execution_count": null,
      "metadata": {
        "id": "YytY0zOazhIx",
        "outputId": "03987274-a7e6-44cd-cfb2-7e53460aee52"
      },
      "outputs": [
        {
          "data": {
            "text/plain": [
              "[count    23515.000000\n",
              " mean         2.695113\n",
              " std          0.245277\n",
              " min          1.000000\n",
              " 25%          2.600000\n",
              " 50%          2.650000\n",
              " 75%          2.700000\n",
              " max         14.000000\n",
              " Name: ceiling_height, dtype: float64,\n",
              " <AxesSubplot:ylabel='Frequency'>]"
            ]
          },
          "execution_count": 58,
          "metadata": {},
          "output_type": "execute_result"
        },
        {
          "data": {
            "image/png": "[encoded data removed]",
            "text/plain": [
              "<Figure size 360x216 with 1 Axes>"
            ]
          },
          "metadata": {
            "needs_background": "light"
          },
          "output_type": "display_data"
        }
      ],
      "source": [
        "describer('ceiling_height',25,4)"
      ]
    },
    {
      "cell_type": "markdown",
      "source": [
        "Значения не очень сильно варьируют (межквартильный размах всего 15 сантиметров). По всей видимости, это связана с тем, что высота потолков обыкновенно регулируется строительными стандартами и экономическими соображениями."
      ],
      "metadata": {
        "id": "1hX8PbF9iB6t"
      }
    },
    {
      "cell_type": "markdown",
      "source": [
        "Посмотрим на распредление квартир по этажам."
      ],
      "metadata": {
        "id": "BBEJFaXPiah-"
      }
    },
    {
      "cell_type": "code",
      "execution_count": null,
      "metadata": {
        "id": "CC1DxWNNzhIx",
        "outputId": "1c7179a1-c95b-45f8-efc8-ac3704b997a8"
      },
      "outputs": [
        {
          "data": {
            "text/plain": [
              "[count    23515.000000\n",
              " mean         5.899553\n",
              " std          4.895301\n",
              " min          1.000000\n",
              " 25%          2.000000\n",
              " 50%          4.000000\n",
              " 75%          8.000000\n",
              " max         33.000000\n",
              " Name: floor, dtype: float64,\n",
              " <AxesSubplot:ylabel='Frequency'>]"
            ]
          },
          "execution_count": 60,
          "metadata": {},
          "output_type": "execute_result"
        },
        {
          "data": {
            "image/png": "[encoded data removed]",
            "text/plain": [
              "<Figure size 360x216 with 1 Axes>"
            ]
          },
          "metadata": {
            "needs_background": "light"
          },
          "output_type": "display_data"
        }
      ],
      "source": [
        "describer('floor',33,33)"
      ]
    },
    {
      "cell_type": "markdown",
      "source": [
        "На графике отчетливо выделяются группы с 1 по 5 и с 6 по 9 этажи.\n",
        "Почему так происходит мы посмотрим дальше. А пока посмотрим распреление квартир по категории этажа."
      ],
      "metadata": {
        "id": "iN5dg2CMikNP"
      }
    },
    {
      "cell_type": "code",
      "execution_count": null,
      "metadata": {
        "id": "MZ9Dn6xlzhIx",
        "outputId": "4ecc20f4-ffac-4917-cefc-08f59f535f66"
      },
      "outputs": [
        {
          "data": {
            "text/plain": [
              "<AxesSubplot:>"
            ]
          },
          "execution_count": 62,
          "metadata": {},
          "output_type": "execute_result"
        },
        {
          "data": {
            "image/png": "[encoded data removed]",
            "text/plain": [
              "<Figure size 432x288 with 1 Axes>"
            ]
          },
          "metadata": {
            "needs_background": "light"
          },
          "output_type": "display_data"
        }
      ],
      "source": [
        "data_prep['floor_cat'].hist()"
      ]
    },
    {
      "cell_type": "code",
      "execution_count": null,
      "metadata": {
        "id": "8EbzGvpXzhIy",
        "outputId": "85c9d62b-f5ea-4a16-fa20-26e3db9ad7ec"
      },
      "outputs": [
        {
          "data": {
            "text/plain": [
              "count      23515\n",
              "unique         3\n",
              "top       другой\n",
              "freq       17244\n",
              "Name: floor_cat, dtype: object"
            ]
          },
          "execution_count": 63,
          "metadata": {},
          "output_type": "execute_result"
        }
      ],
      "source": [
        "data_prep['floor_cat'].describe()"
      ]
    },
    {
      "cell_type": "markdown",
      "source": [
        "Учитывая, что медианная количество этажей 9, неудивительно,\n",
        "что большинство этажей находятся не на первом или последнем этажах."
      ],
      "metadata": {
        "id": "nxJfWoEKi0fv"
      }
    },
    {
      "cell_type": "code",
      "execution_count": null,
      "metadata": {
        "scrolled": true,
        "id": "eY6MAMSXzhIy",
        "outputId": "81fa313a-e898-4fa2-bcf6-434e39e40b37"
      },
      "outputs": [
        {
          "data": {
            "text/plain": [
              "[count    23515.000000\n",
              " mean        10.701212\n",
              " std          6.606244\n",
              " min          1.000000\n",
              " 25%          5.000000\n",
              " 50%          9.000000\n",
              " 75%         16.000000\n",
              " max         60.000000\n",
              " Name: floors_total, dtype: float64,\n",
              " <AxesSubplot:ylabel='Frequency'>]"
            ]
          },
          "execution_count": 65,
          "metadata": {},
          "output_type": "execute_result"
        },
        {
          "data": {
            "image/png": "[encoded data removed]",
            "text/plain": [
              "<Figure size 360x216 with 1 Axes>"
            ]
          },
          "metadata": {
            "needs_background": "light"
          },
          "output_type": "display_data"
        }
      ],
      "source": [
        "describer('floors_total',50,35)"
      ]
    },
    {
      "cell_type": "markdown",
      "metadata": {
        "id": "22W3Hq_fzhIy"
      },
      "source": [
        "В 70-х годах в СССР по нормам градостроительства у зданий првевыщающих пять этажей должен был быть лифт\n",
        "А у десятиэтажных - два лифта\n",
        "Вот и результат — большинство домов теперь пятиэтажки и девятиэтажки.\n",
        "\n",
        "Посмотрим на распредление квартир по близости к центру города."
      ]
    },
    {
      "cell_type": "code",
      "execution_count": null,
      "metadata": {
        "id": "r0t_KYCnzhIy",
        "outputId": "1026ac54-f753-41b8-ddeb-93e115bc58d1"
      },
      "outputs": [
        {
          "data": {
            "text/plain": [
              "[count    17999.000000\n",
              " mean     14276.663481\n",
              " std       8594.929482\n",
              " min        181.000000\n",
              " 25%       9415.500000\n",
              " 50%      13149.000000\n",
              " 75%      16333.000000\n",
              " max      65968.000000\n",
              " Name: cityCenters_nearest, dtype: float64,\n",
              " <AxesSubplot:ylabel='Frequency'>]"
            ]
          },
          "execution_count": 66,
          "metadata": {},
          "output_type": "execute_result"
        },
        {
          "data": {
            "image/png": "[encoded data removed]",
            "text/plain": [
              "<Figure size 360x216 with 1 Axes>"
            ]
          },
          "metadata": {
            "needs_background": "light"
          },
          "output_type": "display_data"
        }
      ],
      "source": [
        "describer('cityCenters_nearest', 100, 66000)"
      ]
    },
    {
      "cell_type": "markdown",
      "metadata": {
        "id": "p8kcOCCQzhIy"
      },
      "source": [
        "На графике можно увидеть три категории районов: центр, густозастроенные спальные районы и загород."
      ]
    },
    {
      "cell_type": "code",
      "execution_count": null,
      "metadata": {
        "id": "gd-0dBmNzhIy",
        "outputId": "d9d78394-e5eb-4ccf-e47e-5d36646c8255"
      },
      "outputs": [
        {
          "data": {
            "text/plain": [
              "[count    7940.000000\n",
              " mean      492.316751\n",
              " std       342.435831\n",
              " min         1.000000\n",
              " 25%       288.000000\n",
              " 50%       456.000000\n",
              " 75%       613.000000\n",
              " max      3190.000000\n",
              " Name: parks_nearest, dtype: float64,\n",
              " <AxesSubplot:ylabel='Frequency'>]"
            ]
          },
          "execution_count": 67,
          "metadata": {},
          "output_type": "execute_result"
        },
        {
          "data": {
            "image/png": "[encoded data removed]",
            "text/plain": [
              "<Figure size 360x216 with 1 Axes>"
            ]
          },
          "metadata": {
            "needs_background": "light"
          },
          "output_type": "display_data"
        }
      ],
      "source": [
        "describer('parks_nearest', 100,3190)"
      ]
    },
    {
      "cell_type": "markdown",
      "source": [
        "Большинство квартир находятся на расстоянии 288-612 метров от парка."
      ],
      "metadata": {
        "id": "acFGFAm4lCtq"
      }
    },
    {
      "cell_type": "code",
      "execution_count": null,
      "metadata": {
        "id": "vo6FgGvQzhIy",
        "outputId": "44ad3333-a5ad-4280-d602-d3a3fd92ba65"
      },
      "outputs": [
        {
          "data": {
            "text/plain": [
              "[count    17978.000000\n",
              " mean     28818.257370\n",
              " std      12676.274633\n",
              " min          0.000000\n",
              " 25%      18539.000000\n",
              " 50%      26770.000000\n",
              " 75%      37364.000000\n",
              " max      84869.000000\n",
              " Name: airports_nearest, dtype: float64,\n",
              " <AxesSubplot:ylabel='Frequency'>]"
            ]
          },
          "execution_count": 69,
          "metadata": {},
          "output_type": "execute_result"
        },
        {
          "data": {
            "image/png": "[encoded data removed]",
            "text/plain": [
              "<Figure size 360x216 with 1 Axes>"
            ]
          },
          "metadata": {
            "needs_background": "light"
          },
          "output_type": "display_data"
        }
      ],
      "source": [
        "describer('airports_nearest',100,85000)"
      ]
    },
    {
      "cell_type": "markdown",
      "metadata": {
        "id": "StGXqi9-zhIy"
      },
      "source": [
        "Рядом с аэропортом квартир совсем немного. Или люди не надеятся их продать :)\n",
        "Медианное расстояние от аэропорта — 27 км."
      ]
    },
    {
      "cell_type": "code",
      "execution_count": null,
      "metadata": {
        "id": "pR4UnIIszhIy",
        "outputId": "894f03c8-c93c-4909-ad63-d8f4019d48da"
      },
      "outputs": [
        {
          "data": {
            "text/plain": [
              "[count    23515.000000\n",
              " mean         2.568148\n",
              " std          1.789339\n",
              " min          0.000000\n",
              " 25%          1.000000\n",
              " 50%          3.000000\n",
              " 75%          4.000000\n",
              " max          6.000000\n",
              " Name: weekday_exposition, dtype: float64,\n",
              " <AxesSubplot:ylabel='Frequency'>]"
            ]
          },
          "execution_count": 70,
          "metadata": {},
          "output_type": "execute_result"
        },
        {
          "data": {
            "image/png": "[encoded data removed]",
            "text/plain": [
              "<Figure size 360x216 with 1 Axes>"
            ]
          },
          "metadata": {
            "needs_background": "light"
          },
          "output_type": "display_data"
        }
      ],
      "source": [
        "describer('weekday_exposition',7,6)"
      ]
    },
    {
      "cell_type": "markdown",
      "metadata": {
        "id": "TovwwS0uzhIy"
      },
      "source": [
        "Большинство объявлений разместили в четверг, на выходных объявления размещают приблизительно в два раза реже."
      ]
    },
    {
      "cell_type": "code",
      "execution_count": null,
      "metadata": {
        "id": "06_59O0qzhIz",
        "outputId": "14b8cbde-77aa-486a-c749-030554b21753"
      },
      "outputs": [
        {
          "data": {
            "text/plain": [
              "count        23515\n",
              "unique          12\n",
              "top       February\n",
              "freq          2619\n",
              "Name: month_exposition, dtype: object"
            ]
          },
          "execution_count": 71,
          "metadata": {},
          "output_type": "execute_result"
        }
      ],
      "source": [
        "data_prep['month_exposition'].describe()"
      ]
    },
    {
      "cell_type": "code",
      "execution_count": null,
      "metadata": {
        "id": "RizpqtlRzhIz",
        "outputId": "edebb54f-c8f0-4cf1-dec5-8c1779224098"
      },
      "outputs": [
        {
          "data": {
            "text/plain": [
              "<AxesSubplot:>"
            ]
          },
          "execution_count": 72,
          "metadata": {},
          "output_type": "execute_result"
        },
        {
          "data": {
            "image/png": "[encoded data removed]",
            "text/plain": [
              "<Figure size 432x288 with 1 Axes>"
            ]
          },
          "metadata": {
            "needs_background": "light"
          },
          "output_type": "display_data"
        }
      ],
      "source": [
        "data_prep['month_exposition'].hist(bins=12, xlabelsize=5, grid = False)"
      ]
    },
    {
      "cell_type": "code",
      "execution_count": null,
      "metadata": {
        "id": "gDjkCPEnzhIz",
        "outputId": "b87701d3-f481-4d0f-8046-a1e1cfc89435"
      },
      "outputs": [
        {
          "data": {
            "text/plain": [
              "February     2619\n",
              "March        2570\n",
              "April        2359\n",
              "November     2358\n",
              "October      2114\n",
              "September    1964\n",
              "June         1746\n",
              "August       1735\n",
              "July         1675\n",
              "December     1625\n",
              "January      1487\n",
              "May          1263\n",
              "Name: month_exposition, dtype: int64"
            ]
          },
          "execution_count": 73,
          "metadata": {},
          "output_type": "execute_result"
        }
      ],
      "source": [
        "data_prep['month_exposition'].value_counts()"
      ]
    },
    {
      "cell_type": "markdown",
      "source": [
        "Предложение на рынке недвижимости максимально высокое с февраля по апрель, летом спад, осенью снова рост."
      ],
      "metadata": {
        "id": "az9KswD-lNL_"
      }
    },
    {
      "cell_type": "markdown",
      "metadata": {
        "id": "gMeHiyJnzhIz"
      },
      "source": [
        "<b>Выводы:</b>\n",
        "<ul>\n",
        "<li>Обычная площадь квартиры около 50 кв. м.</li>\n",
        "<li>Больше всего 1 , 2 и 3хкомнатных квартир</li>\n",
        "<li>Подавляющее большинство квартир квартир имеют высоту потолков 2.6-2.7 метров</li>\n",
        "<li>Большинство объявлений разместили в четверг, на выходных объявления размещают приблизительно в два раза реже</li>\n",
        "<li>Большинство квартир продается в спальных густазаселенных районах</li>\n",
        "<li>Предложение на рынке недвижимости максимально высокое с февраля по апрель, летом спад, осенью снова рост.</li>\n",
        "</ul>\n",
        "\n",
        "<p>Изучим какие быстро продаются квартиры.</p>"
      ]
    },
    {
      "cell_type": "markdown",
      "metadata": {
        "id": "DksVnwfizhIz"
      },
      "source": [
        "### Изучим как быстро продавались квартиры"
      ]
    },
    {
      "cell_type": "markdown",
      "metadata": {
        "id": "V89eEoJGzhIz"
      },
      "source": [
        "У нас нет достоверных данных о дне когда пользователи продавали квартиры.\n",
        "Но мы можем попробовать сделать продположения на основании данных о том, сколько дней было размещено объявление.\n",
        "Для начала изучим сами данные.\n"
      ]
    },
    {
      "cell_type": "code",
      "execution_count": null,
      "metadata": {
        "id": "Mi7kiGWqzhIz",
        "outputId": "48572b08-f7d7-42b4-c770-37265df68410"
      },
      "outputs": [
        {
          "data": {
            "text/plain": [
              "[count    20376.000000\n",
              " mean       179.918384\n",
              " std        218.879438\n",
              " min          1.000000\n",
              " 25%         45.000000\n",
              " 50%         95.000000\n",
              " 75%        230.000000\n",
              " max       1580.000000\n",
              " Name: days_exposition, dtype: float64,\n",
              " <AxesSubplot:ylabel='Frequency'>]"
            ]
          },
          "execution_count": 75,
          "metadata": {},
          "output_type": "execute_result"
        },
        {
          "data": {
            "image/png": "[encoded data removed]",
            "text/plain": [
              "<Figure size 360x216 with 1 Axes>"
            ]
          },
          "metadata": {
            "needs_background": "light"
          },
          "output_type": "display_data"
        }
      ],
      "source": [
        "describer('days_exposition', 100)"
      ]
    },
    {
      "cell_type": "markdown",
      "metadata": {
        "id": "kGkyWLO6zhIz"
      },
      "source": [
        "Видим три выброса на графике, изучим их подробнее."
      ]
    },
    {
      "cell_type": "code",
      "execution_count": null,
      "metadata": {
        "id": "g25266TyzhIz",
        "outputId": "803c1e2d-e26b-4b17-d1e8-803404e60133"
      },
      "outputs": [
        {
          "data": {
            "text/plain": [
              "45.0    879\n",
              "60.0    538\n",
              "7.0     233\n",
              "30.0    208\n",
              "90.0    199\n",
              "4.0     176\n",
              "3.0     158\n",
              "5.0     149\n",
              "14.0    145\n",
              "9.0     142\n",
              "Name: days_exposition, dtype: int64"
            ]
          },
          "execution_count": 76,
          "metadata": {},
          "output_type": "execute_result"
        }
      ],
      "source": [
        "data_prep['days_exposition'].value_counts().head(10)"
      ]
    },
    {
      "cell_type": "markdown",
      "metadata": {
        "id": "N8gzWdhazhI0"
      },
      "source": [
        "Видим аномальное значение в районе  95, 45 и 30 дней. Но это не выбросы, а особенность функционирования системы размещения(https://yandex.ru/support/realty/owner/home/add-ads-housing.html). Осталяем их датасете."
      ]
    },
    {
      "cell_type": "markdown",
      "metadata": {
        "id": "oLDiqRhGzhI0"
      },
      "source": [
        "Изучим количество дней, которое размещалось объявление."
      ]
    },
    {
      "cell_type": "code",
      "execution_count": null,
      "metadata": {
        "id": "DllFljrGzhI0",
        "outputId": "9c48be56-ce14-43fa-edb7-573f0f97f22d"
      },
      "outputs": [
        {
          "data": {
            "text/plain": [
              "[count    20376.000000\n",
              " mean       179.918384\n",
              " std        218.879438\n",
              " min          1.000000\n",
              " 25%         45.000000\n",
              " 50%         95.000000\n",
              " 75%        230.000000\n",
              " max       1580.000000\n",
              " Name: days_exposition, dtype: float64,\n",
              " <AxesSubplot:ylabel='Frequency'>]"
            ]
          },
          "execution_count": 78,
          "metadata": {},
          "output_type": "execute_result"
        },
        {
          "data": {
            "image/png": "[encoded data removed]",
            "text/plain": [
              "<Figure size 360x216 with 1 Axes>"
            ]
          },
          "metadata": {
            "needs_background": "light"
          },
          "output_type": "display_data"
        }
      ],
      "source": [
        "describer('days_exposition',100,1500)"
      ]
    },
    {
      "cell_type": "code",
      "execution_count": null,
      "metadata": {
        "id": "Y8CVo28izhI0",
        "outputId": "ec6a2599-d8c2-40ba-c43a-4638eabe5f12"
      },
      "outputs": [
        {
          "data": {
            "image/png": "[encoded data removed]",
            "text/plain": [
              "<Figure size 432x288 with 1 Axes>"
            ]
          },
          "metadata": {
            "needs_background": "light"
          },
          "output_type": "display_data"
        }
      ],
      "source": [
        "data_prep['days_exposition'].plot.box();\n"
      ]
    },
    {
      "cell_type": "markdown",
      "metadata": {
        "id": "NnSncmBLzhI0"
      },
      "source": [
        "<li>В среднем квартира продается за 95 дней, продажа выше 230 дней может считаться аномально долгой.</li>"
      ]
    },
    {
      "cell_type": "markdown",
      "metadata": {
        "id": "HOSjYvgGzhI0"
      },
      "source": [
        "Изучим какие факторы влияют на стоимость квартиры. Для начала построим несколько функций, которые облегчат нам анализ."
      ]
    },
    {
      "cell_type": "code",
      "execution_count": null,
      "metadata": {
        "id": "BHX2FqjJzhI0"
      },
      "outputs": [],
      "source": [
        "#напишем функцию, которая инетрпретирует коэффицент Пирсона по шкале Чеддока\n",
        "\n",
        "def p_estimator(p):\n",
        "    p = abs(p)\n",
        "    if p >0 and p <=0.3:\n",
        "        return 'очень слабая'\n",
        "    if p > 0.3 and p <=0.5:\n",
        "        return 'слабая'\n",
        "    if p > 0.5 and p <=0.7:\n",
        "        return 'средняя'\n",
        "    if p > 0.7 and p<=0.9:\n",
        "        return \"сильная\"\n",
        "    else:\n",
        "        return \"очень сильная\"\n",
        "\n",
        "#напишем функцию, которая будет строить сводную и помогать смотреть на связь между факторами\n",
        "def factor_impact(factor, measure=\"попугаи\", estimate='True', pearson = True):\n",
        "    pivot = data_prep.pivot_table(index = factor, values = 'price_m', aggfunc = ['mean', 'count', 'median'])\n",
        "    pivot.columns = ['mean', 'count', 'median']\n",
        "    p = data_prep[factor].corr(data_prep['price_m'])\n",
        "    message = f\"Коэффицент корреляции между двумя факторами составляет {p}, связь {p_estimator(p)}.\"\n",
        "    if pearson == True:\n",
        "        return [pivot.plot(y = 'median', style = 'o', figsize=(7, 3)),\n",
        "                plt.xlabel(measure),\n",
        "                plt.ylabel(\"Цена, м2\"),\n",
        "                message]\n",
        "    else:\n",
        "        return [pivot.plot(y = 'median', style = 'o', figsize=(7, 3)),\n",
        "                plt.xlabel(measure),\n",
        "                plt.ylabel(\"Цена, м2\")]"
      ]
    },
    {
      "cell_type": "code",
      "execution_count": null,
      "metadata": {
        "id": "I5aOHKpqzhI0",
        "outputId": "92aab742-39fb-401f-9dbd-a98425d47948"
      },
      "outputs": [
        {
          "data": {
            "text/plain": [
              "[<AxesSubplot:xlabel='Площадь, м2', ylabel='Цена, м2'>,\n",
              " Text(0.5, 0, 'Площадь, м2'),\n",
              " Text(0, 0.5, 'Цена, м2'),\n",
              " 'Коэффицент корреляции между двумя факторами составляет 0.19274301506972447, связь очень слабая.']"
            ]
          },
          "execution_count": 81,
          "metadata": {},
          "output_type": "execute_result"
        },
        {
          "data": {
            "image/png": "[encoded data removed]",
            "text/plain": [
              "<Figure size 504x216 with 1 Axes>"
            ]
          },
          "metadata": {
            "needs_background": "light"
          },
          "output_type": "display_data"
        }
      ],
      "source": [
        "factor_impact(\"total_area\", 'Площадь, м2')"
      ]
    },
    {
      "cell_type": "code",
      "execution_count": null,
      "metadata": {
        "id": "hXGRjPOPzhI1",
        "outputId": "c663a259-c759-4b2d-e61b-48ff36594f61"
      },
      "outputs": [
        {
          "data": {
            "text/plain": [
              "[<AxesSubplot:xlabel='Площадь, м2', ylabel='Цена, м2'>,\n",
              " Text(0.5, 0, 'Площадь, м2'),\n",
              " Text(0, 0.5, 'Цена, м2'),\n",
              " 'Коэффицент корреляции между двумя факторами составляет 0.08696225119558076, связь очень слабая.']"
            ]
          },
          "execution_count": 82,
          "metadata": {},
          "output_type": "execute_result"
        },
        {
          "data": {
            "image/png": "[encoded data removed]",
            "text/plain": [
              "<Figure size 504x216 with 1 Axes>"
            ]
          },
          "metadata": {
            "needs_background": "light"
          },
          "output_type": "display_data"
        }
      ],
      "source": [
        "factor_impact(\"living_area\", 'Площадь, м2')"
      ]
    },
    {
      "cell_type": "code",
      "execution_count": null,
      "metadata": {
        "id": "l5BK0HFizhI1",
        "outputId": "4a2fe8b5-5d69-4a74-84d7-3cba6bf4e93c"
      },
      "outputs": [
        {
          "data": {
            "text/plain": [
              "[<AxesSubplot:xlabel='Площадь, м2', ylabel='Цена, м2'>,\n",
              " Text(0.5, 0, 'Площадь, м2'),\n",
              " Text(0, 0.5, 'Цена, м2'),\n",
              " 'Коэффицент корреляции между двумя факторами составляет 0.2815281048360544, связь очень слабая.']"
            ]
          },
          "execution_count": 83,
          "metadata": {},
          "output_type": "execute_result"
        },
        {
          "data": {
            "image/png": "[encoded data removed]",
            "text/plain": [
              "<Figure size 504x216 with 1 Axes>"
            ]
          },
          "metadata": {
            "needs_background": "light"
          },
          "output_type": "display_data"
        }
      ],
      "source": [
        "factor_impact(\"kitchen_area\", 'Площадь, м2')"
      ]
    },
    {
      "cell_type": "code",
      "execution_count": null,
      "metadata": {
        "id": "TkFsqnM6zhI1",
        "outputId": "cc6bc483-6571-4947-d720-f4fc1b3fcecf"
      },
      "outputs": [
        {
          "data": {
            "text/plain": [
              "[<AxesSubplot:xlabel='комнат', ylabel='Цена, м2'>,\n",
              " Text(0.5, 0, 'комнат'),\n",
              " Text(0, 0.5, 'Цена, м2')]"
            ]
          },
          "execution_count": 84,
          "metadata": {},
          "output_type": "execute_result"
        },
        {
          "data": {
            "image/png": "[encoded data removed]",
            "text/plain": [
              "<Figure size 504x216 with 1 Axes>"
            ]
          },
          "metadata": {
            "needs_background": "light"
          },
          "output_type": "display_data"
        }
      ],
      "source": [
        "factor_impact(\"rooms\", 'комнат', pearson=False)"
      ]
    },
    {
      "cell_type": "markdown",
      "metadata": {
        "id": "0HK7GCYBzhI1"
      },
      "source": [
        "Интересное открытие. Оптимальная с точки зрения покупателя цена за квадратный метр у трехкомнатной квартиры.\n",
        "На коэффицент корреляции Пирсона смотреть не будем — функция нелинейная.\n",
        "Посмотрим как цена соотносится с категорией этажа.\n"
      ]
    },
    {
      "cell_type": "code",
      "execution_count": null,
      "metadata": {
        "id": "2fZu4Zf-zhI1",
        "outputId": "3a896aa5-a6e1-422c-fb1d-618fde23c506"
      },
      "outputs": [
        {
          "data": {
            "text/plain": [
              "<AxesSubplot:xlabel='floor_cat'>"
            ]
          },
          "execution_count": 85,
          "metadata": {},
          "output_type": "execute_result"
        },
        {
          "data": {
            "image/png": "[encoded data removed]",
            "text/plain": [
              "<Figure size 432x288 with 1 Axes>"
            ]
          },
          "metadata": {
            "needs_background": "light"
          },
          "output_type": "display_data"
        }
      ],
      "source": [
        "price_floor = data_prep.pivot_table(index = 'floor_cat', values = 'price_m', aggfunc = 'median')\n",
        "price_floor.plot()"
      ]
    },
    {
      "cell_type": "markdown",
      "metadata": {
        "id": "kqETbxKezhI1"
      },
      "source": [
        "Самые дешевые квартиры на первом этаж. Квартиры на последнем этаже тоже продаются дешевле, чем квартиры на других этажах"
      ]
    },
    {
      "cell_type": "code",
      "execution_count": null,
      "metadata": {
        "id": "5v3fTdDqzhI1",
        "outputId": "cd580038-09ec-4823-bd10-771018224964"
      },
      "outputs": [
        {
          "data": {
            "text/plain": [
              "[<AxesSubplot:xlabel='дни недели', ylabel='Цена, м2'>,\n",
              " Text(0.5, 0, 'дни недели'),\n",
              " Text(0, 0.5, 'Цена, м2')]"
            ]
          },
          "execution_count": 86,
          "metadata": {},
          "output_type": "execute_result"
        },
        {
          "data": {
            "image/png": "[encoded data removed]",
            "text/plain": [
              "<Figure size 504x216 with 1 Axes>"
            ]
          },
          "metadata": {
            "needs_background": "light"
          },
          "output_type": "display_data"
        }
      ],
      "source": [
        "factor_impact(\"weekday_exposition\", \"дни недели\", pearson = False)"
      ]
    },
    {
      "cell_type": "markdown",
      "metadata": {
        "id": "3AqLXB2wzhI1"
      },
      "source": [
        "Дешевле всего цена в субботу. Посмотрим динамику по месяцам."
      ]
    },
    {
      "cell_type": "code",
      "execution_count": null,
      "metadata": {
        "id": "VI2DW7kXzhI1",
        "outputId": "8afcfac7-eff8-48ed-a768-c4efdb788d40"
      },
      "outputs": [
        {
          "data": {
            "text/html": [
              "<div>\n",
              "<style scoped>\n",
              "    .dataframe tbody tr th:only-of-type {\n",
              "        vertical-align: middle;\n",
              "    }\n",
              "\n",
              "    .dataframe tbody tr th {\n",
              "        vertical-align: top;\n",
              "    }\n",
              "\n",
              "    .dataframe thead th {\n",
              "        text-align: right;\n",
              "    }\n",
              "</style>\n",
              "<table border=\"1\" class=\"dataframe\">\n",
              "  <thead>\n",
              "    <tr style=\"text-align: right;\">\n",
              "      <th></th>\n",
              "      <th>mean</th>\n",
              "      <th>count</th>\n",
              "      <th>median</th>\n",
              "    </tr>\n",
              "    <tr>\n",
              "      <th>month_exposition</th>\n",
              "      <th></th>\n",
              "      <th></th>\n",
              "      <th></th>\n",
              "    </tr>\n",
              "  </thead>\n",
              "  <tbody>\n",
              "    <tr>\n",
              "      <th>June</th>\n",
              "      <td>96108.468328</td>\n",
              "      <td>1746</td>\n",
              "      <td>92575.40</td>\n",
              "    </tr>\n",
              "    <tr>\n",
              "      <th>May</th>\n",
              "      <td>96697.589945</td>\n",
              "      <td>1263</td>\n",
              "      <td>92639.60</td>\n",
              "    </tr>\n",
              "    <tr>\n",
              "      <th>December</th>\n",
              "      <td>96599.007015</td>\n",
              "      <td>1625</td>\n",
              "      <td>93877.60</td>\n",
              "    </tr>\n",
              "    <tr>\n",
              "      <th>October</th>\n",
              "      <td>96596.023557</td>\n",
              "      <td>2114</td>\n",
              "      <td>94119.20</td>\n",
              "    </tr>\n",
              "    <tr>\n",
              "      <th>July</th>\n",
              "      <td>97320.876000</td>\n",
              "      <td>1675</td>\n",
              "      <td>94805.20</td>\n",
              "    </tr>\n",
              "    <tr>\n",
              "      <th>February</th>\n",
              "      <td>97100.209431</td>\n",
              "      <td>2619</td>\n",
              "      <td>94898.00</td>\n",
              "    </tr>\n",
              "    <tr>\n",
              "      <th>January</th>\n",
              "      <td>98345.549765</td>\n",
              "      <td>1487</td>\n",
              "      <td>95161.30</td>\n",
              "    </tr>\n",
              "    <tr>\n",
              "      <th>March</th>\n",
              "      <td>97317.343152</td>\n",
              "      <td>2570</td>\n",
              "      <td>95164.85</td>\n",
              "    </tr>\n",
              "    <tr>\n",
              "      <th>September</th>\n",
              "      <td>98083.303004</td>\n",
              "      <td>1964</td>\n",
              "      <td>95509.20</td>\n",
              "    </tr>\n",
              "    <tr>\n",
              "      <th>November</th>\n",
              "      <td>98251.225191</td>\n",
              "      <td>2358</td>\n",
              "      <td>95539.20</td>\n",
              "    </tr>\n",
              "    <tr>\n",
              "      <th>August</th>\n",
              "      <td>98422.356715</td>\n",
              "      <td>1735</td>\n",
              "      <td>95827.50</td>\n",
              "    </tr>\n",
              "    <tr>\n",
              "      <th>April</th>\n",
              "      <td>99166.126028</td>\n",
              "      <td>2359</td>\n",
              "      <td>96202.50</td>\n",
              "    </tr>\n",
              "  </tbody>\n",
              "</table>\n",
              "</div>"
            ],
            "text/plain": [
              "                          mean  count    median\n",
              "month_exposition                               \n",
              "June              96108.468328   1746  92575.40\n",
              "May               96697.589945   1263  92639.60\n",
              "December          96599.007015   1625  93877.60\n",
              "October           96596.023557   2114  94119.20\n",
              "July              97320.876000   1675  94805.20\n",
              "February          97100.209431   2619  94898.00\n",
              "January           98345.549765   1487  95161.30\n",
              "March             97317.343152   2570  95164.85\n",
              "September         98083.303004   1964  95509.20\n",
              "November          98251.225191   2358  95539.20\n",
              "August            98422.356715   1735  95827.50\n",
              "April             99166.126028   2359  96202.50"
            ]
          },
          "execution_count": 87,
          "metadata": {},
          "output_type": "execute_result"
        },
        {
          "data": {
            "image/png": "[encoded data removed]",
            "text/plain": [
              "<Figure size 432x288 with 1 Axes>"
            ]
          },
          "metadata": {
            "needs_background": "light"
          },
          "output_type": "display_data"
        }
      ],
      "source": [
        "pt_month = data_prep.pivot_table(index = 'month_exposition', values = 'price_m', aggfunc = ['mean', 'count', 'median'])\n",
        "pt_month.columns = ['mean', 'count', 'median']\n",
        "pt_month.plot(y = 'median')\n",
        "pt_month.sort_values(by='median')"
      ]
    },
    {
      "cell_type": "markdown",
      "metadata": {
        "id": "jPM44VsIzhI1"
      },
      "source": [
        "Мы уже видели, что количество объявлений больше всего появляется весной и осенью. Вот одна из возможных прични: летом ниже спрос и ниже цены.\n",
        "\n",
        "Посмотрем распределение по годам."
      ]
    },
    {
      "cell_type": "code",
      "execution_count": null,
      "metadata": {
        "id": "yhWYUIkizhI1",
        "outputId": "339abd04-baf2-469a-9adb-af56236fd119"
      },
      "outputs": [
        {
          "data": {
            "text/plain": [
              "[<AxesSubplot:xlabel='год', ylabel='Цена, м2'>,\n",
              " Text(0.5, 0, 'год'),\n",
              " Text(0, 0.5, 'Цена, м2')]"
            ]
          },
          "execution_count": 88,
          "metadata": {},
          "output_type": "execute_result"
        },
        {
          "data": {
            "image/png": "[encoded data removed]",
            "text/plain": [
              "<Figure size 504x216 with 1 Axes>"
            ]
          },
          "metadata": {
            "needs_background": "light"
          },
          "output_type": "display_data"
        }
      ],
      "source": [
        "factor_impact(\"year_exposition\", \"год\", pearson = False)"
      ]
    },
    {
      "cell_type": "markdown",
      "metadata": {
        "id": "xrKqQI6-zhI2"
      },
      "source": [
        "Дешевле всего стоили квартиры в 2016 году.\n",
        "Вывод: если решите купить квартиру в Питере, то начинайте поиск в летнюю субботу. И желательно в 2016 году :)"
      ]
    },
    {
      "cell_type": "markdown",
      "metadata": {
        "id": "FnCVpjeDzhI2"
      },
      "source": [
        "Посчитаем среднюю цену одного квадратного метра в 10 населённых пунктах с наибольшим числом объявлений. Выделим населённые пункты с самой высокой и низкой стоимостью квадратного метра.\n",
        "\n",
        "Посмотрим на топ самых больших населенных пунктов"
      ]
    },
    {
      "cell_type": "code",
      "execution_count": null,
      "metadata": {
        "id": "pRs_5JhpzhI2",
        "outputId": "c2474e4a-15b7-45b0-885d-2915148618b7"
      },
      "outputs": [
        {
          "data": {
            "text/plain": [
              "Санкт-Петербург      15541\n",
              "поселок Мурино         556\n",
              "поселок Шушары         440\n",
              "Всеволожск             398\n",
              "Пушкин                 367\n",
              "Колпино                337\n",
              "поселок Парголово      327\n",
              "Гатчина                307\n",
              "деревня Кудрово        299\n",
              "Выборг                 237\n",
              "Петергоф               201\n",
              "Name: locality_name, dtype: int64"
            ]
          },
          "execution_count": 89,
          "metadata": {},
          "output_type": "execute_result"
        }
      ],
      "source": [
        "big_cities = data_prep['locality_name'].value_counts()\n",
        "big_cities.head(11)"
      ]
    },
    {
      "cell_type": "markdown",
      "source": [
        "Посмотрим как распределяются цены в этих городах."
      ],
      "metadata": {
        "id": "KewRfx6Mm6bd"
      }
    },
    {
      "cell_type": "code",
      "execution_count": null,
      "metadata": {
        "id": "tIwHRPZnzhI2",
        "outputId": "3149b2cb-c3fe-4967-8221-1b964ba594e5"
      },
      "outputs": [
        {
          "data": {
            "text/plain": [
              "<AxesSubplot:xlabel='Топ-10 городов', ylabel='Цена, м2'>"
            ]
          },
          "execution_count": 90,
          "metadata": {},
          "output_type": "execute_result"
        },
        {
          "data": {
            "image/png": "[encoded data removed]",
            "text/plain": [
              "<Figure size 720x216 with 1 Axes>"
            ]
          },
          "metadata": {
            "needs_background": "light"
          },
          "output_type": "display_data"
        }
      ],
      "source": [
        "big_cities_price = data_prep.pivot_table(index = 'locality_name', values = 'price_m', aggfunc=['count', 'mean'])\n",
        "big_cities_price.columns = ['count', 'mean']\n",
        "big_cities_price = big_cities_price.sort_values('count', ascending = False).head(10)\n",
        "big_cities_price.plot(y = 'mean', kind = \"bar\", grid=True, fontsize=10, xlabel='Топ-10 городов', ylabel='Цена, м2', figsize=(10,3))\n"
      ]
    },
    {
      "cell_type": "markdown",
      "metadata": {
        "id": "EoBT8qJ8zhI2"
      },
      "source": [
        "Самая высокая стоимасть ожиждаемо в Санкт-Петербурге, но Пушкин не сильно от него отстает.Самая низкая из топ-10 в Выборге."
      ]
    },
    {
      "cell_type": "markdown",
      "metadata": {
        "id": "QClVFUF2zhI2"
      },
      "source": [
        "Теперь выделим квартиры в Санкт-Петербурге и вычислим среднюю цену каждого километра."
      ]
    },
    {
      "cell_type": "markdown",
      "source": [
        "Узнаем среднюю цену квадратнрого метра жилья в зависимости от расстояния от центра."
      ],
      "metadata": {
        "id": "S7OLHHJunCcO"
      }
    },
    {
      "cell_type": "code",
      "execution_count": null,
      "metadata": {
        "id": "Knl01_fvzhI2",
        "outputId": "2ead3351-a4d5-4a4a-97c0-aea03f3dbca7"
      },
      "outputs": [
        {
          "data": {
            "text/html": [
              "<div>\n",
              "<style scoped>\n",
              "    .dataframe tbody tr th:only-of-type {\n",
              "        vertical-align: middle;\n",
              "    }\n",
              "\n",
              "    .dataframe tbody tr th {\n",
              "        vertical-align: top;\n",
              "    }\n",
              "\n",
              "    .dataframe thead th {\n",
              "        text-align: right;\n",
              "    }\n",
              "</style>\n",
              "<table border=\"1\" class=\"dataframe\">\n",
              "  <thead>\n",
              "    <tr style=\"text-align: right;\">\n",
              "      <th></th>\n",
              "      <th>price_m</th>\n",
              "    </tr>\n",
              "    <tr>\n",
              "      <th>city_centers_distance</th>\n",
              "      <th></th>\n",
              "    </tr>\n",
              "  </thead>\n",
              "  <tbody>\n",
              "    <tr>\n",
              "      <th>0.0</th>\n",
              "      <td>192050.504545</td>\n",
              "    </tr>\n",
              "    <tr>\n",
              "      <th>1.0</th>\n",
              "      <td>146239.756000</td>\n",
              "    </tr>\n",
              "    <tr>\n",
              "      <th>2.0</th>\n",
              "      <td>137207.910490</td>\n",
              "    </tr>\n",
              "    <tr>\n",
              "      <th>3.0</th>\n",
              "      <td>118715.324709</td>\n",
              "    </tr>\n",
              "    <tr>\n",
              "      <th>4.0</th>\n",
              "      <td>127515.755325</td>\n",
              "    </tr>\n",
              "    <tr>\n",
              "      <th>5.0</th>\n",
              "      <td>134970.140363</td>\n",
              "    </tr>\n",
              "    <tr>\n",
              "      <th>6.0</th>\n",
              "      <td>140512.325213</td>\n",
              "    </tr>\n",
              "    <tr>\n",
              "      <th>7.0</th>\n",
              "      <td>141057.357107</td>\n",
              "    </tr>\n",
              "    <tr>\n",
              "      <th>8.0</th>\n",
              "      <td>125097.738721</td>\n",
              "    </tr>\n",
              "    <tr>\n",
              "      <th>9.0</th>\n",
              "      <td>113131.042664</td>\n",
              "    </tr>\n",
              "  </tbody>\n",
              "</table>\n",
              "</div>"
            ],
            "text/plain": [
              "                             price_m\n",
              "city_centers_distance               \n",
              "0.0                    192050.504545\n",
              "1.0                    146239.756000\n",
              "2.0                    137207.910490\n",
              "3.0                    118715.324709\n",
              "4.0                    127515.755325\n",
              "5.0                    134970.140363\n",
              "6.0                    140512.325213\n",
              "7.0                    141057.357107\n",
              "8.0                    125097.738721\n",
              "9.0                    113131.042664"
            ]
          },
          "execution_count": 91,
          "metadata": {},
          "output_type": "execute_result"
        }
      ],
      "source": [
        "spb = data_prep.query('locality_name == \"Санкт-Петербург\"')\n",
        "spb_distanse_price = spb.pivot_table(index = 'city_centers_distance', values = 'price_m',aggfunc = 'mean')\n",
        "spb_distanse_price.head(10)"
      ]
    },
    {
      "cell_type": "markdown",
      "source": [],
      "metadata": {
        "id": "FxpjpLkJnBS0"
      }
    },
    {
      "cell_type": "code",
      "execution_count": null,
      "metadata": {
        "id": "YI3LBJjPzhI3",
        "outputId": "f7de8a88-5da4-4382-ca05-58b3fcd804e5"
      },
      "outputs": [
        {
          "data": {
            "text/plain": [
              "<AxesSubplot:xlabel='city_centers_distance'>"
            ]
          },
          "execution_count": 92,
          "metadata": {},
          "output_type": "execute_result"
        },
        {
          "data": {
            "image/png": "[encoded data removed]",
            "text/plain": [
              "<Figure size 432x288 with 1 Axes>"
            ]
          },
          "metadata": {
            "needs_background": "light"
          },
          "output_type": "display_data"
        }
      ],
      "source": [
        "spb_distanse_price.plot()"
      ]
    },
    {
      "cell_type": "code",
      "execution_count": null,
      "metadata": {
        "id": "r3wHgGoLzhI3",
        "outputId": "fb5ae063-01b9-4572-c4b1-57209cacf22f"
      },
      "outputs": [
        {
          "name": "stdout",
          "output_type": "stream",
          "text": [
            "Коэффицент корреляции между двумя факторами составляет -0.3430374970788436, связь слабая.\n"
          ]
        }
      ],
      "source": [
        "p = spb['city_centers_distance'].corr(spb['price_m'])\n",
        "print(f\"Коэффицент корреляции между двумя факторами составляет {p}, связь {p_estimator(p)}.\")\n"
      ]
    },
    {
      "cell_type": "markdown",
      "metadata": {
        "id": "NBr-RcddzhI3"
      },
      "source": [
        "Существует слабая обратнопропорциональная связь между стоимостью м2 жилья и расстоянием до центра.\n",
        "Есть интресный пик в районе 27 км. Возможно, там находятся элитные жилые поселки. А возможно, вклад вносит город Пушкин, где, как мы выяснили, цена м2 почти такая же как в Санкт-Петербурге.\n"
      ]
    },
    {
      "cell_type": "markdown",
      "metadata": {
        "id": "XjMoK1nCzhI3"
      },
      "source": [
        "### Общий вывод"
      ]
    },
    {
      "cell_type": "markdown",
      "metadata": {
        "id": "tgZYsWeLzhI3"
      },
      "source": [
        "Мы провели комплексный анализ и обработку архива объявлений о продаже квартир в Санкт-Петербурге и области.\n",
        "\n",
        "**Предобработка данных**:\n",
        "\n",
        "- В процессе обработки данных мы заполнили пропущенные значения и привели типы данных к необходимому формату. Также мы удалили выбросы, связанные с ценой квартир, количеством комнат и общей площадью, что привело к незначительному сокращению объема данных (около 1%).\n",
        "\n",
        "- Для дальнейшего анализа мы добавили в таблицу новые полезные столбцы, включая цену квадратного метра жилья, а также извлекли из даты размещения объявлений информацию о днях недели, месяцах и годах. Также мы создали категории, основанные на этажах квартир.\n",
        "\n",
        "**Исследователский аналоиз**:\n",
        "\n",
        "Исследование данных позволило нам выявить ряд наблюдений.\n",
        "\n",
        "- Большинство объектов недвижимости можно классифицировать по трем группам, соответствующим типичным размерам 1-, 2- и 3-комнатных квартир.\n",
        "- Мы также обнаружили различия в размещении объявлений в зависимости от дня недели, с наибольшим количеством объявлений в четверг и снижением на выходных.\n",
        "- Также отмечается сезонность на рынке недвижимости, с пиком предложения в период с февраля по апрель, спадом летом и повторным ростом осенью.\n",
        "\n",
        "- В среднем продажа квартиры занимает около 95 дней, а срок продажи выше 230 дней может считаться аномально долгим.\n",
        "- Исследование позволило выявить факторы, оказывающие наибольшее влияние на стоимость квадратного метра жилья, включая количество комнат, этаж квартиры и близость к центру.\n",
        "- В то же время, день, месяц, год размещения и общая площадь оказывают незначительное влияние на стоимость.\n"
      ]
    }
  ],
  "metadata": {
    "ExecuteTimeLog": [
      {
        "duration": 546,
        "start_time": "2022-12-02T14:11:44.828Z"
      },
      {
        "duration": 111,
        "start_time": "2022-12-02T14:11:57.873Z"
      },
      {
        "duration": 119,
        "start_time": "2022-12-02T14:13:37.191Z"
      },
      {
        "duration": 132,
        "start_time": "2022-12-02T14:13:50.498Z"
      },
      {
        "duration": 8,
        "start_time": "2022-12-02T14:17:27.092Z"
      },
      {
        "duration": 53,
        "start_time": "2022-12-03T12:58:57.658Z"
      },
      {
        "duration": 755,
        "start_time": "2022-12-03T12:59:07.563Z"
      },
      {
        "duration": 9,
        "start_time": "2022-12-03T12:59:08.320Z"
      },
      {
        "duration": 2321,
        "start_time": "2022-12-03T12:59:10.584Z"
      },
      {
        "duration": 38,
        "start_time": "2022-12-03T14:14:12.856Z"
      },
      {
        "duration": 19,
        "start_time": "2022-12-03T14:14:21.150Z"
      },
      {
        "duration": 30,
        "start_time": "2022-12-03T14:22:18.949Z"
      },
      {
        "duration": 34,
        "start_time": "2022-12-03T14:22:25.149Z"
      },
      {
        "duration": 15,
        "start_time": "2022-12-03T14:22:26.601Z"
      },
      {
        "duration": 107,
        "start_time": "2022-12-03T14:22:50.217Z"
      },
      {
        "duration": 73,
        "start_time": "2022-12-03T14:23:34.673Z"
      },
      {
        "duration": 7,
        "start_time": "2022-12-03T14:33:47.178Z"
      },
      {
        "duration": 11,
        "start_time": "2022-12-03T14:33:58.058Z"
      },
      {
        "duration": 22,
        "start_time": "2022-12-03T14:42:53.206Z"
      },
      {
        "duration": 29,
        "start_time": "2022-12-03T14:43:17.737Z"
      },
      {
        "duration": 14,
        "start_time": "2022-12-03T17:35:54.218Z"
      },
      {
        "duration": 9,
        "start_time": "2022-12-03T17:36:11.925Z"
      },
      {
        "duration": 2600,
        "start_time": "2022-12-03T17:47:24.671Z"
      },
      {
        "duration": 1671,
        "start_time": "2022-12-03T17:47:48.869Z"
      },
      {
        "duration": 211,
        "start_time": "2022-12-03T17:54:15.196Z"
      },
      {
        "duration": 380,
        "start_time": "2022-12-03T17:54:32.273Z"
      },
      {
        "duration": 1748,
        "start_time": "2022-12-03T17:55:24.528Z"
      },
      {
        "duration": 691,
        "start_time": "2022-12-03T17:58:33.352Z"
      },
      {
        "duration": 1647,
        "start_time": "2022-12-03T18:00:36.421Z"
      },
      {
        "duration": 18,
        "start_time": "2022-12-03T18:00:38.070Z"
      },
      {
        "duration": 46,
        "start_time": "2022-12-03T18:01:42.653Z"
      },
      {
        "duration": 6,
        "start_time": "2022-12-03T18:01:58.361Z"
      },
      {
        "duration": 7,
        "start_time": "2022-12-03T18:03:13.129Z"
      },
      {
        "duration": 8,
        "start_time": "2022-12-03T18:03:15.632Z"
      },
      {
        "duration": 45,
        "start_time": "2022-12-03T18:03:29.066Z"
      },
      {
        "duration": 0,
        "start_time": "2022-12-03T18:03:29.113Z"
      },
      {
        "duration": 0,
        "start_time": "2022-12-03T18:03:29.114Z"
      },
      {
        "duration": 0,
        "start_time": "2022-12-03T18:03:29.116Z"
      },
      {
        "duration": 1,
        "start_time": "2022-12-03T18:03:29.116Z"
      },
      {
        "duration": 0,
        "start_time": "2022-12-03T18:03:29.118Z"
      },
      {
        "duration": 0,
        "start_time": "2022-12-03T18:03:29.118Z"
      },
      {
        "duration": 1388,
        "start_time": "2022-12-03T19:08:22.739Z"
      },
      {
        "duration": 1772,
        "start_time": "2022-12-03T19:08:24.496Z"
      },
      {
        "duration": 1783,
        "start_time": "2022-12-03T19:08:28.386Z"
      },
      {
        "duration": 14,
        "start_time": "2022-12-03T19:09:02.162Z"
      },
      {
        "duration": 12,
        "start_time": "2022-12-03T19:09:05.128Z"
      },
      {
        "duration": 14,
        "start_time": "2022-12-03T19:09:07.463Z"
      },
      {
        "duration": 70,
        "start_time": "2022-12-03T19:16:17.965Z"
      },
      {
        "duration": 31,
        "start_time": "2022-12-03T19:17:10.767Z"
      },
      {
        "duration": 13,
        "start_time": "2022-12-03T19:17:27.602Z"
      },
      {
        "duration": 43,
        "start_time": "2022-12-03T19:17:36.894Z"
      },
      {
        "duration": 25,
        "start_time": "2022-12-03T19:17:52.874Z"
      },
      {
        "duration": 9,
        "start_time": "2022-12-03T19:18:44.294Z"
      },
      {
        "duration": 7,
        "start_time": "2022-12-03T19:19:17.698Z"
      },
      {
        "duration": 27,
        "start_time": "2022-12-03T19:19:26.357Z"
      },
      {
        "duration": 68,
        "start_time": "2022-12-03T19:20:15.332Z"
      },
      {
        "duration": 50,
        "start_time": "2022-12-03T19:20:22.537Z"
      },
      {
        "duration": 41,
        "start_time": "2022-12-03T19:20:24.416Z"
      },
      {
        "duration": 45,
        "start_time": "2022-12-03T19:20:27.675Z"
      },
      {
        "duration": 47,
        "start_time": "2022-12-03T19:20:43.462Z"
      },
      {
        "duration": 6,
        "start_time": "2022-12-03T19:20:51.261Z"
      },
      {
        "duration": 22,
        "start_time": "2022-12-03T19:22:12.399Z"
      },
      {
        "duration": 7,
        "start_time": "2022-12-03T19:22:20.427Z"
      },
      {
        "duration": 9,
        "start_time": "2022-12-03T19:23:03.243Z"
      },
      {
        "duration": 47,
        "start_time": "2022-12-03T19:23:22.475Z"
      },
      {
        "duration": 10,
        "start_time": "2022-12-03T19:24:23.882Z"
      },
      {
        "duration": 1264,
        "start_time": "2022-12-03T19:24:50.456Z"
      },
      {
        "duration": 196,
        "start_time": "2022-12-03T19:25:03.128Z"
      },
      {
        "duration": 136,
        "start_time": "2022-12-03T19:25:17.229Z"
      },
      {
        "duration": 8,
        "start_time": "2022-12-03T19:25:27.202Z"
      },
      {
        "duration": 53,
        "start_time": "2022-12-03T19:25:31.956Z"
      },
      {
        "duration": 22,
        "start_time": "2022-12-03T19:27:56.728Z"
      },
      {
        "duration": 10,
        "start_time": "2022-12-03T19:45:29.403Z"
      },
      {
        "duration": 24,
        "start_time": "2022-12-03T19:45:33.093Z"
      },
      {
        "duration": 4,
        "start_time": "2022-12-03T19:45:37.733Z"
      },
      {
        "duration": 12,
        "start_time": "2022-12-03T19:48:55.296Z"
      },
      {
        "duration": 18,
        "start_time": "2022-12-03T19:48:58.263Z"
      },
      {
        "duration": 122,
        "start_time": "2022-12-03T19:58:03.810Z"
      },
      {
        "duration": 2139,
        "start_time": "2022-12-03T19:58:03.933Z"
      },
      {
        "duration": 25,
        "start_time": "2022-12-03T19:58:06.084Z"
      },
      {
        "duration": 14,
        "start_time": "2022-12-03T19:58:06.111Z"
      },
      {
        "duration": 11,
        "start_time": "2022-12-03T19:58:06.128Z"
      },
      {
        "duration": 87,
        "start_time": "2022-12-03T19:58:06.140Z"
      },
      {
        "duration": 29,
        "start_time": "2022-12-03T19:58:06.229Z"
      },
      {
        "duration": 37,
        "start_time": "2022-12-03T19:58:06.260Z"
      },
      {
        "duration": 18,
        "start_time": "2022-12-03T19:58:06.298Z"
      },
      {
        "duration": 12,
        "start_time": "2022-12-03T19:58:06.318Z"
      },
      {
        "duration": 26,
        "start_time": "2022-12-03T19:58:06.331Z"
      },
      {
        "duration": 5,
        "start_time": "2022-12-03T19:59:14.882Z"
      },
      {
        "duration": 4,
        "start_time": "2022-12-03T19:59:24.613Z"
      },
      {
        "duration": 14,
        "start_time": "2022-12-03T20:05:21.196Z"
      },
      {
        "duration": 12,
        "start_time": "2022-12-03T20:05:28.705Z"
      },
      {
        "duration": 10,
        "start_time": "2022-12-03T20:05:45.717Z"
      },
      {
        "duration": 15,
        "start_time": "2022-12-03T20:05:52.565Z"
      },
      {
        "duration": 5,
        "start_time": "2022-12-03T20:09:50.221Z"
      },
      {
        "duration": 9,
        "start_time": "2022-12-03T20:09:59.103Z"
      },
      {
        "duration": 193,
        "start_time": "2022-12-03T20:12:30.983Z"
      },
      {
        "duration": 140,
        "start_time": "2022-12-03T20:12:41.589Z"
      },
      {
        "duration": 150,
        "start_time": "2022-12-03T20:14:14.899Z"
      },
      {
        "duration": 136,
        "start_time": "2022-12-03T20:14:52.940Z"
      },
      {
        "duration": 15,
        "start_time": "2022-12-03T20:15:16.489Z"
      },
      {
        "duration": 16,
        "start_time": "2022-12-03T20:16:04.201Z"
      },
      {
        "duration": 141,
        "start_time": "2022-12-03T20:16:34.057Z"
      },
      {
        "duration": 12,
        "start_time": "2022-12-03T20:16:40.377Z"
      },
      {
        "duration": 16,
        "start_time": "2022-12-03T20:17:18.373Z"
      },
      {
        "duration": 12,
        "start_time": "2022-12-03T20:17:34.491Z"
      },
      {
        "duration": 14,
        "start_time": "2022-12-03T20:17:39.793Z"
      },
      {
        "duration": 10,
        "start_time": "2022-12-03T20:18:04.416Z"
      },
      {
        "duration": 686,
        "start_time": "2022-12-03T20:19:12.089Z"
      },
      {
        "duration": 10,
        "start_time": "2022-12-03T20:19:28.354Z"
      },
      {
        "duration": 9,
        "start_time": "2022-12-03T20:19:42.758Z"
      },
      {
        "duration": 8,
        "start_time": "2022-12-03T20:19:58.409Z"
      },
      {
        "duration": 206,
        "start_time": "2022-12-03T20:20:04.801Z"
      },
      {
        "duration": 10,
        "start_time": "2022-12-03T20:20:12.496Z"
      },
      {
        "duration": 4,
        "start_time": "2022-12-03T20:20:54.917Z"
      },
      {
        "duration": 15,
        "start_time": "2022-12-03T20:21:02.079Z"
      },
      {
        "duration": 12,
        "start_time": "2022-12-03T20:25:11.654Z"
      },
      {
        "duration": 7,
        "start_time": "2022-12-03T20:25:22.680Z"
      },
      {
        "duration": 18,
        "start_time": "2022-12-03T20:25:24.496Z"
      },
      {
        "duration": 10,
        "start_time": "2022-12-03T20:31:17.164Z"
      },
      {
        "duration": 10,
        "start_time": "2022-12-03T20:31:40.073Z"
      },
      {
        "duration": 15,
        "start_time": "2022-12-03T20:32:13.138Z"
      },
      {
        "duration": 57,
        "start_time": "2022-12-03T20:36:29.473Z"
      },
      {
        "duration": 9,
        "start_time": "2022-12-03T20:37:37.058Z"
      },
      {
        "duration": 9,
        "start_time": "2022-12-03T20:37:48.428Z"
      },
      {
        "duration": 8,
        "start_time": "2022-12-03T20:38:05.896Z"
      },
      {
        "duration": 17,
        "start_time": "2022-12-03T21:14:16.822Z"
      },
      {
        "duration": 15,
        "start_time": "2022-12-03T21:14:47.346Z"
      },
      {
        "duration": 4,
        "start_time": "2022-12-03T21:16:01.152Z"
      },
      {
        "duration": 13,
        "start_time": "2022-12-03T21:16:02.730Z"
      },
      {
        "duration": 3,
        "start_time": "2022-12-03T21:18:10.444Z"
      },
      {
        "duration": 22,
        "start_time": "2022-12-03T21:18:11.668Z"
      },
      {
        "duration": 3,
        "start_time": "2022-12-03T21:18:43.205Z"
      },
      {
        "duration": 3,
        "start_time": "2022-12-03T21:19:03.602Z"
      },
      {
        "duration": 16,
        "start_time": "2022-12-03T21:19:05.226Z"
      },
      {
        "duration": 4,
        "start_time": "2022-12-03T21:21:30.053Z"
      },
      {
        "duration": 110,
        "start_time": "2022-12-03T21:21:39.825Z"
      },
      {
        "duration": 1821,
        "start_time": "2022-12-03T21:21:39.937Z"
      },
      {
        "duration": 32,
        "start_time": "2022-12-03T21:21:41.760Z"
      },
      {
        "duration": 9,
        "start_time": "2022-12-03T21:21:41.801Z"
      },
      {
        "duration": 18,
        "start_time": "2022-12-03T21:21:41.811Z"
      },
      {
        "duration": 274,
        "start_time": "2022-12-03T21:21:41.830Z"
      },
      {
        "duration": 25,
        "start_time": "2022-12-03T21:21:42.105Z"
      },
      {
        "duration": 15,
        "start_time": "2022-12-03T21:21:42.132Z"
      },
      {
        "duration": 2,
        "start_time": "2022-12-03T21:21:42.149Z"
      },
      {
        "duration": 57,
        "start_time": "2022-12-03T21:21:42.153Z"
      },
      {
        "duration": 23,
        "start_time": "2022-12-03T21:21:42.212Z"
      },
      {
        "duration": 10,
        "start_time": "2022-12-03T21:21:42.237Z"
      },
      {
        "duration": 7,
        "start_time": "2022-12-03T21:21:42.248Z"
      },
      {
        "duration": 5,
        "start_time": "2022-12-03T21:21:42.256Z"
      },
      {
        "duration": 13,
        "start_time": "2022-12-03T21:21:42.262Z"
      },
      {
        "duration": 26,
        "start_time": "2022-12-03T21:21:42.277Z"
      },
      {
        "duration": 8,
        "start_time": "2022-12-03T21:21:42.305Z"
      },
      {
        "duration": 6,
        "start_time": "2022-12-03T21:21:42.314Z"
      },
      {
        "duration": 6,
        "start_time": "2022-12-03T21:21:42.321Z"
      },
      {
        "duration": 17,
        "start_time": "2022-12-03T21:21:42.328Z"
      },
      {
        "duration": 6,
        "start_time": "2022-12-03T21:22:48.268Z"
      },
      {
        "duration": 43,
        "start_time": "2022-12-03T21:24:23.074Z"
      },
      {
        "duration": 4,
        "start_time": "2022-12-03T21:24:59.769Z"
      },
      {
        "duration": 4,
        "start_time": "2022-12-03T21:25:19.508Z"
      },
      {
        "duration": 13,
        "start_time": "2022-12-03T21:25:21.961Z"
      },
      {
        "duration": 5,
        "start_time": "2022-12-03T21:27:17.549Z"
      },
      {
        "duration": 4,
        "start_time": "2022-12-03T21:27:30.749Z"
      },
      {
        "duration": 11,
        "start_time": "2022-12-03T21:28:05.466Z"
      },
      {
        "duration": 21,
        "start_time": "2022-12-03T21:28:29.244Z"
      },
      {
        "duration": 8,
        "start_time": "2022-12-03T21:28:57.478Z"
      },
      {
        "duration": 4,
        "start_time": "2022-12-03T21:28:58.793Z"
      },
      {
        "duration": 9,
        "start_time": "2022-12-03T21:29:00.386Z"
      },
      {
        "duration": 305,
        "start_time": "2022-12-03T21:29:10.014Z"
      },
      {
        "duration": 29,
        "start_time": "2022-12-03T21:29:26.756Z"
      },
      {
        "duration": 10,
        "start_time": "2022-12-03T21:29:53.197Z"
      },
      {
        "duration": 5,
        "start_time": "2022-12-03T21:30:18.185Z"
      },
      {
        "duration": 11,
        "start_time": "2022-12-03T21:30:29.905Z"
      },
      {
        "duration": 4,
        "start_time": "2022-12-03T21:30:38.665Z"
      },
      {
        "duration": 32,
        "start_time": "2022-12-03T21:30:40.597Z"
      },
      {
        "duration": 131,
        "start_time": "2022-12-03T21:32:29.245Z"
      },
      {
        "duration": 104,
        "start_time": "2022-12-03T21:32:39.000Z"
      },
      {
        "duration": 1647,
        "start_time": "2022-12-03T21:32:39.106Z"
      },
      {
        "duration": 22,
        "start_time": "2022-12-03T21:32:40.755Z"
      },
      {
        "duration": 9,
        "start_time": "2022-12-03T21:32:40.778Z"
      },
      {
        "duration": 10,
        "start_time": "2022-12-03T21:32:40.789Z"
      },
      {
        "duration": 83,
        "start_time": "2022-12-03T21:32:40.800Z"
      },
      {
        "duration": 27,
        "start_time": "2022-12-03T21:32:40.885Z"
      },
      {
        "duration": 14,
        "start_time": "2022-12-03T21:32:40.914Z"
      },
      {
        "duration": 3,
        "start_time": "2022-12-03T21:32:40.930Z"
      },
      {
        "duration": 10,
        "start_time": "2022-12-03T21:32:40.934Z"
      },
      {
        "duration": 46,
        "start_time": "2022-12-03T21:32:40.946Z"
      },
      {
        "duration": 16,
        "start_time": "2022-12-03T21:32:40.994Z"
      },
      {
        "duration": 5,
        "start_time": "2022-12-03T21:32:41.011Z"
      },
      {
        "duration": 9,
        "start_time": "2022-12-03T21:32:41.019Z"
      },
      {
        "duration": 24,
        "start_time": "2022-12-03T21:32:41.030Z"
      },
      {
        "duration": 6,
        "start_time": "2022-12-03T21:32:41.055Z"
      },
      {
        "duration": 6,
        "start_time": "2022-12-03T21:32:41.063Z"
      },
      {
        "duration": 10,
        "start_time": "2022-12-03T21:32:41.071Z"
      },
      {
        "duration": 6,
        "start_time": "2022-12-03T21:32:41.083Z"
      },
      {
        "duration": 8,
        "start_time": "2022-12-03T21:32:41.090Z"
      },
      {
        "duration": 6,
        "start_time": "2022-12-03T21:32:41.100Z"
      },
      {
        "duration": 16,
        "start_time": "2022-12-03T21:32:41.108Z"
      },
      {
        "duration": 7,
        "start_time": "2022-12-03T21:32:41.125Z"
      },
      {
        "duration": 5,
        "start_time": "2022-12-03T21:32:41.134Z"
      },
      {
        "duration": 22,
        "start_time": "2022-12-03T21:32:41.141Z"
      },
      {
        "duration": 13,
        "start_time": "2022-12-03T21:32:41.164Z"
      },
      {
        "duration": 306,
        "start_time": "2022-12-03T21:32:41.178Z"
      },
      {
        "duration": 29,
        "start_time": "2022-12-03T21:32:41.486Z"
      },
      {
        "duration": 4,
        "start_time": "2022-12-03T21:32:41.517Z"
      },
      {
        "duration": 27,
        "start_time": "2022-12-03T21:32:41.522Z"
      },
      {
        "duration": 39,
        "start_time": "2022-12-03T21:32:41.550Z"
      },
      {
        "duration": 4,
        "start_time": "2022-12-03T21:32:41.591Z"
      },
      {
        "duration": 26,
        "start_time": "2022-12-03T21:32:41.597Z"
      },
      {
        "duration": 136,
        "start_time": "2022-12-03T21:32:44.127Z"
      },
      {
        "duration": 132,
        "start_time": "2022-12-03T21:32:47.870Z"
      },
      {
        "duration": 177,
        "start_time": "2022-12-03T21:32:50.725Z"
      },
      {
        "duration": 43,
        "start_time": "2022-12-04T03:26:41.028Z"
      },
      {
        "duration": 1929,
        "start_time": "2022-12-04T03:26:45.961Z"
      },
      {
        "duration": 1800,
        "start_time": "2022-12-04T03:26:47.892Z"
      },
      {
        "duration": 86,
        "start_time": "2022-12-04T03:26:49.694Z"
      },
      {
        "duration": 9,
        "start_time": "2022-12-04T03:26:49.782Z"
      },
      {
        "duration": 23,
        "start_time": "2022-12-04T03:26:49.792Z"
      },
      {
        "duration": 55,
        "start_time": "2022-12-04T03:27:24.348Z"
      },
      {
        "duration": 58,
        "start_time": "2022-12-04T03:30:36.997Z"
      },
      {
        "duration": 8,
        "start_time": "2022-12-04T03:30:45.533Z"
      },
      {
        "duration": 28,
        "start_time": "2022-12-04T03:30:48.193Z"
      },
      {
        "duration": 12,
        "start_time": "2022-12-04T03:30:51.360Z"
      },
      {
        "duration": 18,
        "start_time": "2022-12-04T03:31:42.384Z"
      },
      {
        "duration": 11,
        "start_time": "2022-12-04T03:32:24.733Z"
      },
      {
        "duration": 13,
        "start_time": "2022-12-04T03:33:13.192Z"
      },
      {
        "duration": 5,
        "start_time": "2022-12-04T03:34:53.971Z"
      },
      {
        "duration": 18,
        "start_time": "2022-12-04T03:35:08.191Z"
      },
      {
        "duration": 112,
        "start_time": "2022-12-04T03:35:31.276Z"
      },
      {
        "duration": 1731,
        "start_time": "2022-12-04T03:35:31.390Z"
      },
      {
        "duration": 13,
        "start_time": "2022-12-04T03:35:33.123Z"
      },
      {
        "duration": 8,
        "start_time": "2022-12-04T03:35:33.137Z"
      },
      {
        "duration": 8,
        "start_time": "2022-12-04T03:35:33.147Z"
      },
      {
        "duration": 77,
        "start_time": "2022-12-04T03:35:33.157Z"
      },
      {
        "duration": 26,
        "start_time": "2022-12-04T03:35:33.235Z"
      },
      {
        "duration": 14,
        "start_time": "2022-12-04T03:35:33.263Z"
      },
      {
        "duration": 15,
        "start_time": "2022-12-04T03:35:33.278Z"
      },
      {
        "duration": 18,
        "start_time": "2022-12-04T03:35:33.295Z"
      },
      {
        "duration": 34,
        "start_time": "2022-12-04T03:35:33.314Z"
      },
      {
        "duration": 11,
        "start_time": "2022-12-04T03:35:33.350Z"
      },
      {
        "duration": 16,
        "start_time": "2022-12-04T03:35:33.363Z"
      },
      {
        "duration": 3,
        "start_time": "2022-12-04T03:35:46.145Z"
      },
      {
        "duration": 12,
        "start_time": "2022-12-04T03:35:47.372Z"
      },
      {
        "duration": 5,
        "start_time": "2022-12-04T03:36:03.706Z"
      },
      {
        "duration": 16,
        "start_time": "2022-12-04T03:36:06.188Z"
      },
      {
        "duration": 6,
        "start_time": "2022-12-04T03:38:41.406Z"
      },
      {
        "duration": 8,
        "start_time": "2022-12-04T03:38:56.435Z"
      },
      {
        "duration": 10,
        "start_time": "2022-12-04T03:42:11.159Z"
      },
      {
        "duration": 4,
        "start_time": "2022-12-04T03:42:28.305Z"
      },
      {
        "duration": 12,
        "start_time": "2022-12-04T03:42:30.372Z"
      },
      {
        "duration": 4,
        "start_time": "2022-12-04T03:43:10.144Z"
      },
      {
        "duration": 13,
        "start_time": "2022-12-04T03:43:12.180Z"
      },
      {
        "duration": 6,
        "start_time": "2022-12-04T03:53:34.542Z"
      },
      {
        "duration": 23,
        "start_time": "2022-12-04T03:53:56.589Z"
      },
      {
        "duration": 7,
        "start_time": "2022-12-04T03:54:18.869Z"
      },
      {
        "duration": 7,
        "start_time": "2022-12-04T03:54:39.623Z"
      },
      {
        "duration": 52,
        "start_time": "2022-12-04T03:57:39.965Z"
      },
      {
        "duration": 7,
        "start_time": "2022-12-04T03:57:55.156Z"
      },
      {
        "duration": 7,
        "start_time": "2022-12-04T03:58:48.703Z"
      },
      {
        "duration": 10,
        "start_time": "2022-12-04T03:59:02.948Z"
      },
      {
        "duration": 110,
        "start_time": "2022-12-04T03:59:40.512Z"
      },
      {
        "duration": 1836,
        "start_time": "2022-12-04T03:59:40.624Z"
      },
      {
        "duration": 18,
        "start_time": "2022-12-04T03:59:42.463Z"
      },
      {
        "duration": 9,
        "start_time": "2022-12-04T03:59:42.483Z"
      },
      {
        "duration": 33,
        "start_time": "2022-12-04T03:59:42.493Z"
      },
      {
        "duration": 56,
        "start_time": "2022-12-04T03:59:42.528Z"
      },
      {
        "duration": 43,
        "start_time": "2022-12-04T03:59:42.585Z"
      },
      {
        "duration": 14,
        "start_time": "2022-12-04T03:59:42.630Z"
      },
      {
        "duration": 4,
        "start_time": "2022-12-04T03:59:42.646Z"
      },
      {
        "duration": 10,
        "start_time": "2022-12-04T03:59:42.652Z"
      },
      {
        "duration": 25,
        "start_time": "2022-12-04T03:59:42.663Z"
      },
      {
        "duration": 35,
        "start_time": "2022-12-04T03:59:42.690Z"
      },
      {
        "duration": 9,
        "start_time": "2022-12-04T03:59:42.727Z"
      },
      {
        "duration": 43,
        "start_time": "2022-12-04T03:59:58.419Z"
      },
      {
        "duration": 6,
        "start_time": "2022-12-04T04:01:48.746Z"
      },
      {
        "duration": 532,
        "start_time": "2022-12-04T04:02:34.001Z"
      },
      {
        "duration": 7,
        "start_time": "2022-12-04T04:06:14.807Z"
      },
      {
        "duration": 22,
        "start_time": "2022-12-04T04:08:48.464Z"
      },
      {
        "duration": 5,
        "start_time": "2022-12-04T04:09:02.882Z"
      },
      {
        "duration": 7,
        "start_time": "2022-12-04T04:09:31.820Z"
      },
      {
        "duration": 5,
        "start_time": "2022-12-04T04:09:38.275Z"
      },
      {
        "duration": 10,
        "start_time": "2022-12-04T04:10:32.861Z"
      },
      {
        "duration": 4,
        "start_time": "2022-12-04T04:10:52.442Z"
      },
      {
        "duration": 107,
        "start_time": "2022-12-04T04:10:57.234Z"
      },
      {
        "duration": 1893,
        "start_time": "2022-12-04T04:10:57.343Z"
      },
      {
        "duration": 15,
        "start_time": "2022-12-04T04:10:59.237Z"
      },
      {
        "duration": 9,
        "start_time": "2022-12-04T04:10:59.254Z"
      },
      {
        "duration": 10,
        "start_time": "2022-12-04T04:10:59.265Z"
      },
      {
        "duration": 84,
        "start_time": "2022-12-04T04:10:59.276Z"
      },
      {
        "duration": 28,
        "start_time": "2022-12-04T04:10:59.362Z"
      },
      {
        "duration": 26,
        "start_time": "2022-12-04T04:10:59.392Z"
      },
      {
        "duration": 4,
        "start_time": "2022-12-04T04:10:59.420Z"
      },
      {
        "duration": 12,
        "start_time": "2022-12-04T04:10:59.427Z"
      },
      {
        "duration": 24,
        "start_time": "2022-12-04T04:10:59.441Z"
      },
      {
        "duration": 13,
        "start_time": "2022-12-04T04:10:59.466Z"
      },
      {
        "duration": 10,
        "start_time": "2022-12-04T04:10:59.480Z"
      },
      {
        "duration": 9,
        "start_time": "2022-12-04T04:14:12.775Z"
      },
      {
        "duration": 16,
        "start_time": "2022-12-04T04:14:42.160Z"
      },
      {
        "duration": 105,
        "start_time": "2022-12-04T04:15:19.000Z"
      },
      {
        "duration": 1848,
        "start_time": "2022-12-04T04:15:19.107Z"
      },
      {
        "duration": 15,
        "start_time": "2022-12-04T04:15:20.956Z"
      },
      {
        "duration": 9,
        "start_time": "2022-12-04T04:15:20.973Z"
      },
      {
        "duration": 10,
        "start_time": "2022-12-04T04:15:20.983Z"
      },
      {
        "duration": 72,
        "start_time": "2022-12-04T04:15:20.994Z"
      },
      {
        "duration": 26,
        "start_time": "2022-12-04T04:15:21.067Z"
      },
      {
        "duration": 28,
        "start_time": "2022-12-04T04:15:21.094Z"
      },
      {
        "duration": 2,
        "start_time": "2022-12-04T04:15:21.124Z"
      },
      {
        "duration": 16,
        "start_time": "2022-12-04T04:15:21.128Z"
      },
      {
        "duration": 34,
        "start_time": "2022-12-04T04:15:21.146Z"
      },
      {
        "duration": 15,
        "start_time": "2022-12-04T04:15:21.182Z"
      },
      {
        "duration": 9,
        "start_time": "2022-12-04T04:15:21.198Z"
      },
      {
        "duration": 16,
        "start_time": "2022-12-04T04:15:50.114Z"
      },
      {
        "duration": 17,
        "start_time": "2022-12-04T04:15:58.044Z"
      },
      {
        "duration": 9,
        "start_time": "2022-12-04T04:16:07.892Z"
      },
      {
        "duration": 11,
        "start_time": "2022-12-04T04:16:09.524Z"
      },
      {
        "duration": 3,
        "start_time": "2022-12-04T04:18:29.424Z"
      },
      {
        "duration": 6,
        "start_time": "2022-12-04T04:18:30.985Z"
      },
      {
        "duration": 11,
        "start_time": "2022-12-04T04:18:32.467Z"
      },
      {
        "duration": 5,
        "start_time": "2022-12-04T04:18:41.516Z"
      },
      {
        "duration": 15,
        "start_time": "2022-12-04T04:19:12.806Z"
      },
      {
        "duration": 3,
        "start_time": "2022-12-04T04:22:26.188Z"
      },
      {
        "duration": 3,
        "start_time": "2022-12-04T04:22:58.659Z"
      },
      {
        "duration": 12,
        "start_time": "2022-12-04T04:23:00.484Z"
      },
      {
        "duration": 111,
        "start_time": "2022-12-04T04:23:16.290Z"
      },
      {
        "duration": 1688,
        "start_time": "2022-12-04T04:23:16.403Z"
      },
      {
        "duration": 14,
        "start_time": "2022-12-04T04:23:18.093Z"
      },
      {
        "duration": 18,
        "start_time": "2022-12-04T04:23:18.108Z"
      },
      {
        "duration": 9,
        "start_time": "2022-12-04T04:23:18.128Z"
      },
      {
        "duration": 77,
        "start_time": "2022-12-04T04:23:18.138Z"
      },
      {
        "duration": 28,
        "start_time": "2022-12-04T04:23:18.216Z"
      },
      {
        "duration": 14,
        "start_time": "2022-12-04T04:23:18.245Z"
      },
      {
        "duration": 6,
        "start_time": "2022-12-04T04:23:18.260Z"
      },
      {
        "duration": 26,
        "start_time": "2022-12-04T04:23:18.268Z"
      },
      {
        "duration": 26,
        "start_time": "2022-12-04T04:23:18.295Z"
      },
      {
        "duration": 31,
        "start_time": "2022-12-04T04:23:18.322Z"
      },
      {
        "duration": 19,
        "start_time": "2022-12-04T04:23:18.354Z"
      },
      {
        "duration": 19,
        "start_time": "2022-12-04T04:23:18.374Z"
      },
      {
        "duration": 28,
        "start_time": "2022-12-04T04:23:18.395Z"
      },
      {
        "duration": 2,
        "start_time": "2022-12-04T04:23:18.424Z"
      },
      {
        "duration": 20,
        "start_time": "2022-12-04T04:23:18.427Z"
      },
      {
        "duration": 13,
        "start_time": "2022-12-04T04:23:18.448Z"
      },
      {
        "duration": 10,
        "start_time": "2022-12-04T04:23:18.462Z"
      },
      {
        "duration": 4,
        "start_time": "2022-12-04T04:23:18.474Z"
      },
      {
        "duration": 6,
        "start_time": "2022-12-04T04:23:18.479Z"
      },
      {
        "duration": 8,
        "start_time": "2022-12-04T04:23:18.487Z"
      },
      {
        "duration": 13,
        "start_time": "2022-12-04T04:23:21.393Z"
      },
      {
        "duration": 4,
        "start_time": "2022-12-04T04:25:34.203Z"
      },
      {
        "duration": 13,
        "start_time": "2022-12-04T04:25:35.799Z"
      },
      {
        "duration": 23,
        "start_time": "2022-12-04T04:28:17.744Z"
      },
      {
        "duration": 19,
        "start_time": "2022-12-04T04:28:46.516Z"
      },
      {
        "duration": 20,
        "start_time": "2022-12-04T04:29:00.826Z"
      },
      {
        "duration": 46,
        "start_time": "2022-12-04T04:29:20.719Z"
      },
      {
        "duration": 23,
        "start_time": "2022-12-04T04:29:23.915Z"
      },
      {
        "duration": 55,
        "start_time": "2022-12-04T04:29:44.272Z"
      },
      {
        "duration": 18,
        "start_time": "2022-12-04T04:29:58.606Z"
      },
      {
        "duration": 27,
        "start_time": "2022-12-04T04:30:13.785Z"
      },
      {
        "duration": 19,
        "start_time": "2022-12-04T04:30:48.792Z"
      },
      {
        "duration": 8,
        "start_time": "2022-12-04T04:31:29.331Z"
      },
      {
        "duration": 10,
        "start_time": "2022-12-04T04:32:04.104Z"
      },
      {
        "duration": 9,
        "start_time": "2022-12-04T04:33:47.159Z"
      },
      {
        "duration": 10,
        "start_time": "2022-12-04T04:33:53.280Z"
      },
      {
        "duration": 9,
        "start_time": "2022-12-04T04:34:03.987Z"
      },
      {
        "duration": 10,
        "start_time": "2022-12-04T04:34:32.098Z"
      },
      {
        "duration": 10,
        "start_time": "2022-12-04T04:34:35.933Z"
      },
      {
        "duration": 6,
        "start_time": "2022-12-04T04:34:45.347Z"
      },
      {
        "duration": 2,
        "start_time": "2022-12-04T04:36:27.100Z"
      },
      {
        "duration": 5,
        "start_time": "2022-12-04T04:37:57.123Z"
      },
      {
        "duration": 13,
        "start_time": "2022-12-04T04:38:00.452Z"
      },
      {
        "duration": 6,
        "start_time": "2022-12-04T04:54:08.236Z"
      },
      {
        "duration": 14,
        "start_time": "2022-12-04T04:54:10.144Z"
      },
      {
        "duration": 4,
        "start_time": "2022-12-04T04:54:23.256Z"
      },
      {
        "duration": 13,
        "start_time": "2022-12-04T04:54:24.361Z"
      },
      {
        "duration": 12,
        "start_time": "2022-12-04T04:57:36.223Z"
      },
      {
        "duration": 21,
        "start_time": "2022-12-04T04:57:38.863Z"
      },
      {
        "duration": 21,
        "start_time": "2022-12-04T04:58:02.305Z"
      },
      {
        "duration": 30,
        "start_time": "2022-12-04T04:58:44.135Z"
      },
      {
        "duration": 110,
        "start_time": "2022-12-04T04:58:48.560Z"
      },
      {
        "duration": 1900,
        "start_time": "2022-12-04T04:58:48.672Z"
      },
      {
        "duration": 14,
        "start_time": "2022-12-04T04:58:50.573Z"
      },
      {
        "duration": 8,
        "start_time": "2022-12-04T04:58:50.588Z"
      },
      {
        "duration": 25,
        "start_time": "2022-12-04T04:58:50.598Z"
      },
      {
        "duration": 53,
        "start_time": "2022-12-04T04:58:50.625Z"
      },
      {
        "duration": 43,
        "start_time": "2022-12-04T04:58:50.679Z"
      },
      {
        "duration": 14,
        "start_time": "2022-12-04T04:58:50.723Z"
      },
      {
        "duration": 7,
        "start_time": "2022-12-04T04:58:50.739Z"
      },
      {
        "duration": 11,
        "start_time": "2022-12-04T04:58:50.747Z"
      },
      {
        "duration": 9,
        "start_time": "2022-12-04T04:58:50.759Z"
      },
      {
        "duration": 5,
        "start_time": "2022-12-04T04:58:50.769Z"
      },
      {
        "duration": 16,
        "start_time": "2022-12-04T04:58:50.776Z"
      },
      {
        "duration": 23,
        "start_time": "2022-12-04T04:58:50.794Z"
      },
      {
        "duration": 13,
        "start_time": "2022-12-04T04:58:50.818Z"
      },
      {
        "duration": 12,
        "start_time": "2022-12-04T04:58:50.832Z"
      },
      {
        "duration": 5,
        "start_time": "2022-12-04T04:58:50.845Z"
      },
      {
        "duration": 7,
        "start_time": "2022-12-04T04:58:50.852Z"
      },
      {
        "duration": 12,
        "start_time": "2022-12-04T04:58:50.860Z"
      },
      {
        "duration": 12,
        "start_time": "2022-12-04T04:58:50.874Z"
      },
      {
        "duration": 4,
        "start_time": "2022-12-04T04:58:50.887Z"
      },
      {
        "duration": 4,
        "start_time": "2022-12-04T04:58:50.892Z"
      },
      {
        "duration": 18,
        "start_time": "2022-12-04T04:58:50.897Z"
      },
      {
        "duration": 4,
        "start_time": "2022-12-04T04:58:50.916Z"
      },
      {
        "duration": 4,
        "start_time": "2022-12-04T04:58:50.921Z"
      },
      {
        "duration": 15,
        "start_time": "2022-12-04T04:58:50.927Z"
      },
      {
        "duration": 18,
        "start_time": "2022-12-04T04:58:50.944Z"
      },
      {
        "duration": 4,
        "start_time": "2022-12-04T04:58:50.963Z"
      },
      {
        "duration": 24,
        "start_time": "2022-12-04T04:58:50.969Z"
      },
      {
        "duration": 3,
        "start_time": "2022-12-04T04:58:51.016Z"
      },
      {
        "duration": 319,
        "start_time": "2022-12-04T04:58:51.020Z"
      },
      {
        "duration": 26,
        "start_time": "2022-12-04T04:58:51.371Z"
      },
      {
        "duration": 223,
        "start_time": "2022-12-04T06:10:34.732Z"
      },
      {
        "duration": 204,
        "start_time": "2022-12-04T06:10:42.014Z"
      },
      {
        "duration": 12,
        "start_time": "2022-12-04T06:12:21.334Z"
      },
      {
        "duration": 110,
        "start_time": "2022-12-04T06:12:32.644Z"
      },
      {
        "duration": 117,
        "start_time": "2022-12-04T06:13:04.556Z"
      },
      {
        "duration": 121,
        "start_time": "2022-12-04T06:13:07.999Z"
      },
      {
        "duration": 112,
        "start_time": "2022-12-04T06:13:11.198Z"
      },
      {
        "duration": 164,
        "start_time": "2022-12-04T06:13:24.739Z"
      },
      {
        "duration": 163,
        "start_time": "2022-12-04T06:13:50.699Z"
      },
      {
        "duration": 12,
        "start_time": "2022-12-04T06:14:39.166Z"
      },
      {
        "duration": 53,
        "start_time": "2022-12-04T06:14:49.211Z"
      },
      {
        "duration": 11,
        "start_time": "2022-12-04T06:15:23.291Z"
      },
      {
        "duration": 2076,
        "start_time": "2022-12-04T06:16:00.654Z"
      },
      {
        "duration": 45,
        "start_time": "2022-12-04T06:16:28.981Z"
      },
      {
        "duration": 161,
        "start_time": "2022-12-04T06:16:40.363Z"
      },
      {
        "duration": 166,
        "start_time": "2022-12-04T06:16:45.632Z"
      },
      {
        "duration": 152,
        "start_time": "2022-12-04T06:17:04.085Z"
      },
      {
        "duration": 157,
        "start_time": "2022-12-04T06:17:13.534Z"
      },
      {
        "duration": 197,
        "start_time": "2022-12-04T06:17:18.970Z"
      },
      {
        "duration": 187,
        "start_time": "2022-12-04T06:17:23.477Z"
      },
      {
        "duration": 210,
        "start_time": "2022-12-04T06:17:26.983Z"
      },
      {
        "duration": 168,
        "start_time": "2022-12-04T06:17:36.742Z"
      },
      {
        "duration": 195,
        "start_time": "2022-12-04T06:19:32.546Z"
      },
      {
        "duration": 184,
        "start_time": "2022-12-04T06:22:06.904Z"
      },
      {
        "duration": 155,
        "start_time": "2022-12-04T06:22:32.834Z"
      },
      {
        "duration": 178,
        "start_time": "2022-12-04T06:23:14.971Z"
      },
      {
        "duration": 220,
        "start_time": "2022-12-04T06:23:21.939Z"
      },
      {
        "duration": 9,
        "start_time": "2022-12-04T06:25:48.499Z"
      },
      {
        "duration": 118,
        "start_time": "2022-12-04T06:36:52.616Z"
      },
      {
        "duration": 163,
        "start_time": "2022-12-04T06:37:11.858Z"
      },
      {
        "duration": 10,
        "start_time": "2022-12-04T06:38:49.806Z"
      },
      {
        "duration": 510,
        "start_time": "2022-12-04T06:39:05.432Z"
      },
      {
        "duration": 9,
        "start_time": "2022-12-04T06:39:26.965Z"
      },
      {
        "duration": 125,
        "start_time": "2022-12-04T06:40:35.453Z"
      },
      {
        "duration": 130,
        "start_time": "2022-12-04T06:40:38.793Z"
      },
      {
        "duration": 127,
        "start_time": "2022-12-04T06:40:43.239Z"
      },
      {
        "duration": 133,
        "start_time": "2022-12-04T06:42:10.371Z"
      },
      {
        "duration": 9,
        "start_time": "2022-12-04T06:42:27.720Z"
      },
      {
        "duration": 149,
        "start_time": "2022-12-04T06:43:38.899Z"
      },
      {
        "duration": 10,
        "start_time": "2022-12-04T06:44:10.283Z"
      },
      {
        "duration": 119,
        "start_time": "2022-12-04T06:44:25.802Z"
      },
      {
        "duration": 8,
        "start_time": "2022-12-04T06:44:40.769Z"
      },
      {
        "duration": 8,
        "start_time": "2022-12-04T06:55:18.157Z"
      },
      {
        "duration": 5,
        "start_time": "2022-12-04T06:55:26.844Z"
      },
      {
        "duration": 206,
        "start_time": "2022-12-04T06:55:54.138Z"
      },
      {
        "duration": 211,
        "start_time": "2022-12-04T06:56:09.027Z"
      },
      {
        "duration": 117,
        "start_time": "2022-12-04T06:59:08.664Z"
      },
      {
        "duration": 8,
        "start_time": "2022-12-04T07:00:08.661Z"
      },
      {
        "duration": 150,
        "start_time": "2022-12-04T07:01:19.583Z"
      },
      {
        "duration": 137,
        "start_time": "2022-12-04T07:01:27.168Z"
      },
      {
        "duration": 144,
        "start_time": "2022-12-04T07:01:35.207Z"
      },
      {
        "duration": 136,
        "start_time": "2022-12-04T07:01:53.587Z"
      },
      {
        "duration": 166,
        "start_time": "2022-12-04T07:02:11.996Z"
      },
      {
        "duration": 6,
        "start_time": "2022-12-04T07:05:36.461Z"
      },
      {
        "duration": 6,
        "start_time": "2022-12-04T07:06:25.552Z"
      },
      {
        "duration": 7,
        "start_time": "2022-12-04T07:06:30.029Z"
      },
      {
        "duration": 124,
        "start_time": "2022-12-04T07:07:01.194Z"
      },
      {
        "duration": 49,
        "start_time": "2022-12-04T07:07:05.132Z"
      },
      {
        "duration": 7,
        "start_time": "2022-12-04T07:07:06.880Z"
      },
      {
        "duration": 7,
        "start_time": "2022-12-04T07:07:11.293Z"
      },
      {
        "duration": 11,
        "start_time": "2022-12-04T07:08:33.403Z"
      },
      {
        "duration": 171,
        "start_time": "2022-12-04T07:08:47.390Z"
      },
      {
        "duration": 174,
        "start_time": "2022-12-04T07:08:54.140Z"
      },
      {
        "duration": 162,
        "start_time": "2022-12-04T07:09:20.595Z"
      },
      {
        "duration": 174,
        "start_time": "2022-12-04T07:09:43.806Z"
      },
      {
        "duration": 166,
        "start_time": "2022-12-04T07:09:53.808Z"
      },
      {
        "duration": 150,
        "start_time": "2022-12-04T07:10:12.827Z"
      },
      {
        "duration": 148,
        "start_time": "2022-12-04T07:10:27.362Z"
      },
      {
        "duration": 163,
        "start_time": "2022-12-04T07:10:37.680Z"
      },
      {
        "duration": 164,
        "start_time": "2022-12-04T07:10:51.932Z"
      },
      {
        "duration": 113,
        "start_time": "2022-12-04T07:11:16.837Z"
      },
      {
        "duration": 2146,
        "start_time": "2022-12-04T07:11:16.952Z"
      },
      {
        "duration": 24,
        "start_time": "2022-12-04T07:11:19.100Z"
      },
      {
        "duration": 10,
        "start_time": "2022-12-04T07:11:19.126Z"
      },
      {
        "duration": 10,
        "start_time": "2022-12-04T07:11:19.138Z"
      },
      {
        "duration": 77,
        "start_time": "2022-12-04T07:11:19.150Z"
      },
      {
        "duration": 31,
        "start_time": "2022-12-04T07:11:19.229Z"
      },
      {
        "duration": 16,
        "start_time": "2022-12-04T07:11:19.262Z"
      },
      {
        "duration": 4,
        "start_time": "2022-12-04T07:11:19.280Z"
      },
      {
        "duration": 37,
        "start_time": "2022-12-04T07:11:19.285Z"
      },
      {
        "duration": 7,
        "start_time": "2022-12-04T07:11:19.324Z"
      },
      {
        "duration": 6,
        "start_time": "2022-12-04T07:11:19.333Z"
      },
      {
        "duration": 16,
        "start_time": "2022-12-04T07:11:19.341Z"
      },
      {
        "duration": 9,
        "start_time": "2022-12-04T07:11:19.360Z"
      },
      {
        "duration": 11,
        "start_time": "2022-12-04T07:11:19.370Z"
      },
      {
        "duration": 36,
        "start_time": "2022-12-04T07:11:19.383Z"
      },
      {
        "duration": 2,
        "start_time": "2022-12-04T07:11:19.421Z"
      },
      {
        "duration": 6,
        "start_time": "2022-12-04T07:11:19.424Z"
      },
      {
        "duration": 6,
        "start_time": "2022-12-04T07:11:19.431Z"
      },
      {
        "duration": 24,
        "start_time": "2022-12-04T07:11:19.439Z"
      },
      {
        "duration": 4,
        "start_time": "2022-12-04T07:11:19.464Z"
      },
      {
        "duration": 5,
        "start_time": "2022-12-04T07:11:19.469Z"
      },
      {
        "duration": 9,
        "start_time": "2022-12-04T07:11:19.476Z"
      },
      {
        "duration": 6,
        "start_time": "2022-12-04T07:11:19.486Z"
      },
      {
        "duration": 5,
        "start_time": "2022-12-04T07:11:19.493Z"
      },
      {
        "duration": 26,
        "start_time": "2022-12-04T07:11:19.499Z"
      },
      {
        "duration": 19,
        "start_time": "2022-12-04T07:11:19.526Z"
      },
      {
        "duration": 4,
        "start_time": "2022-12-04T07:11:19.546Z"
      },
      {
        "duration": 23,
        "start_time": "2022-12-04T07:11:19.551Z"
      },
      {
        "duration": 3,
        "start_time": "2022-12-04T07:11:19.575Z"
      },
      {
        "duration": 321,
        "start_time": "2022-12-04T07:11:19.579Z"
      },
      {
        "duration": 31,
        "start_time": "2022-12-04T07:11:19.902Z"
      },
      {
        "duration": 4,
        "start_time": "2022-12-04T07:11:19.934Z"
      },
      {
        "duration": 16,
        "start_time": "2022-12-04T07:11:19.939Z"
      },
      {
        "duration": 25,
        "start_time": "2022-12-04T07:11:19.956Z"
      },
      {
        "duration": 2,
        "start_time": "2022-12-04T07:11:19.983Z"
      },
      {
        "duration": 31,
        "start_time": "2022-12-04T07:11:19.986Z"
      },
      {
        "duration": 166,
        "start_time": "2022-12-04T07:11:20.019Z"
      },
      {
        "duration": 194,
        "start_time": "2022-12-04T07:11:20.187Z"
      },
      {
        "duration": 9,
        "start_time": "2022-12-04T07:11:20.383Z"
      },
      {
        "duration": 182,
        "start_time": "2022-12-04T07:11:20.396Z"
      },
      {
        "duration": 227,
        "start_time": "2022-12-04T07:11:20.580Z"
      },
      {
        "duration": 8,
        "start_time": "2022-12-04T07:11:20.815Z"
      },
      {
        "duration": 135,
        "start_time": "2022-12-04T07:11:20.824Z"
      },
      {
        "duration": 145,
        "start_time": "2022-12-04T07:11:20.960Z"
      },
      {
        "duration": 8,
        "start_time": "2022-12-04T07:11:21.115Z"
      },
      {
        "duration": 5,
        "start_time": "2022-12-04T07:11:21.124Z"
      },
      {
        "duration": 229,
        "start_time": "2022-12-04T07:11:21.130Z"
      },
      {
        "duration": 121,
        "start_time": "2022-12-04T07:11:21.360Z"
      },
      {
        "duration": 8,
        "start_time": "2022-12-04T07:11:21.483Z"
      },
      {
        "duration": 164,
        "start_time": "2022-12-04T07:11:21.492Z"
      },
      {
        "duration": 6,
        "start_time": "2022-12-04T07:11:21.657Z"
      },
      {
        "duration": 22,
        "start_time": "2022-12-04T07:11:33.116Z"
      },
      {
        "duration": 152,
        "start_time": "2022-12-04T07:11:50.271Z"
      },
      {
        "duration": 6,
        "start_time": "2022-12-04T07:12:37.518Z"
      },
      {
        "duration": 6,
        "start_time": "2022-12-04T07:12:48.007Z"
      },
      {
        "duration": 146,
        "start_time": "2022-12-04T07:13:00.364Z"
      },
      {
        "duration": 6,
        "start_time": "2022-12-04T07:13:10.417Z"
      },
      {
        "duration": 146,
        "start_time": "2022-12-04T07:14:21.659Z"
      },
      {
        "duration": 165,
        "start_time": "2022-12-04T07:14:34.611Z"
      },
      {
        "duration": 8,
        "start_time": "2022-12-04T07:14:59.624Z"
      },
      {
        "duration": 7,
        "start_time": "2022-12-04T07:15:09.324Z"
      },
      {
        "duration": 8,
        "start_time": "2022-12-04T07:15:23.070Z"
      },
      {
        "duration": 179,
        "start_time": "2022-12-04T07:16:49.723Z"
      },
      {
        "duration": 167,
        "start_time": "2022-12-04T07:16:53.411Z"
      },
      {
        "duration": 170,
        "start_time": "2022-12-04T07:17:05.794Z"
      },
      {
        "duration": 166,
        "start_time": "2022-12-04T07:17:08.772Z"
      },
      {
        "duration": 158,
        "start_time": "2022-12-04T07:17:11.506Z"
      },
      {
        "duration": 172,
        "start_time": "2022-12-04T07:17:18.556Z"
      },
      {
        "duration": 9,
        "start_time": "2022-12-04T07:17:37.251Z"
      },
      {
        "duration": 9,
        "start_time": "2022-12-04T07:18:02.262Z"
      },
      {
        "duration": 157,
        "start_time": "2022-12-04T07:26:25.442Z"
      },
      {
        "duration": 31,
        "start_time": "2022-12-04T07:27:42.582Z"
      },
      {
        "duration": 154,
        "start_time": "2022-12-04T07:27:45.672Z"
      },
      {
        "duration": 6,
        "start_time": "2022-12-04T07:28:20.675Z"
      },
      {
        "duration": 163,
        "start_time": "2022-12-04T07:30:21.971Z"
      },
      {
        "duration": 23,
        "start_time": "2022-12-04T07:30:37.396Z"
      },
      {
        "duration": 164,
        "start_time": "2022-12-04T07:30:45.287Z"
      },
      {
        "duration": 151,
        "start_time": "2022-12-04T07:30:48.949Z"
      },
      {
        "duration": 6,
        "start_time": "2022-12-04T07:31:22.779Z"
      },
      {
        "duration": 189,
        "start_time": "2022-12-04T07:33:01.269Z"
      },
      {
        "duration": 201,
        "start_time": "2022-12-04T07:33:10.014Z"
      },
      {
        "duration": 184,
        "start_time": "2022-12-04T07:33:12.569Z"
      },
      {
        "duration": 255,
        "start_time": "2022-12-04T07:35:12.762Z"
      },
      {
        "duration": 242,
        "start_time": "2022-12-04T07:35:22.794Z"
      },
      {
        "duration": 175,
        "start_time": "2022-12-04T07:35:29.276Z"
      },
      {
        "duration": 140,
        "start_time": "2022-12-04T07:36:51.853Z"
      },
      {
        "duration": 261,
        "start_time": "2022-12-04T07:37:10.260Z"
      },
      {
        "duration": 25,
        "start_time": "2022-12-04T07:37:20.463Z"
      },
      {
        "duration": 128,
        "start_time": "2022-12-04T07:37:45.682Z"
      },
      {
        "duration": 147,
        "start_time": "2022-12-04T07:37:57.124Z"
      },
      {
        "duration": 26,
        "start_time": "2022-12-04T07:38:00.296Z"
      },
      {
        "duration": 853,
        "start_time": "2022-12-04T07:38:29.924Z"
      },
      {
        "duration": 26,
        "start_time": "2022-12-04T07:39:03.005Z"
      },
      {
        "duration": 30,
        "start_time": "2022-12-04T07:39:56.197Z"
      },
      {
        "duration": 27,
        "start_time": "2022-12-04T07:40:02.342Z"
      },
      {
        "duration": 967,
        "start_time": "2022-12-04T07:40:15.345Z"
      },
      {
        "duration": 713,
        "start_time": "2022-12-04T07:40:22.307Z"
      },
      {
        "duration": 140,
        "start_time": "2022-12-04T07:40:53.912Z"
      },
      {
        "duration": 28,
        "start_time": "2022-12-04T07:40:58.664Z"
      },
      {
        "duration": 575,
        "start_time": "2022-12-04T07:41:07.553Z"
      },
      {
        "duration": 282,
        "start_time": "2022-12-04T07:41:12.543Z"
      },
      {
        "duration": 143,
        "start_time": "2022-12-04T07:41:27.489Z"
      },
      {
        "duration": 203,
        "start_time": "2022-12-04T07:42:37.177Z"
      },
      {
        "duration": 14,
        "start_time": "2022-12-04T07:42:47.168Z"
      },
      {
        "duration": 143,
        "start_time": "2022-12-04T07:42:52.945Z"
      },
      {
        "duration": 14,
        "start_time": "2022-12-04T07:43:01.774Z"
      },
      {
        "duration": 136,
        "start_time": "2022-12-04T07:43:11.361Z"
      },
      {
        "duration": 135,
        "start_time": "2022-12-04T07:43:24.542Z"
      },
      {
        "duration": 16,
        "start_time": "2022-12-04T07:43:41.016Z"
      },
      {
        "duration": 152,
        "start_time": "2022-12-04T07:43:52.129Z"
      },
      {
        "duration": 141,
        "start_time": "2022-12-04T07:43:54.837Z"
      },
      {
        "duration": 11,
        "start_time": "2022-12-04T07:44:01.553Z"
      },
      {
        "duration": 10,
        "start_time": "2022-12-04T07:44:03.722Z"
      },
      {
        "duration": 14,
        "start_time": "2022-12-04T07:44:08.507Z"
      },
      {
        "duration": 741,
        "start_time": "2022-12-04T07:44:23.667Z"
      },
      {
        "duration": 124,
        "start_time": "2022-12-04T07:44:31.440Z"
      },
      {
        "duration": 43,
        "start_time": "2022-12-04T07:44:38.534Z"
      },
      {
        "duration": 155,
        "start_time": "2022-12-04T07:47:03.239Z"
      },
      {
        "duration": 167,
        "start_time": "2022-12-04T07:47:27.815Z"
      },
      {
        "duration": 94,
        "start_time": "2022-12-04T07:48:57.396Z"
      },
      {
        "duration": 30,
        "start_time": "2022-12-04T07:49:31.994Z"
      },
      {
        "duration": 186,
        "start_time": "2022-12-04T07:49:42.313Z"
      },
      {
        "duration": 160,
        "start_time": "2022-12-04T07:50:55.783Z"
      },
      {
        "duration": 8,
        "start_time": "2022-12-04T07:52:23.212Z"
      },
      {
        "duration": 13,
        "start_time": "2022-12-04T07:54:18.793Z"
      },
      {
        "duration": 15,
        "start_time": "2022-12-04T07:54:36.263Z"
      },
      {
        "duration": 3026,
        "start_time": "2022-12-04T07:54:55.169Z"
      },
      {
        "duration": 10,
        "start_time": "2022-12-04T07:59:10.063Z"
      },
      {
        "duration": 23,
        "start_time": "2022-12-04T07:59:51.470Z"
      },
      {
        "duration": 24,
        "start_time": "2022-12-04T08:00:05.691Z"
      },
      {
        "duration": 9,
        "start_time": "2022-12-04T08:00:44.265Z"
      },
      {
        "duration": 9,
        "start_time": "2022-12-04T08:00:56.700Z"
      },
      {
        "duration": 47,
        "start_time": "2022-12-04T08:02:06.785Z"
      },
      {
        "duration": 46,
        "start_time": "2022-12-04T08:03:05.379Z"
      },
      {
        "duration": 149,
        "start_time": "2022-12-04T08:03:26.839Z"
      },
      {
        "duration": 10,
        "start_time": "2022-12-04T08:05:45.508Z"
      },
      {
        "duration": 8,
        "start_time": "2022-12-04T08:05:49.007Z"
      },
      {
        "duration": 154,
        "start_time": "2022-12-04T08:06:15.230Z"
      },
      {
        "duration": 173,
        "start_time": "2022-12-04T08:08:21.707Z"
      },
      {
        "duration": 162,
        "start_time": "2022-12-04T08:10:19.675Z"
      },
      {
        "duration": 155,
        "start_time": "2022-12-04T08:11:39.193Z"
      },
      {
        "duration": 147,
        "start_time": "2022-12-04T08:13:39.303Z"
      },
      {
        "duration": 160,
        "start_time": "2022-12-04T08:14:21.827Z"
      },
      {
        "duration": 431,
        "start_time": "2022-12-04T08:16:02.162Z"
      },
      {
        "duration": 1180,
        "start_time": "2022-12-04T08:31:46.840Z"
      },
      {
        "duration": 1770,
        "start_time": "2022-12-04T08:31:48.021Z"
      },
      {
        "duration": 82,
        "start_time": "2022-12-04T08:31:49.793Z"
      },
      {
        "duration": 27,
        "start_time": "2022-12-04T08:31:49.877Z"
      },
      {
        "duration": 14,
        "start_time": "2022-12-04T08:31:49.906Z"
      },
      {
        "duration": 77,
        "start_time": "2022-12-04T08:31:49.921Z"
      },
      {
        "duration": 33,
        "start_time": "2022-12-04T08:31:50.000Z"
      },
      {
        "duration": 23,
        "start_time": "2022-12-04T08:31:50.035Z"
      },
      {
        "duration": 2,
        "start_time": "2022-12-04T08:31:50.060Z"
      },
      {
        "duration": 34,
        "start_time": "2022-12-04T08:31:50.065Z"
      },
      {
        "duration": 105,
        "start_time": "2022-12-04T08:31:50.101Z"
      },
      {
        "duration": 0,
        "start_time": "2022-12-04T08:31:50.210Z"
      },
      {
        "duration": 0,
        "start_time": "2022-12-04T08:31:50.211Z"
      },
      {
        "duration": 0,
        "start_time": "2022-12-04T08:31:50.212Z"
      },
      {
        "duration": 0,
        "start_time": "2022-12-04T08:31:50.213Z"
      },
      {
        "duration": 0,
        "start_time": "2022-12-04T08:31:50.215Z"
      },
      {
        "duration": 0,
        "start_time": "2022-12-04T08:31:50.216Z"
      },
      {
        "duration": 0,
        "start_time": "2022-12-04T08:31:50.217Z"
      },
      {
        "duration": 0,
        "start_time": "2022-12-04T08:31:50.218Z"
      },
      {
        "duration": 0,
        "start_time": "2022-12-04T08:31:50.219Z"
      },
      {
        "duration": 0,
        "start_time": "2022-12-04T08:31:50.220Z"
      },
      {
        "duration": 0,
        "start_time": "2022-12-04T08:31:50.221Z"
      },
      {
        "duration": 1,
        "start_time": "2022-12-04T08:31:50.222Z"
      },
      {
        "duration": 0,
        "start_time": "2022-12-04T08:31:50.224Z"
      },
      {
        "duration": 0,
        "start_time": "2022-12-04T08:31:50.225Z"
      },
      {
        "duration": 0,
        "start_time": "2022-12-04T08:31:50.226Z"
      },
      {
        "duration": 0,
        "start_time": "2022-12-04T08:31:50.227Z"
      },
      {
        "duration": 0,
        "start_time": "2022-12-04T08:31:50.229Z"
      },
      {
        "duration": 0,
        "start_time": "2022-12-04T08:31:50.230Z"
      },
      {
        "duration": 0,
        "start_time": "2022-12-04T08:31:50.231Z"
      },
      {
        "duration": 0,
        "start_time": "2022-12-04T08:31:50.232Z"
      },
      {
        "duration": 0,
        "start_time": "2022-12-04T08:31:50.233Z"
      },
      {
        "duration": 0,
        "start_time": "2022-12-04T08:31:50.235Z"
      },
      {
        "duration": 0,
        "start_time": "2022-12-04T08:31:50.236Z"
      },
      {
        "duration": 0,
        "start_time": "2022-12-04T08:31:50.237Z"
      },
      {
        "duration": 0,
        "start_time": "2022-12-04T08:31:50.238Z"
      },
      {
        "duration": 0,
        "start_time": "2022-12-04T08:31:50.240Z"
      },
      {
        "duration": 0,
        "start_time": "2022-12-04T08:31:50.241Z"
      },
      {
        "duration": 0,
        "start_time": "2022-12-04T08:31:50.297Z"
      },
      {
        "duration": 0,
        "start_time": "2022-12-04T08:31:50.299Z"
      },
      {
        "duration": 0,
        "start_time": "2022-12-04T08:31:50.300Z"
      },
      {
        "duration": 0,
        "start_time": "2022-12-04T08:31:50.301Z"
      },
      {
        "duration": 0,
        "start_time": "2022-12-04T08:31:50.303Z"
      },
      {
        "duration": 0,
        "start_time": "2022-12-04T08:31:50.304Z"
      },
      {
        "duration": 0,
        "start_time": "2022-12-04T08:31:50.305Z"
      },
      {
        "duration": 0,
        "start_time": "2022-12-04T08:31:50.306Z"
      },
      {
        "duration": 0,
        "start_time": "2022-12-04T08:31:50.307Z"
      },
      {
        "duration": 0,
        "start_time": "2022-12-04T08:31:50.309Z"
      },
      {
        "duration": 0,
        "start_time": "2022-12-04T08:31:50.310Z"
      },
      {
        "duration": 0,
        "start_time": "2022-12-04T08:31:50.314Z"
      },
      {
        "duration": 0,
        "start_time": "2022-12-04T08:31:50.316Z"
      },
      {
        "duration": 0,
        "start_time": "2022-12-04T08:31:50.317Z"
      },
      {
        "duration": 0,
        "start_time": "2022-12-04T08:31:50.318Z"
      },
      {
        "duration": 0,
        "start_time": "2022-12-04T08:31:50.320Z"
      },
      {
        "duration": 0,
        "start_time": "2022-12-04T08:31:50.321Z"
      },
      {
        "duration": 1,
        "start_time": "2022-12-04T08:31:50.322Z"
      },
      {
        "duration": 0,
        "start_time": "2022-12-04T08:31:50.324Z"
      },
      {
        "duration": 0,
        "start_time": "2022-12-04T08:31:50.325Z"
      },
      {
        "duration": 0,
        "start_time": "2022-12-04T08:31:50.326Z"
      },
      {
        "duration": 0,
        "start_time": "2022-12-04T08:31:50.327Z"
      },
      {
        "duration": 0,
        "start_time": "2022-12-04T08:31:50.328Z"
      },
      {
        "duration": 0,
        "start_time": "2022-12-04T08:31:50.330Z"
      },
      {
        "duration": 0,
        "start_time": "2022-12-04T08:31:50.331Z"
      },
      {
        "duration": 0,
        "start_time": "2022-12-04T08:31:50.332Z"
      },
      {
        "duration": 0,
        "start_time": "2022-12-04T08:31:50.334Z"
      },
      {
        "duration": 0,
        "start_time": "2022-12-04T08:31:50.335Z"
      },
      {
        "duration": 0,
        "start_time": "2022-12-04T08:31:50.398Z"
      },
      {
        "duration": 1,
        "start_time": "2022-12-04T08:31:50.399Z"
      },
      {
        "duration": 0,
        "start_time": "2022-12-04T08:31:50.401Z"
      },
      {
        "duration": 0,
        "start_time": "2022-12-04T08:31:50.402Z"
      },
      {
        "duration": 0,
        "start_time": "2022-12-04T08:31:50.404Z"
      },
      {
        "duration": 0,
        "start_time": "2022-12-04T08:31:50.405Z"
      },
      {
        "duration": 0,
        "start_time": "2022-12-04T08:31:50.406Z"
      },
      {
        "duration": 0,
        "start_time": "2022-12-04T08:31:50.408Z"
      },
      {
        "duration": 0,
        "start_time": "2022-12-04T08:31:50.409Z"
      },
      {
        "duration": 0,
        "start_time": "2022-12-04T08:31:50.410Z"
      },
      {
        "duration": 0,
        "start_time": "2022-12-04T08:31:50.411Z"
      },
      {
        "duration": 44,
        "start_time": "2022-12-05T05:55:03.880Z"
      },
      {
        "duration": 1573,
        "start_time": "2022-12-05T05:55:16.008Z"
      },
      {
        "duration": 1659,
        "start_time": "2022-12-05T05:55:17.583Z"
      },
      {
        "duration": 82,
        "start_time": "2022-12-05T05:55:19.244Z"
      },
      {
        "duration": 9,
        "start_time": "2022-12-05T05:55:19.327Z"
      },
      {
        "duration": 10,
        "start_time": "2022-12-05T05:55:19.338Z"
      },
      {
        "duration": 67,
        "start_time": "2022-12-05T05:55:19.349Z"
      },
      {
        "duration": 25,
        "start_time": "2022-12-05T05:55:19.418Z"
      },
      {
        "duration": 13,
        "start_time": "2022-12-05T05:55:19.445Z"
      },
      {
        "duration": 4,
        "start_time": "2022-12-05T05:55:19.459Z"
      },
      {
        "duration": 14,
        "start_time": "2022-12-05T05:55:19.464Z"
      },
      {
        "duration": 107,
        "start_time": "2022-12-05T05:55:30.236Z"
      },
      {
        "duration": 1688,
        "start_time": "2022-12-05T05:55:30.345Z"
      },
      {
        "duration": 13,
        "start_time": "2022-12-05T05:55:32.035Z"
      },
      {
        "duration": 16,
        "start_time": "2022-12-05T05:55:32.050Z"
      },
      {
        "duration": 28,
        "start_time": "2022-12-05T05:55:32.068Z"
      },
      {
        "duration": 52,
        "start_time": "2022-12-05T05:55:32.098Z"
      },
      {
        "duration": 25,
        "start_time": "2022-12-05T05:55:32.152Z"
      },
      {
        "duration": 31,
        "start_time": "2022-12-05T05:55:32.179Z"
      },
      {
        "duration": 2,
        "start_time": "2022-12-05T05:55:32.211Z"
      },
      {
        "duration": 11,
        "start_time": "2022-12-05T05:55:32.215Z"
      },
      {
        "duration": 9,
        "start_time": "2022-12-05T05:55:32.227Z"
      },
      {
        "duration": 4,
        "start_time": "2022-12-05T05:55:32.238Z"
      },
      {
        "duration": 15,
        "start_time": "2022-12-05T05:55:32.244Z"
      },
      {
        "duration": 8,
        "start_time": "2022-12-05T05:55:32.262Z"
      },
      {
        "duration": 29,
        "start_time": "2022-12-05T05:55:32.271Z"
      },
      {
        "duration": 15,
        "start_time": "2022-12-05T05:55:32.302Z"
      },
      {
        "duration": 2,
        "start_time": "2022-12-05T05:55:32.319Z"
      },
      {
        "duration": 7,
        "start_time": "2022-12-05T05:55:32.322Z"
      },
      {
        "duration": 8,
        "start_time": "2022-12-05T05:55:32.331Z"
      },
      {
        "duration": 10,
        "start_time": "2022-12-05T05:55:32.340Z"
      },
      {
        "duration": 7,
        "start_time": "2022-12-05T05:55:32.352Z"
      },
      {
        "duration": 13,
        "start_time": "2022-12-05T05:55:32.360Z"
      },
      {
        "duration": 9,
        "start_time": "2022-12-05T05:55:32.374Z"
      },
      {
        "duration": 11,
        "start_time": "2022-12-05T05:55:32.384Z"
      },
      {
        "duration": 7,
        "start_time": "2022-12-05T05:55:32.396Z"
      },
      {
        "duration": 21,
        "start_time": "2022-12-05T05:55:32.405Z"
      },
      {
        "duration": 18,
        "start_time": "2022-12-05T05:55:32.428Z"
      },
      {
        "duration": 4,
        "start_time": "2022-12-05T05:55:32.447Z"
      },
      {
        "duration": 21,
        "start_time": "2022-12-05T05:55:32.453Z"
      },
      {
        "duration": 3,
        "start_time": "2022-12-05T05:55:32.475Z"
      },
      {
        "duration": 403,
        "start_time": "2022-12-05T05:55:32.479Z"
      },
      {
        "duration": 34,
        "start_time": "2022-12-05T05:55:32.884Z"
      },
      {
        "duration": 4,
        "start_time": "2022-12-05T05:55:32.920Z"
      },
      {
        "duration": 9,
        "start_time": "2022-12-05T05:55:32.926Z"
      },
      {
        "duration": 24,
        "start_time": "2022-12-05T05:55:32.936Z"
      },
      {
        "duration": 2,
        "start_time": "2022-12-05T05:55:32.961Z"
      },
      {
        "duration": 35,
        "start_time": "2022-12-05T05:55:32.965Z"
      },
      {
        "duration": 164,
        "start_time": "2022-12-05T05:55:33.002Z"
      },
      {
        "duration": 165,
        "start_time": "2022-12-05T05:55:33.168Z"
      },
      {
        "duration": 9,
        "start_time": "2022-12-05T05:55:33.335Z"
      },
      {
        "duration": 170,
        "start_time": "2022-12-05T05:55:33.348Z"
      },
      {
        "duration": 232,
        "start_time": "2022-12-05T05:55:33.519Z"
      },
      {
        "duration": 8,
        "start_time": "2022-12-05T05:55:33.753Z"
      },
      {
        "duration": 129,
        "start_time": "2022-12-05T05:55:33.762Z"
      },
      {
        "duration": 141,
        "start_time": "2022-12-05T05:55:33.898Z"
      },
      {
        "duration": 8,
        "start_time": "2022-12-05T05:55:34.040Z"
      },
      {
        "duration": 4,
        "start_time": "2022-12-05T05:55:34.050Z"
      },
      {
        "duration": 288,
        "start_time": "2022-12-05T05:55:34.055Z"
      },
      {
        "duration": 128,
        "start_time": "2022-12-05T05:55:34.344Z"
      },
      {
        "duration": 8,
        "start_time": "2022-12-05T05:55:34.473Z"
      },
      {
        "duration": 200,
        "start_time": "2022-12-05T05:55:34.482Z"
      },
      {
        "duration": 16,
        "start_time": "2022-12-05T05:55:34.684Z"
      },
      {
        "duration": 281,
        "start_time": "2022-12-05T05:55:34.701Z"
      },
      {
        "duration": 3,
        "start_time": "2022-12-05T05:55:34.984Z"
      },
      {
        "duration": 15,
        "start_time": "2022-12-05T05:55:34.988Z"
      },
      {
        "duration": 170,
        "start_time": "2022-12-05T05:55:35.004Z"
      },
      {
        "duration": 5,
        "start_time": "2022-12-05T05:55:35.175Z"
      },
      {
        "duration": 154,
        "start_time": "2022-12-05T05:55:35.181Z"
      },
      {
        "duration": 183,
        "start_time": "2022-12-05T05:55:35.336Z"
      },
      {
        "duration": 12,
        "start_time": "2022-12-05T05:55:35.521Z"
      },
      {
        "duration": 146,
        "start_time": "2022-12-05T05:55:35.535Z"
      },
      {
        "duration": 48,
        "start_time": "2022-12-05T05:55:35.682Z"
      },
      {
        "duration": 0,
        "start_time": "2022-12-05T05:55:35.732Z"
      },
      {
        "duration": 0,
        "start_time": "2022-12-05T05:55:35.733Z"
      },
      {
        "duration": 0,
        "start_time": "2022-12-05T05:55:35.735Z"
      },
      {
        "duration": 0,
        "start_time": "2022-12-05T05:55:35.736Z"
      },
      {
        "duration": 0,
        "start_time": "2022-12-05T05:55:35.737Z"
      },
      {
        "duration": 0,
        "start_time": "2022-12-05T05:55:35.738Z"
      },
      {
        "duration": 0,
        "start_time": "2022-12-05T05:55:35.739Z"
      },
      {
        "duration": 0,
        "start_time": "2022-12-05T05:55:35.740Z"
      },
      {
        "duration": 0,
        "start_time": "2022-12-05T05:55:35.741Z"
      },
      {
        "duration": 0,
        "start_time": "2022-12-05T05:55:35.743Z"
      },
      {
        "duration": 0,
        "start_time": "2022-12-05T05:55:35.744Z"
      },
      {
        "duration": 0,
        "start_time": "2022-12-05T05:55:35.745Z"
      },
      {
        "duration": 0,
        "start_time": "2022-12-05T05:55:35.746Z"
      },
      {
        "duration": 0,
        "start_time": "2022-12-05T05:55:35.747Z"
      },
      {
        "duration": 62,
        "start_time": "2022-12-05T05:55:44.458Z"
      },
      {
        "duration": 163,
        "start_time": "2022-12-05T05:56:04.140Z"
      },
      {
        "duration": 111,
        "start_time": "2022-12-05T05:56:17.228Z"
      },
      {
        "duration": 1870,
        "start_time": "2022-12-05T05:56:17.341Z"
      },
      {
        "duration": 13,
        "start_time": "2022-12-05T05:56:19.213Z"
      },
      {
        "duration": 9,
        "start_time": "2022-12-05T05:56:19.228Z"
      },
      {
        "duration": 14,
        "start_time": "2022-12-05T05:56:19.238Z"
      },
      {
        "duration": 72,
        "start_time": "2022-12-05T05:56:19.253Z"
      },
      {
        "duration": 24,
        "start_time": "2022-12-05T05:56:19.327Z"
      },
      {
        "duration": 14,
        "start_time": "2022-12-05T05:56:19.352Z"
      },
      {
        "duration": 10,
        "start_time": "2022-12-05T05:56:19.367Z"
      },
      {
        "duration": 19,
        "start_time": "2022-12-05T05:56:19.379Z"
      },
      {
        "duration": 11,
        "start_time": "2022-12-05T05:56:19.399Z"
      },
      {
        "duration": 44,
        "start_time": "2022-12-05T05:56:19.411Z"
      },
      {
        "duration": 39,
        "start_time": "2022-12-05T05:56:19.456Z"
      },
      {
        "duration": 25,
        "start_time": "2022-12-05T05:56:19.497Z"
      },
      {
        "duration": 25,
        "start_time": "2022-12-05T05:56:19.524Z"
      },
      {
        "duration": 24,
        "start_time": "2022-12-05T05:56:19.550Z"
      },
      {
        "duration": 8,
        "start_time": "2022-12-05T05:56:19.575Z"
      },
      {
        "duration": 17,
        "start_time": "2022-12-05T05:56:19.584Z"
      },
      {
        "duration": 23,
        "start_time": "2022-12-05T05:56:19.603Z"
      },
      {
        "duration": 25,
        "start_time": "2022-12-05T05:56:19.627Z"
      },
      {
        "duration": 13,
        "start_time": "2022-12-05T05:56:19.653Z"
      },
      {
        "duration": 11,
        "start_time": "2022-12-05T05:56:19.667Z"
      },
      {
        "duration": 23,
        "start_time": "2022-12-05T05:56:19.680Z"
      },
      {
        "duration": 16,
        "start_time": "2022-12-05T05:56:19.704Z"
      },
      {
        "duration": 15,
        "start_time": "2022-12-05T05:56:19.722Z"
      },
      {
        "duration": 32,
        "start_time": "2022-12-05T05:56:19.738Z"
      },
      {
        "duration": 21,
        "start_time": "2022-12-05T05:56:19.772Z"
      },
      {
        "duration": 4,
        "start_time": "2022-12-05T05:56:19.797Z"
      },
      {
        "duration": 41,
        "start_time": "2022-12-05T05:56:19.802Z"
      },
      {
        "duration": 32,
        "start_time": "2022-12-05T05:56:19.845Z"
      },
      {
        "duration": 337,
        "start_time": "2022-12-05T05:56:19.879Z"
      },
      {
        "duration": 26,
        "start_time": "2022-12-05T05:56:20.218Z"
      },
      {
        "duration": 3,
        "start_time": "2022-12-05T05:56:20.246Z"
      },
      {
        "duration": 13,
        "start_time": "2022-12-05T05:56:20.250Z"
      },
      {
        "duration": 34,
        "start_time": "2022-12-05T05:56:20.265Z"
      },
      {
        "duration": 18,
        "start_time": "2022-12-05T05:56:20.300Z"
      },
      {
        "duration": 35,
        "start_time": "2022-12-05T05:56:20.319Z"
      },
      {
        "duration": 161,
        "start_time": "2022-12-05T05:56:20.355Z"
      },
      {
        "duration": 168,
        "start_time": "2022-12-05T05:56:20.518Z"
      },
      {
        "duration": 14,
        "start_time": "2022-12-05T05:56:20.688Z"
      },
      {
        "duration": 172,
        "start_time": "2022-12-05T05:56:20.704Z"
      },
      {
        "duration": 225,
        "start_time": "2022-12-05T05:56:20.878Z"
      },
      {
        "duration": 8,
        "start_time": "2022-12-05T05:56:21.105Z"
      },
      {
        "duration": 136,
        "start_time": "2022-12-05T05:56:21.115Z"
      },
      {
        "duration": 138,
        "start_time": "2022-12-05T05:56:21.252Z"
      },
      {
        "duration": 7,
        "start_time": "2022-12-05T05:56:21.397Z"
      },
      {
        "duration": 14,
        "start_time": "2022-12-05T05:56:21.406Z"
      },
      {
        "duration": 213,
        "start_time": "2022-12-05T05:56:21.421Z"
      },
      {
        "duration": 122,
        "start_time": "2022-12-05T05:56:21.636Z"
      },
      {
        "duration": 8,
        "start_time": "2022-12-05T05:56:21.760Z"
      },
      {
        "duration": 159,
        "start_time": "2022-12-05T05:56:21.769Z"
      },
      {
        "duration": 7,
        "start_time": "2022-12-05T05:56:21.930Z"
      },
      {
        "duration": 184,
        "start_time": "2022-12-05T05:56:21.938Z"
      },
      {
        "duration": 3,
        "start_time": "2022-12-05T05:56:22.124Z"
      },
      {
        "duration": 52,
        "start_time": "2022-12-05T05:56:22.129Z"
      },
      {
        "duration": 0,
        "start_time": "2022-12-05T05:56:22.183Z"
      },
      {
        "duration": 0,
        "start_time": "2022-12-05T05:56:22.184Z"
      },
      {
        "duration": 0,
        "start_time": "2022-12-05T05:56:22.184Z"
      },
      {
        "duration": 0,
        "start_time": "2022-12-05T05:56:22.185Z"
      },
      {
        "duration": 0,
        "start_time": "2022-12-05T05:56:22.186Z"
      },
      {
        "duration": 0,
        "start_time": "2022-12-05T05:56:22.187Z"
      },
      {
        "duration": 0,
        "start_time": "2022-12-05T05:56:22.188Z"
      },
      {
        "duration": 0,
        "start_time": "2022-12-05T05:56:22.189Z"
      },
      {
        "duration": 0,
        "start_time": "2022-12-05T05:56:22.190Z"
      },
      {
        "duration": 0,
        "start_time": "2022-12-05T05:56:22.191Z"
      },
      {
        "duration": 0,
        "start_time": "2022-12-05T05:56:22.191Z"
      },
      {
        "duration": 0,
        "start_time": "2022-12-05T05:56:22.193Z"
      },
      {
        "duration": 0,
        "start_time": "2022-12-05T05:56:22.194Z"
      },
      {
        "duration": 0,
        "start_time": "2022-12-05T05:56:22.194Z"
      },
      {
        "duration": 0,
        "start_time": "2022-12-05T05:56:22.195Z"
      },
      {
        "duration": 0,
        "start_time": "2022-12-05T05:56:22.196Z"
      },
      {
        "duration": 0,
        "start_time": "2022-12-05T05:56:22.197Z"
      },
      {
        "duration": 0,
        "start_time": "2022-12-05T05:56:22.198Z"
      },
      {
        "duration": 0,
        "start_time": "2022-12-05T05:56:22.199Z"
      },
      {
        "duration": 0,
        "start_time": "2022-12-05T05:56:22.200Z"
      },
      {
        "duration": 0,
        "start_time": "2022-12-05T05:56:22.365Z"
      },
      {
        "duration": 0,
        "start_time": "2022-12-05T05:56:22.366Z"
      },
      {
        "duration": 8,
        "start_time": "2022-12-05T05:57:02.162Z"
      },
      {
        "duration": 112,
        "start_time": "2022-12-05T05:57:15.124Z"
      },
      {
        "duration": 1704,
        "start_time": "2022-12-05T05:57:15.238Z"
      },
      {
        "duration": 14,
        "start_time": "2022-12-05T05:57:16.944Z"
      },
      {
        "duration": 16,
        "start_time": "2022-12-05T05:57:16.960Z"
      },
      {
        "duration": 22,
        "start_time": "2022-12-05T05:57:16.978Z"
      },
      {
        "duration": 59,
        "start_time": "2022-12-05T05:57:17.001Z"
      },
      {
        "duration": 45,
        "start_time": "2022-12-05T05:57:17.062Z"
      },
      {
        "duration": 15,
        "start_time": "2022-12-05T05:57:17.108Z"
      },
      {
        "duration": 7,
        "start_time": "2022-12-05T05:57:17.125Z"
      },
      {
        "duration": 8,
        "start_time": "2022-12-05T05:57:17.135Z"
      },
      {
        "duration": 7,
        "start_time": "2022-12-05T05:57:17.144Z"
      },
      {
        "duration": 7,
        "start_time": "2022-12-05T05:57:17.152Z"
      },
      {
        "duration": 37,
        "start_time": "2022-12-05T05:57:17.160Z"
      },
      {
        "duration": 9,
        "start_time": "2022-12-05T05:57:17.199Z"
      },
      {
        "duration": 11,
        "start_time": "2022-12-05T05:57:17.210Z"
      },
      {
        "duration": 11,
        "start_time": "2022-12-05T05:57:17.222Z"
      },
      {
        "duration": 5,
        "start_time": "2022-12-05T05:57:17.235Z"
      },
      {
        "duration": 6,
        "start_time": "2022-12-05T05:57:17.241Z"
      },
      {
        "duration": 9,
        "start_time": "2022-12-05T05:57:17.249Z"
      },
      {
        "duration": 8,
        "start_time": "2022-12-05T05:57:17.259Z"
      },
      {
        "duration": 28,
        "start_time": "2022-12-05T05:57:17.269Z"
      },
      {
        "duration": 3,
        "start_time": "2022-12-05T05:57:17.299Z"
      },
      {
        "duration": 6,
        "start_time": "2022-12-05T05:57:17.303Z"
      },
      {
        "duration": 13,
        "start_time": "2022-12-05T05:57:17.311Z"
      },
      {
        "duration": 19,
        "start_time": "2022-12-05T05:57:17.326Z"
      },
      {
        "duration": 39,
        "start_time": "2022-12-05T05:57:17.347Z"
      },
      {
        "duration": 85,
        "start_time": "2022-12-05T05:57:17.387Z"
      },
      {
        "duration": 4,
        "start_time": "2022-12-05T05:57:17.477Z"
      },
      {
        "duration": 27,
        "start_time": "2022-12-05T05:57:17.482Z"
      },
      {
        "duration": 4,
        "start_time": "2022-12-05T05:57:17.511Z"
      },
      {
        "duration": 310,
        "start_time": "2022-12-05T05:57:17.516Z"
      },
      {
        "duration": 26,
        "start_time": "2022-12-05T05:57:17.828Z"
      },
      {
        "duration": 3,
        "start_time": "2022-12-05T05:57:17.856Z"
      },
      {
        "duration": 7,
        "start_time": "2022-12-05T05:57:17.860Z"
      },
      {
        "duration": 38,
        "start_time": "2022-12-05T05:57:17.868Z"
      },
      {
        "duration": 2,
        "start_time": "2022-12-05T05:57:17.907Z"
      },
      {
        "duration": 28,
        "start_time": "2022-12-05T05:57:17.911Z"
      },
      {
        "duration": 186,
        "start_time": "2022-12-05T05:57:17.940Z"
      },
      {
        "duration": 165,
        "start_time": "2022-12-05T05:57:18.127Z"
      },
      {
        "duration": 7,
        "start_time": "2022-12-05T05:57:18.297Z"
      },
      {
        "duration": 164,
        "start_time": "2022-12-05T05:57:18.305Z"
      },
      {
        "duration": 430,
        "start_time": "2022-12-05T05:57:18.471Z"
      },
      {
        "duration": 9,
        "start_time": "2022-12-05T05:57:18.902Z"
      },
      {
        "duration": 151,
        "start_time": "2022-12-05T05:57:18.913Z"
      },
      {
        "duration": 152,
        "start_time": "2022-12-05T05:57:19.066Z"
      },
      {
        "duration": 8,
        "start_time": "2022-12-05T05:57:19.219Z"
      },
      {
        "duration": 4,
        "start_time": "2022-12-05T05:57:19.229Z"
      },
      {
        "duration": 224,
        "start_time": "2022-12-05T05:57:19.234Z"
      },
      {
        "duration": 137,
        "start_time": "2022-12-05T05:57:19.460Z"
      },
      {
        "duration": 10,
        "start_time": "2022-12-05T05:57:19.599Z"
      },
      {
        "duration": 172,
        "start_time": "2022-12-05T05:57:19.610Z"
      },
      {
        "duration": 15,
        "start_time": "2022-12-05T05:57:19.784Z"
      },
      {
        "duration": 187,
        "start_time": "2022-12-05T05:57:19.800Z"
      },
      {
        "duration": 15,
        "start_time": "2022-12-05T05:57:19.989Z"
      },
      {
        "duration": 188,
        "start_time": "2022-12-05T05:57:20.005Z"
      },
      {
        "duration": 5,
        "start_time": "2022-12-05T05:57:20.196Z"
      },
      {
        "duration": 157,
        "start_time": "2022-12-05T05:57:20.202Z"
      },
      {
        "duration": 190,
        "start_time": "2022-12-05T05:57:20.361Z"
      },
      {
        "duration": 13,
        "start_time": "2022-12-05T05:57:20.553Z"
      },
      {
        "duration": 136,
        "start_time": "2022-12-05T05:57:20.567Z"
      },
      {
        "duration": 169,
        "start_time": "2022-12-05T05:57:20.704Z"
      },
      {
        "duration": 148,
        "start_time": "2022-12-05T05:57:20.875Z"
      },
      {
        "duration": 152,
        "start_time": "2022-12-05T05:57:21.025Z"
      },
      {
        "duration": 6,
        "start_time": "2022-12-05T05:57:21.178Z"
      },
      {
        "duration": 29,
        "start_time": "2022-12-05T05:57:21.186Z"
      },
      {
        "duration": 50,
        "start_time": "2022-12-05T05:57:21.217Z"
      },
      {
        "duration": 159,
        "start_time": "2022-12-05T05:57:21.269Z"
      },
      {
        "duration": 9,
        "start_time": "2022-12-05T05:57:21.430Z"
      },
      {
        "duration": 166,
        "start_time": "2022-12-05T05:57:21.440Z"
      },
      {
        "duration": 177,
        "start_time": "2022-12-05T05:57:21.608Z"
      },
      {
        "duration": 152,
        "start_time": "2022-12-05T05:57:21.787Z"
      },
      {
        "duration": 162,
        "start_time": "2022-12-05T05:57:21.941Z"
      },
      {
        "duration": 167,
        "start_time": "2022-12-05T05:57:22.104Z"
      },
      {
        "duration": 52,
        "start_time": "2022-12-05T05:57:22.273Z"
      },
      {
        "duration": 8,
        "start_time": "2022-12-05T05:57:27.093Z"
      },
      {
        "duration": 154,
        "start_time": "2022-12-05T05:57:30.225Z"
      },
      {
        "duration": 144,
        "start_time": "2022-12-05T05:57:33.064Z"
      },
      {
        "duration": 140,
        "start_time": "2022-12-05T05:57:36.491Z"
      },
      {
        "duration": 159,
        "start_time": "2022-12-05T05:57:40.073Z"
      },
      {
        "duration": 439,
        "start_time": "2022-12-05T05:57:55.545Z"
      },
      {
        "duration": 113,
        "start_time": "2022-12-05T05:58:21.620Z"
      },
      {
        "duration": 1923,
        "start_time": "2022-12-05T05:58:21.735Z"
      },
      {
        "duration": 14,
        "start_time": "2022-12-05T05:58:23.659Z"
      },
      {
        "duration": 8,
        "start_time": "2022-12-05T05:58:23.675Z"
      },
      {
        "duration": 11,
        "start_time": "2022-12-05T05:58:23.698Z"
      },
      {
        "duration": 59,
        "start_time": "2022-12-05T05:58:23.710Z"
      },
      {
        "duration": 48,
        "start_time": "2022-12-05T05:58:23.771Z"
      },
      {
        "duration": 14,
        "start_time": "2022-12-05T05:58:23.821Z"
      },
      {
        "duration": 5,
        "start_time": "2022-12-05T05:58:23.837Z"
      },
      {
        "duration": 10,
        "start_time": "2022-12-05T05:58:23.843Z"
      },
      {
        "duration": 9,
        "start_time": "2022-12-05T05:58:23.854Z"
      },
      {
        "duration": 5,
        "start_time": "2022-12-05T05:58:23.864Z"
      },
      {
        "duration": 36,
        "start_time": "2022-12-05T05:58:23.870Z"
      },
      {
        "duration": 9,
        "start_time": "2022-12-05T05:58:23.909Z"
      },
      {
        "duration": 11,
        "start_time": "2022-12-05T05:58:23.920Z"
      },
      {
        "duration": 14,
        "start_time": "2022-12-05T05:58:23.932Z"
      },
      {
        "duration": 5,
        "start_time": "2022-12-05T05:58:23.948Z"
      },
      {
        "duration": 7,
        "start_time": "2022-12-05T05:58:23.954Z"
      },
      {
        "duration": 7,
        "start_time": "2022-12-05T05:58:23.962Z"
      },
      {
        "duration": 31,
        "start_time": "2022-12-05T05:58:23.970Z"
      },
      {
        "duration": 5,
        "start_time": "2022-12-05T05:58:24.002Z"
      },
      {
        "duration": 11,
        "start_time": "2022-12-05T05:58:24.008Z"
      },
      {
        "duration": 9,
        "start_time": "2022-12-05T05:58:24.020Z"
      },
      {
        "duration": 6,
        "start_time": "2022-12-05T05:58:24.030Z"
      },
      {
        "duration": 6,
        "start_time": "2022-12-05T05:58:24.037Z"
      },
      {
        "duration": 16,
        "start_time": "2022-12-05T05:58:24.044Z"
      },
      {
        "duration": 18,
        "start_time": "2022-12-05T05:58:24.061Z"
      },
      {
        "duration": 17,
        "start_time": "2022-12-05T05:58:24.080Z"
      },
      {
        "duration": 22,
        "start_time": "2022-12-05T05:58:24.099Z"
      },
      {
        "duration": 3,
        "start_time": "2022-12-05T05:58:24.122Z"
      },
      {
        "duration": 301,
        "start_time": "2022-12-05T05:58:24.126Z"
      },
      {
        "duration": 25,
        "start_time": "2022-12-05T05:58:24.429Z"
      },
      {
        "duration": 4,
        "start_time": "2022-12-05T05:58:24.455Z"
      },
      {
        "duration": 15,
        "start_time": "2022-12-05T05:58:24.460Z"
      },
      {
        "duration": 33,
        "start_time": "2022-12-05T05:58:24.476Z"
      },
      {
        "duration": 6,
        "start_time": "2022-12-05T05:58:24.510Z"
      },
      {
        "duration": 53,
        "start_time": "2022-12-05T05:58:24.518Z"
      },
      {
        "duration": 189,
        "start_time": "2022-12-05T05:58:24.573Z"
      },
      {
        "duration": 188,
        "start_time": "2022-12-05T05:58:24.764Z"
      },
      {
        "duration": 8,
        "start_time": "2022-12-05T05:58:24.953Z"
      },
      {
        "duration": 179,
        "start_time": "2022-12-05T05:58:24.965Z"
      },
      {
        "duration": 228,
        "start_time": "2022-12-05T05:58:25.146Z"
      },
      {
        "duration": 8,
        "start_time": "2022-12-05T05:58:25.375Z"
      },
      {
        "duration": 131,
        "start_time": "2022-12-05T05:58:25.385Z"
      },
      {
        "duration": 148,
        "start_time": "2022-12-05T05:58:25.518Z"
      },
      {
        "duration": 9,
        "start_time": "2022-12-05T05:58:25.668Z"
      },
      {
        "duration": 6,
        "start_time": "2022-12-05T05:58:25.678Z"
      },
      {
        "duration": 230,
        "start_time": "2022-12-05T05:58:25.685Z"
      },
      {
        "duration": 128,
        "start_time": "2022-12-05T05:58:25.917Z"
      },
      {
        "duration": 8,
        "start_time": "2022-12-05T05:58:26.046Z"
      },
      {
        "duration": 149,
        "start_time": "2022-12-05T05:58:26.055Z"
      },
      {
        "duration": 6,
        "start_time": "2022-12-05T05:58:26.205Z"
      },
      {
        "duration": 172,
        "start_time": "2022-12-05T05:58:26.212Z"
      },
      {
        "duration": 16,
        "start_time": "2022-12-05T05:58:26.385Z"
      },
      {
        "duration": 155,
        "start_time": "2022-12-05T05:58:26.402Z"
      },
      {
        "duration": 5,
        "start_time": "2022-12-05T05:58:26.558Z"
      },
      {
        "duration": 158,
        "start_time": "2022-12-05T05:58:26.564Z"
      },
      {
        "duration": 180,
        "start_time": "2022-12-05T05:58:26.723Z"
      },
      {
        "duration": 13,
        "start_time": "2022-12-05T05:58:26.905Z"
      },
      {
        "duration": 137,
        "start_time": "2022-12-05T05:58:26.920Z"
      },
      {
        "duration": 155,
        "start_time": "2022-12-05T05:58:27.058Z"
      },
      {
        "duration": 390,
        "start_time": "2022-12-05T05:58:27.215Z"
      },
      {
        "duration": 162,
        "start_time": "2022-12-05T05:58:27.606Z"
      },
      {
        "duration": 7,
        "start_time": "2022-12-05T05:58:27.769Z"
      },
      {
        "duration": 29,
        "start_time": "2022-12-05T05:58:27.777Z"
      },
      {
        "duration": 44,
        "start_time": "2022-12-05T05:58:27.807Z"
      },
      {
        "duration": 163,
        "start_time": "2022-12-05T05:58:27.853Z"
      },
      {
        "duration": 8,
        "start_time": "2022-12-05T05:58:28.018Z"
      },
      {
        "duration": 157,
        "start_time": "2022-12-05T05:58:28.028Z"
      },
      {
        "duration": 169,
        "start_time": "2022-12-05T05:58:28.186Z"
      },
      {
        "duration": 144,
        "start_time": "2022-12-05T05:58:28.357Z"
      },
      {
        "duration": 150,
        "start_time": "2022-12-05T05:58:28.503Z"
      },
      {
        "duration": 156,
        "start_time": "2022-12-05T05:58:28.655Z"
      },
      {
        "duration": 404,
        "start_time": "2022-12-05T05:58:28.813Z"
      },
      {
        "duration": 1288,
        "start_time": "2022-12-05T18:57:39.856Z"
      },
      {
        "duration": 1934,
        "start_time": "2022-12-05T18:57:41.146Z"
      },
      {
        "duration": 90,
        "start_time": "2022-12-05T18:57:43.082Z"
      },
      {
        "duration": 9,
        "start_time": "2022-12-05T18:57:43.173Z"
      },
      {
        "duration": 10,
        "start_time": "2022-12-05T18:57:43.196Z"
      },
      {
        "duration": 58,
        "start_time": "2022-12-05T18:57:43.207Z"
      },
      {
        "duration": 49,
        "start_time": "2022-12-05T18:57:43.267Z"
      },
      {
        "duration": 16,
        "start_time": "2022-12-05T18:57:43.318Z"
      },
      {
        "duration": 6,
        "start_time": "2022-12-05T18:57:43.336Z"
      },
      {
        "duration": 14,
        "start_time": "2022-12-05T18:57:43.344Z"
      },
      {
        "duration": 8,
        "start_time": "2022-12-05T18:57:43.360Z"
      },
      {
        "duration": 5,
        "start_time": "2022-12-05T18:57:43.370Z"
      },
      {
        "duration": 40,
        "start_time": "2022-12-05T18:57:43.376Z"
      },
      {
        "duration": 10,
        "start_time": "2022-12-05T18:57:43.419Z"
      },
      {
        "duration": 9,
        "start_time": "2022-12-05T18:57:43.431Z"
      },
      {
        "duration": 17,
        "start_time": "2022-12-05T18:57:43.441Z"
      },
      {
        "duration": 2,
        "start_time": "2022-12-05T18:57:43.459Z"
      },
      {
        "duration": 10,
        "start_time": "2022-12-05T18:57:43.463Z"
      },
      {
        "duration": 15,
        "start_time": "2022-12-05T18:57:43.475Z"
      },
      {
        "duration": 15,
        "start_time": "2022-12-05T18:57:43.491Z"
      },
      {
        "duration": 5,
        "start_time": "2022-12-05T18:57:43.507Z"
      },
      {
        "duration": 4,
        "start_time": "2022-12-05T18:57:43.514Z"
      },
      {
        "duration": 7,
        "start_time": "2022-12-05T18:57:43.520Z"
      },
      {
        "duration": 7,
        "start_time": "2022-12-05T18:57:43.529Z"
      },
      {
        "duration": 4,
        "start_time": "2022-12-05T18:57:43.537Z"
      },
      {
        "duration": 15,
        "start_time": "2022-12-05T18:57:43.543Z"
      },
      {
        "duration": 46,
        "start_time": "2022-12-05T18:57:43.560Z"
      },
      {
        "duration": 4,
        "start_time": "2022-12-05T18:57:43.608Z"
      },
      {
        "duration": 26,
        "start_time": "2022-12-05T18:57:43.613Z"
      },
      {
        "duration": 3,
        "start_time": "2022-12-05T18:57:43.640Z"
      },
      {
        "duration": 346,
        "start_time": "2022-12-05T18:57:43.645Z"
      },
      {
        "duration": 31,
        "start_time": "2022-12-05T18:57:43.992Z"
      },
      {
        "duration": 3,
        "start_time": "2022-12-05T18:57:44.025Z"
      },
      {
        "duration": 6,
        "start_time": "2022-12-05T18:57:44.030Z"
      },
      {
        "duration": 28,
        "start_time": "2022-12-05T18:57:44.038Z"
      },
      {
        "duration": 4,
        "start_time": "2022-12-05T18:57:44.067Z"
      },
      {
        "duration": 26,
        "start_time": "2022-12-05T18:57:44.097Z"
      },
      {
        "duration": 184,
        "start_time": "2022-12-05T18:57:44.125Z"
      },
      {
        "duration": 202,
        "start_time": "2022-12-05T18:57:44.311Z"
      },
      {
        "duration": 8,
        "start_time": "2022-12-05T18:57:44.515Z"
      },
      {
        "duration": 201,
        "start_time": "2022-12-05T18:57:44.527Z"
      },
      {
        "duration": 273,
        "start_time": "2022-12-05T18:57:44.731Z"
      },
      {
        "duration": 9,
        "start_time": "2022-12-05T18:57:45.006Z"
      },
      {
        "duration": 182,
        "start_time": "2022-12-05T18:57:45.016Z"
      },
      {
        "duration": 171,
        "start_time": "2022-12-05T18:57:45.201Z"
      },
      {
        "duration": 28,
        "start_time": "2022-12-05T18:57:45.374Z"
      },
      {
        "duration": 7,
        "start_time": "2022-12-05T18:57:45.404Z"
      },
      {
        "duration": 386,
        "start_time": "2022-12-05T18:57:45.413Z"
      },
      {
        "duration": 143,
        "start_time": "2022-12-05T18:57:45.800Z"
      },
      {
        "duration": 9,
        "start_time": "2022-12-05T18:57:45.944Z"
      },
      {
        "duration": 223,
        "start_time": "2022-12-05T18:57:45.954Z"
      },
      {
        "duration": 19,
        "start_time": "2022-12-05T18:57:46.179Z"
      },
      {
        "duration": 221,
        "start_time": "2022-12-05T18:57:46.200Z"
      },
      {
        "duration": 9,
        "start_time": "2022-12-05T18:57:46.422Z"
      },
      {
        "duration": 200,
        "start_time": "2022-12-05T18:57:46.432Z"
      },
      {
        "duration": 6,
        "start_time": "2022-12-05T18:57:46.635Z"
      },
      {
        "duration": 189,
        "start_time": "2022-12-05T18:57:46.643Z"
      },
      {
        "duration": 197,
        "start_time": "2022-12-05T18:57:46.834Z"
      },
      {
        "duration": 20,
        "start_time": "2022-12-05T18:57:47.033Z"
      },
      {
        "duration": 162,
        "start_time": "2022-12-05T18:57:47.055Z"
      },
      {
        "duration": 182,
        "start_time": "2022-12-05T18:57:47.219Z"
      },
      {
        "duration": 167,
        "start_time": "2022-12-05T18:57:47.402Z"
      },
      {
        "duration": 165,
        "start_time": "2022-12-05T18:57:47.571Z"
      },
      {
        "duration": 7,
        "start_time": "2022-12-05T18:57:47.738Z"
      },
      {
        "duration": 35,
        "start_time": "2022-12-05T18:57:47.747Z"
      },
      {
        "duration": 54,
        "start_time": "2022-12-05T18:57:47.784Z"
      },
      {
        "duration": 179,
        "start_time": "2022-12-05T18:57:47.839Z"
      },
      {
        "duration": 9,
        "start_time": "2022-12-05T18:57:48.020Z"
      },
      {
        "duration": 173,
        "start_time": "2022-12-05T18:57:48.030Z"
      },
      {
        "duration": 172,
        "start_time": "2022-12-05T18:57:48.205Z"
      },
      {
        "duration": 165,
        "start_time": "2022-12-05T18:57:48.379Z"
      },
      {
        "duration": 267,
        "start_time": "2022-12-05T18:57:48.545Z"
      },
      {
        "duration": 170,
        "start_time": "2022-12-05T18:57:48.814Z"
      },
      {
        "duration": 476,
        "start_time": "2022-12-05T18:57:48.985Z"
      },
      {
        "duration": 1197,
        "start_time": "2022-12-05T19:05:18.152Z"
      },
      {
        "duration": 1993,
        "start_time": "2022-12-05T19:05:19.352Z"
      },
      {
        "duration": 97,
        "start_time": "2022-12-05T19:05:21.347Z"
      },
      {
        "duration": 11,
        "start_time": "2022-12-05T19:05:21.446Z"
      },
      {
        "duration": 15,
        "start_time": "2022-12-05T19:05:21.460Z"
      },
      {
        "duration": 81,
        "start_time": "2022-12-05T19:05:21.477Z"
      },
      {
        "duration": 47,
        "start_time": "2022-12-05T19:05:21.559Z"
      },
      {
        "duration": 16,
        "start_time": "2022-12-05T19:05:21.607Z"
      },
      {
        "duration": 2,
        "start_time": "2022-12-05T19:05:21.625Z"
      },
      {
        "duration": 14,
        "start_time": "2022-12-05T19:05:21.629Z"
      },
      {
        "duration": 14,
        "start_time": "2022-12-05T19:05:21.645Z"
      },
      {
        "duration": 4,
        "start_time": "2022-12-05T19:05:21.660Z"
      },
      {
        "duration": 34,
        "start_time": "2022-12-05T19:05:21.666Z"
      },
      {
        "duration": 10,
        "start_time": "2022-12-05T19:05:21.703Z"
      },
      {
        "duration": 12,
        "start_time": "2022-12-05T19:05:21.714Z"
      },
      {
        "duration": 16,
        "start_time": "2022-12-05T19:05:21.728Z"
      },
      {
        "duration": 2,
        "start_time": "2022-12-05T19:05:21.746Z"
      },
      {
        "duration": 14,
        "start_time": "2022-12-05T19:05:21.750Z"
      },
      {
        "duration": 17,
        "start_time": "2022-12-05T19:05:21.765Z"
      },
      {
        "duration": 18,
        "start_time": "2022-12-05T19:05:21.783Z"
      },
      {
        "duration": 5,
        "start_time": "2022-12-05T19:05:21.802Z"
      },
      {
        "duration": 5,
        "start_time": "2022-12-05T19:05:21.808Z"
      },
      {
        "duration": 10,
        "start_time": "2022-12-05T19:05:21.814Z"
      },
      {
        "duration": 7,
        "start_time": "2022-12-05T19:05:21.825Z"
      },
      {
        "duration": 4,
        "start_time": "2022-12-05T19:05:21.833Z"
      },
      {
        "duration": 16,
        "start_time": "2022-12-05T19:05:21.838Z"
      },
      {
        "duration": 47,
        "start_time": "2022-12-05T19:05:21.856Z"
      },
      {
        "duration": 6,
        "start_time": "2022-12-05T19:05:21.905Z"
      },
      {
        "duration": 35,
        "start_time": "2022-12-05T19:05:21.912Z"
      },
      {
        "duration": 3,
        "start_time": "2022-12-05T19:05:21.949Z"
      },
      {
        "duration": 342,
        "start_time": "2022-12-05T19:05:21.954Z"
      },
      {
        "duration": 31,
        "start_time": "2022-12-05T19:05:22.298Z"
      },
      {
        "duration": 4,
        "start_time": "2022-12-05T19:05:22.331Z"
      },
      {
        "duration": 14,
        "start_time": "2022-12-05T19:05:22.336Z"
      },
      {
        "duration": 28,
        "start_time": "2022-12-05T19:05:22.351Z"
      },
      {
        "duration": 2,
        "start_time": "2022-12-05T19:05:22.397Z"
      },
      {
        "duration": 32,
        "start_time": "2022-12-05T19:05:22.400Z"
      },
      {
        "duration": 199,
        "start_time": "2022-12-05T19:05:22.433Z"
      },
      {
        "duration": 208,
        "start_time": "2022-12-05T19:05:22.633Z"
      },
      {
        "duration": 9,
        "start_time": "2022-12-05T19:05:22.843Z"
      },
      {
        "duration": 231,
        "start_time": "2022-12-05T19:05:22.856Z"
      },
      {
        "duration": 278,
        "start_time": "2022-12-05T19:05:23.088Z"
      },
      {
        "duration": 9,
        "start_time": "2022-12-05T19:05:23.367Z"
      },
      {
        "duration": 164,
        "start_time": "2022-12-05T19:05:23.378Z"
      },
      {
        "duration": 170,
        "start_time": "2022-12-05T19:05:23.544Z"
      },
      {
        "duration": 8,
        "start_time": "2022-12-05T19:05:23.716Z"
      },
      {
        "duration": 5,
        "start_time": "2022-12-05T19:05:23.725Z"
      },
      {
        "duration": 420,
        "start_time": "2022-12-05T19:05:23.731Z"
      },
      {
        "duration": 137,
        "start_time": "2022-12-05T19:05:24.152Z"
      },
      {
        "duration": 9,
        "start_time": "2022-12-05T19:05:24.296Z"
      },
      {
        "duration": 173,
        "start_time": "2022-12-05T19:05:24.307Z"
      },
      {
        "duration": 15,
        "start_time": "2022-12-05T19:05:24.482Z"
      },
      {
        "duration": 199,
        "start_time": "2022-12-05T19:05:24.499Z"
      },
      {
        "duration": 9,
        "start_time": "2022-12-05T19:05:24.700Z"
      },
      {
        "duration": 194,
        "start_time": "2022-12-05T19:05:24.711Z"
      },
      {
        "duration": 6,
        "start_time": "2022-12-05T19:05:24.906Z"
      },
      {
        "duration": 192,
        "start_time": "2022-12-05T19:05:24.913Z"
      },
      {
        "duration": 244,
        "start_time": "2022-12-05T19:05:25.107Z"
      },
      {
        "duration": 15,
        "start_time": "2022-12-05T19:05:25.352Z"
      },
      {
        "duration": 163,
        "start_time": "2022-12-05T19:05:25.369Z"
      },
      {
        "duration": 184,
        "start_time": "2022-12-05T19:05:25.534Z"
      },
      {
        "duration": 165,
        "start_time": "2022-12-05T19:05:25.719Z"
      },
      {
        "duration": 172,
        "start_time": "2022-12-05T19:05:25.886Z"
      },
      {
        "duration": 8,
        "start_time": "2022-12-05T19:05:26.059Z"
      },
      {
        "duration": 50,
        "start_time": "2022-12-05T19:05:26.068Z"
      },
      {
        "duration": 47,
        "start_time": "2022-12-05T19:05:26.120Z"
      },
      {
        "duration": 177,
        "start_time": "2022-12-05T19:05:26.169Z"
      },
      {
        "duration": 11,
        "start_time": "2022-12-05T19:05:26.348Z"
      },
      {
        "duration": 238,
        "start_time": "2022-12-05T19:05:26.361Z"
      },
      {
        "duration": 189,
        "start_time": "2022-12-05T19:05:26.601Z"
      },
      {
        "duration": 195,
        "start_time": "2022-12-05T19:05:26.796Z"
      },
      {
        "duration": 287,
        "start_time": "2022-12-05T19:05:26.992Z"
      },
      {
        "duration": 177,
        "start_time": "2022-12-05T19:05:27.280Z"
      },
      {
        "duration": 441,
        "start_time": "2022-12-05T19:05:27.458Z"
      },
      {
        "duration": 1356,
        "start_time": "2022-12-09T14:02:05.137Z"
      },
      {
        "duration": 1954,
        "start_time": "2022-12-09T14:02:06.495Z"
      },
      {
        "duration": 101,
        "start_time": "2022-12-09T14:02:08.451Z"
      },
      {
        "duration": 9,
        "start_time": "2022-12-09T14:02:08.554Z"
      },
      {
        "duration": 15,
        "start_time": "2022-12-09T14:02:08.565Z"
      },
      {
        "duration": 75,
        "start_time": "2022-12-09T14:02:08.581Z"
      },
      {
        "duration": 32,
        "start_time": "2022-12-09T14:02:08.657Z"
      },
      {
        "duration": 40,
        "start_time": "2022-12-09T14:02:08.690Z"
      },
      {
        "duration": 2,
        "start_time": "2022-12-09T14:02:08.732Z"
      },
      {
        "duration": 21,
        "start_time": "2022-12-09T14:02:08.736Z"
      },
      {
        "duration": 14,
        "start_time": "2022-12-09T14:02:08.759Z"
      },
      {
        "duration": 8,
        "start_time": "2022-12-09T14:02:08.776Z"
      },
      {
        "duration": 37,
        "start_time": "2022-12-09T14:02:08.786Z"
      },
      {
        "duration": 17,
        "start_time": "2022-12-09T14:02:08.828Z"
      },
      {
        "duration": 27,
        "start_time": "2022-12-09T14:02:08.847Z"
      },
      {
        "duration": 18,
        "start_time": "2022-12-09T14:02:08.876Z"
      },
      {
        "duration": 6,
        "start_time": "2022-12-09T14:02:08.895Z"
      },
      {
        "duration": 22,
        "start_time": "2022-12-09T14:02:08.903Z"
      },
      {
        "duration": 20,
        "start_time": "2022-12-09T14:02:08.927Z"
      },
      {
        "duration": 24,
        "start_time": "2022-12-09T14:02:08.949Z"
      },
      {
        "duration": 10,
        "start_time": "2022-12-09T14:02:08.975Z"
      },
      {
        "duration": 13,
        "start_time": "2022-12-09T14:02:08.987Z"
      },
      {
        "duration": 9,
        "start_time": "2022-12-09T14:02:09.002Z"
      },
      {
        "duration": 20,
        "start_time": "2022-12-09T14:02:09.012Z"
      },
      {
        "duration": 18,
        "start_time": "2022-12-09T14:02:09.033Z"
      },
      {
        "duration": 28,
        "start_time": "2022-12-09T14:02:09.053Z"
      },
      {
        "duration": 22,
        "start_time": "2022-12-09T14:02:09.082Z"
      },
      {
        "duration": 4,
        "start_time": "2022-12-09T14:02:09.106Z"
      },
      {
        "duration": 23,
        "start_time": "2022-12-09T14:02:09.112Z"
      },
      {
        "duration": 41,
        "start_time": "2022-12-09T14:02:09.137Z"
      },
      {
        "duration": 395,
        "start_time": "2022-12-09T14:02:09.180Z"
      },
      {
        "duration": 11,
        "start_time": "2022-12-09T14:02:09.577Z"
      },
      {
        "duration": 7,
        "start_time": "2022-12-09T14:02:09.590Z"
      },
      {
        "duration": 60,
        "start_time": "2022-12-09T14:02:09.598Z"
      },
      {
        "duration": 104,
        "start_time": "2022-12-09T14:02:09.660Z"
      },
      {
        "duration": 0,
        "start_time": "2022-12-09T14:02:09.766Z"
      },
      {
        "duration": 0,
        "start_time": "2022-12-09T14:02:09.768Z"
      },
      {
        "duration": 0,
        "start_time": "2022-12-09T14:02:09.769Z"
      },
      {
        "duration": 0,
        "start_time": "2022-12-09T14:02:09.770Z"
      },
      {
        "duration": 0,
        "start_time": "2022-12-09T14:02:09.771Z"
      },
      {
        "duration": 0,
        "start_time": "2022-12-09T14:02:09.773Z"
      },
      {
        "duration": 0,
        "start_time": "2022-12-09T14:02:09.773Z"
      },
      {
        "duration": 0,
        "start_time": "2022-12-09T14:02:09.774Z"
      },
      {
        "duration": 0,
        "start_time": "2022-12-09T14:02:09.776Z"
      },
      {
        "duration": 0,
        "start_time": "2022-12-09T14:02:09.777Z"
      },
      {
        "duration": 0,
        "start_time": "2022-12-09T14:02:09.778Z"
      },
      {
        "duration": 0,
        "start_time": "2022-12-09T14:02:09.779Z"
      },
      {
        "duration": 0,
        "start_time": "2022-12-09T14:02:09.781Z"
      },
      {
        "duration": 0,
        "start_time": "2022-12-09T14:02:09.783Z"
      },
      {
        "duration": 0,
        "start_time": "2022-12-09T14:02:09.784Z"
      },
      {
        "duration": 0,
        "start_time": "2022-12-09T14:02:09.785Z"
      },
      {
        "duration": 0,
        "start_time": "2022-12-09T14:02:09.786Z"
      },
      {
        "duration": 0,
        "start_time": "2022-12-09T14:02:09.788Z"
      },
      {
        "duration": 0,
        "start_time": "2022-12-09T14:02:09.790Z"
      },
      {
        "duration": 0,
        "start_time": "2022-12-09T14:02:09.791Z"
      },
      {
        "duration": 0,
        "start_time": "2022-12-09T14:02:09.793Z"
      },
      {
        "duration": 0,
        "start_time": "2022-12-09T14:02:09.794Z"
      },
      {
        "duration": 0,
        "start_time": "2022-12-09T14:02:09.796Z"
      },
      {
        "duration": 0,
        "start_time": "2022-12-09T14:02:09.797Z"
      },
      {
        "duration": 0,
        "start_time": "2022-12-09T14:02:09.798Z"
      },
      {
        "duration": 0,
        "start_time": "2022-12-09T14:02:09.800Z"
      },
      {
        "duration": 0,
        "start_time": "2022-12-09T14:02:09.821Z"
      },
      {
        "duration": 0,
        "start_time": "2022-12-09T14:02:09.823Z"
      },
      {
        "duration": 0,
        "start_time": "2022-12-09T14:02:09.824Z"
      },
      {
        "duration": 0,
        "start_time": "2022-12-09T14:02:09.826Z"
      },
      {
        "duration": 0,
        "start_time": "2022-12-09T14:02:09.828Z"
      },
      {
        "duration": 0,
        "start_time": "2022-12-09T14:02:09.829Z"
      },
      {
        "duration": 0,
        "start_time": "2022-12-09T14:02:09.831Z"
      },
      {
        "duration": 0,
        "start_time": "2022-12-09T14:02:09.833Z"
      },
      {
        "duration": 0,
        "start_time": "2022-12-09T14:02:09.835Z"
      },
      {
        "duration": 0,
        "start_time": "2022-12-09T14:02:09.836Z"
      },
      {
        "duration": 0,
        "start_time": "2022-12-09T14:02:09.838Z"
      },
      {
        "duration": 0,
        "start_time": "2022-12-09T14:02:09.839Z"
      },
      {
        "duration": 1,
        "start_time": "2022-12-09T14:02:09.839Z"
      },
      {
        "duration": 0,
        "start_time": "2022-12-09T14:02:09.841Z"
      },
      {
        "duration": 0,
        "start_time": "2022-12-09T14:02:09.841Z"
      },
      {
        "duration": 0,
        "start_time": "2022-12-09T14:02:09.842Z"
      },
      {
        "duration": 0,
        "start_time": "2022-12-09T14:02:09.843Z"
      },
      {
        "duration": 0,
        "start_time": "2022-12-09T14:02:09.844Z"
      },
      {
        "duration": 0,
        "start_time": "2022-12-09T14:02:09.845Z"
      },
      {
        "duration": 0,
        "start_time": "2022-12-09T14:02:09.846Z"
      },
      {
        "duration": 0,
        "start_time": "2022-12-09T14:02:09.848Z"
      },
      {
        "duration": 0,
        "start_time": "2022-12-09T14:02:09.851Z"
      },
      {
        "duration": 0,
        "start_time": "2022-12-09T14:02:09.853Z"
      },
      {
        "duration": 0,
        "start_time": "2022-12-09T14:02:09.854Z"
      },
      {
        "duration": 0,
        "start_time": "2022-12-09T14:02:09.856Z"
      },
      {
        "duration": 140,
        "start_time": "2022-12-09T14:02:30.237Z"
      },
      {
        "duration": 1290,
        "start_time": "2022-12-09T14:02:34.461Z"
      },
      {
        "duration": 1898,
        "start_time": "2022-12-09T14:02:35.753Z"
      },
      {
        "duration": 97,
        "start_time": "2022-12-09T14:02:37.653Z"
      },
      {
        "duration": 10,
        "start_time": "2022-12-09T14:02:37.752Z"
      },
      {
        "duration": 10,
        "start_time": "2022-12-09T14:02:37.764Z"
      },
      {
        "duration": 81,
        "start_time": "2022-12-09T14:02:37.776Z"
      },
      {
        "duration": 29,
        "start_time": "2022-12-09T14:02:37.858Z"
      },
      {
        "duration": 35,
        "start_time": "2022-12-09T14:02:37.889Z"
      },
      {
        "duration": 3,
        "start_time": "2022-12-09T14:02:37.926Z"
      },
      {
        "duration": 14,
        "start_time": "2022-12-09T14:02:37.933Z"
      },
      {
        "duration": 8,
        "start_time": "2022-12-09T14:02:37.949Z"
      },
      {
        "duration": 5,
        "start_time": "2022-12-09T14:02:37.959Z"
      },
      {
        "duration": 17,
        "start_time": "2022-12-09T14:02:37.965Z"
      },
      {
        "duration": 9,
        "start_time": "2022-12-09T14:02:37.984Z"
      },
      {
        "duration": 34,
        "start_time": "2022-12-09T14:02:37.995Z"
      },
      {
        "duration": 18,
        "start_time": "2022-12-09T14:02:38.030Z"
      },
      {
        "duration": 6,
        "start_time": "2022-12-09T14:02:38.049Z"
      },
      {
        "duration": 8,
        "start_time": "2022-12-09T14:02:38.057Z"
      },
      {
        "duration": 6,
        "start_time": "2022-12-09T14:02:38.066Z"
      },
      {
        "duration": 13,
        "start_time": "2022-12-09T14:02:38.074Z"
      },
      {
        "duration": 5,
        "start_time": "2022-12-09T14:02:38.088Z"
      },
      {
        "duration": 6,
        "start_time": "2022-12-09T14:02:38.095Z"
      },
      {
        "duration": 3,
        "start_time": "2022-12-09T14:02:38.122Z"
      },
      {
        "duration": 15,
        "start_time": "2022-12-09T14:02:38.127Z"
      },
      {
        "duration": 11,
        "start_time": "2022-12-09T14:02:38.144Z"
      },
      {
        "duration": 33,
        "start_time": "2022-12-09T14:02:38.157Z"
      },
      {
        "duration": 23,
        "start_time": "2022-12-09T14:02:38.192Z"
      },
      {
        "duration": 4,
        "start_time": "2022-12-09T14:02:38.219Z"
      },
      {
        "duration": 20,
        "start_time": "2022-12-09T14:02:38.225Z"
      },
      {
        "duration": 28,
        "start_time": "2022-12-09T14:02:38.247Z"
      },
      {
        "duration": 347,
        "start_time": "2022-12-09T14:02:38.277Z"
      },
      {
        "duration": 11,
        "start_time": "2022-12-09T14:02:38.625Z"
      },
      {
        "duration": 12,
        "start_time": "2022-12-09T14:02:38.638Z"
      },
      {
        "duration": 35,
        "start_time": "2022-12-09T14:02:38.651Z"
      },
      {
        "duration": 112,
        "start_time": "2022-12-09T14:02:38.687Z"
      },
      {
        "duration": 0,
        "start_time": "2022-12-09T14:02:38.801Z"
      },
      {
        "duration": 0,
        "start_time": "2022-12-09T14:02:38.803Z"
      },
      {
        "duration": 0,
        "start_time": "2022-12-09T14:02:38.804Z"
      },
      {
        "duration": 0,
        "start_time": "2022-12-09T14:02:38.806Z"
      },
      {
        "duration": 0,
        "start_time": "2022-12-09T14:02:38.807Z"
      },
      {
        "duration": 0,
        "start_time": "2022-12-09T14:02:38.809Z"
      },
      {
        "duration": 0,
        "start_time": "2022-12-09T14:02:38.810Z"
      },
      {
        "duration": 0,
        "start_time": "2022-12-09T14:02:38.812Z"
      },
      {
        "duration": 0,
        "start_time": "2022-12-09T14:02:38.813Z"
      },
      {
        "duration": 0,
        "start_time": "2022-12-09T14:02:38.815Z"
      },
      {
        "duration": 0,
        "start_time": "2022-12-09T14:02:38.816Z"
      },
      {
        "duration": 0,
        "start_time": "2022-12-09T14:02:38.817Z"
      },
      {
        "duration": 0,
        "start_time": "2022-12-09T14:02:38.819Z"
      },
      {
        "duration": 0,
        "start_time": "2022-12-09T14:02:38.820Z"
      },
      {
        "duration": 0,
        "start_time": "2022-12-09T14:02:38.821Z"
      },
      {
        "duration": 0,
        "start_time": "2022-12-09T14:02:38.823Z"
      },
      {
        "duration": 0,
        "start_time": "2022-12-09T14:02:38.824Z"
      },
      {
        "duration": 0,
        "start_time": "2022-12-09T14:02:38.825Z"
      },
      {
        "duration": 0,
        "start_time": "2022-12-09T14:02:38.826Z"
      },
      {
        "duration": 0,
        "start_time": "2022-12-09T14:02:38.827Z"
      },
      {
        "duration": 0,
        "start_time": "2022-12-09T14:02:38.829Z"
      },
      {
        "duration": 0,
        "start_time": "2022-12-09T14:02:38.829Z"
      },
      {
        "duration": 0,
        "start_time": "2022-12-09T14:02:38.830Z"
      },
      {
        "duration": 0,
        "start_time": "2022-12-09T14:02:38.831Z"
      },
      {
        "duration": 0,
        "start_time": "2022-12-09T14:02:38.833Z"
      },
      {
        "duration": 0,
        "start_time": "2022-12-09T14:02:38.834Z"
      },
      {
        "duration": 0,
        "start_time": "2022-12-09T14:02:38.835Z"
      },
      {
        "duration": 0,
        "start_time": "2022-12-09T14:02:38.836Z"
      },
      {
        "duration": 0,
        "start_time": "2022-12-09T14:02:38.838Z"
      },
      {
        "duration": 0,
        "start_time": "2022-12-09T14:02:38.839Z"
      },
      {
        "duration": 0,
        "start_time": "2022-12-09T14:02:38.840Z"
      },
      {
        "duration": 0,
        "start_time": "2022-12-09T14:02:38.841Z"
      },
      {
        "duration": 0,
        "start_time": "2022-12-09T14:02:38.842Z"
      },
      {
        "duration": 0,
        "start_time": "2022-12-09T14:02:38.843Z"
      },
      {
        "duration": 0,
        "start_time": "2022-12-09T14:02:38.845Z"
      },
      {
        "duration": 0,
        "start_time": "2022-12-09T14:02:38.846Z"
      },
      {
        "duration": 0,
        "start_time": "2022-12-09T14:02:38.847Z"
      },
      {
        "duration": 0,
        "start_time": "2022-12-09T14:02:38.849Z"
      },
      {
        "duration": 0,
        "start_time": "2022-12-09T14:02:38.850Z"
      },
      {
        "duration": 0,
        "start_time": "2022-12-09T14:02:38.851Z"
      },
      {
        "duration": 0,
        "start_time": "2022-12-09T14:02:38.852Z"
      },
      {
        "duration": 0,
        "start_time": "2022-12-09T14:02:38.853Z"
      },
      {
        "duration": 0,
        "start_time": "2022-12-09T14:02:38.855Z"
      },
      {
        "duration": 0,
        "start_time": "2022-12-09T14:02:38.856Z"
      },
      {
        "duration": 0,
        "start_time": "2022-12-09T14:02:38.857Z"
      },
      {
        "duration": 0,
        "start_time": "2022-12-09T14:02:38.858Z"
      },
      {
        "duration": 0,
        "start_time": "2022-12-09T14:02:38.859Z"
      },
      {
        "duration": 0,
        "start_time": "2022-12-09T14:02:38.860Z"
      },
      {
        "duration": 0,
        "start_time": "2022-12-09T14:02:38.922Z"
      },
      {
        "duration": 0,
        "start_time": "2022-12-09T14:02:38.923Z"
      },
      {
        "duration": 0,
        "start_time": "2022-12-09T14:02:38.925Z"
      },
      {
        "duration": 1542,
        "start_time": "2022-12-09T14:14:48.638Z"
      },
      {
        "duration": 1946,
        "start_time": "2022-12-09T14:14:50.182Z"
      },
      {
        "duration": 93,
        "start_time": "2022-12-09T14:14:52.130Z"
      },
      {
        "duration": 10,
        "start_time": "2022-12-09T14:14:52.224Z"
      },
      {
        "duration": 25,
        "start_time": "2022-12-09T14:14:52.236Z"
      },
      {
        "duration": 69,
        "start_time": "2022-12-09T14:14:52.263Z"
      },
      {
        "duration": 57,
        "start_time": "2022-12-09T14:14:52.334Z"
      },
      {
        "duration": 21,
        "start_time": "2022-12-09T14:14:52.393Z"
      },
      {
        "duration": 7,
        "start_time": "2022-12-09T14:14:52.416Z"
      },
      {
        "duration": 35,
        "start_time": "2022-12-09T14:14:52.425Z"
      },
      {
        "duration": 21,
        "start_time": "2022-12-09T14:14:52.462Z"
      },
      {
        "duration": 23,
        "start_time": "2022-12-09T14:14:52.485Z"
      },
      {
        "duration": 55,
        "start_time": "2022-12-09T14:14:52.510Z"
      },
      {
        "duration": 20,
        "start_time": "2022-12-09T14:14:52.569Z"
      },
      {
        "duration": 14,
        "start_time": "2022-12-09T14:14:52.591Z"
      },
      {
        "duration": 40,
        "start_time": "2022-12-09T14:14:52.607Z"
      },
      {
        "duration": 18,
        "start_time": "2022-12-09T14:14:52.649Z"
      },
      {
        "duration": 14,
        "start_time": "2022-12-09T14:14:52.669Z"
      },
      {
        "duration": 16,
        "start_time": "2022-12-09T14:14:52.685Z"
      },
      {
        "duration": 25,
        "start_time": "2022-12-09T14:14:52.703Z"
      },
      {
        "duration": 13,
        "start_time": "2022-12-09T14:14:52.729Z"
      },
      {
        "duration": 18,
        "start_time": "2022-12-09T14:14:52.744Z"
      },
      {
        "duration": 8,
        "start_time": "2022-12-09T14:14:52.763Z"
      },
      {
        "duration": 12,
        "start_time": "2022-12-09T14:14:52.772Z"
      },
      {
        "duration": 7,
        "start_time": "2022-12-09T14:14:52.786Z"
      },
      {
        "duration": 24,
        "start_time": "2022-12-09T14:14:52.795Z"
      },
      {
        "duration": 27,
        "start_time": "2022-12-09T14:14:52.820Z"
      },
      {
        "duration": 5,
        "start_time": "2022-12-09T14:14:52.849Z"
      },
      {
        "duration": 26,
        "start_time": "2022-12-09T14:14:52.855Z"
      },
      {
        "duration": 43,
        "start_time": "2022-12-09T14:14:52.883Z"
      },
      {
        "duration": 333,
        "start_time": "2022-12-09T14:14:52.928Z"
      },
      {
        "duration": 19,
        "start_time": "2022-12-09T14:14:53.263Z"
      },
      {
        "duration": 6,
        "start_time": "2022-12-09T14:14:53.284Z"
      },
      {
        "duration": 48,
        "start_time": "2022-12-09T14:14:53.291Z"
      },
      {
        "duration": 8,
        "start_time": "2022-12-09T14:14:53.341Z"
      },
      {
        "duration": 19,
        "start_time": "2022-12-09T14:14:53.351Z"
      },
      {
        "duration": 227,
        "start_time": "2022-12-09T14:14:53.372Z"
      },
      {
        "duration": 2,
        "start_time": "2022-12-09T14:14:53.601Z"
      },
      {
        "duration": 293,
        "start_time": "2022-12-09T14:14:53.605Z"
      },
      {
        "duration": 3,
        "start_time": "2022-12-09T14:14:53.900Z"
      },
      {
        "duration": 329,
        "start_time": "2022-12-09T14:14:53.908Z"
      },
      {
        "duration": 169,
        "start_time": "2022-12-09T14:14:54.239Z"
      },
      {
        "duration": 2,
        "start_time": "2022-12-09T14:14:54.410Z"
      },
      {
        "duration": 222,
        "start_time": "2022-12-09T14:14:54.414Z"
      },
      {
        "duration": 2,
        "start_time": "2022-12-09T14:14:54.637Z"
      },
      {
        "duration": 305,
        "start_time": "2022-12-09T14:14:54.641Z"
      },
      {
        "duration": 2,
        "start_time": "2022-12-09T14:14:54.948Z"
      },
      {
        "duration": 134,
        "start_time": "2022-12-09T14:14:54.952Z"
      },
      {
        "duration": 9,
        "start_time": "2022-12-09T14:14:55.087Z"
      },
      {
        "duration": 7,
        "start_time": "2022-12-09T14:14:55.097Z"
      },
      {
        "duration": 242,
        "start_time": "2022-12-09T14:14:55.106Z"
      },
      {
        "duration": 341,
        "start_time": "2022-12-09T14:14:55.350Z"
      },
      {
        "duration": 347,
        "start_time": "2022-12-09T14:14:55.693Z"
      },
      {
        "duration": 3,
        "start_time": "2022-12-09T14:14:56.042Z"
      },
      {
        "duration": 319,
        "start_time": "2022-12-09T14:14:56.047Z"
      },
      {
        "duration": 164,
        "start_time": "2022-12-09T14:14:56.368Z"
      },
      {
        "duration": 10,
        "start_time": "2022-12-09T14:14:56.534Z"
      },
      {
        "duration": 289,
        "start_time": "2022-12-09T14:14:56.546Z"
      },
      {
        "duration": 8,
        "start_time": "2022-12-09T14:14:56.836Z"
      },
      {
        "duration": 9,
        "start_time": "2022-12-09T14:14:56.845Z"
      },
      {
        "duration": 336,
        "start_time": "2022-12-09T14:14:56.855Z"
      },
      {
        "duration": 9,
        "start_time": "2022-12-09T14:14:57.192Z"
      },
      {
        "duration": 15,
        "start_time": "2022-12-09T14:14:57.203Z"
      },
      {
        "duration": 211,
        "start_time": "2022-12-09T14:14:57.220Z"
      },
      {
        "duration": 99,
        "start_time": "2022-12-09T14:14:57.432Z"
      },
      {
        "duration": 0,
        "start_time": "2022-12-09T14:14:57.533Z"
      },
      {
        "duration": 0,
        "start_time": "2022-12-09T14:14:57.534Z"
      },
      {
        "duration": 0,
        "start_time": "2022-12-09T14:14:57.535Z"
      },
      {
        "duration": 0,
        "start_time": "2022-12-09T14:14:57.537Z"
      },
      {
        "duration": 0,
        "start_time": "2022-12-09T14:14:57.537Z"
      },
      {
        "duration": 0,
        "start_time": "2022-12-09T14:14:57.539Z"
      },
      {
        "duration": 0,
        "start_time": "2022-12-09T14:14:57.541Z"
      },
      {
        "duration": 0,
        "start_time": "2022-12-09T14:14:57.545Z"
      },
      {
        "duration": 0,
        "start_time": "2022-12-09T14:14:57.547Z"
      },
      {
        "duration": 0,
        "start_time": "2022-12-09T14:14:57.577Z"
      },
      {
        "duration": 0,
        "start_time": "2022-12-09T14:14:57.579Z"
      },
      {
        "duration": 0,
        "start_time": "2022-12-09T14:14:57.581Z"
      },
      {
        "duration": 0,
        "start_time": "2022-12-09T14:14:57.582Z"
      },
      {
        "duration": 0,
        "start_time": "2022-12-09T14:14:57.584Z"
      },
      {
        "duration": 0,
        "start_time": "2022-12-09T14:14:57.585Z"
      },
      {
        "duration": 0,
        "start_time": "2022-12-09T14:14:57.587Z"
      },
      {
        "duration": 0,
        "start_time": "2022-12-09T14:14:57.588Z"
      },
      {
        "duration": 0,
        "start_time": "2022-12-09T14:14:57.590Z"
      },
      {
        "duration": 0,
        "start_time": "2022-12-09T14:14:57.591Z"
      },
      {
        "duration": 132,
        "start_time": "2022-12-09T14:15:04.604Z"
      },
      {
        "duration": 2093,
        "start_time": "2022-12-09T14:15:04.738Z"
      },
      {
        "duration": 14,
        "start_time": "2022-12-09T14:15:06.833Z"
      },
      {
        "duration": 14,
        "start_time": "2022-12-09T14:15:06.849Z"
      },
      {
        "duration": 23,
        "start_time": "2022-12-09T14:15:06.865Z"
      },
      {
        "duration": 78,
        "start_time": "2022-12-09T14:15:06.891Z"
      },
      {
        "duration": 35,
        "start_time": "2022-12-09T14:15:06.970Z"
      },
      {
        "duration": 16,
        "start_time": "2022-12-09T14:15:07.007Z"
      },
      {
        "duration": 5,
        "start_time": "2022-12-09T14:15:07.024Z"
      },
      {
        "duration": 27,
        "start_time": "2022-12-09T14:15:07.031Z"
      },
      {
        "duration": 29,
        "start_time": "2022-12-09T14:15:07.060Z"
      },
      {
        "duration": 15,
        "start_time": "2022-12-09T14:15:07.091Z"
      },
      {
        "duration": 28,
        "start_time": "2022-12-09T14:15:07.108Z"
      },
      {
        "duration": 12,
        "start_time": "2022-12-09T14:15:07.139Z"
      },
      {
        "duration": 21,
        "start_time": "2022-12-09T14:15:07.153Z"
      },
      {
        "duration": 35,
        "start_time": "2022-12-09T14:15:07.176Z"
      },
      {
        "duration": 10,
        "start_time": "2022-12-09T14:15:07.213Z"
      },
      {
        "duration": 25,
        "start_time": "2022-12-09T14:15:07.224Z"
      },
      {
        "duration": 19,
        "start_time": "2022-12-09T14:15:07.250Z"
      },
      {
        "duration": 25,
        "start_time": "2022-12-09T14:15:07.271Z"
      },
      {
        "duration": 14,
        "start_time": "2022-12-09T14:15:07.297Z"
      },
      {
        "duration": 11,
        "start_time": "2022-12-09T14:15:07.312Z"
      },
      {
        "duration": 10,
        "start_time": "2022-12-09T14:15:07.325Z"
      },
      {
        "duration": 23,
        "start_time": "2022-12-09T14:15:07.336Z"
      },
      {
        "duration": 16,
        "start_time": "2022-12-09T14:15:07.361Z"
      },
      {
        "duration": 17,
        "start_time": "2022-12-09T14:15:07.379Z"
      },
      {
        "duration": 29,
        "start_time": "2022-12-09T14:15:07.397Z"
      },
      {
        "duration": 5,
        "start_time": "2022-12-09T14:15:07.428Z"
      },
      {
        "duration": 37,
        "start_time": "2022-12-09T14:15:07.435Z"
      },
      {
        "duration": 46,
        "start_time": "2022-12-09T14:15:07.473Z"
      },
      {
        "duration": 329,
        "start_time": "2022-12-09T14:15:07.521Z"
      },
      {
        "duration": 13,
        "start_time": "2022-12-09T14:15:07.852Z"
      },
      {
        "duration": 14,
        "start_time": "2022-12-09T14:15:07.867Z"
      },
      {
        "duration": 45,
        "start_time": "2022-12-09T14:15:07.883Z"
      },
      {
        "duration": 17,
        "start_time": "2022-12-09T14:15:07.930Z"
      },
      {
        "duration": 5,
        "start_time": "2022-12-09T14:15:07.949Z"
      },
      {
        "duration": 256,
        "start_time": "2022-12-09T14:15:07.956Z"
      },
      {
        "duration": 3,
        "start_time": "2022-12-09T14:15:08.213Z"
      },
      {
        "duration": 281,
        "start_time": "2022-12-09T14:15:08.217Z"
      },
      {
        "duration": 3,
        "start_time": "2022-12-09T14:15:08.500Z"
      },
      {
        "duration": 247,
        "start_time": "2022-12-09T14:15:08.508Z"
      },
      {
        "duration": 159,
        "start_time": "2022-12-09T14:15:08.757Z"
      },
      {
        "duration": 3,
        "start_time": "2022-12-09T14:15:08.918Z"
      },
      {
        "duration": 216,
        "start_time": "2022-12-09T14:15:08.922Z"
      },
      {
        "duration": 2,
        "start_time": "2022-12-09T14:15:09.139Z"
      },
      {
        "duration": 212,
        "start_time": "2022-12-09T14:15:09.143Z"
      },
      {
        "duration": 3,
        "start_time": "2022-12-09T14:15:09.357Z"
      },
      {
        "duration": 151,
        "start_time": "2022-12-09T14:15:09.362Z"
      },
      {
        "duration": 9,
        "start_time": "2022-12-09T14:15:09.515Z"
      },
      {
        "duration": 24,
        "start_time": "2022-12-09T14:15:09.526Z"
      },
      {
        "duration": 419,
        "start_time": "2022-12-09T14:15:09.551Z"
      },
      {
        "duration": 297,
        "start_time": "2022-12-09T14:15:09.972Z"
      },
      {
        "duration": 282,
        "start_time": "2022-12-09T14:15:10.270Z"
      },
      {
        "duration": 2,
        "start_time": "2022-12-09T14:15:10.554Z"
      },
      {
        "duration": 313,
        "start_time": "2022-12-09T14:15:10.558Z"
      },
      {
        "duration": 162,
        "start_time": "2022-12-09T14:15:10.872Z"
      },
      {
        "duration": 11,
        "start_time": "2022-12-09T14:15:11.036Z"
      },
      {
        "duration": 192,
        "start_time": "2022-12-09T14:15:11.048Z"
      },
      {
        "duration": 7,
        "start_time": "2022-12-09T14:15:11.242Z"
      },
      {
        "duration": 31,
        "start_time": "2022-12-09T14:15:11.251Z"
      },
      {
        "duration": 304,
        "start_time": "2022-12-09T14:15:11.284Z"
      },
      {
        "duration": 7,
        "start_time": "2022-12-09T14:15:11.590Z"
      },
      {
        "duration": 35,
        "start_time": "2022-12-09T14:15:11.600Z"
      },
      {
        "duration": 223,
        "start_time": "2022-12-09T14:15:11.638Z"
      },
      {
        "duration": 18,
        "start_time": "2022-12-09T14:15:11.862Z"
      },
      {
        "duration": 0,
        "start_time": "2022-12-09T14:15:11.881Z"
      },
      {
        "duration": 0,
        "start_time": "2022-12-09T14:15:11.883Z"
      },
      {
        "duration": 0,
        "start_time": "2022-12-09T14:15:11.884Z"
      },
      {
        "duration": 0,
        "start_time": "2022-12-09T14:15:11.885Z"
      },
      {
        "duration": 0,
        "start_time": "2022-12-09T14:15:11.886Z"
      },
      {
        "duration": 0,
        "start_time": "2022-12-09T14:15:11.887Z"
      },
      {
        "duration": 0,
        "start_time": "2022-12-09T14:15:11.888Z"
      },
      {
        "duration": 0,
        "start_time": "2022-12-09T14:15:11.889Z"
      },
      {
        "duration": 0,
        "start_time": "2022-12-09T14:15:11.891Z"
      },
      {
        "duration": 0,
        "start_time": "2022-12-09T14:15:11.892Z"
      },
      {
        "duration": 0,
        "start_time": "2022-12-09T14:15:11.893Z"
      },
      {
        "duration": 0,
        "start_time": "2022-12-09T14:15:11.894Z"
      },
      {
        "duration": 0,
        "start_time": "2022-12-09T14:15:11.895Z"
      },
      {
        "duration": 0,
        "start_time": "2022-12-09T14:15:11.896Z"
      },
      {
        "duration": 0,
        "start_time": "2022-12-09T14:15:11.897Z"
      },
      {
        "duration": 0,
        "start_time": "2022-12-09T14:15:11.898Z"
      },
      {
        "duration": 0,
        "start_time": "2022-12-09T14:15:11.900Z"
      },
      {
        "duration": 0,
        "start_time": "2022-12-09T14:15:11.901Z"
      },
      {
        "duration": 0,
        "start_time": "2022-12-09T14:15:11.902Z"
      },
      {
        "duration": 0,
        "start_time": "2022-12-09T14:15:11.904Z"
      },
      {
        "duration": 10,
        "start_time": "2022-12-09T14:15:25.035Z"
      },
      {
        "duration": 8,
        "start_time": "2022-12-09T14:15:27.157Z"
      },
      {
        "duration": 145,
        "start_time": "2022-12-09T14:15:31.782Z"
      },
      {
        "duration": 2241,
        "start_time": "2022-12-09T14:15:31.929Z"
      },
      {
        "duration": 15,
        "start_time": "2022-12-09T14:15:34.178Z"
      },
      {
        "duration": 8,
        "start_time": "2022-12-09T14:15:34.195Z"
      },
      {
        "duration": 13,
        "start_time": "2022-12-09T14:15:34.205Z"
      },
      {
        "duration": 88,
        "start_time": "2022-12-09T14:15:34.219Z"
      },
      {
        "duration": 31,
        "start_time": "2022-12-09T14:15:34.309Z"
      },
      {
        "duration": 15,
        "start_time": "2022-12-09T14:15:34.342Z"
      },
      {
        "duration": 3,
        "start_time": "2022-12-09T14:15:34.378Z"
      },
      {
        "duration": 14,
        "start_time": "2022-12-09T14:15:34.383Z"
      },
      {
        "duration": 25,
        "start_time": "2022-12-09T14:15:34.399Z"
      },
      {
        "duration": 5,
        "start_time": "2022-12-09T14:15:34.425Z"
      },
      {
        "duration": 19,
        "start_time": "2022-12-09T14:15:34.432Z"
      },
      {
        "duration": 11,
        "start_time": "2022-12-09T14:15:34.453Z"
      },
      {
        "duration": 24,
        "start_time": "2022-12-09T14:15:34.466Z"
      },
      {
        "duration": 20,
        "start_time": "2022-12-09T14:15:34.492Z"
      },
      {
        "duration": 4,
        "start_time": "2022-12-09T14:15:34.514Z"
      },
      {
        "duration": 11,
        "start_time": "2022-12-09T14:15:34.520Z"
      },
      {
        "duration": 11,
        "start_time": "2022-12-09T14:15:34.533Z"
      },
      {
        "duration": 16,
        "start_time": "2022-12-09T14:15:34.546Z"
      },
      {
        "duration": 16,
        "start_time": "2022-12-09T14:15:34.564Z"
      },
      {
        "duration": 4,
        "start_time": "2022-12-09T14:15:34.582Z"
      },
      {
        "duration": 12,
        "start_time": "2022-12-09T14:15:34.587Z"
      },
      {
        "duration": 7,
        "start_time": "2022-12-09T14:15:34.600Z"
      },
      {
        "duration": 6,
        "start_time": "2022-12-09T14:15:34.609Z"
      },
      {
        "duration": 18,
        "start_time": "2022-12-09T14:15:34.617Z"
      },
      {
        "duration": 46,
        "start_time": "2022-12-09T14:15:34.637Z"
      },
      {
        "duration": 5,
        "start_time": "2022-12-09T14:15:34.688Z"
      },
      {
        "duration": 19,
        "start_time": "2022-12-09T14:15:34.694Z"
      },
      {
        "duration": 30,
        "start_time": "2022-12-09T14:15:34.715Z"
      },
      {
        "duration": 389,
        "start_time": "2022-12-09T14:15:34.747Z"
      },
      {
        "duration": 11,
        "start_time": "2022-12-09T14:15:35.138Z"
      },
      {
        "duration": 6,
        "start_time": "2022-12-09T14:15:35.151Z"
      },
      {
        "duration": 44,
        "start_time": "2022-12-09T14:15:35.159Z"
      },
      {
        "duration": 7,
        "start_time": "2022-12-09T14:15:35.205Z"
      },
      {
        "duration": 7,
        "start_time": "2022-12-09T14:15:35.214Z"
      },
      {
        "duration": 245,
        "start_time": "2022-12-09T14:15:35.223Z"
      },
      {
        "duration": 8,
        "start_time": "2022-12-09T14:15:35.470Z"
      },
      {
        "duration": 320,
        "start_time": "2022-12-09T14:15:35.480Z"
      },
      {
        "duration": 3,
        "start_time": "2022-12-09T14:15:35.802Z"
      },
      {
        "duration": 271,
        "start_time": "2022-12-09T14:15:35.807Z"
      },
      {
        "duration": 154,
        "start_time": "2022-12-09T14:15:36.079Z"
      },
      {
        "duration": 3,
        "start_time": "2022-12-09T14:15:36.235Z"
      },
      {
        "duration": 201,
        "start_time": "2022-12-09T14:15:36.239Z"
      },
      {
        "duration": 2,
        "start_time": "2022-12-09T14:15:36.442Z"
      },
      {
        "duration": 200,
        "start_time": "2022-12-09T14:15:36.446Z"
      },
      {
        "duration": 2,
        "start_time": "2022-12-09T14:15:36.648Z"
      },
      {
        "duration": 136,
        "start_time": "2022-12-09T14:15:36.652Z"
      },
      {
        "duration": 9,
        "start_time": "2022-12-09T14:15:36.790Z"
      },
      {
        "duration": 5,
        "start_time": "2022-12-09T14:15:36.800Z"
      },
      {
        "duration": 250,
        "start_time": "2022-12-09T14:15:36.807Z"
      },
      {
        "duration": 551,
        "start_time": "2022-12-09T14:15:37.059Z"
      },
      {
        "duration": 282,
        "start_time": "2022-12-09T14:15:37.612Z"
      },
      {
        "duration": 2,
        "start_time": "2022-12-09T14:15:37.896Z"
      },
      {
        "duration": 285,
        "start_time": "2022-12-09T14:15:37.900Z"
      },
      {
        "duration": 168,
        "start_time": "2022-12-09T14:15:38.187Z"
      },
      {
        "duration": 24,
        "start_time": "2022-12-09T14:15:38.357Z"
      },
      {
        "duration": 177,
        "start_time": "2022-12-09T14:15:38.383Z"
      },
      {
        "duration": 8,
        "start_time": "2022-12-09T14:15:38.562Z"
      },
      {
        "duration": 3,
        "start_time": "2022-12-09T14:15:38.579Z"
      },
      {
        "duration": 310,
        "start_time": "2022-12-09T14:15:38.583Z"
      },
      {
        "duration": 7,
        "start_time": "2022-12-09T14:15:38.895Z"
      },
      {
        "duration": 19,
        "start_time": "2022-12-09T14:15:38.904Z"
      },
      {
        "duration": 207,
        "start_time": "2022-12-09T14:15:38.924Z"
      },
      {
        "duration": 12,
        "start_time": "2022-12-09T14:15:39.133Z"
      },
      {
        "duration": 0,
        "start_time": "2022-12-09T14:15:39.147Z"
      },
      {
        "duration": 0,
        "start_time": "2022-12-09T14:15:39.148Z"
      },
      {
        "duration": 0,
        "start_time": "2022-12-09T14:15:39.150Z"
      },
      {
        "duration": 0,
        "start_time": "2022-12-09T14:15:39.151Z"
      },
      {
        "duration": 0,
        "start_time": "2022-12-09T14:15:39.152Z"
      },
      {
        "duration": 0,
        "start_time": "2022-12-09T14:15:39.153Z"
      },
      {
        "duration": 0,
        "start_time": "2022-12-09T14:15:39.155Z"
      },
      {
        "duration": 0,
        "start_time": "2022-12-09T14:15:39.156Z"
      },
      {
        "duration": 0,
        "start_time": "2022-12-09T14:15:39.157Z"
      },
      {
        "duration": 0,
        "start_time": "2022-12-09T14:15:39.179Z"
      },
      {
        "duration": 0,
        "start_time": "2022-12-09T14:15:39.181Z"
      },
      {
        "duration": 0,
        "start_time": "2022-12-09T14:15:39.182Z"
      },
      {
        "duration": 0,
        "start_time": "2022-12-09T14:15:39.183Z"
      },
      {
        "duration": 0,
        "start_time": "2022-12-09T14:15:39.185Z"
      },
      {
        "duration": 0,
        "start_time": "2022-12-09T14:15:39.186Z"
      },
      {
        "duration": 0,
        "start_time": "2022-12-09T14:15:39.188Z"
      },
      {
        "duration": 1,
        "start_time": "2022-12-09T14:15:39.189Z"
      },
      {
        "duration": 0,
        "start_time": "2022-12-09T14:15:39.191Z"
      },
      {
        "duration": 0,
        "start_time": "2022-12-09T14:15:39.192Z"
      },
      {
        "duration": 0,
        "start_time": "2022-12-09T14:15:39.193Z"
      },
      {
        "duration": 7,
        "start_time": "2022-12-09T14:16:18.307Z"
      },
      {
        "duration": 8,
        "start_time": "2022-12-09T14:16:20.753Z"
      },
      {
        "duration": 167,
        "start_time": "2022-12-09T14:16:23.984Z"
      },
      {
        "duration": 2129,
        "start_time": "2022-12-09T14:16:24.153Z"
      },
      {
        "duration": 16,
        "start_time": "2022-12-09T14:16:26.284Z"
      },
      {
        "duration": 10,
        "start_time": "2022-12-09T14:16:26.302Z"
      },
      {
        "duration": 10,
        "start_time": "2022-12-09T14:16:26.315Z"
      },
      {
        "duration": 90,
        "start_time": "2022-12-09T14:16:26.326Z"
      },
      {
        "duration": 31,
        "start_time": "2022-12-09T14:16:26.418Z"
      },
      {
        "duration": 30,
        "start_time": "2022-12-09T14:16:26.451Z"
      },
      {
        "duration": 8,
        "start_time": "2022-12-09T14:16:26.483Z"
      },
      {
        "duration": 14,
        "start_time": "2022-12-09T14:16:26.493Z"
      },
      {
        "duration": 14,
        "start_time": "2022-12-09T14:16:26.509Z"
      },
      {
        "duration": 10,
        "start_time": "2022-12-09T14:16:26.525Z"
      },
      {
        "duration": 21,
        "start_time": "2022-12-09T14:16:26.537Z"
      },
      {
        "duration": 16,
        "start_time": "2022-12-09T14:16:26.561Z"
      },
      {
        "duration": 8,
        "start_time": "2022-12-09T14:16:26.579Z"
      },
      {
        "duration": 18,
        "start_time": "2022-12-09T14:16:26.589Z"
      },
      {
        "duration": 7,
        "start_time": "2022-12-09T14:16:26.609Z"
      },
      {
        "duration": 6,
        "start_time": "2022-12-09T14:16:26.618Z"
      },
      {
        "duration": 8,
        "start_time": "2022-12-09T14:16:26.626Z"
      },
      {
        "duration": 17,
        "start_time": "2022-12-09T14:16:26.636Z"
      },
      {
        "duration": 23,
        "start_time": "2022-12-09T14:16:26.655Z"
      },
      {
        "duration": 3,
        "start_time": "2022-12-09T14:16:26.680Z"
      },
      {
        "duration": 8,
        "start_time": "2022-12-09T14:16:26.685Z"
      },
      {
        "duration": 8,
        "start_time": "2022-12-09T14:16:26.695Z"
      },
      {
        "duration": 5,
        "start_time": "2022-12-09T14:16:26.705Z"
      },
      {
        "duration": 19,
        "start_time": "2022-12-09T14:16:26.711Z"
      },
      {
        "duration": 50,
        "start_time": "2022-12-09T14:16:26.732Z"
      },
      {
        "duration": 6,
        "start_time": "2022-12-09T14:16:26.784Z"
      },
      {
        "duration": 28,
        "start_time": "2022-12-09T14:16:26.792Z"
      },
      {
        "duration": 28,
        "start_time": "2022-12-09T14:16:26.822Z"
      },
      {
        "duration": 627,
        "start_time": "2022-12-09T14:16:26.852Z"
      },
      {
        "duration": 13,
        "start_time": "2022-12-09T14:16:27.481Z"
      },
      {
        "duration": 5,
        "start_time": "2022-12-09T14:16:27.496Z"
      },
      {
        "duration": 35,
        "start_time": "2022-12-09T14:16:27.503Z"
      },
      {
        "duration": 7,
        "start_time": "2022-12-09T14:16:27.540Z"
      },
      {
        "duration": 31,
        "start_time": "2022-12-09T14:16:27.549Z"
      },
      {
        "duration": 298,
        "start_time": "2022-12-09T14:16:27.583Z"
      },
      {
        "duration": 3,
        "start_time": "2022-12-09T14:16:27.882Z"
      },
      {
        "duration": 288,
        "start_time": "2022-12-09T14:16:27.886Z"
      },
      {
        "duration": 3,
        "start_time": "2022-12-09T14:16:28.177Z"
      },
      {
        "duration": 256,
        "start_time": "2022-12-09T14:16:28.184Z"
      },
      {
        "duration": 153,
        "start_time": "2022-12-09T14:16:28.441Z"
      },
      {
        "duration": 2,
        "start_time": "2022-12-09T14:16:28.596Z"
      },
      {
        "duration": 201,
        "start_time": "2022-12-09T14:16:28.600Z"
      },
      {
        "duration": 2,
        "start_time": "2022-12-09T14:16:28.803Z"
      },
      {
        "duration": 222,
        "start_time": "2022-12-09T14:16:28.807Z"
      },
      {
        "duration": 2,
        "start_time": "2022-12-09T14:16:29.031Z"
      },
      {
        "duration": 136,
        "start_time": "2022-12-09T14:16:29.035Z"
      },
      {
        "duration": 10,
        "start_time": "2022-12-09T14:16:29.178Z"
      },
      {
        "duration": 6,
        "start_time": "2022-12-09T14:16:29.190Z"
      },
      {
        "duration": 251,
        "start_time": "2022-12-09T14:16:29.198Z"
      },
      {
        "duration": 291,
        "start_time": "2022-12-09T14:16:29.450Z"
      },
      {
        "duration": 275,
        "start_time": "2022-12-09T14:16:29.743Z"
      },
      {
        "duration": 2,
        "start_time": "2022-12-09T14:16:30.020Z"
      },
      {
        "duration": 273,
        "start_time": "2022-12-09T14:16:30.024Z"
      },
      {
        "duration": 156,
        "start_time": "2022-12-09T14:16:30.299Z"
      },
      {
        "duration": 10,
        "start_time": "2022-12-09T14:16:30.457Z"
      },
      {
        "duration": 150,
        "start_time": "2022-12-09T14:16:30.477Z"
      },
      {
        "duration": 9,
        "start_time": "2022-12-09T14:16:30.628Z"
      },
      {
        "duration": 17,
        "start_time": "2022-12-09T14:16:30.639Z"
      },
      {
        "duration": 328,
        "start_time": "2022-12-09T14:16:30.657Z"
      },
      {
        "duration": 6,
        "start_time": "2022-12-09T14:16:30.987Z"
      },
      {
        "duration": 19,
        "start_time": "2022-12-09T14:16:30.995Z"
      },
      {
        "duration": 203,
        "start_time": "2022-12-09T14:16:31.015Z"
      },
      {
        "duration": 8,
        "start_time": "2022-12-09T14:16:31.220Z"
      },
      {
        "duration": 38,
        "start_time": "2022-12-09T14:16:31.230Z"
      },
      {
        "duration": 23,
        "start_time": "2022-12-09T14:16:31.270Z"
      },
      {
        "duration": 326,
        "start_time": "2022-12-09T14:16:31.295Z"
      },
      {
        "duration": 105,
        "start_time": "2022-12-09T14:16:31.623Z"
      },
      {
        "duration": 5,
        "start_time": "2022-12-09T14:16:31.730Z"
      },
      {
        "duration": 23,
        "start_time": "2022-12-09T14:16:31.737Z"
      },
      {
        "duration": 0,
        "start_time": "2022-12-09T14:16:31.761Z"
      },
      {
        "duration": 0,
        "start_time": "2022-12-09T14:16:31.762Z"
      },
      {
        "duration": 0,
        "start_time": "2022-12-09T14:16:31.764Z"
      },
      {
        "duration": 0,
        "start_time": "2022-12-09T14:16:31.765Z"
      },
      {
        "duration": 0,
        "start_time": "2022-12-09T14:16:31.767Z"
      },
      {
        "duration": 0,
        "start_time": "2022-12-09T14:16:31.778Z"
      },
      {
        "duration": 0,
        "start_time": "2022-12-09T14:16:31.779Z"
      },
      {
        "duration": 0,
        "start_time": "2022-12-09T14:16:31.781Z"
      },
      {
        "duration": 0,
        "start_time": "2022-12-09T14:16:31.781Z"
      },
      {
        "duration": 0,
        "start_time": "2022-12-09T14:16:31.783Z"
      },
      {
        "duration": 0,
        "start_time": "2022-12-09T14:16:31.784Z"
      },
      {
        "duration": 0,
        "start_time": "2022-12-09T14:16:31.785Z"
      },
      {
        "duration": 0,
        "start_time": "2022-12-09T14:16:31.786Z"
      },
      {
        "duration": 0,
        "start_time": "2022-12-09T14:16:31.788Z"
      },
      {
        "duration": 6,
        "start_time": "2022-12-09T14:16:48.651Z"
      },
      {
        "duration": 176,
        "start_time": "2022-12-09T14:16:50.174Z"
      },
      {
        "duration": 141,
        "start_time": "2022-12-09T14:16:55.246Z"
      },
      {
        "duration": 2257,
        "start_time": "2022-12-09T14:16:55.389Z"
      },
      {
        "duration": 14,
        "start_time": "2022-12-09T14:16:57.648Z"
      },
      {
        "duration": 22,
        "start_time": "2022-12-09T14:16:57.664Z"
      },
      {
        "duration": 16,
        "start_time": "2022-12-09T14:16:57.690Z"
      },
      {
        "duration": 83,
        "start_time": "2022-12-09T14:16:57.708Z"
      },
      {
        "duration": 31,
        "start_time": "2022-12-09T14:16:57.792Z"
      },
      {
        "duration": 16,
        "start_time": "2022-12-09T14:16:57.825Z"
      },
      {
        "duration": 11,
        "start_time": "2022-12-09T14:16:57.843Z"
      },
      {
        "duration": 27,
        "start_time": "2022-12-09T14:16:57.856Z"
      },
      {
        "duration": 14,
        "start_time": "2022-12-09T14:16:57.885Z"
      },
      {
        "duration": 5,
        "start_time": "2022-12-09T14:16:57.900Z"
      },
      {
        "duration": 17,
        "start_time": "2022-12-09T14:16:57.907Z"
      },
      {
        "duration": 9,
        "start_time": "2022-12-09T14:16:57.927Z"
      },
      {
        "duration": 41,
        "start_time": "2022-12-09T14:16:57.938Z"
      },
      {
        "duration": 13,
        "start_time": "2022-12-09T14:16:57.981Z"
      },
      {
        "duration": 2,
        "start_time": "2022-12-09T14:16:57.996Z"
      },
      {
        "duration": 9,
        "start_time": "2022-12-09T14:16:58.000Z"
      },
      {
        "duration": 8,
        "start_time": "2022-12-09T14:16:58.011Z"
      },
      {
        "duration": 10,
        "start_time": "2022-12-09T14:16:58.021Z"
      },
      {
        "duration": 6,
        "start_time": "2022-12-09T14:16:58.033Z"
      },
      {
        "duration": 38,
        "start_time": "2022-12-09T14:16:58.040Z"
      },
      {
        "duration": 11,
        "start_time": "2022-12-09T14:16:58.080Z"
      },
      {
        "duration": 9,
        "start_time": "2022-12-09T14:16:58.093Z"
      },
      {
        "duration": 6,
        "start_time": "2022-12-09T14:16:58.103Z"
      },
      {
        "duration": 17,
        "start_time": "2022-12-09T14:16:58.111Z"
      },
      {
        "duration": 19,
        "start_time": "2022-12-09T14:16:58.130Z"
      },
      {
        "duration": 4,
        "start_time": "2022-12-09T14:16:58.151Z"
      },
      {
        "duration": 20,
        "start_time": "2022-12-09T14:16:58.178Z"
      },
      {
        "duration": 32,
        "start_time": "2022-12-09T14:16:58.200Z"
      },
      {
        "duration": 350,
        "start_time": "2022-12-09T14:16:58.234Z"
      },
      {
        "duration": 12,
        "start_time": "2022-12-09T14:16:58.587Z"
      },
      {
        "duration": 12,
        "start_time": "2022-12-09T14:16:58.601Z"
      },
      {
        "duration": 28,
        "start_time": "2022-12-09T14:16:58.615Z"
      },
      {
        "duration": 11,
        "start_time": "2022-12-09T14:16:58.645Z"
      },
      {
        "duration": 30,
        "start_time": "2022-12-09T14:16:58.658Z"
      },
      {
        "duration": 213,
        "start_time": "2022-12-09T14:16:58.690Z"
      },
      {
        "duration": 3,
        "start_time": "2022-12-09T14:16:58.905Z"
      },
      {
        "duration": 275,
        "start_time": "2022-12-09T14:16:58.909Z"
      },
      {
        "duration": 3,
        "start_time": "2022-12-09T14:16:59.186Z"
      },
      {
        "duration": 258,
        "start_time": "2022-12-09T14:16:59.194Z"
      },
      {
        "duration": 152,
        "start_time": "2022-12-09T14:16:59.453Z"
      },
      {
        "duration": 3,
        "start_time": "2022-12-09T14:16:59.607Z"
      },
      {
        "duration": 220,
        "start_time": "2022-12-09T14:16:59.611Z"
      },
      {
        "duration": 2,
        "start_time": "2022-12-09T14:16:59.833Z"
      },
      {
        "duration": 229,
        "start_time": "2022-12-09T14:16:59.837Z"
      },
      {
        "duration": 3,
        "start_time": "2022-12-09T14:17:00.067Z"
      },
      {
        "duration": 148,
        "start_time": "2022-12-09T14:17:00.071Z"
      },
      {
        "duration": 10,
        "start_time": "2022-12-09T14:17:00.221Z"
      },
      {
        "duration": 14,
        "start_time": "2022-12-09T14:17:00.233Z"
      },
      {
        "duration": 275,
        "start_time": "2022-12-09T14:17:00.249Z"
      },
      {
        "duration": 336,
        "start_time": "2022-12-09T14:17:00.526Z"
      },
      {
        "duration": 336,
        "start_time": "2022-12-09T14:17:00.864Z"
      },
      {
        "duration": 3,
        "start_time": "2022-12-09T14:17:01.201Z"
      },
      {
        "duration": 318,
        "start_time": "2022-12-09T14:17:01.206Z"
      },
      {
        "duration": 167,
        "start_time": "2022-12-09T14:17:01.526Z"
      },
      {
        "duration": 10,
        "start_time": "2022-12-09T14:17:01.695Z"
      },
      {
        "duration": 172,
        "start_time": "2022-12-09T14:17:01.707Z"
      },
      {
        "duration": 7,
        "start_time": "2022-12-09T14:17:01.881Z"
      },
      {
        "duration": 17,
        "start_time": "2022-12-09T14:17:01.890Z"
      },
      {
        "duration": 352,
        "start_time": "2022-12-09T14:17:01.908Z"
      },
      {
        "duration": 17,
        "start_time": "2022-12-09T14:17:02.262Z"
      },
      {
        "duration": 17,
        "start_time": "2022-12-09T14:17:02.282Z"
      },
      {
        "duration": 230,
        "start_time": "2022-12-09T14:17:02.301Z"
      },
      {
        "duration": 7,
        "start_time": "2022-12-09T14:17:02.533Z"
      },
      {
        "duration": 16,
        "start_time": "2022-12-09T14:17:02.542Z"
      },
      {
        "duration": 19,
        "start_time": "2022-12-09T14:17:02.560Z"
      },
      {
        "duration": 308,
        "start_time": "2022-12-09T14:17:02.581Z"
      },
      {
        "duration": 107,
        "start_time": "2022-12-09T14:17:02.890Z"
      },
      {
        "duration": 5,
        "start_time": "2022-12-09T14:17:02.999Z"
      },
      {
        "duration": 157,
        "start_time": "2022-12-09T14:17:03.005Z"
      },
      {
        "duration": 181,
        "start_time": "2022-12-09T14:17:03.164Z"
      },
      {
        "duration": 161,
        "start_time": "2022-12-09T14:17:03.347Z"
      },
      {
        "duration": 162,
        "start_time": "2022-12-09T14:17:03.509Z"
      },
      {
        "duration": 9,
        "start_time": "2022-12-09T14:17:03.672Z"
      },
      {
        "duration": 15,
        "start_time": "2022-12-09T14:17:03.683Z"
      },
      {
        "duration": 0,
        "start_time": "2022-12-09T14:17:03.700Z"
      },
      {
        "duration": 0,
        "start_time": "2022-12-09T14:17:03.701Z"
      },
      {
        "duration": 0,
        "start_time": "2022-12-09T14:17:03.702Z"
      },
      {
        "duration": 0,
        "start_time": "2022-12-09T14:17:03.704Z"
      },
      {
        "duration": 0,
        "start_time": "2022-12-09T14:17:03.705Z"
      },
      {
        "duration": 0,
        "start_time": "2022-12-09T14:17:03.707Z"
      },
      {
        "duration": 0,
        "start_time": "2022-12-09T14:17:03.708Z"
      },
      {
        "duration": 0,
        "start_time": "2022-12-09T14:17:03.710Z"
      },
      {
        "duration": 0,
        "start_time": "2022-12-09T14:17:03.712Z"
      },
      {
        "duration": 163,
        "start_time": "2022-12-09T14:17:18.499Z"
      },
      {
        "duration": 614,
        "start_time": "2022-12-09T14:17:40.880Z"
      },
      {
        "duration": 134,
        "start_time": "2022-12-09T14:17:45.288Z"
      },
      {
        "duration": 183,
        "start_time": "2022-12-09T14:17:48.697Z"
      },
      {
        "duration": 10,
        "start_time": "2022-12-09T14:17:50.537Z"
      },
      {
        "duration": 144,
        "start_time": "2022-12-09T14:17:57.640Z"
      },
      {
        "duration": 169,
        "start_time": "2022-12-09T14:18:00.893Z"
      },
      {
        "duration": 8,
        "start_time": "2022-12-09T14:18:03.581Z"
      },
      {
        "duration": 165,
        "start_time": "2022-12-09T14:18:05.727Z"
      },
      {
        "duration": 20,
        "start_time": "2022-12-09T14:18:08.205Z"
      },
      {
        "duration": 156,
        "start_time": "2022-12-09T14:18:10.630Z"
      },
      {
        "duration": 7,
        "start_time": "2022-12-09T14:18:12.745Z"
      },
      {
        "duration": 154,
        "start_time": "2022-12-09T14:18:20.564Z"
      },
      {
        "duration": 2255,
        "start_time": "2022-12-09T14:18:20.720Z"
      },
      {
        "duration": 15,
        "start_time": "2022-12-09T14:18:22.978Z"
      },
      {
        "duration": 21,
        "start_time": "2022-12-09T14:18:22.995Z"
      },
      {
        "duration": 27,
        "start_time": "2022-12-09T14:18:23.018Z"
      },
      {
        "duration": 73,
        "start_time": "2022-12-09T14:18:23.046Z"
      },
      {
        "duration": 33,
        "start_time": "2022-12-09T14:18:23.121Z"
      },
      {
        "duration": 29,
        "start_time": "2022-12-09T14:18:23.157Z"
      },
      {
        "duration": 30,
        "start_time": "2022-12-09T14:18:23.189Z"
      },
      {
        "duration": 38,
        "start_time": "2022-12-09T14:18:23.221Z"
      },
      {
        "duration": 44,
        "start_time": "2022-12-09T14:18:23.261Z"
      },
      {
        "duration": 33,
        "start_time": "2022-12-09T14:18:23.307Z"
      },
      {
        "duration": 46,
        "start_time": "2022-12-09T14:18:23.342Z"
      },
      {
        "duration": 32,
        "start_time": "2022-12-09T14:18:23.391Z"
      },
      {
        "duration": 40,
        "start_time": "2022-12-09T14:18:23.425Z"
      },
      {
        "duration": 38,
        "start_time": "2022-12-09T14:18:23.467Z"
      },
      {
        "duration": 28,
        "start_time": "2022-12-09T14:18:23.506Z"
      },
      {
        "duration": 36,
        "start_time": "2022-12-09T14:18:23.536Z"
      },
      {
        "duration": 18,
        "start_time": "2022-12-09T14:18:23.574Z"
      },
      {
        "duration": 26,
        "start_time": "2022-12-09T14:18:23.595Z"
      },
      {
        "duration": 30,
        "start_time": "2022-12-09T14:18:23.623Z"
      },
      {
        "duration": 42,
        "start_time": "2022-12-09T14:18:23.655Z"
      },
      {
        "duration": 46,
        "start_time": "2022-12-09T14:18:23.699Z"
      },
      {
        "duration": 30,
        "start_time": "2022-12-09T14:18:23.747Z"
      },
      {
        "duration": 32,
        "start_time": "2022-12-09T14:18:23.779Z"
      },
      {
        "duration": 51,
        "start_time": "2022-12-09T14:18:23.813Z"
      },
      {
        "duration": 67,
        "start_time": "2022-12-09T14:18:23.865Z"
      },
      {
        "duration": 6,
        "start_time": "2022-12-09T14:18:23.935Z"
      },
      {
        "duration": 44,
        "start_time": "2022-12-09T14:18:23.944Z"
      },
      {
        "duration": 75,
        "start_time": "2022-12-09T14:18:23.990Z"
      },
      {
        "duration": 409,
        "start_time": "2022-12-09T14:18:24.067Z"
      },
      {
        "duration": 14,
        "start_time": "2022-12-09T14:18:24.478Z"
      },
      {
        "duration": 8,
        "start_time": "2022-12-09T14:18:24.494Z"
      },
      {
        "duration": 38,
        "start_time": "2022-12-09T14:18:24.505Z"
      },
      {
        "duration": 9,
        "start_time": "2022-12-09T14:18:24.545Z"
      },
      {
        "duration": 9,
        "start_time": "2022-12-09T14:18:24.579Z"
      },
      {
        "duration": 260,
        "start_time": "2022-12-09T14:18:24.590Z"
      },
      {
        "duration": 3,
        "start_time": "2022-12-09T14:18:24.852Z"
      },
      {
        "duration": 335,
        "start_time": "2022-12-09T14:18:24.857Z"
      },
      {
        "duration": 2,
        "start_time": "2022-12-09T14:18:25.194Z"
      },
      {
        "duration": 297,
        "start_time": "2022-12-09T14:18:25.201Z"
      },
      {
        "duration": 162,
        "start_time": "2022-12-09T14:18:25.500Z"
      },
      {
        "duration": 3,
        "start_time": "2022-12-09T14:18:25.665Z"
      },
      {
        "duration": 230,
        "start_time": "2022-12-09T14:18:25.669Z"
      },
      {
        "duration": 3,
        "start_time": "2022-12-09T14:18:25.901Z"
      },
      {
        "duration": 228,
        "start_time": "2022-12-09T14:18:25.905Z"
      },
      {
        "duration": 2,
        "start_time": "2022-12-09T14:18:26.135Z"
      },
      {
        "duration": 146,
        "start_time": "2022-12-09T14:18:26.139Z"
      },
      {
        "duration": 10,
        "start_time": "2022-12-09T14:18:26.287Z"
      },
      {
        "duration": 27,
        "start_time": "2022-12-09T14:18:26.299Z"
      },
      {
        "duration": 235,
        "start_time": "2022-12-09T14:18:26.328Z"
      },
      {
        "duration": 297,
        "start_time": "2022-12-09T14:18:26.565Z"
      },
      {
        "duration": 312,
        "start_time": "2022-12-09T14:18:26.864Z"
      },
      {
        "duration": 3,
        "start_time": "2022-12-09T14:18:27.177Z"
      },
      {
        "duration": 315,
        "start_time": "2022-12-09T14:18:27.181Z"
      },
      {
        "duration": 153,
        "start_time": "2022-12-09T14:18:27.497Z"
      },
      {
        "duration": 27,
        "start_time": "2022-12-09T14:18:27.652Z"
      },
      {
        "duration": 181,
        "start_time": "2022-12-09T14:18:27.681Z"
      },
      {
        "duration": 8,
        "start_time": "2022-12-09T14:18:27.863Z"
      },
      {
        "duration": 15,
        "start_time": "2022-12-09T14:18:27.879Z"
      },
      {
        "duration": 331,
        "start_time": "2022-12-09T14:18:27.896Z"
      },
      {
        "duration": 7,
        "start_time": "2022-12-09T14:18:28.229Z"
      },
      {
        "duration": 58,
        "start_time": "2022-12-09T14:18:28.238Z"
      },
      {
        "duration": 209,
        "start_time": "2022-12-09T14:18:28.298Z"
      },
      {
        "duration": 8,
        "start_time": "2022-12-09T14:18:28.510Z"
      },
      {
        "duration": 14,
        "start_time": "2022-12-09T14:18:28.520Z"
      },
      {
        "duration": 36,
        "start_time": "2022-12-09T14:18:28.537Z"
      },
      {
        "duration": 338,
        "start_time": "2022-12-09T14:18:28.575Z"
      },
      {
        "duration": 649,
        "start_time": "2022-12-09T14:18:28.915Z"
      },
      {
        "duration": 17,
        "start_time": "2022-12-09T14:18:29.565Z"
      },
      {
        "duration": 151,
        "start_time": "2022-12-09T14:18:29.583Z"
      },
      {
        "duration": 169,
        "start_time": "2022-12-09T14:18:29.736Z"
      },
      {
        "duration": 150,
        "start_time": "2022-12-09T14:18:29.907Z"
      },
      {
        "duration": 160,
        "start_time": "2022-12-09T14:18:30.059Z"
      },
      {
        "duration": 6,
        "start_time": "2022-12-09T14:18:30.221Z"
      },
      {
        "duration": 185,
        "start_time": "2022-12-09T14:18:30.229Z"
      },
      {
        "duration": 156,
        "start_time": "2022-12-09T14:18:30.416Z"
      },
      {
        "duration": 173,
        "start_time": "2022-12-09T14:18:30.578Z"
      },
      {
        "duration": 169,
        "start_time": "2022-12-09T14:18:30.753Z"
      },
      {
        "duration": 178,
        "start_time": "2022-12-09T14:18:30.924Z"
      },
      {
        "duration": 8,
        "start_time": "2022-12-09T14:18:31.104Z"
      },
      {
        "duration": 175,
        "start_time": "2022-12-09T14:18:31.115Z"
      },
      {
        "duration": 20,
        "start_time": "2022-12-09T14:18:31.292Z"
      },
      {
        "duration": 166,
        "start_time": "2022-12-09T14:18:31.314Z"
      },
      {
        "duration": 5,
        "start_time": "2022-12-09T14:18:31.482Z"
      },
      {
        "duration": 6,
        "start_time": "2022-12-09T14:19:49.999Z"
      },
      {
        "duration": 5,
        "start_time": "2022-12-09T14:20:18.827Z"
      },
      {
        "duration": 174,
        "start_time": "2022-12-09T14:20:22.121Z"
      },
      {
        "duration": 2162,
        "start_time": "2022-12-09T14:20:22.297Z"
      },
      {
        "duration": 26,
        "start_time": "2022-12-09T14:20:24.462Z"
      },
      {
        "duration": 12,
        "start_time": "2022-12-09T14:20:24.490Z"
      },
      {
        "duration": 12,
        "start_time": "2022-12-09T14:20:24.505Z"
      },
      {
        "duration": 120,
        "start_time": "2022-12-09T14:20:24.519Z"
      },
      {
        "duration": 46,
        "start_time": "2022-12-09T14:20:24.641Z"
      },
      {
        "duration": 19,
        "start_time": "2022-12-09T14:20:24.689Z"
      },
      {
        "duration": 6,
        "start_time": "2022-12-09T14:20:24.710Z"
      },
      {
        "duration": 13,
        "start_time": "2022-12-09T14:20:24.717Z"
      },
      {
        "duration": 9,
        "start_time": "2022-12-09T14:20:24.733Z"
      },
      {
        "duration": 35,
        "start_time": "2022-12-09T14:20:24.744Z"
      },
      {
        "duration": 17,
        "start_time": "2022-12-09T14:20:24.781Z"
      },
      {
        "duration": 13,
        "start_time": "2022-12-09T14:20:24.802Z"
      },
      {
        "duration": 10,
        "start_time": "2022-12-09T14:20:24.817Z"
      },
      {
        "duration": 49,
        "start_time": "2022-12-09T14:20:24.830Z"
      },
      {
        "duration": 5,
        "start_time": "2022-12-09T14:20:24.882Z"
      },
      {
        "duration": 11,
        "start_time": "2022-12-09T14:20:24.889Z"
      },
      {
        "duration": 11,
        "start_time": "2022-12-09T14:20:24.902Z"
      },
      {
        "duration": 17,
        "start_time": "2022-12-09T14:20:24.915Z"
      },
      {
        "duration": 9,
        "start_time": "2022-12-09T14:20:24.934Z"
      },
      {
        "duration": 33,
        "start_time": "2022-12-09T14:20:24.946Z"
      },
      {
        "duration": 5,
        "start_time": "2022-12-09T14:20:24.981Z"
      },
      {
        "duration": 9,
        "start_time": "2022-12-09T14:20:24.988Z"
      },
      {
        "duration": 5,
        "start_time": "2022-12-09T14:20:25.000Z"
      },
      {
        "duration": 18,
        "start_time": "2022-12-09T14:20:25.008Z"
      },
      {
        "duration": 55,
        "start_time": "2022-12-09T14:20:25.028Z"
      },
      {
        "duration": 4,
        "start_time": "2022-12-09T14:20:25.086Z"
      },
      {
        "duration": 44,
        "start_time": "2022-12-09T14:20:25.093Z"
      },
      {
        "duration": 35,
        "start_time": "2022-12-09T14:20:25.138Z"
      },
      {
        "duration": 354,
        "start_time": "2022-12-09T14:20:25.175Z"
      },
      {
        "duration": 18,
        "start_time": "2022-12-09T14:20:25.531Z"
      },
      {
        "duration": 48,
        "start_time": "2022-12-09T14:20:25.552Z"
      },
      {
        "duration": 67,
        "start_time": "2022-12-09T14:20:25.602Z"
      },
      {
        "duration": 33,
        "start_time": "2022-12-09T14:20:25.671Z"
      },
      {
        "duration": 14,
        "start_time": "2022-12-09T14:20:25.706Z"
      },
      {
        "duration": 259,
        "start_time": "2022-12-09T14:20:25.723Z"
      },
      {
        "duration": 2,
        "start_time": "2022-12-09T14:20:25.984Z"
      },
      {
        "duration": 305,
        "start_time": "2022-12-09T14:20:25.988Z"
      },
      {
        "duration": 2,
        "start_time": "2022-12-09T14:20:26.296Z"
      },
      {
        "duration": 251,
        "start_time": "2022-12-09T14:20:26.304Z"
      },
      {
        "duration": 146,
        "start_time": "2022-12-09T14:20:26.557Z"
      },
      {
        "duration": 2,
        "start_time": "2022-12-09T14:20:26.705Z"
      },
      {
        "duration": 207,
        "start_time": "2022-12-09T14:20:26.709Z"
      },
      {
        "duration": 2,
        "start_time": "2022-12-09T14:20:26.918Z"
      },
      {
        "duration": 213,
        "start_time": "2022-12-09T14:20:26.923Z"
      },
      {
        "duration": 3,
        "start_time": "2022-12-09T14:20:27.138Z"
      },
      {
        "duration": 135,
        "start_time": "2022-12-09T14:20:27.143Z"
      },
      {
        "duration": 9,
        "start_time": "2022-12-09T14:20:27.280Z"
      },
      {
        "duration": 4,
        "start_time": "2022-12-09T14:20:27.291Z"
      },
      {
        "duration": 228,
        "start_time": "2022-12-09T14:20:27.297Z"
      },
      {
        "duration": 304,
        "start_time": "2022-12-09T14:20:27.527Z"
      },
      {
        "duration": 295,
        "start_time": "2022-12-09T14:20:27.832Z"
      },
      {
        "duration": 2,
        "start_time": "2022-12-09T14:20:28.129Z"
      },
      {
        "duration": 286,
        "start_time": "2022-12-09T14:20:28.133Z"
      },
      {
        "duration": 149,
        "start_time": "2022-12-09T14:20:28.421Z"
      },
      {
        "duration": 16,
        "start_time": "2022-12-09T14:20:28.571Z"
      },
      {
        "duration": 189,
        "start_time": "2022-12-09T14:20:28.589Z"
      },
      {
        "duration": 8,
        "start_time": "2022-12-09T14:20:28.780Z"
      },
      {
        "duration": 6,
        "start_time": "2022-12-09T14:20:28.790Z"
      },
      {
        "duration": 309,
        "start_time": "2022-12-09T14:20:28.799Z"
      },
      {
        "duration": 8,
        "start_time": "2022-12-09T14:20:29.110Z"
      },
      {
        "duration": 17,
        "start_time": "2022-12-09T14:20:29.120Z"
      },
      {
        "duration": 201,
        "start_time": "2022-12-09T14:20:29.140Z"
      },
      {
        "duration": 6,
        "start_time": "2022-12-09T14:20:29.344Z"
      },
      {
        "duration": 12,
        "start_time": "2022-12-09T14:20:29.352Z"
      },
      {
        "duration": 17,
        "start_time": "2022-12-09T14:20:29.366Z"
      },
      {
        "duration": 290,
        "start_time": "2022-12-09T14:20:29.384Z"
      },
      {
        "duration": 100,
        "start_time": "2022-12-09T14:20:29.678Z"
      },
      {
        "duration": 5,
        "start_time": "2022-12-09T14:20:29.780Z"
      },
      {
        "duration": 193,
        "start_time": "2022-12-09T14:20:29.787Z"
      },
      {
        "duration": 167,
        "start_time": "2022-12-09T14:20:29.982Z"
      },
      {
        "duration": 158,
        "start_time": "2022-12-09T14:20:30.151Z"
      },
      {
        "duration": 160,
        "start_time": "2022-12-09T14:20:30.311Z"
      },
      {
        "duration": 6,
        "start_time": "2022-12-09T14:20:30.477Z"
      },
      {
        "duration": 227,
        "start_time": "2022-12-09T14:20:30.485Z"
      },
      {
        "duration": 155,
        "start_time": "2022-12-09T14:20:30.714Z"
      },
      {
        "duration": 184,
        "start_time": "2022-12-09T14:20:30.871Z"
      },
      {
        "duration": 174,
        "start_time": "2022-12-09T14:20:31.057Z"
      },
      {
        "duration": 824,
        "start_time": "2022-12-09T14:20:31.233Z"
      },
      {
        "duration": 19,
        "start_time": "2022-12-09T14:20:32.059Z"
      },
      {
        "duration": 174,
        "start_time": "2022-12-09T14:20:32.079Z"
      },
      {
        "duration": 29,
        "start_time": "2022-12-09T14:20:32.255Z"
      },
      {
        "duration": 188,
        "start_time": "2022-12-09T14:20:32.285Z"
      },
      {
        "duration": 5,
        "start_time": "2022-12-09T14:20:38.355Z"
      },
      {
        "duration": 5,
        "start_time": "2022-12-09T14:21:40.582Z"
      },
      {
        "duration": 151,
        "start_time": "2022-12-09T14:21:44.465Z"
      },
      {
        "duration": 1926,
        "start_time": "2022-12-09T14:21:44.617Z"
      },
      {
        "duration": 15,
        "start_time": "2022-12-09T14:21:46.545Z"
      },
      {
        "duration": 23,
        "start_time": "2022-12-09T14:21:46.562Z"
      },
      {
        "duration": 29,
        "start_time": "2022-12-09T14:21:46.587Z"
      },
      {
        "duration": 99,
        "start_time": "2022-12-09T14:21:46.617Z"
      },
      {
        "duration": 44,
        "start_time": "2022-12-09T14:21:46.718Z"
      },
      {
        "duration": 29,
        "start_time": "2022-12-09T14:21:46.763Z"
      },
      {
        "duration": 18,
        "start_time": "2022-12-09T14:21:46.794Z"
      },
      {
        "duration": 58,
        "start_time": "2022-12-09T14:21:46.814Z"
      },
      {
        "duration": 63,
        "start_time": "2022-12-09T14:21:46.873Z"
      },
      {
        "duration": 35,
        "start_time": "2022-12-09T14:21:46.938Z"
      },
      {
        "duration": 35,
        "start_time": "2022-12-09T14:21:46.975Z"
      },
      {
        "duration": 56,
        "start_time": "2022-12-09T14:21:47.012Z"
      },
      {
        "duration": 51,
        "start_time": "2022-12-09T14:21:47.070Z"
      },
      {
        "duration": 51,
        "start_time": "2022-12-09T14:21:47.123Z"
      },
      {
        "duration": 43,
        "start_time": "2022-12-09T14:21:47.176Z"
      },
      {
        "duration": 29,
        "start_time": "2022-12-09T14:21:47.221Z"
      },
      {
        "duration": 49,
        "start_time": "2022-12-09T14:21:47.252Z"
      },
      {
        "duration": 40,
        "start_time": "2022-12-09T14:21:47.303Z"
      },
      {
        "duration": 37,
        "start_time": "2022-12-09T14:21:47.344Z"
      },
      {
        "duration": 41,
        "start_time": "2022-12-09T14:21:47.383Z"
      },
      {
        "duration": 57,
        "start_time": "2022-12-09T14:21:47.426Z"
      },
      {
        "duration": 46,
        "start_time": "2022-12-09T14:21:47.484Z"
      },
      {
        "duration": 54,
        "start_time": "2022-12-09T14:21:47.532Z"
      },
      {
        "duration": 52,
        "start_time": "2022-12-09T14:21:47.588Z"
      },
      {
        "duration": 28,
        "start_time": "2022-12-09T14:21:47.641Z"
      },
      {
        "duration": 17,
        "start_time": "2022-12-09T14:21:47.675Z"
      },
      {
        "duration": 52,
        "start_time": "2022-12-09T14:21:47.693Z"
      },
      {
        "duration": 51,
        "start_time": "2022-12-09T14:21:47.747Z"
      },
      {
        "duration": 323,
        "start_time": "2022-12-09T14:21:47.799Z"
      },
      {
        "duration": 12,
        "start_time": "2022-12-09T14:21:48.124Z"
      },
      {
        "duration": 67,
        "start_time": "2022-12-09T14:21:48.137Z"
      },
      {
        "duration": 60,
        "start_time": "2022-12-09T14:21:48.206Z"
      },
      {
        "duration": 5,
        "start_time": "2022-12-09T14:21:48.268Z"
      },
      {
        "duration": 39,
        "start_time": "2022-12-09T14:21:48.274Z"
      },
      {
        "duration": 286,
        "start_time": "2022-12-09T14:21:48.315Z"
      },
      {
        "duration": 3,
        "start_time": "2022-12-09T14:21:48.603Z"
      },
      {
        "duration": 311,
        "start_time": "2022-12-09T14:21:48.608Z"
      },
      {
        "duration": 3,
        "start_time": "2022-12-09T14:21:48.921Z"
      },
      {
        "duration": 284,
        "start_time": "2022-12-09T14:21:48.925Z"
      },
      {
        "duration": 169,
        "start_time": "2022-12-09T14:21:49.211Z"
      },
      {
        "duration": 3,
        "start_time": "2022-12-09T14:21:49.381Z"
      },
      {
        "duration": 246,
        "start_time": "2022-12-09T14:21:49.386Z"
      },
      {
        "duration": 3,
        "start_time": "2022-12-09T14:21:49.634Z"
      },
      {
        "duration": 232,
        "start_time": "2022-12-09T14:21:49.639Z"
      },
      {
        "duration": 2,
        "start_time": "2022-12-09T14:21:49.873Z"
      },
      {
        "duration": 190,
        "start_time": "2022-12-09T14:21:49.878Z"
      },
      {
        "duration": 12,
        "start_time": "2022-12-09T14:21:50.070Z"
      },
      {
        "duration": 49,
        "start_time": "2022-12-09T14:21:50.084Z"
      },
      {
        "duration": 266,
        "start_time": "2022-12-09T14:21:50.135Z"
      },
      {
        "duration": 309,
        "start_time": "2022-12-09T14:21:50.403Z"
      },
      {
        "duration": 299,
        "start_time": "2022-12-09T14:21:50.713Z"
      },
      {
        "duration": 3,
        "start_time": "2022-12-09T14:21:51.013Z"
      },
      {
        "duration": 295,
        "start_time": "2022-12-09T14:21:51.019Z"
      },
      {
        "duration": 162,
        "start_time": "2022-12-09T14:21:51.316Z"
      },
      {
        "duration": 11,
        "start_time": "2022-12-09T14:21:51.480Z"
      },
      {
        "duration": 168,
        "start_time": "2022-12-09T14:21:51.493Z"
      },
      {
        "duration": 7,
        "start_time": "2022-12-09T14:21:51.663Z"
      },
      {
        "duration": 2,
        "start_time": "2022-12-09T14:21:51.678Z"
      },
      {
        "duration": 356,
        "start_time": "2022-12-09T14:21:51.682Z"
      },
      {
        "duration": 7,
        "start_time": "2022-12-09T14:21:52.039Z"
      },
      {
        "duration": 30,
        "start_time": "2022-12-09T14:21:52.048Z"
      },
      {
        "duration": 216,
        "start_time": "2022-12-09T14:21:52.080Z"
      },
      {
        "duration": 7,
        "start_time": "2022-12-09T14:21:52.298Z"
      },
      {
        "duration": 16,
        "start_time": "2022-12-09T14:21:52.306Z"
      },
      {
        "duration": 8,
        "start_time": "2022-12-09T14:21:52.324Z"
      },
      {
        "duration": 303,
        "start_time": "2022-12-09T14:21:52.334Z"
      },
      {
        "duration": 106,
        "start_time": "2022-12-09T14:21:52.639Z"
      },
      {
        "duration": 6,
        "start_time": "2022-12-09T14:21:52.747Z"
      },
      {
        "duration": 170,
        "start_time": "2022-12-09T14:21:52.755Z"
      },
      {
        "duration": 196,
        "start_time": "2022-12-09T14:21:52.928Z"
      },
      {
        "duration": 160,
        "start_time": "2022-12-09T14:21:53.126Z"
      },
      {
        "duration": 162,
        "start_time": "2022-12-09T14:21:53.287Z"
      },
      {
        "duration": 6,
        "start_time": "2022-12-09T14:21:53.450Z"
      },
      {
        "duration": 183,
        "start_time": "2022-12-09T14:21:53.458Z"
      },
      {
        "duration": 149,
        "start_time": "2022-12-09T14:21:53.642Z"
      },
      {
        "duration": 195,
        "start_time": "2022-12-09T14:21:53.792Z"
      },
      {
        "duration": 189,
        "start_time": "2022-12-09T14:21:53.989Z"
      },
      {
        "duration": 167,
        "start_time": "2022-12-09T14:21:54.180Z"
      },
      {
        "duration": 8,
        "start_time": "2022-12-09T14:21:54.350Z"
      },
      {
        "duration": 165,
        "start_time": "2022-12-09T14:21:54.364Z"
      },
      {
        "duration": 21,
        "start_time": "2022-12-09T14:21:54.531Z"
      },
      {
        "duration": 173,
        "start_time": "2022-12-09T14:21:54.553Z"
      },
      {
        "duration": 5,
        "start_time": "2022-12-09T14:21:54.727Z"
      },
      {
        "duration": 72,
        "start_time": "2022-12-09T14:24:06.948Z"
      },
      {
        "duration": 1728,
        "start_time": "2022-12-10T14:17:35.659Z"
      },
      {
        "duration": 1940,
        "start_time": "2022-12-10T14:17:37.389Z"
      },
      {
        "duration": 90,
        "start_time": "2022-12-10T14:17:39.331Z"
      },
      {
        "duration": 9,
        "start_time": "2022-12-10T14:17:39.423Z"
      },
      {
        "duration": 12,
        "start_time": "2022-12-10T14:17:39.435Z"
      },
      {
        "duration": 103,
        "start_time": "2022-12-10T14:17:39.448Z"
      },
      {
        "duration": 30,
        "start_time": "2022-12-10T14:17:39.553Z"
      },
      {
        "duration": 22,
        "start_time": "2022-12-10T14:17:39.597Z"
      },
      {
        "duration": 5,
        "start_time": "2022-12-10T14:17:39.621Z"
      },
      {
        "duration": 10,
        "start_time": "2022-12-10T14:17:39.628Z"
      },
      {
        "duration": 10,
        "start_time": "2022-12-10T14:17:39.639Z"
      },
      {
        "duration": 6,
        "start_time": "2022-12-10T14:17:39.650Z"
      },
      {
        "duration": 15,
        "start_time": "2022-12-10T14:17:39.658Z"
      },
      {
        "duration": 10,
        "start_time": "2022-12-10T14:17:39.698Z"
      },
      {
        "duration": 14,
        "start_time": "2022-12-10T14:17:39.710Z"
      },
      {
        "duration": 19,
        "start_time": "2022-12-10T14:17:39.726Z"
      },
      {
        "duration": 44,
        "start_time": "2022-12-10T14:17:39.747Z"
      },
      {
        "duration": 5,
        "start_time": "2022-12-10T14:17:39.793Z"
      },
      {
        "duration": 7,
        "start_time": "2022-12-10T14:17:39.800Z"
      },
      {
        "duration": 16,
        "start_time": "2022-12-10T14:17:39.809Z"
      },
      {
        "duration": 5,
        "start_time": "2022-12-10T14:17:39.827Z"
      },
      {
        "duration": 11,
        "start_time": "2022-12-10T14:17:39.834Z"
      },
      {
        "duration": 5,
        "start_time": "2022-12-10T14:17:39.847Z"
      },
      {
        "duration": 11,
        "start_time": "2022-12-10T14:17:39.854Z"
      },
      {
        "duration": 5,
        "start_time": "2022-12-10T14:17:39.867Z"
      },
      {
        "duration": 32,
        "start_time": "2022-12-10T14:17:39.874Z"
      },
      {
        "duration": 25,
        "start_time": "2022-12-10T14:17:39.908Z"
      },
      {
        "duration": 5,
        "start_time": "2022-12-10T14:17:39.935Z"
      },
      {
        "duration": 22,
        "start_time": "2022-12-10T14:17:39.942Z"
      },
      {
        "duration": 58,
        "start_time": "2022-12-10T14:17:39.965Z"
      },
      {
        "duration": 414,
        "start_time": "2022-12-10T14:17:40.026Z"
      },
      {
        "duration": 12,
        "start_time": "2022-12-10T14:17:40.441Z"
      },
      {
        "duration": 6,
        "start_time": "2022-12-10T14:17:40.454Z"
      },
      {
        "duration": 50,
        "start_time": "2022-12-10T14:17:40.461Z"
      },
      {
        "duration": 7,
        "start_time": "2022-12-10T14:17:40.513Z"
      },
      {
        "duration": 5,
        "start_time": "2022-12-10T14:17:40.522Z"
      },
      {
        "duration": 282,
        "start_time": "2022-12-10T14:17:40.528Z"
      },
      {
        "duration": 3,
        "start_time": "2022-12-10T14:17:40.811Z"
      },
      {
        "duration": 320,
        "start_time": "2022-12-10T14:17:40.816Z"
      },
      {
        "duration": 3,
        "start_time": "2022-12-10T14:17:41.138Z"
      },
      {
        "duration": 292,
        "start_time": "2022-12-10T14:17:41.146Z"
      },
      {
        "duration": 203,
        "start_time": "2022-12-10T14:17:41.440Z"
      },
      {
        "duration": 2,
        "start_time": "2022-12-10T14:17:41.645Z"
      },
      {
        "duration": 236,
        "start_time": "2022-12-10T14:17:41.650Z"
      },
      {
        "duration": 2,
        "start_time": "2022-12-10T14:17:41.887Z"
      },
      {
        "duration": 335,
        "start_time": "2022-12-10T14:17:41.896Z"
      },
      {
        "duration": 3,
        "start_time": "2022-12-10T14:17:42.232Z"
      },
      {
        "duration": 161,
        "start_time": "2022-12-10T14:17:42.236Z"
      },
      {
        "duration": 13,
        "start_time": "2022-12-10T14:17:42.399Z"
      },
      {
        "duration": 10,
        "start_time": "2022-12-10T14:17:42.414Z"
      },
      {
        "duration": 240,
        "start_time": "2022-12-10T14:17:42.426Z"
      },
      {
        "duration": 381,
        "start_time": "2022-12-10T14:17:42.668Z"
      },
      {
        "duration": 306,
        "start_time": "2022-12-10T14:17:43.051Z"
      },
      {
        "duration": 3,
        "start_time": "2022-12-10T14:17:43.359Z"
      },
      {
        "duration": 309,
        "start_time": "2022-12-10T14:17:43.364Z"
      },
      {
        "duration": 178,
        "start_time": "2022-12-10T14:17:43.675Z"
      },
      {
        "duration": 10,
        "start_time": "2022-12-10T14:17:43.855Z"
      },
      {
        "duration": 312,
        "start_time": "2022-12-10T14:17:43.867Z"
      },
      {
        "duration": 7,
        "start_time": "2022-12-10T14:17:44.181Z"
      },
      {
        "duration": 3,
        "start_time": "2022-12-10T14:17:44.197Z"
      },
      {
        "duration": 331,
        "start_time": "2022-12-10T14:17:44.201Z"
      },
      {
        "duration": 6,
        "start_time": "2022-12-10T14:17:44.534Z"
      },
      {
        "duration": 14,
        "start_time": "2022-12-10T14:17:44.542Z"
      },
      {
        "duration": 218,
        "start_time": "2022-12-10T14:17:44.558Z"
      },
      {
        "duration": 6,
        "start_time": "2022-12-10T14:17:44.777Z"
      },
      {
        "duration": 18,
        "start_time": "2022-12-10T14:17:44.785Z"
      },
      {
        "duration": 16,
        "start_time": "2022-12-10T14:17:44.805Z"
      },
      {
        "duration": 328,
        "start_time": "2022-12-10T14:17:44.822Z"
      },
      {
        "duration": 112,
        "start_time": "2022-12-10T14:17:45.152Z"
      },
      {
        "duration": 5,
        "start_time": "2022-12-10T14:17:45.266Z"
      },
      {
        "duration": 215,
        "start_time": "2022-12-10T14:17:45.273Z"
      },
      {
        "duration": 178,
        "start_time": "2022-12-10T14:17:45.490Z"
      },
      {
        "duration": 161,
        "start_time": "2022-12-10T14:17:45.670Z"
      },
      {
        "duration": 179,
        "start_time": "2022-12-10T14:17:45.833Z"
      },
      {
        "duration": 7,
        "start_time": "2022-12-10T14:17:46.015Z"
      },
      {
        "duration": 230,
        "start_time": "2022-12-10T14:17:46.024Z"
      },
      {
        "duration": 172,
        "start_time": "2022-12-10T14:17:46.256Z"
      },
      {
        "duration": 172,
        "start_time": "2022-12-10T14:17:46.429Z"
      },
      {
        "duration": 167,
        "start_time": "2022-12-10T14:17:46.603Z"
      },
      {
        "duration": 167,
        "start_time": "2022-12-10T14:17:46.772Z"
      },
      {
        "duration": 8,
        "start_time": "2022-12-10T14:17:46.940Z"
      },
      {
        "duration": 174,
        "start_time": "2022-12-10T14:17:46.949Z"
      },
      {
        "duration": 18,
        "start_time": "2022-12-10T14:17:47.125Z"
      },
      {
        "duration": 290,
        "start_time": "2022-12-10T14:17:47.145Z"
      },
      {
        "duration": 4,
        "start_time": "2022-12-10T14:17:47.438Z"
      },
      {
        "duration": 6,
        "start_time": "2022-12-10T14:25:55.244Z"
      },
      {
        "duration": 93,
        "start_time": "2022-12-10T14:27:13.492Z"
      },
      {
        "duration": 44,
        "start_time": "2022-12-10T14:27:18.849Z"
      },
      {
        "duration": 14,
        "start_time": "2022-12-10T14:27:22.420Z"
      },
      {
        "duration": 1236,
        "start_time": "2022-12-10T14:29:41.767Z"
      },
      {
        "duration": 1748,
        "start_time": "2022-12-10T14:29:43.005Z"
      },
      {
        "duration": 79,
        "start_time": "2022-12-10T14:29:44.755Z"
      },
      {
        "duration": 9,
        "start_time": "2022-12-10T14:29:44.837Z"
      },
      {
        "duration": 10,
        "start_time": "2022-12-10T14:29:44.847Z"
      },
      {
        "duration": 73,
        "start_time": "2022-12-10T14:29:44.859Z"
      },
      {
        "duration": 29,
        "start_time": "2022-12-10T14:29:44.934Z"
      },
      {
        "duration": 14,
        "start_time": "2022-12-10T14:29:44.965Z"
      },
      {
        "duration": 4,
        "start_time": "2022-12-10T14:29:44.981Z"
      },
      {
        "duration": 7,
        "start_time": "2022-12-10T14:29:44.996Z"
      },
      {
        "duration": 26,
        "start_time": "2022-12-10T14:29:45.004Z"
      },
      {
        "duration": 16,
        "start_time": "2022-12-10T14:29:45.032Z"
      },
      {
        "duration": 10,
        "start_time": "2022-12-10T14:29:45.049Z"
      },
      {
        "duration": 11,
        "start_time": "2022-12-10T14:29:45.060Z"
      },
      {
        "duration": 20,
        "start_time": "2022-12-10T14:29:45.072Z"
      },
      {
        "duration": 3,
        "start_time": "2022-12-10T14:29:45.094Z"
      },
      {
        "duration": 7,
        "start_time": "2022-12-10T14:29:45.098Z"
      },
      {
        "duration": 7,
        "start_time": "2022-12-10T14:29:45.106Z"
      },
      {
        "duration": 11,
        "start_time": "2022-12-10T14:29:45.115Z"
      },
      {
        "duration": 16,
        "start_time": "2022-12-10T14:29:45.128Z"
      },
      {
        "duration": 8,
        "start_time": "2022-12-10T14:29:45.146Z"
      },
      {
        "duration": 12,
        "start_time": "2022-12-10T14:29:45.156Z"
      },
      {
        "duration": 10,
        "start_time": "2022-12-10T14:29:45.169Z"
      },
      {
        "duration": 9,
        "start_time": "2022-12-10T14:29:45.181Z"
      },
      {
        "duration": 32,
        "start_time": "2022-12-10T14:29:45.191Z"
      },
      {
        "duration": 19,
        "start_time": "2022-12-10T14:29:45.224Z"
      },
      {
        "duration": 63,
        "start_time": "2022-12-10T14:29:45.244Z"
      },
      {
        "duration": 4,
        "start_time": "2022-12-10T14:29:45.311Z"
      },
      {
        "duration": 20,
        "start_time": "2022-12-10T14:29:45.316Z"
      },
      {
        "duration": 24,
        "start_time": "2022-12-10T14:29:45.338Z"
      },
      {
        "duration": 317,
        "start_time": "2022-12-10T14:29:45.364Z"
      },
      {
        "duration": 17,
        "start_time": "2022-12-10T14:29:45.683Z"
      },
      {
        "duration": 8,
        "start_time": "2022-12-10T14:29:45.702Z"
      },
      {
        "duration": 25,
        "start_time": "2022-12-10T14:29:45.711Z"
      },
      {
        "duration": 4,
        "start_time": "2022-12-10T14:29:45.738Z"
      },
      {
        "duration": 4,
        "start_time": "2022-12-10T14:29:45.744Z"
      },
      {
        "duration": 249,
        "start_time": "2022-12-10T14:29:45.749Z"
      },
      {
        "duration": 3,
        "start_time": "2022-12-10T14:29:46.000Z"
      },
      {
        "duration": 345,
        "start_time": "2022-12-10T14:29:46.005Z"
      },
      {
        "duration": 2,
        "start_time": "2022-12-10T14:29:46.351Z"
      },
      {
        "duration": 234,
        "start_time": "2022-12-10T14:29:46.355Z"
      },
      {
        "duration": 131,
        "start_time": "2022-12-10T14:29:46.596Z"
      },
      {
        "duration": 2,
        "start_time": "2022-12-10T14:29:46.728Z"
      },
      {
        "duration": 189,
        "start_time": "2022-12-10T14:29:46.731Z"
      },
      {
        "duration": 2,
        "start_time": "2022-12-10T14:29:46.922Z"
      },
      {
        "duration": 273,
        "start_time": "2022-12-10T14:29:46.926Z"
      },
      {
        "duration": 3,
        "start_time": "2022-12-10T14:29:47.200Z"
      },
      {
        "duration": 130,
        "start_time": "2022-12-10T14:29:47.204Z"
      },
      {
        "duration": 8,
        "start_time": "2022-12-10T14:29:47.336Z"
      },
      {
        "duration": 14,
        "start_time": "2022-12-10T14:29:47.346Z"
      },
      {
        "duration": 209,
        "start_time": "2022-12-10T14:29:47.362Z"
      },
      {
        "duration": 277,
        "start_time": "2022-12-10T14:29:47.573Z"
      },
      {
        "duration": 274,
        "start_time": "2022-12-10T14:29:47.851Z"
      },
      {
        "duration": 3,
        "start_time": "2022-12-10T14:29:48.126Z"
      },
      {
        "duration": 272,
        "start_time": "2022-12-10T14:29:48.130Z"
      },
      {
        "duration": 145,
        "start_time": "2022-12-10T14:29:48.404Z"
      },
      {
        "duration": 10,
        "start_time": "2022-12-10T14:29:48.550Z"
      },
      {
        "duration": 251,
        "start_time": "2022-12-10T14:29:48.561Z"
      },
      {
        "duration": 7,
        "start_time": "2022-12-10T14:29:48.813Z"
      },
      {
        "duration": 4,
        "start_time": "2022-12-10T14:29:48.822Z"
      },
      {
        "duration": 317,
        "start_time": "2022-12-10T14:29:48.828Z"
      },
      {
        "duration": 7,
        "start_time": "2022-12-10T14:29:49.146Z"
      },
      {
        "duration": 11,
        "start_time": "2022-12-10T14:29:49.154Z"
      },
      {
        "duration": 207,
        "start_time": "2022-12-10T14:29:49.166Z"
      },
      {
        "duration": 7,
        "start_time": "2022-12-10T14:29:49.375Z"
      },
      {
        "duration": 36,
        "start_time": "2022-12-10T14:29:49.383Z"
      },
      {
        "duration": 7,
        "start_time": "2022-12-10T14:29:49.420Z"
      },
      {
        "duration": 264,
        "start_time": "2022-12-10T14:29:49.429Z"
      },
      {
        "duration": 88,
        "start_time": "2022-12-10T14:29:49.695Z"
      },
      {
        "duration": 5,
        "start_time": "2022-12-10T14:29:49.796Z"
      },
      {
        "duration": 160,
        "start_time": "2022-12-10T14:29:49.803Z"
      },
      {
        "duration": 169,
        "start_time": "2022-12-10T14:29:49.965Z"
      },
      {
        "duration": 148,
        "start_time": "2022-12-10T14:29:50.136Z"
      },
      {
        "duration": 168,
        "start_time": "2022-12-10T14:29:50.286Z"
      },
      {
        "duration": 5,
        "start_time": "2022-12-10T14:29:50.456Z"
      },
      {
        "duration": 168,
        "start_time": "2022-12-10T14:29:50.462Z"
      },
      {
        "duration": 168,
        "start_time": "2022-12-10T14:29:50.632Z"
      },
      {
        "duration": 173,
        "start_time": "2022-12-10T14:29:50.802Z"
      },
      {
        "duration": 160,
        "start_time": "2022-12-10T14:29:50.978Z"
      },
      {
        "duration": 151,
        "start_time": "2022-12-10T14:29:51.139Z"
      },
      {
        "duration": 8,
        "start_time": "2022-12-10T14:29:51.295Z"
      },
      {
        "duration": 156,
        "start_time": "2022-12-10T14:29:51.308Z"
      },
      {
        "duration": 18,
        "start_time": "2022-12-10T14:29:51.466Z"
      },
      {
        "duration": 285,
        "start_time": "2022-12-10T14:29:51.497Z"
      },
      {
        "duration": 5,
        "start_time": "2022-12-10T14:29:51.784Z"
      },
      {
        "duration": 9,
        "start_time": "2022-12-10T14:52:48.148Z"
      },
      {
        "duration": 1578,
        "start_time": "2022-12-10T15:27:25.148Z"
      },
      {
        "duration": 232,
        "start_time": "2022-12-10T15:27:27.511Z"
      },
      {
        "duration": 214,
        "start_time": "2022-12-10T15:27:43.997Z"
      },
      {
        "duration": 117,
        "start_time": "2022-12-10T15:28:03.658Z"
      },
      {
        "duration": 72,
        "start_time": "2022-12-10T15:28:44.209Z"
      },
      {
        "duration": 95,
        "start_time": "2022-12-10T15:28:54.215Z"
      },
      {
        "duration": 77,
        "start_time": "2022-12-10T15:30:12.074Z"
      },
      {
        "duration": 71,
        "start_time": "2022-12-10T15:30:20.158Z"
      },
      {
        "duration": 2293,
        "start_time": "2022-12-10T15:30:27.555Z"
      },
      {
        "duration": 3,
        "start_time": "2022-12-10T15:36:18.407Z"
      },
      {
        "duration": 149,
        "start_time": "2022-12-10T15:36:18.412Z"
      },
      {
        "duration": 2346,
        "start_time": "2022-12-10T15:36:18.564Z"
      },
      {
        "duration": 18,
        "start_time": "2022-12-10T15:36:20.912Z"
      },
      {
        "duration": 27,
        "start_time": "2022-12-10T15:36:20.933Z"
      },
      {
        "duration": 14,
        "start_time": "2022-12-10T15:36:20.962Z"
      },
      {
        "duration": 85,
        "start_time": "2022-12-10T15:36:20.978Z"
      },
      {
        "duration": 27,
        "start_time": "2022-12-10T15:36:21.065Z"
      },
      {
        "duration": 19,
        "start_time": "2022-12-10T15:36:21.094Z"
      },
      {
        "duration": 3,
        "start_time": "2022-12-10T15:36:21.114Z"
      },
      {
        "duration": 34,
        "start_time": "2022-12-10T15:36:21.120Z"
      },
      {
        "duration": 3,
        "start_time": "2022-12-10T15:36:21.156Z"
      },
      {
        "duration": 22,
        "start_time": "2022-12-10T15:36:21.161Z"
      },
      {
        "duration": 14,
        "start_time": "2022-12-10T15:36:21.185Z"
      },
      {
        "duration": 11,
        "start_time": "2022-12-10T15:36:21.202Z"
      },
      {
        "duration": 37,
        "start_time": "2022-12-10T15:36:21.215Z"
      },
      {
        "duration": 2,
        "start_time": "2022-12-10T15:36:21.254Z"
      },
      {
        "duration": 15,
        "start_time": "2022-12-10T15:36:21.258Z"
      },
      {
        "duration": 8,
        "start_time": "2022-12-10T15:36:21.275Z"
      },
      {
        "duration": 12,
        "start_time": "2022-12-10T15:36:21.285Z"
      },
      {
        "duration": 6,
        "start_time": "2022-12-10T15:36:21.299Z"
      },
      {
        "duration": 9,
        "start_time": "2022-12-10T15:36:21.307Z"
      },
      {
        "duration": 6,
        "start_time": "2022-12-10T15:36:21.318Z"
      },
      {
        "duration": 28,
        "start_time": "2022-12-10T15:36:21.325Z"
      },
      {
        "duration": 12,
        "start_time": "2022-12-10T15:36:21.355Z"
      },
      {
        "duration": 28,
        "start_time": "2022-12-10T15:36:21.369Z"
      },
      {
        "duration": 22,
        "start_time": "2022-12-10T15:36:21.399Z"
      },
      {
        "duration": 5,
        "start_time": "2022-12-10T15:36:21.423Z"
      },
      {
        "duration": 36,
        "start_time": "2022-12-10T15:36:21.432Z"
      },
      {
        "duration": 29,
        "start_time": "2022-12-10T15:36:21.470Z"
      },
      {
        "duration": 480,
        "start_time": "2022-12-10T15:36:21.501Z"
      },
      {
        "duration": 11,
        "start_time": "2022-12-10T15:36:21.983Z"
      },
      {
        "duration": 5,
        "start_time": "2022-12-10T15:36:21.997Z"
      },
      {
        "duration": 49,
        "start_time": "2022-12-10T15:36:22.003Z"
      },
      {
        "duration": 6,
        "start_time": "2022-12-10T15:36:22.054Z"
      },
      {
        "duration": 5,
        "start_time": "2022-12-10T15:36:22.062Z"
      },
      {
        "duration": 267,
        "start_time": "2022-12-10T15:36:22.069Z"
      },
      {
        "duration": 2,
        "start_time": "2022-12-10T15:36:22.339Z"
      },
      {
        "duration": 304,
        "start_time": "2022-12-10T15:36:22.350Z"
      },
      {
        "duration": 2,
        "start_time": "2022-12-10T15:36:22.656Z"
      },
      {
        "duration": 287,
        "start_time": "2022-12-10T15:36:22.660Z"
      },
      {
        "duration": 178,
        "start_time": "2022-12-10T15:36:22.948Z"
      },
      {
        "duration": 2,
        "start_time": "2022-12-10T15:36:23.128Z"
      },
      {
        "duration": 265,
        "start_time": "2022-12-10T15:36:23.132Z"
      },
      {
        "duration": 3,
        "start_time": "2022-12-10T15:36:23.399Z"
      },
      {
        "duration": 230,
        "start_time": "2022-12-10T15:36:23.404Z"
      },
      {
        "duration": 2,
        "start_time": "2022-12-10T15:36:23.636Z"
      },
      {
        "duration": 145,
        "start_time": "2022-12-10T15:36:23.650Z"
      },
      {
        "duration": 11,
        "start_time": "2022-12-10T15:36:23.796Z"
      },
      {
        "duration": 44,
        "start_time": "2022-12-10T15:36:23.808Z"
      },
      {
        "duration": 369,
        "start_time": "2022-12-10T15:36:23.854Z"
      },
      {
        "duration": 329,
        "start_time": "2022-12-10T15:36:24.225Z"
      },
      {
        "duration": 348,
        "start_time": "2022-12-10T15:36:24.556Z"
      },
      {
        "duration": 2,
        "start_time": "2022-12-10T15:36:24.906Z"
      },
      {
        "duration": 359,
        "start_time": "2022-12-10T15:36:24.910Z"
      },
      {
        "duration": 166,
        "start_time": "2022-12-10T15:36:25.270Z"
      },
      {
        "duration": 17,
        "start_time": "2022-12-10T15:36:25.438Z"
      },
      {
        "duration": 223,
        "start_time": "2022-12-10T15:36:25.457Z"
      },
      {
        "duration": 9,
        "start_time": "2022-12-10T15:36:25.682Z"
      },
      {
        "duration": 48,
        "start_time": "2022-12-10T15:36:25.693Z"
      },
      {
        "duration": 380,
        "start_time": "2022-12-10T15:36:25.742Z"
      },
      {
        "duration": 6,
        "start_time": "2022-12-10T15:36:26.124Z"
      },
      {
        "duration": 59,
        "start_time": "2022-12-10T15:36:26.132Z"
      },
      {
        "duration": 379,
        "start_time": "2022-12-10T15:36:26.193Z"
      },
      {
        "duration": 7,
        "start_time": "2022-12-10T15:36:26.574Z"
      },
      {
        "duration": 38,
        "start_time": "2022-12-10T15:36:26.582Z"
      },
      {
        "duration": 51,
        "start_time": "2022-12-10T15:36:26.622Z"
      },
      {
        "duration": 343,
        "start_time": "2022-12-10T15:36:26.675Z"
      },
      {
        "duration": 112,
        "start_time": "2022-12-10T15:36:27.020Z"
      },
      {
        "duration": 18,
        "start_time": "2022-12-10T15:36:27.134Z"
      },
      {
        "duration": 192,
        "start_time": "2022-12-10T15:36:27.153Z"
      },
      {
        "duration": 188,
        "start_time": "2022-12-10T15:36:27.347Z"
      },
      {
        "duration": 171,
        "start_time": "2022-12-10T15:36:27.537Z"
      },
      {
        "duration": 169,
        "start_time": "2022-12-10T15:36:27.710Z"
      },
      {
        "duration": 6,
        "start_time": "2022-12-10T15:36:27.880Z"
      },
      {
        "duration": 229,
        "start_time": "2022-12-10T15:36:27.887Z"
      },
      {
        "duration": 177,
        "start_time": "2022-12-10T15:36:28.118Z"
      },
      {
        "duration": 181,
        "start_time": "2022-12-10T15:36:28.297Z"
      },
      {
        "duration": 191,
        "start_time": "2022-12-10T15:36:28.480Z"
      },
      {
        "duration": 178,
        "start_time": "2022-12-10T15:36:28.674Z"
      },
      {
        "duration": 9,
        "start_time": "2022-12-10T15:36:28.854Z"
      },
      {
        "duration": 219,
        "start_time": "2022-12-10T15:36:28.865Z"
      },
      {
        "duration": 22,
        "start_time": "2022-12-10T15:36:29.091Z"
      },
      {
        "duration": 200,
        "start_time": "2022-12-10T15:36:29.115Z"
      },
      {
        "duration": 6,
        "start_time": "2022-12-10T15:36:29.317Z"
      },
      {
        "duration": 6,
        "start_time": "2022-12-10T15:45:20.897Z"
      },
      {
        "duration": 90,
        "start_time": "2022-12-10T15:46:32.662Z"
      },
      {
        "duration": 5,
        "start_time": "2022-12-10T15:46:35.014Z"
      },
      {
        "duration": 36,
        "start_time": "2022-12-10T15:47:21.604Z"
      },
      {
        "duration": 32,
        "start_time": "2022-12-10T15:47:30.961Z"
      },
      {
        "duration": 73,
        "start_time": "2022-12-10T15:48:01.548Z"
      },
      {
        "duration": 71,
        "start_time": "2022-12-10T15:48:05.911Z"
      },
      {
        "duration": 72,
        "start_time": "2022-12-10T15:48:13.110Z"
      },
      {
        "duration": 5,
        "start_time": "2022-12-10T15:48:51.164Z"
      },
      {
        "duration": 10,
        "start_time": "2022-12-10T15:49:06.162Z"
      },
      {
        "duration": 5,
        "start_time": "2022-12-10T15:49:40.655Z"
      },
      {
        "duration": 9,
        "start_time": "2022-12-10T15:49:42.359Z"
      },
      {
        "duration": 5,
        "start_time": "2022-12-10T15:49:55.381Z"
      },
      {
        "duration": 10,
        "start_time": "2022-12-10T15:49:57.455Z"
      },
      {
        "duration": 8,
        "start_time": "2022-12-10T15:50:00.017Z"
      },
      {
        "duration": 5,
        "start_time": "2022-12-10T15:50:14.496Z"
      },
      {
        "duration": 4,
        "start_time": "2022-12-10T15:51:27.057Z"
      },
      {
        "duration": 9,
        "start_time": "2022-12-10T15:52:10.846Z"
      },
      {
        "duration": 5,
        "start_time": "2022-12-10T15:54:22.162Z"
      },
      {
        "duration": 5,
        "start_time": "2022-12-10T15:54:31.378Z"
      },
      {
        "duration": 9,
        "start_time": "2022-12-10T15:54:39.497Z"
      },
      {
        "duration": 6,
        "start_time": "2022-12-10T15:54:48.795Z"
      },
      {
        "duration": 4,
        "start_time": "2022-12-10T15:54:51.153Z"
      },
      {
        "duration": 9,
        "start_time": "2022-12-10T15:54:52.650Z"
      },
      {
        "duration": 5827,
        "start_time": "2022-12-10T16:00:17.493Z"
      },
      {
        "duration": 0,
        "start_time": "2022-12-10T16:00:23.323Z"
      },
      {
        "duration": 84,
        "start_time": "2022-12-10T16:01:46.480Z"
      },
      {
        "duration": 79,
        "start_time": "2022-12-10T16:01:56.615Z"
      },
      {
        "duration": 5891,
        "start_time": "2022-12-10T16:02:06.755Z"
      },
      {
        "duration": 0,
        "start_time": "2022-12-10T16:02:12.649Z"
      },
      {
        "duration": 294,
        "start_time": "2022-12-10T16:06:22.649Z"
      },
      {
        "duration": 283,
        "start_time": "2022-12-10T16:06:35.457Z"
      },
      {
        "duration": 341,
        "start_time": "2022-12-10T16:07:43.880Z"
      },
      {
        "duration": 303,
        "start_time": "2022-12-10T16:08:37.380Z"
      },
      {
        "duration": 6,
        "start_time": "2022-12-10T16:08:46.951Z"
      },
      {
        "duration": 7,
        "start_time": "2022-12-10T16:08:50.783Z"
      },
      {
        "duration": 8,
        "start_time": "2022-12-10T16:08:54.925Z"
      },
      {
        "duration": 9,
        "start_time": "2022-12-10T16:08:57.540Z"
      },
      {
        "duration": 8,
        "start_time": "2022-12-10T16:08:59.962Z"
      },
      {
        "duration": 7,
        "start_time": "2022-12-10T16:09:02.568Z"
      },
      {
        "duration": 195,
        "start_time": "2022-12-10T16:09:11.576Z"
      },
      {
        "duration": 6,
        "start_time": "2022-12-10T16:09:17.805Z"
      },
      {
        "duration": 200,
        "start_time": "2022-12-10T16:09:31.177Z"
      },
      {
        "duration": 3,
        "start_time": "2022-12-10T16:09:34.491Z"
      },
      {
        "duration": 138,
        "start_time": "2022-12-10T16:09:34.497Z"
      },
      {
        "duration": 2347,
        "start_time": "2022-12-10T16:09:34.637Z"
      },
      {
        "duration": 15,
        "start_time": "2022-12-10T16:09:36.987Z"
      },
      {
        "duration": 11,
        "start_time": "2022-12-10T16:09:37.004Z"
      },
      {
        "duration": 35,
        "start_time": "2022-12-10T16:09:37.017Z"
      },
      {
        "duration": 63,
        "start_time": "2022-12-10T16:09:37.054Z"
      },
      {
        "duration": 47,
        "start_time": "2022-12-10T16:09:37.119Z"
      },
      {
        "duration": 18,
        "start_time": "2022-12-10T16:09:37.168Z"
      },
      {
        "duration": 9,
        "start_time": "2022-12-10T16:09:37.188Z"
      },
      {
        "duration": 9,
        "start_time": "2022-12-10T16:09:37.200Z"
      },
      {
        "duration": 5,
        "start_time": "2022-12-10T16:09:37.211Z"
      },
      {
        "duration": 40,
        "start_time": "2022-12-10T16:09:37.218Z"
      },
      {
        "duration": 16,
        "start_time": "2022-12-10T16:09:37.260Z"
      },
      {
        "duration": 18,
        "start_time": "2022-12-10T16:09:37.279Z"
      },
      {
        "duration": 15,
        "start_time": "2022-12-10T16:09:37.299Z"
      },
      {
        "duration": 3,
        "start_time": "2022-12-10T16:09:37.316Z"
      },
      {
        "duration": 30,
        "start_time": "2022-12-10T16:09:37.321Z"
      },
      {
        "duration": 10,
        "start_time": "2022-12-10T16:09:37.354Z"
      },
      {
        "duration": 6,
        "start_time": "2022-12-10T16:09:40.675Z"
      },
      {
        "duration": 10,
        "start_time": "2022-12-10T16:09:43.670Z"
      },
      {
        "duration": 5,
        "start_time": "2022-12-10T16:09:50.649Z"
      },
      {
        "duration": 5,
        "start_time": "2022-12-10T16:09:53.908Z"
      },
      {
        "duration": 11,
        "start_time": "2022-12-10T16:09:57.594Z"
      },
      {
        "duration": 4,
        "start_time": "2022-12-10T16:11:15.941Z"
      },
      {
        "duration": 3,
        "start_time": "2022-12-10T16:11:32.591Z"
      },
      {
        "duration": 122,
        "start_time": "2022-12-10T16:11:32.596Z"
      },
      {
        "duration": 2101,
        "start_time": "2022-12-10T16:11:32.720Z"
      },
      {
        "duration": 29,
        "start_time": "2022-12-10T16:11:34.823Z"
      },
      {
        "duration": 12,
        "start_time": "2022-12-10T16:11:34.854Z"
      },
      {
        "duration": 12,
        "start_time": "2022-12-10T16:11:34.868Z"
      },
      {
        "duration": 343,
        "start_time": "2022-12-10T16:11:34.882Z"
      },
      {
        "duration": 44,
        "start_time": "2022-12-10T16:11:35.228Z"
      },
      {
        "duration": 25,
        "start_time": "2022-12-10T16:11:35.274Z"
      },
      {
        "duration": 2,
        "start_time": "2022-12-10T16:11:35.301Z"
      },
      {
        "duration": 14,
        "start_time": "2022-12-10T16:11:35.306Z"
      },
      {
        "duration": 30,
        "start_time": "2022-12-10T16:11:35.321Z"
      },
      {
        "duration": 31,
        "start_time": "2022-12-10T16:11:35.353Z"
      },
      {
        "duration": 15,
        "start_time": "2022-12-10T16:11:35.387Z"
      },
      {
        "duration": 10,
        "start_time": "2022-12-10T16:11:35.404Z"
      },
      {
        "duration": 37,
        "start_time": "2022-12-10T16:11:35.415Z"
      },
      {
        "duration": 4,
        "start_time": "2022-12-10T16:11:35.454Z"
      },
      {
        "duration": 7,
        "start_time": "2022-12-10T16:11:35.460Z"
      },
      {
        "duration": 10,
        "start_time": "2022-12-10T16:11:35.469Z"
      },
      {
        "duration": 10,
        "start_time": "2022-12-10T16:11:38.356Z"
      },
      {
        "duration": 4,
        "start_time": "2022-12-10T16:12:28.123Z"
      },
      {
        "duration": 5,
        "start_time": "2022-12-10T16:12:34.475Z"
      },
      {
        "duration": 5,
        "start_time": "2022-12-10T16:12:40.612Z"
      },
      {
        "duration": 4,
        "start_time": "2022-12-10T16:12:57.615Z"
      },
      {
        "duration": 8,
        "start_time": "2022-12-10T16:13:00.691Z"
      },
      {
        "duration": 10,
        "start_time": "2022-12-10T16:13:02.426Z"
      },
      {
        "duration": 10,
        "start_time": "2022-12-10T16:13:11.643Z"
      },
      {
        "duration": 4,
        "start_time": "2022-12-10T16:13:19.093Z"
      },
      {
        "duration": 8,
        "start_time": "2022-12-10T16:15:22.492Z"
      },
      {
        "duration": 6,
        "start_time": "2022-12-10T16:15:26.095Z"
      },
      {
        "duration": 7,
        "start_time": "2022-12-10T16:15:30.504Z"
      },
      {
        "duration": 4,
        "start_time": "2022-12-10T16:18:04.454Z"
      },
      {
        "duration": 5,
        "start_time": "2022-12-10T16:18:58.261Z"
      },
      {
        "duration": 7,
        "start_time": "2022-12-10T16:19:00.780Z"
      },
      {
        "duration": 12,
        "start_time": "2022-12-10T16:58:07.774Z"
      },
      {
        "duration": 7,
        "start_time": "2022-12-10T16:58:35.680Z"
      },
      {
        "duration": 10,
        "start_time": "2022-12-10T17:00:40.538Z"
      },
      {
        "duration": 6,
        "start_time": "2022-12-10T17:00:45.115Z"
      },
      {
        "duration": 8,
        "start_time": "2022-12-10T17:00:50.695Z"
      },
      {
        "duration": 7,
        "start_time": "2022-12-10T17:00:56.213Z"
      },
      {
        "duration": 6,
        "start_time": "2022-12-10T17:01:47.000Z"
      },
      {
        "duration": 5,
        "start_time": "2022-12-10T17:01:47.284Z"
      },
      {
        "duration": 27,
        "start_time": "2022-12-10T17:02:05.405Z"
      },
      {
        "duration": 7,
        "start_time": "2022-12-10T17:02:31.128Z"
      },
      {
        "duration": 20,
        "start_time": "2022-12-10T17:02:52.018Z"
      },
      {
        "duration": 6,
        "start_time": "2022-12-10T17:02:53.913Z"
      },
      {
        "duration": 8,
        "start_time": "2022-12-10T17:03:06.047Z"
      },
      {
        "duration": 11,
        "start_time": "2022-12-10T17:03:42.296Z"
      },
      {
        "duration": 18,
        "start_time": "2022-12-10T17:03:46.850Z"
      },
      {
        "duration": 11,
        "start_time": "2022-12-10T17:04:24.808Z"
      },
      {
        "duration": 10,
        "start_time": "2022-12-10T17:04:35.040Z"
      },
      {
        "duration": 7,
        "start_time": "2022-12-10T17:04:50.288Z"
      },
      {
        "duration": 137,
        "start_time": "2022-12-10T17:06:32.005Z"
      },
      {
        "duration": 24,
        "start_time": "2022-12-10T17:07:22.873Z"
      },
      {
        "duration": 8,
        "start_time": "2022-12-10T17:07:27.080Z"
      },
      {
        "duration": 29,
        "start_time": "2022-12-10T17:07:45.395Z"
      },
      {
        "duration": 9,
        "start_time": "2022-12-10T17:07:53.988Z"
      },
      {
        "duration": 7,
        "start_time": "2022-12-10T17:08:09.440Z"
      },
      {
        "duration": 7,
        "start_time": "2022-12-10T17:08:16.731Z"
      },
      {
        "duration": 24,
        "start_time": "2022-12-10T17:08:32.604Z"
      },
      {
        "duration": 9,
        "start_time": "2022-12-10T17:08:34.574Z"
      },
      {
        "duration": 34,
        "start_time": "2022-12-10T17:10:07.650Z"
      },
      {
        "duration": 7,
        "start_time": "2022-12-10T17:10:08.880Z"
      },
      {
        "duration": 17,
        "start_time": "2022-12-10T17:10:47.376Z"
      },
      {
        "duration": 8,
        "start_time": "2022-12-10T17:10:49.208Z"
      },
      {
        "duration": 18,
        "start_time": "2022-12-10T17:11:02.528Z"
      },
      {
        "duration": 8,
        "start_time": "2022-12-10T17:11:04.380Z"
      },
      {
        "duration": 4,
        "start_time": "2022-12-10T17:11:59.378Z"
      },
      {
        "duration": 132,
        "start_time": "2022-12-10T17:11:59.384Z"
      },
      {
        "duration": 2497,
        "start_time": "2022-12-10T17:11:59.517Z"
      },
      {
        "duration": 18,
        "start_time": "2022-12-10T17:12:02.016Z"
      },
      {
        "duration": 43,
        "start_time": "2022-12-10T17:12:02.036Z"
      },
      {
        "duration": 12,
        "start_time": "2022-12-10T17:12:02.082Z"
      },
      {
        "duration": 92,
        "start_time": "2022-12-10T17:12:02.096Z"
      },
      {
        "duration": 32,
        "start_time": "2022-12-10T17:12:02.191Z"
      },
      {
        "duration": 59,
        "start_time": "2022-12-10T17:12:02.225Z"
      },
      {
        "duration": 4,
        "start_time": "2022-12-10T17:12:02.286Z"
      },
      {
        "duration": 13,
        "start_time": "2022-12-10T17:12:02.292Z"
      },
      {
        "duration": 14,
        "start_time": "2022-12-10T17:12:02.307Z"
      },
      {
        "duration": 45,
        "start_time": "2022-12-10T17:12:02.323Z"
      },
      {
        "duration": 29,
        "start_time": "2022-12-10T17:12:02.372Z"
      },
      {
        "duration": 10,
        "start_time": "2022-12-10T17:12:02.403Z"
      },
      {
        "duration": 21,
        "start_time": "2022-12-10T17:12:02.415Z"
      },
      {
        "duration": 3,
        "start_time": "2022-12-10T17:12:02.438Z"
      },
      {
        "duration": 15,
        "start_time": "2022-12-10T17:12:02.443Z"
      },
      {
        "duration": 34,
        "start_time": "2022-12-10T17:12:02.463Z"
      },
      {
        "duration": 30,
        "start_time": "2022-12-10T17:12:02.499Z"
      },
      {
        "duration": 7,
        "start_time": "2022-12-10T17:12:02.531Z"
      },
      {
        "duration": 12,
        "start_time": "2022-12-10T17:12:02.540Z"
      },
      {
        "duration": 44,
        "start_time": "2022-12-10T17:12:02.554Z"
      },
      {
        "duration": 9,
        "start_time": "2022-12-10T17:12:02.600Z"
      },
      {
        "duration": 18,
        "start_time": "2022-12-10T17:12:02.611Z"
      },
      {
        "duration": 32,
        "start_time": "2022-12-10T17:12:02.630Z"
      },
      {
        "duration": 11,
        "start_time": "2022-12-10T17:12:02.668Z"
      },
      {
        "duration": 11,
        "start_time": "2022-12-10T17:12:02.681Z"
      },
      {
        "duration": 88,
        "start_time": "2022-12-10T17:12:21.022Z"
      },
      {
        "duration": 22,
        "start_time": "2022-12-10T17:12:28.588Z"
      },
      {
        "duration": 7,
        "start_time": "2022-12-10T17:12:32.218Z"
      },
      {
        "duration": 11,
        "start_time": "2022-12-10T17:13:29.908Z"
      },
      {
        "duration": 11,
        "start_time": "2022-12-10T17:14:36.846Z"
      },
      {
        "duration": 11,
        "start_time": "2022-12-10T17:14:49.326Z"
      },
      {
        "duration": 9,
        "start_time": "2022-12-10T17:14:55.509Z"
      },
      {
        "duration": 34,
        "start_time": "2022-12-10T17:15:23.045Z"
      },
      {
        "duration": 8,
        "start_time": "2022-12-10T17:15:32.873Z"
      },
      {
        "duration": 43,
        "start_time": "2022-12-10T17:15:36.043Z"
      },
      {
        "duration": 14,
        "start_time": "2022-12-10T17:15:37.254Z"
      },
      {
        "duration": 38,
        "start_time": "2022-12-10T17:15:53.134Z"
      },
      {
        "duration": 6,
        "start_time": "2022-12-10T17:15:54.717Z"
      },
      {
        "duration": 8,
        "start_time": "2022-12-10T17:16:36.675Z"
      },
      {
        "duration": 23,
        "start_time": "2022-12-10T17:16:41.796Z"
      },
      {
        "duration": 12,
        "start_time": "2022-12-10T17:16:43.051Z"
      },
      {
        "duration": 8,
        "start_time": "2022-12-10T17:16:49.752Z"
      },
      {
        "duration": 180,
        "start_time": "2022-12-10T17:16:49.763Z"
      },
      {
        "duration": 2386,
        "start_time": "2022-12-10T17:16:49.945Z"
      },
      {
        "duration": 34,
        "start_time": "2022-12-10T17:16:52.334Z"
      },
      {
        "duration": 20,
        "start_time": "2022-12-10T17:16:52.370Z"
      },
      {
        "duration": 14,
        "start_time": "2022-12-10T17:16:52.392Z"
      },
      {
        "duration": 96,
        "start_time": "2022-12-10T17:16:52.408Z"
      },
      {
        "duration": 31,
        "start_time": "2022-12-10T17:16:52.506Z"
      },
      {
        "duration": 21,
        "start_time": "2022-12-10T17:16:52.555Z"
      },
      {
        "duration": 5,
        "start_time": "2022-12-10T17:16:52.578Z"
      },
      {
        "duration": 18,
        "start_time": "2022-12-10T17:16:52.585Z"
      },
      {
        "duration": 11,
        "start_time": "2022-12-10T17:16:52.604Z"
      },
      {
        "duration": 49,
        "start_time": "2022-12-10T17:16:52.617Z"
      },
      {
        "duration": 15,
        "start_time": "2022-12-10T17:16:52.668Z"
      },
      {
        "duration": 11,
        "start_time": "2022-12-10T17:16:52.685Z"
      },
      {
        "duration": 19,
        "start_time": "2022-12-10T17:16:52.698Z"
      },
      {
        "duration": 3,
        "start_time": "2022-12-10T17:16:52.718Z"
      },
      {
        "duration": 31,
        "start_time": "2022-12-10T17:16:52.723Z"
      },
      {
        "duration": 10,
        "start_time": "2022-12-10T17:16:52.761Z"
      },
      {
        "duration": 12,
        "start_time": "2022-12-10T17:16:52.773Z"
      },
      {
        "duration": 6,
        "start_time": "2022-12-10T17:16:52.787Z"
      },
      {
        "duration": 10,
        "start_time": "2022-12-10T17:16:52.795Z"
      },
      {
        "duration": 8,
        "start_time": "2022-12-10T17:16:52.806Z"
      },
      {
        "duration": 47,
        "start_time": "2022-12-10T17:16:52.817Z"
      },
      {
        "duration": 19,
        "start_time": "2022-12-10T17:16:52.866Z"
      },
      {
        "duration": 24,
        "start_time": "2022-12-10T17:16:52.887Z"
      },
      {
        "duration": 7,
        "start_time": "2022-12-10T17:16:52.913Z"
      },
      {
        "duration": 34,
        "start_time": "2022-12-10T17:16:52.922Z"
      },
      {
        "duration": 22,
        "start_time": "2022-12-10T17:17:20.276Z"
      },
      {
        "duration": 7,
        "start_time": "2022-12-10T17:17:30.494Z"
      },
      {
        "duration": 22,
        "start_time": "2022-12-10T17:17:32.781Z"
      },
      {
        "duration": 3,
        "start_time": "2022-12-10T17:17:40.140Z"
      },
      {
        "duration": 161,
        "start_time": "2022-12-10T17:17:40.146Z"
      },
      {
        "duration": 2408,
        "start_time": "2022-12-10T17:17:40.309Z"
      },
      {
        "duration": 41,
        "start_time": "2022-12-10T17:17:42.720Z"
      },
      {
        "duration": 15,
        "start_time": "2022-12-10T17:17:42.767Z"
      },
      {
        "duration": 42,
        "start_time": "2022-12-10T17:17:42.784Z"
      },
      {
        "duration": 85,
        "start_time": "2022-12-10T17:17:42.828Z"
      },
      {
        "duration": 48,
        "start_time": "2022-12-10T17:17:42.915Z"
      },
      {
        "duration": 27,
        "start_time": "2022-12-10T17:17:42.967Z"
      },
      {
        "duration": 9,
        "start_time": "2022-12-10T17:17:42.996Z"
      },
      {
        "duration": 37,
        "start_time": "2022-12-10T17:17:43.008Z"
      },
      {
        "duration": 25,
        "start_time": "2022-12-10T17:17:43.047Z"
      },
      {
        "duration": 47,
        "start_time": "2022-12-10T17:17:43.074Z"
      },
      {
        "duration": 17,
        "start_time": "2022-12-10T17:17:43.123Z"
      },
      {
        "duration": 39,
        "start_time": "2022-12-10T17:17:43.142Z"
      },
      {
        "duration": 45,
        "start_time": "2022-12-10T17:17:43.183Z"
      },
      {
        "duration": 13,
        "start_time": "2022-12-10T17:17:43.230Z"
      },
      {
        "duration": 30,
        "start_time": "2022-12-10T17:17:43.245Z"
      },
      {
        "duration": 16,
        "start_time": "2022-12-10T17:17:43.277Z"
      },
      {
        "duration": 17,
        "start_time": "2022-12-10T17:17:43.295Z"
      },
      {
        "duration": 17,
        "start_time": "2022-12-10T17:17:43.314Z"
      },
      {
        "duration": 40,
        "start_time": "2022-12-10T17:17:43.333Z"
      },
      {
        "duration": 38,
        "start_time": "2022-12-10T17:17:43.375Z"
      },
      {
        "duration": 4,
        "start_time": "2022-12-10T17:17:43.416Z"
      },
      {
        "duration": 18,
        "start_time": "2022-12-10T17:17:43.422Z"
      },
      {
        "duration": 25,
        "start_time": "2022-12-10T17:17:43.442Z"
      },
      {
        "duration": 8,
        "start_time": "2022-12-10T17:17:43.469Z"
      },
      {
        "duration": 7,
        "start_time": "2022-12-10T17:17:43.478Z"
      },
      {
        "duration": 27,
        "start_time": "2022-12-10T17:17:43.487Z"
      },
      {
        "duration": 26,
        "start_time": "2022-12-10T17:17:46.695Z"
      },
      {
        "duration": 8,
        "start_time": "2022-12-10T17:17:48.176Z"
      },
      {
        "duration": 8,
        "start_time": "2022-12-10T17:17:53.688Z"
      },
      {
        "duration": 4,
        "start_time": "2022-12-10T17:20:54.600Z"
      },
      {
        "duration": 129,
        "start_time": "2022-12-10T17:20:54.606Z"
      },
      {
        "duration": 2373,
        "start_time": "2022-12-10T17:20:54.737Z"
      },
      {
        "duration": 17,
        "start_time": "2022-12-10T17:20:57.112Z"
      },
      {
        "duration": 33,
        "start_time": "2022-12-10T17:20:57.132Z"
      },
      {
        "duration": 12,
        "start_time": "2022-12-10T17:20:57.168Z"
      },
      {
        "duration": 95,
        "start_time": "2022-12-10T17:20:57.182Z"
      },
      {
        "duration": 30,
        "start_time": "2022-12-10T17:20:57.279Z"
      },
      {
        "duration": 23,
        "start_time": "2022-12-10T17:20:57.310Z"
      },
      {
        "duration": 18,
        "start_time": "2022-12-10T17:20:57.334Z"
      },
      {
        "duration": 15,
        "start_time": "2022-12-10T17:20:57.354Z"
      },
      {
        "duration": 7,
        "start_time": "2022-12-10T17:20:57.371Z"
      },
      {
        "duration": 19,
        "start_time": "2022-12-10T17:20:57.380Z"
      },
      {
        "duration": 11,
        "start_time": "2022-12-10T17:20:57.401Z"
      },
      {
        "duration": 45,
        "start_time": "2022-12-10T17:20:57.414Z"
      },
      {
        "duration": 16,
        "start_time": "2022-12-10T17:20:57.461Z"
      },
      {
        "duration": 4,
        "start_time": "2022-12-10T17:20:57.479Z"
      },
      {
        "duration": 11,
        "start_time": "2022-12-10T17:20:57.484Z"
      },
      {
        "duration": 14,
        "start_time": "2022-12-10T17:20:57.497Z"
      },
      {
        "duration": 15,
        "start_time": "2022-12-10T17:20:57.512Z"
      },
      {
        "duration": 33,
        "start_time": "2022-12-10T17:20:57.529Z"
      },
      {
        "duration": 4,
        "start_time": "2022-12-10T17:20:57.565Z"
      },
      {
        "duration": 8,
        "start_time": "2022-12-10T17:20:57.571Z"
      },
      {
        "duration": 7,
        "start_time": "2022-12-10T17:20:57.580Z"
      },
      {
        "duration": 23,
        "start_time": "2022-12-10T17:20:57.588Z"
      },
      {
        "duration": 50,
        "start_time": "2022-12-10T17:20:57.613Z"
      },
      {
        "duration": 8,
        "start_time": "2022-12-10T17:20:57.665Z"
      },
      {
        "duration": 10,
        "start_time": "2022-12-10T17:20:57.675Z"
      },
      {
        "duration": 26,
        "start_time": "2022-12-10T17:21:01.762Z"
      },
      {
        "duration": 8,
        "start_time": "2022-12-10T17:21:03.924Z"
      },
      {
        "duration": 3,
        "start_time": "2022-12-10T17:24:51.035Z"
      },
      {
        "duration": 135,
        "start_time": "2022-12-10T17:24:51.041Z"
      },
      {
        "duration": 2203,
        "start_time": "2022-12-10T17:24:51.179Z"
      },
      {
        "duration": 17,
        "start_time": "2022-12-10T17:24:53.384Z"
      },
      {
        "duration": 11,
        "start_time": "2022-12-10T17:24:53.404Z"
      },
      {
        "duration": 51,
        "start_time": "2022-12-10T17:24:53.417Z"
      },
      {
        "duration": 344,
        "start_time": "2022-12-10T17:24:53.469Z"
      },
      {
        "duration": 52,
        "start_time": "2022-12-10T17:24:53.816Z"
      },
      {
        "duration": 22,
        "start_time": "2022-12-10T17:24:53.870Z"
      },
      {
        "duration": 9,
        "start_time": "2022-12-10T17:24:53.896Z"
      },
      {
        "duration": 22,
        "start_time": "2022-12-10T17:24:53.907Z"
      },
      {
        "duration": 20,
        "start_time": "2022-12-10T17:24:53.931Z"
      },
      {
        "duration": 38,
        "start_time": "2022-12-10T17:24:53.953Z"
      },
      {
        "duration": 17,
        "start_time": "2022-12-10T17:24:53.993Z"
      },
      {
        "duration": 17,
        "start_time": "2022-12-10T17:24:54.013Z"
      },
      {
        "duration": 28,
        "start_time": "2022-12-10T17:24:54.032Z"
      },
      {
        "duration": 13,
        "start_time": "2022-12-10T17:24:54.065Z"
      },
      {
        "duration": 13,
        "start_time": "2022-12-10T17:24:54.080Z"
      },
      {
        "duration": 17,
        "start_time": "2022-12-10T17:24:54.095Z"
      },
      {
        "duration": 18,
        "start_time": "2022-12-10T17:24:54.114Z"
      },
      {
        "duration": 5,
        "start_time": "2022-12-10T17:24:54.134Z"
      },
      {
        "duration": 11,
        "start_time": "2022-12-10T17:24:54.154Z"
      },
      {
        "duration": 10,
        "start_time": "2022-12-10T17:24:54.169Z"
      },
      {
        "duration": 14,
        "start_time": "2022-12-10T17:24:54.181Z"
      },
      {
        "duration": 20,
        "start_time": "2022-12-10T17:24:54.199Z"
      },
      {
        "duration": 36,
        "start_time": "2022-12-10T17:24:54.221Z"
      },
      {
        "duration": 12,
        "start_time": "2022-12-10T17:24:54.258Z"
      },
      {
        "duration": 10,
        "start_time": "2022-12-10T17:24:54.272Z"
      },
      {
        "duration": 29,
        "start_time": "2022-12-10T17:24:54.284Z"
      },
      {
        "duration": 8,
        "start_time": "2022-12-10T17:25:18.897Z"
      },
      {
        "duration": 92,
        "start_time": "2022-12-10T17:38:28.508Z"
      },
      {
        "duration": 75,
        "start_time": "2022-12-10T17:38:38.337Z"
      },
      {
        "duration": 74,
        "start_time": "2022-12-10T17:38:47.095Z"
      },
      {
        "duration": 73,
        "start_time": "2022-12-10T17:39:08.242Z"
      },
      {
        "duration": 6,
        "start_time": "2022-12-10T17:40:11.829Z"
      },
      {
        "duration": 3,
        "start_time": "2022-12-10T17:40:33.383Z"
      },
      {
        "duration": 118,
        "start_time": "2022-12-10T17:40:33.388Z"
      },
      {
        "duration": 2125,
        "start_time": "2022-12-10T17:40:33.508Z"
      },
      {
        "duration": 36,
        "start_time": "2022-12-10T17:40:35.635Z"
      },
      {
        "duration": 13,
        "start_time": "2022-12-10T17:40:35.674Z"
      },
      {
        "duration": 11,
        "start_time": "2022-12-10T17:40:35.689Z"
      },
      {
        "duration": 99,
        "start_time": "2022-12-10T17:40:35.701Z"
      },
      {
        "duration": 28,
        "start_time": "2022-12-10T17:40:35.802Z"
      },
      {
        "duration": 44,
        "start_time": "2022-12-10T17:40:35.832Z"
      },
      {
        "duration": 10,
        "start_time": "2022-12-10T17:40:35.877Z"
      },
      {
        "duration": 18,
        "start_time": "2022-12-10T17:40:35.889Z"
      },
      {
        "duration": 6,
        "start_time": "2022-12-10T17:40:35.908Z"
      },
      {
        "duration": 17,
        "start_time": "2022-12-10T17:40:35.916Z"
      },
      {
        "duration": 22,
        "start_time": "2022-12-10T17:40:35.934Z"
      },
      {
        "duration": 19,
        "start_time": "2022-12-10T17:40:35.957Z"
      },
      {
        "duration": 17,
        "start_time": "2022-12-10T17:40:35.977Z"
      },
      {
        "duration": 3,
        "start_time": "2022-12-10T17:40:35.995Z"
      },
      {
        "duration": 8,
        "start_time": "2022-12-10T17:40:36.000Z"
      },
      {
        "duration": 9,
        "start_time": "2022-12-10T17:40:36.010Z"
      },
      {
        "duration": 49,
        "start_time": "2022-12-10T17:40:36.021Z"
      },
      {
        "duration": 8,
        "start_time": "2022-12-10T17:40:36.072Z"
      },
      {
        "duration": 10,
        "start_time": "2022-12-10T17:40:36.082Z"
      },
      {
        "duration": 6,
        "start_time": "2022-12-10T17:40:36.094Z"
      },
      {
        "duration": 8,
        "start_time": "2022-12-10T17:40:36.102Z"
      },
      {
        "duration": 17,
        "start_time": "2022-12-10T17:40:36.112Z"
      },
      {
        "duration": 48,
        "start_time": "2022-12-10T17:40:36.131Z"
      },
      {
        "duration": 8,
        "start_time": "2022-12-10T17:40:36.181Z"
      },
      {
        "duration": 25,
        "start_time": "2022-12-10T17:40:36.193Z"
      },
      {
        "duration": 25,
        "start_time": "2022-12-10T17:40:41.365Z"
      },
      {
        "duration": 7,
        "start_time": "2022-12-10T17:40:42.626Z"
      },
      {
        "duration": 4,
        "start_time": "2022-12-10T17:40:52.985Z"
      },
      {
        "duration": 128,
        "start_time": "2022-12-10T17:40:52.991Z"
      },
      {
        "duration": 2373,
        "start_time": "2022-12-10T17:40:53.121Z"
      },
      {
        "duration": 16,
        "start_time": "2022-12-10T17:40:55.496Z"
      },
      {
        "duration": 10,
        "start_time": "2022-12-10T17:40:55.514Z"
      },
      {
        "duration": 44,
        "start_time": "2022-12-10T17:40:55.526Z"
      },
      {
        "duration": 66,
        "start_time": "2022-12-10T17:40:55.572Z"
      },
      {
        "duration": 31,
        "start_time": "2022-12-10T17:40:55.660Z"
      },
      {
        "duration": 17,
        "start_time": "2022-12-10T17:40:55.693Z"
      },
      {
        "duration": 5,
        "start_time": "2022-12-10T17:40:55.712Z"
      },
      {
        "duration": 42,
        "start_time": "2022-12-10T17:40:55.720Z"
      },
      {
        "duration": 3,
        "start_time": "2022-12-10T17:40:55.764Z"
      },
      {
        "duration": 22,
        "start_time": "2022-12-10T17:40:55.769Z"
      },
      {
        "duration": 10,
        "start_time": "2022-12-10T17:40:55.794Z"
      },
      {
        "duration": 11,
        "start_time": "2022-12-10T17:40:55.806Z"
      },
      {
        "duration": 44,
        "start_time": "2022-12-10T17:40:55.819Z"
      },
      {
        "duration": 2,
        "start_time": "2022-12-10T17:40:55.867Z"
      },
      {
        "duration": 7,
        "start_time": "2022-12-10T17:40:55.871Z"
      },
      {
        "duration": 8,
        "start_time": "2022-12-10T17:40:55.880Z"
      },
      {
        "duration": 13,
        "start_time": "2022-12-10T17:40:55.890Z"
      },
      {
        "duration": 5,
        "start_time": "2022-12-10T17:40:55.904Z"
      },
      {
        "duration": 7,
        "start_time": "2022-12-10T17:40:55.911Z"
      },
      {
        "duration": 32,
        "start_time": "2022-12-10T17:40:55.920Z"
      },
      {
        "duration": 8,
        "start_time": "2022-12-10T17:40:55.954Z"
      },
      {
        "duration": 18,
        "start_time": "2022-12-10T17:40:55.964Z"
      },
      {
        "duration": 21,
        "start_time": "2022-12-10T17:40:55.984Z"
      },
      {
        "duration": 7,
        "start_time": "2022-12-10T17:41:05.534Z"
      },
      {
        "duration": 5,
        "start_time": "2022-12-10T17:41:11.825Z"
      },
      {
        "duration": 24,
        "start_time": "2022-12-10T17:41:14.288Z"
      },
      {
        "duration": 6,
        "start_time": "2022-12-10T17:41:15.727Z"
      },
      {
        "duration": 66,
        "start_time": "2022-12-10T17:43:50.663Z"
      },
      {
        "duration": 291,
        "start_time": "2022-12-10T17:45:20.837Z"
      },
      {
        "duration": 284,
        "start_time": "2022-12-10T17:45:49.811Z"
      },
      {
        "duration": 158,
        "start_time": "2022-12-10T17:46:22.315Z"
      },
      {
        "duration": 189,
        "start_time": "2022-12-10T17:46:39.073Z"
      },
      {
        "duration": 366,
        "start_time": "2022-12-10T17:46:56.306Z"
      },
      {
        "duration": 165,
        "start_time": "2022-12-10T17:47:08.806Z"
      },
      {
        "duration": 158,
        "start_time": "2022-12-10T17:49:43.224Z"
      },
      {
        "duration": 200,
        "start_time": "2022-12-10T17:49:53.291Z"
      },
      {
        "duration": 618,
        "start_time": "2022-12-10T17:49:59.103Z"
      },
      {
        "duration": 4,
        "start_time": "2022-12-10T17:50:40.089Z"
      },
      {
        "duration": 131,
        "start_time": "2022-12-10T17:50:40.095Z"
      },
      {
        "duration": 2351,
        "start_time": "2022-12-10T17:50:40.228Z"
      },
      {
        "duration": 19,
        "start_time": "2022-12-10T17:50:42.582Z"
      },
      {
        "duration": 14,
        "start_time": "2022-12-10T17:50:42.604Z"
      },
      {
        "duration": 24,
        "start_time": "2022-12-10T17:50:42.650Z"
      },
      {
        "duration": 86,
        "start_time": "2022-12-10T17:50:42.677Z"
      },
      {
        "duration": 31,
        "start_time": "2022-12-10T17:50:42.765Z"
      },
      {
        "duration": 25,
        "start_time": "2022-12-10T17:50:42.798Z"
      },
      {
        "duration": 30,
        "start_time": "2022-12-10T17:50:42.825Z"
      },
      {
        "duration": 18,
        "start_time": "2022-12-10T17:50:42.862Z"
      },
      {
        "duration": 9,
        "start_time": "2022-12-10T17:50:42.882Z"
      },
      {
        "duration": 18,
        "start_time": "2022-12-10T17:50:42.893Z"
      },
      {
        "duration": 12,
        "start_time": "2022-12-10T17:50:42.913Z"
      },
      {
        "duration": 26,
        "start_time": "2022-12-10T17:50:42.950Z"
      },
      {
        "duration": 24,
        "start_time": "2022-12-10T17:50:42.977Z"
      },
      {
        "duration": 3,
        "start_time": "2022-12-10T17:50:43.003Z"
      },
      {
        "duration": 8,
        "start_time": "2022-12-10T17:50:43.007Z"
      },
      {
        "duration": 13,
        "start_time": "2022-12-10T17:50:43.017Z"
      },
      {
        "duration": 29,
        "start_time": "2022-12-10T17:50:43.032Z"
      },
      {
        "duration": 6,
        "start_time": "2022-12-10T17:50:43.067Z"
      },
      {
        "duration": 6,
        "start_time": "2022-12-10T17:50:43.075Z"
      },
      {
        "duration": 13,
        "start_time": "2022-12-10T17:50:43.083Z"
      },
      {
        "duration": 12,
        "start_time": "2022-12-10T17:50:43.097Z"
      },
      {
        "duration": 18,
        "start_time": "2022-12-10T17:50:43.110Z"
      },
      {
        "duration": 44,
        "start_time": "2022-12-10T17:50:43.130Z"
      },
      {
        "duration": 8,
        "start_time": "2022-12-10T17:50:43.176Z"
      },
      {
        "duration": 6,
        "start_time": "2022-12-10T17:50:43.186Z"
      },
      {
        "duration": 25,
        "start_time": "2022-12-10T17:50:43.196Z"
      },
      {
        "duration": 21,
        "start_time": "2022-12-10T17:50:43.252Z"
      },
      {
        "duration": 9,
        "start_time": "2022-12-10T17:50:43.275Z"
      },
      {
        "duration": 24,
        "start_time": "2022-12-10T17:50:43.286Z"
      },
      {
        "duration": 53,
        "start_time": "2022-12-10T17:50:43.312Z"
      },
      {
        "duration": 417,
        "start_time": "2022-12-10T17:50:43.369Z"
      },
      {
        "duration": 13,
        "start_time": "2022-12-10T17:50:43.788Z"
      },
      {
        "duration": 7,
        "start_time": "2022-12-10T17:50:43.803Z"
      },
      {
        "duration": 59,
        "start_time": "2022-12-10T17:50:43.812Z"
      },
      {
        "duration": 7,
        "start_time": "2022-12-10T17:50:43.873Z"
      },
      {
        "duration": 7,
        "start_time": "2022-12-10T17:50:43.882Z"
      },
      {
        "duration": 298,
        "start_time": "2022-12-10T17:50:43.891Z"
      },
      {
        "duration": 3,
        "start_time": "2022-12-10T17:50:44.191Z"
      },
      {
        "duration": 345,
        "start_time": "2022-12-10T17:50:44.196Z"
      },
      {
        "duration": 8,
        "start_time": "2022-12-10T17:50:44.543Z"
      },
      {
        "duration": 300,
        "start_time": "2022-12-10T17:50:44.554Z"
      },
      {
        "duration": 272,
        "start_time": "2022-12-10T17:50:50.092Z"
      },
      {
        "duration": 887,
        "start_time": "2022-12-10T17:51:30.132Z"
      },
      {
        "duration": 591,
        "start_time": "2022-12-10T17:51:38.970Z"
      },
      {
        "duration": 162,
        "start_time": "2022-12-10T17:52:07.097Z"
      },
      {
        "duration": 248,
        "start_time": "2022-12-10T17:52:55.271Z"
      },
      {
        "duration": 178,
        "start_time": "2022-12-10T17:53:03.520Z"
      },
      {
        "duration": 278,
        "start_time": "2022-12-10T17:53:25.639Z"
      },
      {
        "duration": 499,
        "start_time": "2022-12-10T17:53:44.074Z"
      },
      {
        "duration": 237,
        "start_time": "2022-12-10T17:53:55.281Z"
      },
      {
        "duration": 257,
        "start_time": "2022-12-10T17:54:03.732Z"
      },
      {
        "duration": 255,
        "start_time": "2022-12-10T17:54:09.277Z"
      },
      {
        "duration": 238,
        "start_time": "2022-12-10T17:54:15.096Z"
      },
      {
        "duration": 4,
        "start_time": "2022-12-10T18:09:57.669Z"
      },
      {
        "duration": 127,
        "start_time": "2022-12-10T18:09:57.675Z"
      },
      {
        "duration": 2234,
        "start_time": "2022-12-10T18:09:57.805Z"
      },
      {
        "duration": 24,
        "start_time": "2022-12-10T18:10:00.041Z"
      },
      {
        "duration": 30,
        "start_time": "2022-12-10T18:10:00.069Z"
      },
      {
        "duration": 18,
        "start_time": "2022-12-10T18:10:00.101Z"
      },
      {
        "duration": 92,
        "start_time": "2022-12-10T18:10:00.121Z"
      },
      {
        "duration": 41,
        "start_time": "2022-12-10T18:10:00.215Z"
      },
      {
        "duration": 29,
        "start_time": "2022-12-10T18:10:00.262Z"
      },
      {
        "duration": 47,
        "start_time": "2022-12-10T18:10:00.293Z"
      },
      {
        "duration": 50,
        "start_time": "2022-12-10T18:10:00.343Z"
      },
      {
        "duration": 39,
        "start_time": "2022-12-10T18:10:00.395Z"
      },
      {
        "duration": 62,
        "start_time": "2022-12-10T18:10:00.435Z"
      },
      {
        "duration": 47,
        "start_time": "2022-12-10T18:10:00.500Z"
      },
      {
        "duration": 45,
        "start_time": "2022-12-10T18:10:00.549Z"
      },
      {
        "duration": 65,
        "start_time": "2022-12-10T18:10:00.596Z"
      },
      {
        "duration": 41,
        "start_time": "2022-12-10T18:10:00.668Z"
      },
      {
        "duration": 58,
        "start_time": "2022-12-10T18:10:00.711Z"
      },
      {
        "duration": 57,
        "start_time": "2022-12-10T18:10:00.771Z"
      },
      {
        "duration": 48,
        "start_time": "2022-12-10T18:10:00.829Z"
      },
      {
        "duration": 17,
        "start_time": "2022-12-10T18:10:00.879Z"
      },
      {
        "duration": 27,
        "start_time": "2022-12-10T18:10:00.898Z"
      },
      {
        "duration": 47,
        "start_time": "2022-12-10T18:10:00.927Z"
      },
      {
        "duration": 56,
        "start_time": "2022-12-10T18:10:00.976Z"
      },
      {
        "duration": 100,
        "start_time": "2022-12-10T18:10:01.033Z"
      },
      {
        "duration": 37,
        "start_time": "2022-12-10T18:10:01.135Z"
      },
      {
        "duration": 10,
        "start_time": "2022-12-10T18:10:01.174Z"
      },
      {
        "duration": 15,
        "start_time": "2022-12-10T18:10:01.186Z"
      },
      {
        "duration": 57,
        "start_time": "2022-12-10T18:10:01.206Z"
      },
      {
        "duration": 8,
        "start_time": "2022-12-10T18:10:01.266Z"
      },
      {
        "duration": 29,
        "start_time": "2022-12-10T18:10:01.275Z"
      },
      {
        "duration": 39,
        "start_time": "2022-12-10T18:10:01.305Z"
      },
      {
        "duration": 55,
        "start_time": "2022-12-10T18:10:01.346Z"
      },
      {
        "duration": 704,
        "start_time": "2022-12-10T18:10:01.402Z"
      },
      {
        "duration": 16,
        "start_time": "2022-12-10T18:10:02.108Z"
      },
      {
        "duration": 6,
        "start_time": "2022-12-10T18:10:02.126Z"
      },
      {
        "duration": 47,
        "start_time": "2022-12-10T18:10:02.153Z"
      },
      {
        "duration": 6,
        "start_time": "2022-12-10T18:10:02.202Z"
      },
      {
        "duration": 22,
        "start_time": "2022-12-10T18:10:02.209Z"
      },
      {
        "duration": 290,
        "start_time": "2022-12-10T18:10:02.233Z"
      },
      {
        "duration": 2,
        "start_time": "2022-12-10T18:10:02.525Z"
      },
      {
        "duration": 345,
        "start_time": "2022-12-10T18:10:02.529Z"
      },
      {
        "duration": 3,
        "start_time": "2022-12-10T18:10:02.876Z"
      },
      {
        "duration": 306,
        "start_time": "2022-12-10T18:10:02.881Z"
      },
      {
        "duration": 246,
        "start_time": "2022-12-10T18:10:03.189Z"
      },
      {
        "duration": 200,
        "start_time": "2022-12-10T18:10:03.437Z"
      },
      {
        "duration": 3,
        "start_time": "2022-12-10T18:10:03.639Z"
      },
      {
        "duration": 284,
        "start_time": "2022-12-10T18:10:03.644Z"
      },
      {
        "duration": 3,
        "start_time": "2022-12-10T18:10:03.931Z"
      },
      {
        "duration": 279,
        "start_time": "2022-12-10T18:10:03.935Z"
      },
      {
        "duration": 3,
        "start_time": "2022-12-10T18:10:04.216Z"
      },
      {
        "duration": 164,
        "start_time": "2022-12-10T18:10:04.220Z"
      },
      {
        "duration": 12,
        "start_time": "2022-12-10T18:10:04.386Z"
      },
      {
        "duration": 17,
        "start_time": "2022-12-10T18:10:04.399Z"
      },
      {
        "duration": 280,
        "start_time": "2022-12-10T18:10:04.418Z"
      },
      {
        "duration": 380,
        "start_time": "2022-12-10T18:10:04.700Z"
      },
      {
        "duration": 385,
        "start_time": "2022-12-10T18:10:05.082Z"
      },
      {
        "duration": 4,
        "start_time": "2022-12-10T18:10:05.471Z"
      },
      {
        "duration": 446,
        "start_time": "2022-12-10T18:10:05.477Z"
      },
      {
        "duration": 194,
        "start_time": "2022-12-10T18:10:05.925Z"
      },
      {
        "duration": 12,
        "start_time": "2022-12-10T18:10:06.121Z"
      },
      {
        "duration": 209,
        "start_time": "2022-12-10T18:10:06.135Z"
      },
      {
        "duration": 17,
        "start_time": "2022-12-10T18:10:06.346Z"
      },
      {
        "duration": 28,
        "start_time": "2022-12-10T18:10:06.368Z"
      },
      {
        "duration": 342,
        "start_time": "2022-12-10T18:10:06.398Z"
      },
      {
        "duration": 11,
        "start_time": "2022-12-10T18:10:06.741Z"
      },
      {
        "duration": 37,
        "start_time": "2022-12-10T18:10:06.757Z"
      },
      {
        "duration": 242,
        "start_time": "2022-12-10T18:10:06.796Z"
      },
      {
        "duration": 22,
        "start_time": "2022-12-10T18:10:07.040Z"
      },
      {
        "duration": 35,
        "start_time": "2022-12-10T18:10:07.064Z"
      },
      {
        "duration": 9,
        "start_time": "2022-12-10T18:10:07.101Z"
      },
      {
        "duration": 644,
        "start_time": "2022-12-10T18:10:07.113Z"
      },
      {
        "duration": 124,
        "start_time": "2022-12-10T18:10:07.760Z"
      },
      {
        "duration": 7,
        "start_time": "2022-12-10T18:10:07.889Z"
      },
      {
        "duration": 211,
        "start_time": "2022-12-10T18:10:07.898Z"
      },
      {
        "duration": 230,
        "start_time": "2022-12-10T18:10:08.111Z"
      },
      {
        "duration": 203,
        "start_time": "2022-12-10T18:10:08.344Z"
      },
      {
        "duration": 198,
        "start_time": "2022-12-10T18:10:08.549Z"
      },
      {
        "duration": 8,
        "start_time": "2022-12-10T18:10:08.751Z"
      },
      {
        "duration": 209,
        "start_time": "2022-12-10T18:10:08.764Z"
      },
      {
        "duration": 177,
        "start_time": "2022-12-10T18:10:08.975Z"
      },
      {
        "duration": 210,
        "start_time": "2022-12-10T18:10:09.156Z"
      },
      {
        "duration": 199,
        "start_time": "2022-12-10T18:10:09.368Z"
      },
      {
        "duration": 243,
        "start_time": "2022-12-10T18:10:09.569Z"
      },
      {
        "duration": 9,
        "start_time": "2022-12-10T18:10:09.815Z"
      },
      {
        "duration": 211,
        "start_time": "2022-12-10T18:10:09.826Z"
      },
      {
        "duration": 39,
        "start_time": "2022-12-10T18:10:10.039Z"
      },
      {
        "duration": 198,
        "start_time": "2022-12-10T18:10:10.080Z"
      },
      {
        "duration": 6,
        "start_time": "2022-12-10T18:10:10.282Z"
      },
      {
        "duration": 82,
        "start_time": "2022-12-10T18:17:15.263Z"
      },
      {
        "duration": 116,
        "start_time": "2022-12-10T18:17:24.474Z"
      },
      {
        "duration": 340,
        "start_time": "2022-12-10T18:17:33.689Z"
      },
      {
        "duration": 131,
        "start_time": "2022-12-10T18:17:36.972Z"
      },
      {
        "duration": 117,
        "start_time": "2022-12-10T18:17:40.465Z"
      },
      {
        "duration": 142,
        "start_time": "2022-12-10T18:17:49.718Z"
      },
      {
        "duration": 6,
        "start_time": "2022-12-10T18:20:36.869Z"
      },
      {
        "duration": 179,
        "start_time": "2022-12-10T18:20:40.984Z"
      },
      {
        "duration": 224,
        "start_time": "2022-12-10T18:20:59.711Z"
      },
      {
        "duration": 4,
        "start_time": "2022-12-10T18:22:01.683Z"
      },
      {
        "duration": 153,
        "start_time": "2022-12-10T18:22:01.689Z"
      },
      {
        "duration": 2240,
        "start_time": "2022-12-10T18:22:01.844Z"
      },
      {
        "duration": 18,
        "start_time": "2022-12-10T18:22:04.086Z"
      },
      {
        "duration": 12,
        "start_time": "2022-12-10T18:22:04.107Z"
      },
      {
        "duration": 52,
        "start_time": "2022-12-10T18:22:04.121Z"
      },
      {
        "duration": 476,
        "start_time": "2022-12-10T18:22:04.176Z"
      },
      {
        "duration": 39,
        "start_time": "2022-12-10T18:22:04.654Z"
      },
      {
        "duration": 21,
        "start_time": "2022-12-10T18:22:04.697Z"
      },
      {
        "duration": 16,
        "start_time": "2022-12-10T18:22:04.753Z"
      },
      {
        "duration": 14,
        "start_time": "2022-12-10T18:22:04.771Z"
      },
      {
        "duration": 7,
        "start_time": "2022-12-10T18:22:04.788Z"
      },
      {
        "duration": 22,
        "start_time": "2022-12-10T18:22:04.797Z"
      },
      {
        "duration": 44,
        "start_time": "2022-12-10T18:22:04.821Z"
      },
      {
        "duration": 15,
        "start_time": "2022-12-10T18:22:04.867Z"
      },
      {
        "duration": 14,
        "start_time": "2022-12-10T18:22:04.884Z"
      },
      {
        "duration": 3,
        "start_time": "2022-12-10T18:22:04.900Z"
      },
      {
        "duration": 6,
        "start_time": "2022-12-10T18:22:04.905Z"
      },
      {
        "duration": 46,
        "start_time": "2022-12-10T18:22:04.913Z"
      },
      {
        "duration": 13,
        "start_time": "2022-12-10T18:22:04.966Z"
      },
      {
        "duration": 6,
        "start_time": "2022-12-10T18:22:04.981Z"
      },
      {
        "duration": 11,
        "start_time": "2022-12-10T18:22:04.989Z"
      },
      {
        "duration": 7,
        "start_time": "2022-12-10T18:22:05.002Z"
      },
      {
        "duration": 10,
        "start_time": "2022-12-10T18:22:05.013Z"
      },
      {
        "duration": 36,
        "start_time": "2022-12-10T18:22:05.025Z"
      },
      {
        "duration": 30,
        "start_time": "2022-12-10T18:22:05.062Z"
      },
      {
        "duration": 8,
        "start_time": "2022-12-10T18:22:05.095Z"
      },
      {
        "duration": 7,
        "start_time": "2022-12-10T18:22:05.105Z"
      },
      {
        "duration": 57,
        "start_time": "2022-12-10T18:22:05.114Z"
      },
      {
        "duration": 7,
        "start_time": "2022-12-10T18:22:05.174Z"
      },
      {
        "duration": 8,
        "start_time": "2022-12-10T18:22:05.184Z"
      },
      {
        "duration": 34,
        "start_time": "2022-12-10T18:22:05.194Z"
      },
      {
        "duration": 64,
        "start_time": "2022-12-10T18:22:05.229Z"
      },
      {
        "duration": 404,
        "start_time": "2022-12-10T18:22:05.294Z"
      },
      {
        "duration": 12,
        "start_time": "2022-12-10T18:22:05.700Z"
      },
      {
        "duration": 15,
        "start_time": "2022-12-10T18:22:05.714Z"
      },
      {
        "duration": 58,
        "start_time": "2022-12-10T18:22:05.731Z"
      },
      {
        "duration": 6,
        "start_time": "2022-12-10T18:22:05.791Z"
      },
      {
        "duration": 6,
        "start_time": "2022-12-10T18:22:05.799Z"
      },
      {
        "duration": 297,
        "start_time": "2022-12-10T18:22:05.808Z"
      },
      {
        "duration": 4,
        "start_time": "2022-12-10T18:22:06.107Z"
      },
      {
        "duration": 367,
        "start_time": "2022-12-10T18:22:06.113Z"
      },
      {
        "duration": 3,
        "start_time": "2022-12-10T18:22:06.482Z"
      },
      {
        "duration": 295,
        "start_time": "2022-12-10T18:22:06.488Z"
      },
      {
        "duration": 229,
        "start_time": "2022-12-10T18:22:06.785Z"
      },
      {
        "duration": 182,
        "start_time": "2022-12-10T18:22:07.016Z"
      },
      {
        "duration": 4,
        "start_time": "2022-12-10T18:22:07.200Z"
      },
      {
        "duration": 254,
        "start_time": "2022-12-10T18:22:07.205Z"
      },
      {
        "duration": 3,
        "start_time": "2022-12-10T18:22:07.465Z"
      },
      {
        "duration": 230,
        "start_time": "2022-12-10T18:22:07.470Z"
      },
      {
        "duration": 2,
        "start_time": "2022-12-10T18:22:07.702Z"
      },
      {
        "duration": 168,
        "start_time": "2022-12-10T18:22:07.706Z"
      },
      {
        "duration": 11,
        "start_time": "2022-12-10T18:22:07.875Z"
      },
      {
        "duration": 6,
        "start_time": "2022-12-10T18:22:07.888Z"
      },
      {
        "duration": 295,
        "start_time": "2022-12-10T18:22:07.896Z"
      },
      {
        "duration": 369,
        "start_time": "2022-12-10T18:22:08.193Z"
      },
      {
        "duration": 335,
        "start_time": "2022-12-10T18:22:08.564Z"
      },
      {
        "duration": 3,
        "start_time": "2022-12-10T18:22:08.901Z"
      },
      {
        "duration": 390,
        "start_time": "2022-12-10T18:22:08.907Z"
      },
      {
        "duration": 203,
        "start_time": "2022-12-10T18:22:09.299Z"
      },
      {
        "duration": 18,
        "start_time": "2022-12-10T18:22:09.505Z"
      },
      {
        "duration": 255,
        "start_time": "2022-12-10T18:22:09.525Z"
      },
      {
        "duration": 14,
        "start_time": "2022-12-10T18:22:09.783Z"
      },
      {
        "duration": 13,
        "start_time": "2022-12-10T18:22:09.800Z"
      },
      {
        "duration": 412,
        "start_time": "2022-12-10T18:22:09.816Z"
      },
      {
        "duration": 7,
        "start_time": "2022-12-10T18:22:10.229Z"
      },
      {
        "duration": 29,
        "start_time": "2022-12-10T18:22:10.238Z"
      },
      {
        "duration": 368,
        "start_time": "2022-12-10T18:22:10.269Z"
      },
      {
        "duration": 486,
        "start_time": "2022-12-10T18:22:10.650Z"
      },
      {
        "duration": 75,
        "start_time": "2022-12-10T18:22:33.008Z"
      },
      {
        "duration": 105,
        "start_time": "2022-12-10T18:22:55.516Z"
      },
      {
        "duration": 75,
        "start_time": "2022-12-10T18:23:03.169Z"
      },
      {
        "duration": 79,
        "start_time": "2022-12-10T18:23:11.238Z"
      },
      {
        "duration": 69,
        "start_time": "2022-12-10T18:23:26.068Z"
      },
      {
        "duration": 69,
        "start_time": "2022-12-10T18:23:31.173Z"
      },
      {
        "duration": 7,
        "start_time": "2022-12-10T18:24:09.032Z"
      },
      {
        "duration": 194,
        "start_time": "2022-12-10T18:24:14.137Z"
      },
      {
        "duration": 6,
        "start_time": "2022-12-10T18:24:53.322Z"
      },
      {
        "duration": 10,
        "start_time": "2022-12-10T18:24:57.555Z"
      },
      {
        "duration": 228,
        "start_time": "2022-12-10T18:24:59.851Z"
      },
      {
        "duration": 7,
        "start_time": "2022-12-10T18:27:15.634Z"
      },
      {
        "duration": 238,
        "start_time": "2022-12-10T18:27:19.864Z"
      },
      {
        "duration": 8,
        "start_time": "2022-12-10T18:27:23.520Z"
      },
      {
        "duration": 190,
        "start_time": "2022-12-10T18:27:26.696Z"
      },
      {
        "duration": 7,
        "start_time": "2022-12-10T18:28:58.595Z"
      },
      {
        "duration": 187,
        "start_time": "2022-12-10T18:29:00.732Z"
      },
      {
        "duration": 173,
        "start_time": "2022-12-10T18:29:16.570Z"
      },
      {
        "duration": 90,
        "start_time": "2022-12-10T18:29:52.820Z"
      },
      {
        "duration": 3064,
        "start_time": "2022-12-10T18:29:57.183Z"
      },
      {
        "duration": 3174,
        "start_time": "2022-12-10T18:30:41.359Z"
      },
      {
        "duration": 316,
        "start_time": "2022-12-10T18:31:17.096Z"
      },
      {
        "duration": 70,
        "start_time": "2022-12-10T18:31:40.565Z"
      },
      {
        "duration": 5,
        "start_time": "2022-12-10T18:31:49.800Z"
      },
      {
        "duration": 249,
        "start_time": "2022-12-10T18:31:52.132Z"
      },
      {
        "duration": 256,
        "start_time": "2022-12-10T18:31:58.773Z"
      },
      {
        "duration": 7,
        "start_time": "2022-12-10T18:32:36.362Z"
      },
      {
        "duration": 3,
        "start_time": "2022-12-10T18:33:12.684Z"
      },
      {
        "duration": 136,
        "start_time": "2022-12-10T18:33:12.689Z"
      },
      {
        "duration": 2151,
        "start_time": "2022-12-10T18:33:13.948Z"
      },
      {
        "duration": 19,
        "start_time": "2022-12-10T18:33:16.102Z"
      },
      {
        "duration": 38,
        "start_time": "2022-12-10T18:33:16.124Z"
      },
      {
        "duration": 30,
        "start_time": "2022-12-10T18:33:16.165Z"
      },
      {
        "duration": 77,
        "start_time": "2022-12-10T18:33:16.197Z"
      },
      {
        "duration": 29,
        "start_time": "2022-12-10T18:33:16.276Z"
      },
      {
        "duration": 18,
        "start_time": "2022-12-10T18:33:16.307Z"
      },
      {
        "duration": 4,
        "start_time": "2022-12-10T18:33:16.351Z"
      },
      {
        "duration": 27,
        "start_time": "2022-12-10T18:33:16.357Z"
      },
      {
        "duration": 10,
        "start_time": "2022-12-10T18:33:16.386Z"
      },
      {
        "duration": 20,
        "start_time": "2022-12-10T18:33:16.398Z"
      },
      {
        "duration": 12,
        "start_time": "2022-12-10T18:33:16.420Z"
      },
      {
        "duration": 25,
        "start_time": "2022-12-10T18:33:16.457Z"
      },
      {
        "duration": 16,
        "start_time": "2022-12-10T18:33:16.486Z"
      },
      {
        "duration": 7,
        "start_time": "2022-12-10T18:33:16.504Z"
      },
      {
        "duration": 6,
        "start_time": "2022-12-10T18:33:16.513Z"
      },
      {
        "duration": 9,
        "start_time": "2022-12-10T18:33:16.521Z"
      },
      {
        "duration": 35,
        "start_time": "2022-12-10T18:33:16.532Z"
      },
      {
        "duration": 11,
        "start_time": "2022-12-10T18:33:16.569Z"
      },
      {
        "duration": 5,
        "start_time": "2022-12-10T18:33:19.875Z"
      },
      {
        "duration": 23,
        "start_time": "2022-12-10T18:33:19.883Z"
      },
      {
        "duration": 4,
        "start_time": "2022-12-10T18:33:24.280Z"
      },
      {
        "duration": 19,
        "start_time": "2022-12-10T18:33:24.286Z"
      },
      {
        "duration": 21,
        "start_time": "2022-12-10T18:33:24.307Z"
      },
      {
        "duration": 7,
        "start_time": "2022-12-10T18:33:28.598Z"
      },
      {
        "duration": 8,
        "start_time": "2022-12-10T18:33:28.608Z"
      },
      {
        "duration": 36,
        "start_time": "2022-12-10T18:33:28.618Z"
      },
      {
        "duration": 8,
        "start_time": "2022-12-10T18:33:28.656Z"
      },
      {
        "duration": 17,
        "start_time": "2022-12-10T18:33:28.666Z"
      },
      {
        "duration": 24,
        "start_time": "2022-12-10T18:33:28.684Z"
      },
      {
        "duration": 42,
        "start_time": "2022-12-10T18:33:28.710Z"
      },
      {
        "duration": 406,
        "start_time": "2022-12-10T18:33:28.754Z"
      },
      {
        "duration": 15,
        "start_time": "2022-12-10T18:33:29.162Z"
      },
      {
        "duration": 6,
        "start_time": "2022-12-10T18:33:29.179Z"
      },
      {
        "duration": 35,
        "start_time": "2022-12-10T18:33:29.187Z"
      },
      {
        "duration": 39,
        "start_time": "2022-12-10T18:33:29.224Z"
      },
      {
        "duration": 5,
        "start_time": "2022-12-10T18:33:29.265Z"
      },
      {
        "duration": 268,
        "start_time": "2022-12-10T18:33:29.273Z"
      },
      {
        "duration": 4,
        "start_time": "2022-12-10T18:33:29.550Z"
      },
      {
        "duration": 403,
        "start_time": "2022-12-10T18:33:29.569Z"
      },
      {
        "duration": 2,
        "start_time": "2022-12-10T18:33:29.974Z"
      },
      {
        "duration": 307,
        "start_time": "2022-12-10T18:33:29.978Z"
      },
      {
        "duration": 227,
        "start_time": "2022-12-10T18:33:30.287Z"
      },
      {
        "duration": 192,
        "start_time": "2022-12-10T18:33:30.516Z"
      },
      {
        "duration": 3,
        "start_time": "2022-12-10T18:33:30.710Z"
      },
      {
        "duration": 235,
        "start_time": "2022-12-10T18:33:30.715Z"
      },
      {
        "duration": 3,
        "start_time": "2022-12-10T18:33:30.963Z"
      },
      {
        "duration": 242,
        "start_time": "2022-12-10T18:33:30.968Z"
      },
      {
        "duration": 2,
        "start_time": "2022-12-10T18:33:31.212Z"
      },
      {
        "duration": 160,
        "start_time": "2022-12-10T18:33:31.216Z"
      },
      {
        "duration": 11,
        "start_time": "2022-12-10T18:33:31.379Z"
      },
      {
        "duration": 8,
        "start_time": "2022-12-10T18:33:31.391Z"
      },
      {
        "duration": 276,
        "start_time": "2022-12-10T18:33:31.401Z"
      },
      {
        "duration": 919,
        "start_time": "2022-12-10T18:33:31.679Z"
      },
      {
        "duration": 345,
        "start_time": "2022-12-10T18:33:32.600Z"
      },
      {
        "duration": 6,
        "start_time": "2022-12-10T18:33:32.947Z"
      },
      {
        "duration": 326,
        "start_time": "2022-12-10T18:33:32.964Z"
      },
      {
        "duration": 181,
        "start_time": "2022-12-10T18:33:33.292Z"
      },
      {
        "duration": 14,
        "start_time": "2022-12-10T18:33:33.475Z"
      },
      {
        "duration": 212,
        "start_time": "2022-12-10T18:33:33.491Z"
      },
      {
        "duration": 9,
        "start_time": "2022-12-10T18:33:33.705Z"
      },
      {
        "duration": 5,
        "start_time": "2022-12-10T18:33:33.716Z"
      },
      {
        "duration": 363,
        "start_time": "2022-12-10T18:33:33.724Z"
      },
      {
        "duration": 8,
        "start_time": "2022-12-10T18:33:34.088Z"
      },
      {
        "duration": 5,
        "start_time": "2022-12-10T18:33:34.097Z"
      },
      {
        "duration": 359,
        "start_time": "2022-12-10T18:33:34.104Z"
      },
      {
        "duration": 104,
        "start_time": "2022-12-10T18:33:34.465Z"
      },
      {
        "duration": 7,
        "start_time": "2022-12-10T18:33:34.571Z"
      },
      {
        "duration": 189,
        "start_time": "2022-12-10T18:33:34.775Z"
      },
      {
        "duration": 189,
        "start_time": "2022-12-10T18:33:34.966Z"
      },
      {
        "duration": 191,
        "start_time": "2022-12-10T18:35:00.873Z"
      },
      {
        "duration": 201,
        "start_time": "2022-12-10T18:35:19.721Z"
      },
      {
        "duration": 181,
        "start_time": "2022-12-10T18:35:52.886Z"
      },
      {
        "duration": 162,
        "start_time": "2022-12-10T18:35:57.777Z"
      },
      {
        "duration": 10,
        "start_time": "2022-12-10T18:53:27.069Z"
      },
      {
        "duration": 9,
        "start_time": "2022-12-10T18:53:35.984Z"
      },
      {
        "duration": 11,
        "start_time": "2022-12-10T18:54:01.919Z"
      },
      {
        "duration": 10,
        "start_time": "2022-12-10T18:54:08.833Z"
      },
      {
        "duration": 126,
        "start_time": "2022-12-10T18:54:19.905Z"
      },
      {
        "duration": 137,
        "start_time": "2022-12-10T18:54:27.781Z"
      },
      {
        "duration": 199,
        "start_time": "2022-12-10T18:54:59.248Z"
      },
      {
        "duration": 187,
        "start_time": "2022-12-10T18:55:32.898Z"
      },
      {
        "duration": 223,
        "start_time": "2022-12-10T18:55:46.975Z"
      },
      {
        "duration": 290,
        "start_time": "2022-12-10T18:56:42.688Z"
      },
      {
        "duration": 208,
        "start_time": "2022-12-10T18:57:26.719Z"
      },
      {
        "duration": 17,
        "start_time": "2022-12-10T18:58:18.889Z"
      },
      {
        "duration": 150,
        "start_time": "2022-12-10T18:58:49.614Z"
      },
      {
        "duration": 224,
        "start_time": "2022-12-10T18:59:40.903Z"
      },
      {
        "duration": 129,
        "start_time": "2022-12-10T18:59:51.879Z"
      },
      {
        "duration": 245,
        "start_time": "2022-12-10T18:59:53.696Z"
      },
      {
        "duration": 254,
        "start_time": "2022-12-10T19:00:00.093Z"
      },
      {
        "duration": 246,
        "start_time": "2022-12-10T19:00:12.992Z"
      },
      {
        "duration": 134,
        "start_time": "2022-12-10T19:00:18.897Z"
      },
      {
        "duration": 14,
        "start_time": "2022-12-10T19:01:07.993Z"
      },
      {
        "duration": 214,
        "start_time": "2022-12-10T19:01:11.726Z"
      },
      {
        "duration": 8,
        "start_time": "2022-12-10T19:02:07.325Z"
      },
      {
        "duration": 7,
        "start_time": "2022-12-10T19:02:18.527Z"
      },
      {
        "duration": 7,
        "start_time": "2022-12-10T19:02:33.182Z"
      },
      {
        "duration": 134,
        "start_time": "2022-12-10T19:05:48.002Z"
      },
      {
        "duration": 271,
        "start_time": "2022-12-10T19:07:10.412Z"
      },
      {
        "duration": 252,
        "start_time": "2022-12-10T19:07:21.339Z"
      },
      {
        "duration": 227,
        "start_time": "2022-12-10T19:07:30.473Z"
      },
      {
        "duration": 246,
        "start_time": "2022-12-10T19:07:38.573Z"
      },
      {
        "duration": 196,
        "start_time": "2022-12-10T19:07:45.908Z"
      },
      {
        "duration": 226,
        "start_time": "2022-12-10T19:07:49.594Z"
      },
      {
        "duration": 62,
        "start_time": "2022-12-10T19:09:07.228Z"
      },
      {
        "duration": 18,
        "start_time": "2022-12-10T19:09:39.387Z"
      },
      {
        "duration": 211,
        "start_time": "2022-12-10T19:10:14.784Z"
      },
      {
        "duration": 19,
        "start_time": "2022-12-10T19:10:26.274Z"
      },
      {
        "duration": 23,
        "start_time": "2022-12-10T19:12:30.867Z"
      },
      {
        "duration": 18,
        "start_time": "2022-12-10T19:13:57.186Z"
      },
      {
        "duration": 3,
        "start_time": "2022-12-10T19:14:03.267Z"
      },
      {
        "duration": 140,
        "start_time": "2022-12-10T19:14:03.273Z"
      },
      {
        "duration": 2803,
        "start_time": "2022-12-10T19:14:03.415Z"
      },
      {
        "duration": 46,
        "start_time": "2022-12-10T19:14:06.220Z"
      },
      {
        "duration": 12,
        "start_time": "2022-12-10T19:14:06.270Z"
      },
      {
        "duration": 12,
        "start_time": "2022-12-10T19:14:06.284Z"
      },
      {
        "duration": 106,
        "start_time": "2022-12-10T19:14:06.298Z"
      },
      {
        "duration": 29,
        "start_time": "2022-12-10T19:14:06.405Z"
      },
      {
        "duration": 25,
        "start_time": "2022-12-10T19:14:06.454Z"
      },
      {
        "duration": 4,
        "start_time": "2022-12-10T19:14:06.481Z"
      },
      {
        "duration": 11,
        "start_time": "2022-12-10T19:14:06.487Z"
      },
      {
        "duration": 4,
        "start_time": "2022-12-10T19:14:06.500Z"
      },
      {
        "duration": 59,
        "start_time": "2022-12-10T19:14:06.506Z"
      },
      {
        "duration": 12,
        "start_time": "2022-12-10T19:14:06.573Z"
      },
      {
        "duration": 13,
        "start_time": "2022-12-10T19:14:06.587Z"
      },
      {
        "duration": 52,
        "start_time": "2022-12-10T19:14:06.602Z"
      },
      {
        "duration": 3,
        "start_time": "2022-12-10T19:14:06.656Z"
      },
      {
        "duration": 14,
        "start_time": "2022-12-10T19:14:06.661Z"
      },
      {
        "duration": 7,
        "start_time": "2022-12-10T19:14:06.677Z"
      },
      {
        "duration": 16,
        "start_time": "2022-12-10T19:14:06.686Z"
      },
      {
        "duration": 7,
        "start_time": "2022-12-10T19:14:06.704Z"
      },
      {
        "duration": 8,
        "start_time": "2022-12-10T19:14:06.751Z"
      },
      {
        "duration": 8,
        "start_time": "2022-12-10T19:14:06.764Z"
      },
      {
        "duration": 8,
        "start_time": "2022-12-10T19:14:06.774Z"
      },
      {
        "duration": 18,
        "start_time": "2022-12-10T19:14:06.784Z"
      },
      {
        "duration": 61,
        "start_time": "2022-12-10T19:14:06.803Z"
      },
      {
        "duration": 10,
        "start_time": "2022-12-10T19:14:06.866Z"
      },
      {
        "duration": 7,
        "start_time": "2022-12-10T19:14:06.878Z"
      },
      {
        "duration": 28,
        "start_time": "2022-12-10T19:14:06.887Z"
      },
      {
        "duration": 35,
        "start_time": "2022-12-10T19:14:06.917Z"
      },
      {
        "duration": 28,
        "start_time": "2022-12-10T19:14:06.956Z"
      },
      {
        "duration": 212,
        "start_time": "2022-12-10T19:14:06.986Z"
      },
      {
        "duration": 266,
        "start_time": "2022-12-10T19:14:07.200Z"
      },
      {
        "duration": 340,
        "start_time": "2022-12-10T19:16:09.185Z"
      },
      {
        "duration": 356,
        "start_time": "2022-12-10T19:16:23.543Z"
      },
      {
        "duration": 318,
        "start_time": "2022-12-10T19:16:29.172Z"
      },
      {
        "duration": 19,
        "start_time": "2022-12-10T19:17:02.046Z"
      },
      {
        "duration": 222,
        "start_time": "2022-12-10T19:19:29.358Z"
      },
      {
        "duration": 17,
        "start_time": "2022-12-10T19:19:49.235Z"
      },
      {
        "duration": 332,
        "start_time": "2022-12-10T19:20:46.397Z"
      },
      {
        "duration": 335,
        "start_time": "2022-12-10T19:21:04.737Z"
      },
      {
        "duration": 11,
        "start_time": "2022-12-10T19:21:29.415Z"
      },
      {
        "duration": 217,
        "start_time": "2022-12-10T19:22:43.108Z"
      },
      {
        "duration": 205,
        "start_time": "2022-12-10T19:22:53.966Z"
      },
      {
        "duration": 210,
        "start_time": "2022-12-10T19:22:59.323Z"
      },
      {
        "duration": 206,
        "start_time": "2022-12-10T19:23:06.228Z"
      },
      {
        "duration": 376,
        "start_time": "2022-12-10T19:23:10.401Z"
      },
      {
        "duration": 10,
        "start_time": "2022-12-10T19:23:47.412Z"
      },
      {
        "duration": 340,
        "start_time": "2022-12-10T19:23:50.601Z"
      },
      {
        "duration": 3,
        "start_time": "2022-12-10T19:23:55.237Z"
      },
      {
        "duration": 128,
        "start_time": "2022-12-10T19:23:55.242Z"
      },
      {
        "duration": 2109,
        "start_time": "2022-12-10T19:23:55.372Z"
      },
      {
        "duration": 17,
        "start_time": "2022-12-10T19:23:57.483Z"
      },
      {
        "duration": 10,
        "start_time": "2022-12-10T19:23:57.502Z"
      },
      {
        "duration": 54,
        "start_time": "2022-12-10T19:23:57.514Z"
      },
      {
        "duration": 64,
        "start_time": "2022-12-10T19:23:57.569Z"
      },
      {
        "duration": 41,
        "start_time": "2022-12-10T19:23:57.650Z"
      },
      {
        "duration": 24,
        "start_time": "2022-12-10T19:23:57.692Z"
      },
      {
        "duration": 3,
        "start_time": "2022-12-10T19:23:57.718Z"
      },
      {
        "duration": 14,
        "start_time": "2022-12-10T19:23:57.751Z"
      },
      {
        "duration": 3,
        "start_time": "2022-12-10T19:23:57.767Z"
      },
      {
        "duration": 20,
        "start_time": "2022-12-10T19:23:57.772Z"
      },
      {
        "duration": 12,
        "start_time": "2022-12-10T19:23:57.796Z"
      },
      {
        "duration": 52,
        "start_time": "2022-12-10T19:23:57.811Z"
      },
      {
        "duration": 20,
        "start_time": "2022-12-10T19:23:57.865Z"
      },
      {
        "duration": 3,
        "start_time": "2022-12-10T19:23:57.886Z"
      },
      {
        "duration": 5,
        "start_time": "2022-12-10T19:23:57.891Z"
      },
      {
        "duration": 7,
        "start_time": "2022-12-10T19:23:57.898Z"
      },
      {
        "duration": 53,
        "start_time": "2022-12-10T19:23:57.906Z"
      },
      {
        "duration": 9,
        "start_time": "2022-12-10T19:23:57.971Z"
      },
      {
        "duration": 5,
        "start_time": "2022-12-10T19:23:57.982Z"
      },
      {
        "duration": 7,
        "start_time": "2022-12-10T19:23:57.989Z"
      },
      {
        "duration": 6,
        "start_time": "2022-12-10T19:23:57.997Z"
      },
      {
        "duration": 16,
        "start_time": "2022-12-10T19:23:58.005Z"
      },
      {
        "duration": 54,
        "start_time": "2022-12-10T19:23:58.023Z"
      },
      {
        "duration": 6,
        "start_time": "2022-12-10T19:23:58.079Z"
      },
      {
        "duration": 7,
        "start_time": "2022-12-10T19:23:58.087Z"
      },
      {
        "duration": 66,
        "start_time": "2022-12-10T19:23:58.096Z"
      },
      {
        "duration": 6,
        "start_time": "2022-12-10T19:23:58.165Z"
      },
      {
        "duration": 15,
        "start_time": "2022-12-10T19:23:58.173Z"
      },
      {
        "duration": 339,
        "start_time": "2022-12-10T19:23:58.190Z"
      },
      {
        "duration": 34,
        "start_time": "2022-12-10T19:23:58.531Z"
      },
      {
        "duration": 10,
        "start_time": "2022-12-10T19:23:58.567Z"
      },
      {
        "duration": 12,
        "start_time": "2022-12-10T19:24:07.273Z"
      },
      {
        "duration": 338,
        "start_time": "2022-12-10T19:24:09.369Z"
      },
      {
        "duration": 224,
        "start_time": "2022-12-10T19:24:33.337Z"
      },
      {
        "duration": 11,
        "start_time": "2022-12-10T19:24:39.067Z"
      },
      {
        "duration": 11,
        "start_time": "2022-12-10T19:29:39.998Z"
      },
      {
        "duration": 13,
        "start_time": "2022-12-10T19:29:43.499Z"
      },
      {
        "duration": 7,
        "start_time": "2022-12-10T19:31:17.192Z"
      },
      {
        "duration": 9,
        "start_time": "2022-12-10T19:32:53.807Z"
      },
      {
        "duration": 5,
        "start_time": "2022-12-10T19:34:16.165Z"
      },
      {
        "duration": 3,
        "start_time": "2022-12-10T19:39:20.728Z"
      },
      {
        "duration": 143,
        "start_time": "2022-12-10T19:39:20.733Z"
      },
      {
        "duration": 3140,
        "start_time": "2022-12-10T19:39:20.878Z"
      },
      {
        "duration": 31,
        "start_time": "2022-12-10T19:39:24.020Z"
      },
      {
        "duration": 17,
        "start_time": "2022-12-10T19:39:24.059Z"
      },
      {
        "duration": 12,
        "start_time": "2022-12-10T19:39:24.078Z"
      },
      {
        "duration": 105,
        "start_time": "2022-12-10T19:39:24.092Z"
      },
      {
        "duration": 32,
        "start_time": "2022-12-10T19:39:24.199Z"
      },
      {
        "duration": 48,
        "start_time": "2022-12-10T19:39:24.234Z"
      },
      {
        "duration": 3,
        "start_time": "2022-12-10T19:39:24.284Z"
      },
      {
        "duration": 10,
        "start_time": "2022-12-10T19:39:24.290Z"
      },
      {
        "duration": 7,
        "start_time": "2022-12-10T19:39:24.302Z"
      },
      {
        "duration": 58,
        "start_time": "2022-12-10T19:39:24.311Z"
      },
      {
        "duration": 13,
        "start_time": "2022-12-10T19:39:24.372Z"
      },
      {
        "duration": 15,
        "start_time": "2022-12-10T19:39:24.387Z"
      },
      {
        "duration": 17,
        "start_time": "2022-12-10T19:39:24.405Z"
      },
      {
        "duration": 7,
        "start_time": "2022-12-10T19:39:24.461Z"
      },
      {
        "duration": 13,
        "start_time": "2022-12-10T19:39:24.470Z"
      },
      {
        "duration": 8,
        "start_time": "2022-12-10T19:39:24.485Z"
      },
      {
        "duration": 14,
        "start_time": "2022-12-10T19:39:24.495Z"
      },
      {
        "duration": 7,
        "start_time": "2022-12-10T19:39:24.512Z"
      },
      {
        "duration": 49,
        "start_time": "2022-12-10T19:39:24.522Z"
      },
      {
        "duration": 6,
        "start_time": "2022-12-10T19:39:24.573Z"
      },
      {
        "duration": 7,
        "start_time": "2022-12-10T19:39:24.581Z"
      },
      {
        "duration": 21,
        "start_time": "2022-12-10T19:39:24.590Z"
      },
      {
        "duration": 66,
        "start_time": "2022-12-10T19:39:24.613Z"
      },
      {
        "duration": 7,
        "start_time": "2022-12-10T19:39:24.681Z"
      },
      {
        "duration": 9,
        "start_time": "2022-12-10T19:39:24.690Z"
      },
      {
        "duration": 69,
        "start_time": "2022-12-10T19:39:24.704Z"
      },
      {
        "duration": 5,
        "start_time": "2022-12-10T19:39:24.775Z"
      },
      {
        "duration": 12,
        "start_time": "2022-12-10T19:39:24.782Z"
      },
      {
        "duration": 337,
        "start_time": "2022-12-10T19:39:24.796Z"
      },
      {
        "duration": 30,
        "start_time": "2022-12-10T19:39:25.135Z"
      },
      {
        "duration": 22,
        "start_time": "2022-12-10T19:39:25.167Z"
      },
      {
        "duration": 378,
        "start_time": "2022-12-10T19:39:25.191Z"
      },
      {
        "duration": 219,
        "start_time": "2022-12-10T19:39:25.573Z"
      },
      {
        "duration": 11,
        "start_time": "2022-12-10T19:39:25.794Z"
      },
      {
        "duration": 7,
        "start_time": "2022-12-10T19:39:25.807Z"
      },
      {
        "duration": 39,
        "start_time": "2022-12-10T19:39:25.816Z"
      },
      {
        "duration": 22,
        "start_time": "2022-12-10T19:39:25.863Z"
      },
      {
        "duration": 6,
        "start_time": "2022-12-10T19:39:25.887Z"
      },
      {
        "duration": 19,
        "start_time": "2022-12-10T19:39:25.895Z"
      },
      {
        "duration": 61,
        "start_time": "2022-12-10T19:39:25.916Z"
      },
      {
        "duration": 387,
        "start_time": "2022-12-10T19:39:25.979Z"
      },
      {
        "duration": 12,
        "start_time": "2022-12-10T19:39:26.368Z"
      },
      {
        "duration": 16,
        "start_time": "2022-12-10T19:39:26.382Z"
      },
      {
        "duration": 67,
        "start_time": "2022-12-10T19:39:26.400Z"
      },
      {
        "duration": 24,
        "start_time": "2022-12-10T19:39:26.469Z"
      },
      {
        "duration": 12,
        "start_time": "2022-12-10T19:39:26.494Z"
      },
      {
        "duration": 280,
        "start_time": "2022-12-10T19:39:26.508Z"
      },
      {
        "duration": 3,
        "start_time": "2022-12-10T19:39:26.790Z"
      },
      {
        "duration": 342,
        "start_time": "2022-12-10T19:39:26.796Z"
      },
      {
        "duration": 16,
        "start_time": "2022-12-10T19:39:27.140Z"
      },
      {
        "duration": 281,
        "start_time": "2022-12-10T19:39:27.164Z"
      },
      {
        "duration": 248,
        "start_time": "2022-12-10T19:39:27.447Z"
      },
      {
        "duration": 194,
        "start_time": "2022-12-10T19:39:27.697Z"
      },
      {
        "duration": 3,
        "start_time": "2022-12-10T19:39:27.893Z"
      },
      {
        "duration": 270,
        "start_time": "2022-12-10T19:39:27.898Z"
      },
      {
        "duration": 8,
        "start_time": "2022-12-10T19:39:28.169Z"
      },
      {
        "duration": 252,
        "start_time": "2022-12-10T19:39:28.179Z"
      },
      {
        "duration": 3,
        "start_time": "2022-12-10T19:39:28.434Z"
      },
      {
        "duration": 177,
        "start_time": "2022-12-10T19:39:28.439Z"
      },
      {
        "duration": 14,
        "start_time": "2022-12-10T19:39:28.618Z"
      },
      {
        "duration": 30,
        "start_time": "2022-12-10T19:39:28.655Z"
      },
      {
        "duration": 260,
        "start_time": "2022-12-10T19:39:28.687Z"
      },
      {
        "duration": 383,
        "start_time": "2022-12-10T19:39:28.950Z"
      },
      {
        "duration": 386,
        "start_time": "2022-12-10T19:39:29.335Z"
      },
      {
        "duration": 3,
        "start_time": "2022-12-10T19:39:29.724Z"
      },
      {
        "duration": 472,
        "start_time": "2022-12-10T19:39:29.729Z"
      },
      {
        "duration": 191,
        "start_time": "2022-12-10T19:39:30.204Z"
      },
      {
        "duration": 14,
        "start_time": "2022-12-10T19:39:30.397Z"
      },
      {
        "duration": 258,
        "start_time": "2022-12-10T19:39:30.413Z"
      },
      {
        "duration": 14,
        "start_time": "2022-12-10T19:39:30.673Z"
      },
      {
        "duration": 19,
        "start_time": "2022-12-10T19:39:30.689Z"
      },
      {
        "duration": 382,
        "start_time": "2022-12-10T19:39:30.709Z"
      },
      {
        "duration": 7,
        "start_time": "2022-12-10T19:39:31.093Z"
      },
      {
        "duration": 31,
        "start_time": "2022-12-10T19:39:31.102Z"
      },
      {
        "duration": 366,
        "start_time": "2022-12-10T19:39:31.135Z"
      },
      {
        "duration": 134,
        "start_time": "2022-12-10T19:39:31.503Z"
      },
      {
        "duration": 17,
        "start_time": "2022-12-10T19:39:31.640Z"
      },
      {
        "duration": 227,
        "start_time": "2022-12-10T19:39:31.659Z"
      },
      {
        "duration": 207,
        "start_time": "2022-12-10T19:39:31.890Z"
      },
      {
        "duration": 221,
        "start_time": "2022-12-10T19:39:32.103Z"
      },
      {
        "duration": 248,
        "start_time": "2022-12-10T19:39:32.326Z"
      },
      {
        "duration": 8,
        "start_time": "2022-12-10T19:39:32.576Z"
      },
      {
        "duration": 204,
        "start_time": "2022-12-10T19:39:32.586Z"
      },
      {
        "duration": 188,
        "start_time": "2022-12-10T19:39:32.792Z"
      },
      {
        "duration": 193,
        "start_time": "2022-12-10T19:39:32.982Z"
      },
      {
        "duration": 206,
        "start_time": "2022-12-10T19:39:33.177Z"
      },
      {
        "duration": 198,
        "start_time": "2022-12-10T19:39:33.386Z"
      },
      {
        "duration": 12,
        "start_time": "2022-12-10T19:39:33.587Z"
      },
      {
        "duration": 872,
        "start_time": "2022-12-10T19:39:33.601Z"
      },
      {
        "duration": 22,
        "start_time": "2022-12-10T19:39:34.475Z"
      },
      {
        "duration": 196,
        "start_time": "2022-12-10T19:39:34.499Z"
      },
      {
        "duration": 6,
        "start_time": "2022-12-10T19:39:34.697Z"
      },
      {
        "duration": 329,
        "start_time": "2022-12-10T19:42:20.689Z"
      },
      {
        "duration": 99,
        "start_time": "2022-12-10T19:42:25.464Z"
      },
      {
        "duration": 116,
        "start_time": "2022-12-10T19:42:31.151Z"
      },
      {
        "duration": 11,
        "start_time": "2022-12-10T19:42:51.984Z"
      },
      {
        "duration": 130,
        "start_time": "2022-12-10T19:42:57.676Z"
      },
      {
        "duration": 360,
        "start_time": "2022-12-10T19:43:29.363Z"
      },
      {
        "duration": 334,
        "start_time": "2022-12-10T19:43:32.312Z"
      },
      {
        "duration": 135,
        "start_time": "2022-12-10T19:44:03.367Z"
      },
      {
        "duration": 4,
        "start_time": "2022-12-10T19:45:21.439Z"
      },
      {
        "duration": 3,
        "start_time": "2022-12-10T19:45:26.619Z"
      },
      {
        "duration": 3,
        "start_time": "2022-12-10T19:45:30.633Z"
      },
      {
        "duration": 158,
        "start_time": "2022-12-10T19:45:30.638Z"
      },
      {
        "duration": 2187,
        "start_time": "2022-12-10T19:45:30.798Z"
      },
      {
        "duration": 18,
        "start_time": "2022-12-10T19:45:32.987Z"
      },
      {
        "duration": 56,
        "start_time": "2022-12-10T19:45:33.007Z"
      },
      {
        "duration": 14,
        "start_time": "2022-12-10T19:45:33.068Z"
      },
      {
        "duration": 88,
        "start_time": "2022-12-10T19:45:33.084Z"
      },
      {
        "duration": 31,
        "start_time": "2022-12-10T19:45:33.175Z"
      },
      {
        "duration": 18,
        "start_time": "2022-12-10T19:45:33.208Z"
      },
      {
        "duration": 9,
        "start_time": "2022-12-10T19:45:33.251Z"
      },
      {
        "duration": 10,
        "start_time": "2022-12-10T19:45:33.268Z"
      },
      {
        "duration": 8,
        "start_time": "2022-12-10T19:45:33.280Z"
      },
      {
        "duration": 20,
        "start_time": "2022-12-10T19:45:33.290Z"
      },
      {
        "duration": 48,
        "start_time": "2022-12-10T19:45:33.312Z"
      },
      {
        "duration": 18,
        "start_time": "2022-12-10T19:45:33.363Z"
      },
      {
        "duration": 24,
        "start_time": "2022-12-10T19:45:33.383Z"
      },
      {
        "duration": 4,
        "start_time": "2022-12-10T19:45:33.409Z"
      },
      {
        "duration": 17,
        "start_time": "2022-12-10T19:45:33.415Z"
      },
      {
        "duration": 38,
        "start_time": "2022-12-10T19:45:33.450Z"
      },
      {
        "duration": 12,
        "start_time": "2022-12-10T19:45:33.489Z"
      },
      {
        "duration": 5,
        "start_time": "2022-12-10T19:45:33.503Z"
      },
      {
        "duration": 11,
        "start_time": "2022-12-10T19:45:33.510Z"
      },
      {
        "duration": 10,
        "start_time": "2022-12-10T19:45:33.523Z"
      },
      {
        "duration": 34,
        "start_time": "2022-12-10T19:45:33.535Z"
      },
      {
        "duration": 20,
        "start_time": "2022-12-10T19:45:33.571Z"
      },
      {
        "duration": 22,
        "start_time": "2022-12-10T19:45:33.593Z"
      },
      {
        "duration": 8,
        "start_time": "2022-12-10T19:45:33.617Z"
      },
      {
        "duration": 35,
        "start_time": "2022-12-10T19:45:33.627Z"
      },
      {
        "duration": 32,
        "start_time": "2022-12-10T19:45:33.668Z"
      },
      {
        "duration": 7,
        "start_time": "2022-12-10T19:45:33.702Z"
      },
      {
        "duration": 14,
        "start_time": "2022-12-10T19:45:33.711Z"
      },
      {
        "duration": 327,
        "start_time": "2022-12-10T19:45:33.758Z"
      },
      {
        "duration": 15,
        "start_time": "2022-12-10T19:45:34.087Z"
      },
      {
        "duration": 12,
        "start_time": "2022-12-10T19:45:34.104Z"
      },
      {
        "duration": 363,
        "start_time": "2022-12-10T19:45:34.118Z"
      },
      {
        "duration": 233,
        "start_time": "2022-12-10T19:45:34.484Z"
      },
      {
        "duration": 13,
        "start_time": "2022-12-10T19:45:34.718Z"
      },
      {
        "duration": 9,
        "start_time": "2022-12-10T19:45:34.750Z"
      },
      {
        "duration": 30,
        "start_time": "2022-12-10T19:45:34.761Z"
      },
      {
        "duration": 6,
        "start_time": "2022-12-10T19:45:34.794Z"
      },
      {
        "duration": 6,
        "start_time": "2022-12-10T19:45:34.802Z"
      },
      {
        "duration": 50,
        "start_time": "2022-12-10T19:45:34.810Z"
      },
      {
        "duration": 41,
        "start_time": "2022-12-10T19:45:34.868Z"
      },
      {
        "duration": 430,
        "start_time": "2022-12-10T19:45:34.912Z"
      },
      {
        "duration": 23,
        "start_time": "2022-12-10T19:45:35.345Z"
      },
      {
        "duration": 12,
        "start_time": "2022-12-10T19:45:35.371Z"
      },
      {
        "duration": 35,
        "start_time": "2022-12-10T19:45:35.384Z"
      },
      {
        "duration": 13,
        "start_time": "2022-12-10T19:45:35.421Z"
      },
      {
        "duration": 6,
        "start_time": "2022-12-10T19:45:35.451Z"
      },
      {
        "duration": 313,
        "start_time": "2022-12-10T19:45:35.463Z"
      },
      {
        "duration": 3,
        "start_time": "2022-12-10T19:45:35.778Z"
      },
      {
        "duration": 393,
        "start_time": "2022-12-10T19:45:35.783Z"
      },
      {
        "duration": 3,
        "start_time": "2022-12-10T19:45:36.179Z"
      },
      {
        "duration": 299,
        "start_time": "2022-12-10T19:45:36.184Z"
      },
      {
        "duration": 244,
        "start_time": "2022-12-10T19:45:36.485Z"
      },
      {
        "duration": 211,
        "start_time": "2022-12-10T19:45:36.731Z"
      },
      {
        "duration": 8,
        "start_time": "2022-12-10T19:45:36.951Z"
      },
      {
        "duration": 300,
        "start_time": "2022-12-10T19:45:36.962Z"
      },
      {
        "duration": 3,
        "start_time": "2022-12-10T19:45:37.269Z"
      },
      {
        "duration": 248,
        "start_time": "2022-12-10T19:45:37.274Z"
      },
      {
        "duration": 3,
        "start_time": "2022-12-10T19:45:37.525Z"
      },
      {
        "duration": 215,
        "start_time": "2022-12-10T19:45:37.530Z"
      },
      {
        "duration": 18,
        "start_time": "2022-12-10T19:45:37.747Z"
      },
      {
        "duration": 16,
        "start_time": "2022-12-10T19:45:37.768Z"
      },
      {
        "duration": 289,
        "start_time": "2022-12-10T19:45:37.786Z"
      },
      {
        "duration": 392,
        "start_time": "2022-12-10T19:45:38.076Z"
      },
      {
        "duration": 434,
        "start_time": "2022-12-10T19:45:38.469Z"
      },
      {
        "duration": 3,
        "start_time": "2022-12-10T19:45:38.904Z"
      },
      {
        "duration": 369,
        "start_time": "2022-12-10T19:45:38.909Z"
      },
      {
        "duration": 187,
        "start_time": "2022-12-10T19:45:39.282Z"
      },
      {
        "duration": 13,
        "start_time": "2022-12-10T19:45:39.471Z"
      },
      {
        "duration": 227,
        "start_time": "2022-12-10T19:45:39.486Z"
      },
      {
        "duration": 10,
        "start_time": "2022-12-10T19:45:39.715Z"
      },
      {
        "duration": 37,
        "start_time": "2022-12-10T19:45:39.727Z"
      },
      {
        "duration": 1221,
        "start_time": "2022-12-10T19:45:39.767Z"
      },
      {
        "duration": 9,
        "start_time": "2022-12-10T19:45:40.991Z"
      },
      {
        "duration": 7,
        "start_time": "2022-12-10T19:45:41.002Z"
      },
      {
        "duration": 401,
        "start_time": "2022-12-10T19:45:41.012Z"
      },
      {
        "duration": 183,
        "start_time": "2022-12-10T19:45:41.416Z"
      },
      {
        "duration": 11,
        "start_time": "2022-12-10T19:45:41.601Z"
      },
      {
        "duration": 262,
        "start_time": "2022-12-10T19:45:41.615Z"
      },
      {
        "duration": 261,
        "start_time": "2022-12-10T19:45:41.880Z"
      },
      {
        "duration": 250,
        "start_time": "2022-12-10T19:45:42.155Z"
      },
      {
        "duration": 246,
        "start_time": "2022-12-10T19:45:42.407Z"
      },
      {
        "duration": 6,
        "start_time": "2022-12-10T19:45:42.655Z"
      },
      {
        "duration": 236,
        "start_time": "2022-12-10T19:45:42.664Z"
      },
      {
        "duration": 200,
        "start_time": "2022-12-10T19:45:42.903Z"
      },
      {
        "duration": 228,
        "start_time": "2022-12-10T19:45:43.106Z"
      },
      {
        "duration": 234,
        "start_time": "2022-12-10T19:45:43.336Z"
      },
      {
        "duration": 201,
        "start_time": "2022-12-10T19:45:43.572Z"
      },
      {
        "duration": 13,
        "start_time": "2022-12-10T19:45:43.775Z"
      },
      {
        "duration": 217,
        "start_time": "2022-12-10T19:45:43.791Z"
      },
      {
        "duration": 57,
        "start_time": "2022-12-10T19:45:44.011Z"
      },
      {
        "duration": 208,
        "start_time": "2022-12-10T19:45:44.070Z"
      },
      {
        "duration": 6,
        "start_time": "2022-12-10T19:45:44.283Z"
      },
      {
        "duration": 19,
        "start_time": "2022-12-10T19:51:42.521Z"
      },
      {
        "duration": 3,
        "start_time": "2022-12-10T19:51:57.283Z"
      },
      {
        "duration": 155,
        "start_time": "2022-12-10T19:51:57.288Z"
      },
      {
        "duration": 2569,
        "start_time": "2022-12-10T19:51:57.445Z"
      },
      {
        "duration": 26,
        "start_time": "2022-12-10T19:52:00.017Z"
      },
      {
        "duration": 113,
        "start_time": "2022-12-10T19:52:00.059Z"
      },
      {
        "duration": 80,
        "start_time": "2022-12-10T19:52:00.179Z"
      },
      {
        "duration": 149,
        "start_time": "2022-12-10T19:52:00.261Z"
      },
      {
        "duration": 58,
        "start_time": "2022-12-10T19:52:00.412Z"
      },
      {
        "duration": 54,
        "start_time": "2022-12-10T19:52:00.475Z"
      },
      {
        "duration": 7,
        "start_time": "2022-12-10T19:52:00.531Z"
      },
      {
        "duration": 66,
        "start_time": "2022-12-10T19:52:00.540Z"
      },
      {
        "duration": 30,
        "start_time": "2022-12-10T19:52:00.609Z"
      },
      {
        "duration": 85,
        "start_time": "2022-12-10T19:52:00.641Z"
      },
      {
        "duration": 21,
        "start_time": "2022-12-10T19:52:00.731Z"
      },
      {
        "duration": 54,
        "start_time": "2022-12-10T19:52:00.755Z"
      },
      {
        "duration": 23,
        "start_time": "2022-12-10T19:52:00.810Z"
      },
      {
        "duration": 3,
        "start_time": "2022-12-10T19:52:00.835Z"
      },
      {
        "duration": 8,
        "start_time": "2022-12-10T19:52:00.840Z"
      },
      {
        "duration": 43,
        "start_time": "2022-12-10T19:52:00.850Z"
      },
      {
        "duration": 11,
        "start_time": "2022-12-10T19:52:00.895Z"
      },
      {
        "duration": 5,
        "start_time": "2022-12-10T19:52:00.908Z"
      },
      {
        "duration": 15,
        "start_time": "2022-12-10T19:52:00.915Z"
      },
      {
        "duration": 7,
        "start_time": "2022-12-10T19:52:00.932Z"
      },
      {
        "duration": 35,
        "start_time": "2022-12-10T19:52:00.951Z"
      },
      {
        "duration": 20,
        "start_time": "2022-12-10T19:52:00.988Z"
      },
      {
        "duration": 25,
        "start_time": "2022-12-10T19:52:01.010Z"
      },
      {
        "duration": 20,
        "start_time": "2022-12-10T19:52:01.037Z"
      },
      {
        "duration": 36,
        "start_time": "2022-12-10T19:52:01.060Z"
      },
      {
        "duration": 48,
        "start_time": "2022-12-10T19:52:01.099Z"
      },
      {
        "duration": 7,
        "start_time": "2022-12-10T19:52:01.149Z"
      },
      {
        "duration": 43,
        "start_time": "2022-12-10T19:52:01.158Z"
      },
      {
        "duration": 364,
        "start_time": "2022-12-10T19:52:01.203Z"
      },
      {
        "duration": 22,
        "start_time": "2022-12-10T19:52:01.580Z"
      },
      {
        "duration": 12,
        "start_time": "2022-12-10T19:52:01.604Z"
      },
      {
        "duration": 356,
        "start_time": "2022-12-10T19:52:01.618Z"
      },
      {
        "duration": 230,
        "start_time": "2022-12-10T19:52:01.982Z"
      },
      {
        "duration": 12,
        "start_time": "2022-12-10T19:52:02.215Z"
      },
      {
        "duration": 9,
        "start_time": "2022-12-10T19:52:02.252Z"
      },
      {
        "duration": 80,
        "start_time": "2022-12-10T19:52:02.263Z"
      },
      {
        "duration": 5,
        "start_time": "2022-12-10T19:52:02.346Z"
      },
      {
        "duration": 53,
        "start_time": "2022-12-10T19:52:02.358Z"
      },
      {
        "duration": 32,
        "start_time": "2022-12-10T19:52:02.412Z"
      },
      {
        "duration": 57,
        "start_time": "2022-12-10T19:52:02.445Z"
      },
      {
        "duration": 479,
        "start_time": "2022-12-10T19:52:02.504Z"
      },
      {
        "duration": 16,
        "start_time": "2022-12-10T19:52:02.986Z"
      },
      {
        "duration": 10,
        "start_time": "2022-12-10T19:52:03.004Z"
      },
      {
        "duration": 69,
        "start_time": "2022-12-10T19:52:03.016Z"
      },
      {
        "duration": 10,
        "start_time": "2022-12-10T19:52:03.087Z"
      },
      {
        "duration": 15,
        "start_time": "2022-12-10T19:52:03.099Z"
      },
      {
        "duration": 377,
        "start_time": "2022-12-10T19:52:03.117Z"
      },
      {
        "duration": 3,
        "start_time": "2022-12-10T19:52:03.496Z"
      },
      {
        "duration": 395,
        "start_time": "2022-12-10T19:52:03.501Z"
      },
      {
        "duration": 3,
        "start_time": "2022-12-10T19:52:03.898Z"
      },
      {
        "duration": 335,
        "start_time": "2022-12-10T19:52:03.903Z"
      },
      {
        "duration": 252,
        "start_time": "2022-12-10T19:52:04.241Z"
      },
      {
        "duration": 195,
        "start_time": "2022-12-10T19:52:04.495Z"
      },
      {
        "duration": 3,
        "start_time": "2022-12-10T19:52:04.692Z"
      },
      {
        "duration": 258,
        "start_time": "2022-12-10T19:52:04.697Z"
      },
      {
        "duration": 3,
        "start_time": "2022-12-10T19:52:04.958Z"
      },
      {
        "duration": 307,
        "start_time": "2022-12-10T19:52:04.963Z"
      },
      {
        "duration": 6,
        "start_time": "2022-12-10T19:52:05.272Z"
      },
      {
        "duration": 198,
        "start_time": "2022-12-10T19:52:05.279Z"
      },
      {
        "duration": 13,
        "start_time": "2022-12-10T19:52:05.479Z"
      },
      {
        "duration": 4,
        "start_time": "2022-12-10T19:52:05.494Z"
      },
      {
        "duration": 361,
        "start_time": "2022-12-10T19:52:05.500Z"
      },
      {
        "duration": 443,
        "start_time": "2022-12-10T19:52:05.863Z"
      },
      {
        "duration": 394,
        "start_time": "2022-12-10T19:52:06.308Z"
      },
      {
        "duration": 3,
        "start_time": "2022-12-10T19:52:06.704Z"
      },
      {
        "duration": 399,
        "start_time": "2022-12-10T19:52:06.709Z"
      },
      {
        "duration": 207,
        "start_time": "2022-12-10T19:52:07.110Z"
      },
      {
        "duration": 14,
        "start_time": "2022-12-10T19:52:07.319Z"
      },
      {
        "duration": 281,
        "start_time": "2022-12-10T19:52:07.336Z"
      },
      {
        "duration": 9,
        "start_time": "2022-12-10T19:52:07.619Z"
      },
      {
        "duration": 6,
        "start_time": "2022-12-10T19:52:07.630Z"
      },
      {
        "duration": 399,
        "start_time": "2022-12-10T19:52:07.638Z"
      },
      {
        "duration": 27,
        "start_time": "2022-12-10T19:52:08.039Z"
      },
      {
        "duration": 38,
        "start_time": "2022-12-10T19:52:08.068Z"
      },
      {
        "duration": 426,
        "start_time": "2022-12-10T19:52:08.108Z"
      },
      {
        "duration": 162,
        "start_time": "2022-12-10T19:52:08.536Z"
      },
      {
        "duration": 12,
        "start_time": "2022-12-10T19:52:08.700Z"
      },
      {
        "duration": 229,
        "start_time": "2022-12-10T19:52:08.714Z"
      },
      {
        "duration": 237,
        "start_time": "2022-12-10T19:52:08.946Z"
      },
      {
        "duration": 1239,
        "start_time": "2022-12-10T19:52:09.186Z"
      },
      {
        "duration": 264,
        "start_time": "2022-12-10T19:52:10.428Z"
      },
      {
        "duration": 12,
        "start_time": "2022-12-10T19:52:10.694Z"
      },
      {
        "duration": 232,
        "start_time": "2022-12-10T19:52:10.709Z"
      },
      {
        "duration": 229,
        "start_time": "2022-12-10T19:52:10.943Z"
      },
      {
        "duration": 241,
        "start_time": "2022-12-10T19:52:11.177Z"
      },
      {
        "duration": 286,
        "start_time": "2022-12-10T19:52:11.420Z"
      },
      {
        "duration": 258,
        "start_time": "2022-12-10T19:52:11.708Z"
      },
      {
        "duration": 14,
        "start_time": "2022-12-10T19:52:11.969Z"
      },
      {
        "duration": 229,
        "start_time": "2022-12-10T19:52:11.986Z"
      },
      {
        "duration": 53,
        "start_time": "2022-12-10T19:52:12.218Z"
      },
      {
        "duration": 219,
        "start_time": "2022-12-10T19:52:12.273Z"
      },
      {
        "duration": 6,
        "start_time": "2022-12-10T19:52:12.494Z"
      },
      {
        "duration": 8,
        "start_time": "2022-12-10T19:52:47.319Z"
      },
      {
        "duration": 16,
        "start_time": "2022-12-10T19:53:00.697Z"
      },
      {
        "duration": 246,
        "start_time": "2022-12-10T19:57:31.063Z"
      },
      {
        "duration": 84,
        "start_time": "2022-12-10T19:58:50.360Z"
      },
      {
        "duration": 282,
        "start_time": "2022-12-10T19:59:44.934Z"
      },
      {
        "duration": 234,
        "start_time": "2022-12-10T20:03:29.846Z"
      },
      {
        "duration": 204,
        "start_time": "2022-12-10T20:05:25.618Z"
      },
      {
        "duration": 216,
        "start_time": "2022-12-10T20:06:32.499Z"
      },
      {
        "duration": 283,
        "start_time": "2022-12-10T20:07:22.878Z"
      },
      {
        "duration": 318,
        "start_time": "2022-12-10T20:07:44.928Z"
      },
      {
        "duration": 1119,
        "start_time": "2022-12-11T19:46:18.500Z"
      },
      {
        "duration": 115,
        "start_time": "2022-12-11T19:46:19.621Z"
      },
      {
        "duration": 1826,
        "start_time": "2022-12-11T19:46:19.738Z"
      },
      {
        "duration": 106,
        "start_time": "2022-12-11T19:46:21.567Z"
      },
      {
        "duration": 9,
        "start_time": "2022-12-11T19:46:21.678Z"
      },
      {
        "duration": 11,
        "start_time": "2022-12-11T19:46:21.688Z"
      },
      {
        "duration": 78,
        "start_time": "2022-12-11T19:46:21.700Z"
      },
      {
        "duration": 26,
        "start_time": "2022-12-11T19:46:21.780Z"
      },
      {
        "duration": 17,
        "start_time": "2022-12-11T19:46:21.807Z"
      },
      {
        "duration": 2,
        "start_time": "2022-12-11T19:46:21.826Z"
      },
      {
        "duration": 8,
        "start_time": "2022-12-11T19:46:21.830Z"
      },
      {
        "duration": 4,
        "start_time": "2022-12-11T19:46:21.840Z"
      },
      {
        "duration": 37,
        "start_time": "2022-12-11T19:46:21.846Z"
      },
      {
        "duration": 10,
        "start_time": "2022-12-11T19:46:21.885Z"
      },
      {
        "duration": 10,
        "start_time": "2022-12-11T19:46:21.896Z"
      },
      {
        "duration": 15,
        "start_time": "2022-12-11T19:46:21.907Z"
      },
      {
        "duration": 2,
        "start_time": "2022-12-11T19:46:21.923Z"
      },
      {
        "duration": 6,
        "start_time": "2022-12-11T19:46:21.927Z"
      },
      {
        "duration": 6,
        "start_time": "2022-12-11T19:46:21.934Z"
      },
      {
        "duration": 38,
        "start_time": "2022-12-11T19:46:21.941Z"
      },
      {
        "duration": 5,
        "start_time": "2022-12-11T19:46:21.980Z"
      },
      {
        "duration": 8,
        "start_time": "2022-12-11T19:46:21.986Z"
      },
      {
        "duration": 6,
        "start_time": "2022-12-11T19:46:21.995Z"
      },
      {
        "duration": 9,
        "start_time": "2022-12-11T19:46:22.002Z"
      },
      {
        "duration": 22,
        "start_time": "2022-12-11T19:46:22.012Z"
      },
      {
        "duration": 21,
        "start_time": "2022-12-11T19:46:22.035Z"
      },
      {
        "duration": 6,
        "start_time": "2022-12-11T19:46:22.058Z"
      },
      {
        "duration": 4,
        "start_time": "2022-12-11T19:46:22.081Z"
      },
      {
        "duration": 25,
        "start_time": "2022-12-11T19:46:22.087Z"
      },
      {
        "duration": 10,
        "start_time": "2022-12-11T19:46:22.113Z"
      },
      {
        "duration": 10,
        "start_time": "2022-12-11T19:46:22.125Z"
      },
      {
        "duration": 287,
        "start_time": "2022-12-11T19:46:22.136Z"
      },
      {
        "duration": 12,
        "start_time": "2022-12-11T19:46:22.425Z"
      },
      {
        "duration": 8,
        "start_time": "2022-12-11T19:46:22.438Z"
      },
      {
        "duration": 313,
        "start_time": "2022-12-11T19:46:22.448Z"
      },
      {
        "duration": 172,
        "start_time": "2022-12-11T19:46:22.762Z"
      },
      {
        "duration": 10,
        "start_time": "2022-12-11T19:46:22.936Z"
      },
      {
        "duration": 5,
        "start_time": "2022-12-11T19:46:22.948Z"
      },
      {
        "duration": 26,
        "start_time": "2022-12-11T19:46:22.955Z"
      },
      {
        "duration": 3,
        "start_time": "2022-12-11T19:46:22.983Z"
      },
      {
        "duration": 7,
        "start_time": "2022-12-11T19:46:22.988Z"
      },
      {
        "duration": 17,
        "start_time": "2022-12-11T19:46:22.997Z"
      },
      {
        "duration": 28,
        "start_time": "2022-12-11T19:46:23.016Z"
      },
      {
        "duration": 330,
        "start_time": "2022-12-11T19:46:23.046Z"
      },
      {
        "duration": 10,
        "start_time": "2022-12-11T19:46:23.378Z"
      },
      {
        "duration": 4,
        "start_time": "2022-12-11T19:46:23.390Z"
      },
      {
        "duration": 32,
        "start_time": "2022-12-11T19:46:23.396Z"
      },
      {
        "duration": 8,
        "start_time": "2022-12-11T19:46:23.430Z"
      },
      {
        "duration": 6,
        "start_time": "2022-12-11T19:46:23.439Z"
      },
      {
        "duration": 222,
        "start_time": "2022-12-11T19:46:23.446Z"
      },
      {
        "duration": 8,
        "start_time": "2022-12-11T19:46:23.670Z"
      },
      {
        "duration": 276,
        "start_time": "2022-12-11T19:46:23.680Z"
      },
      {
        "duration": 3,
        "start_time": "2022-12-11T19:46:23.958Z"
      },
      {
        "duration": 341,
        "start_time": "2022-12-11T19:46:23.962Z"
      },
      {
        "duration": 169,
        "start_time": "2022-12-11T19:46:24.304Z"
      },
      {
        "duration": 142,
        "start_time": "2022-12-11T19:46:24.478Z"
      },
      {
        "duration": 3,
        "start_time": "2022-12-11T19:46:24.621Z"
      },
      {
        "duration": 201,
        "start_time": "2022-12-11T19:46:24.625Z"
      },
      {
        "duration": 2,
        "start_time": "2022-12-11T19:46:24.828Z"
      },
      {
        "duration": 210,
        "start_time": "2022-12-11T19:46:24.832Z"
      },
      {
        "duration": 2,
        "start_time": "2022-12-11T19:46:25.044Z"
      },
      {
        "duration": 137,
        "start_time": "2022-12-11T19:46:25.047Z"
      },
      {
        "duration": 12,
        "start_time": "2022-12-11T19:46:25.186Z"
      },
      {
        "duration": 6,
        "start_time": "2022-12-11T19:46:25.200Z"
      },
      {
        "duration": 249,
        "start_time": "2022-12-11T19:46:25.208Z"
      },
      {
        "duration": 371,
        "start_time": "2022-12-11T19:46:25.459Z"
      },
      {
        "duration": 400,
        "start_time": "2022-12-11T19:46:25.832Z"
      },
      {
        "duration": 2,
        "start_time": "2022-12-11T19:46:26.234Z"
      },
      {
        "duration": 295,
        "start_time": "2022-12-11T19:46:26.238Z"
      },
      {
        "duration": 166,
        "start_time": "2022-12-11T19:46:26.535Z"
      },
      {
        "duration": 12,
        "start_time": "2022-12-11T19:46:26.703Z"
      },
      {
        "duration": 173,
        "start_time": "2022-12-11T19:46:26.717Z"
      },
      {
        "duration": 9,
        "start_time": "2022-12-11T19:46:26.892Z"
      },
      {
        "duration": 8,
        "start_time": "2022-12-11T19:46:26.903Z"
      },
      {
        "duration": 337,
        "start_time": "2022-12-11T19:46:26.913Z"
      },
      {
        "duration": 7,
        "start_time": "2022-12-11T19:46:27.252Z"
      },
      {
        "duration": 4,
        "start_time": "2022-12-11T19:46:27.260Z"
      },
      {
        "duration": 314,
        "start_time": "2022-12-11T19:46:27.278Z"
      },
      {
        "duration": 124,
        "start_time": "2022-12-11T19:46:27.593Z"
      },
      {
        "duration": 133,
        "start_time": "2022-12-11T19:46:27.719Z"
      },
      {
        "duration": 182,
        "start_time": "2022-12-11T19:46:27.854Z"
      },
      {
        "duration": 180,
        "start_time": "2022-12-11T19:46:28.042Z"
      },
      {
        "duration": 164,
        "start_time": "2022-12-11T19:46:28.224Z"
      },
      {
        "duration": 204,
        "start_time": "2022-12-11T19:46:28.390Z"
      },
      {
        "duration": 165,
        "start_time": "2022-12-11T19:46:28.596Z"
      },
      {
        "duration": 187,
        "start_time": "2022-12-11T19:46:28.763Z"
      },
      {
        "duration": 200,
        "start_time": "2022-12-11T19:46:28.952Z"
      },
      {
        "duration": 180,
        "start_time": "2022-12-11T19:46:29.154Z"
      },
      {
        "duration": 8,
        "start_time": "2022-12-11T19:46:29.336Z"
      },
      {
        "duration": 219,
        "start_time": "2022-12-11T19:46:29.346Z"
      },
      {
        "duration": 28,
        "start_time": "2022-12-11T19:46:29.566Z"
      },
      {
        "duration": 158,
        "start_time": "2022-12-11T19:46:29.595Z"
      },
      {
        "duration": 6,
        "start_time": "2022-12-11T19:46:29.755Z"
      },
      {
        "duration": 16,
        "start_time": "2022-12-11T19:47:47.444Z"
      },
      {
        "duration": 8,
        "start_time": "2022-12-11T19:48:05.607Z"
      },
      {
        "duration": 7,
        "start_time": "2022-12-11T19:48:09.780Z"
      },
      {
        "duration": 18,
        "start_time": "2022-12-11T19:49:04.649Z"
      },
      {
        "duration": 97,
        "start_time": "2022-12-11T19:49:07.918Z"
      },
      {
        "duration": 89,
        "start_time": "2022-12-11T19:49:10.322Z"
      }
    ],
    "kernelspec": {
      "display_name": "Python 3 (ipykernel)",
      "language": "python",
      "name": "python3"
    },
    "language_info": {
      "codemirror_mode": {
        "name": "ipython",
        "version": 3
      },
      "file_extension": ".py",
      "mimetype": "text/x-python",
      "name": "python",
      "nbconvert_exporter": "python",
      "pygments_lexer": "ipython3",
      "version": "3.9.5"
    },
    "toc": {
      "base_numbering": 1,
      "nav_menu": {},
      "number_sections": true,
      "sideBar": true,
      "skip_h1_title": true,
      "title_cell": "Table of Contents",
      "title_sidebar": "Contents",
      "toc_cell": false,
      "toc_position": {},
      "toc_section_display": true,
      "toc_window_display": false
    },
    "colab": {
      "provenance": []
    }
  },
  "nbformat": 4,
  "nbformat_minor": 0
}