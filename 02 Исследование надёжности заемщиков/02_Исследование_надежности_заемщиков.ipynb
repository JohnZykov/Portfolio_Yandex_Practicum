{
  "cells": [
    {
      "cell_type": "markdown",
      "id": "208087bb",
      "metadata": {
        "deletable": false,
        "editable": false,
        "id": "208087bb"
      },
      "source": [
        "# Исследование надежности заемщиков\n"
      ]
    },
    {
      "cell_type": "markdown",
      "source": [
        "<h3>Описание проекта</h3>\n",
        "\n",
        "Исследование проводилось для кредитного отдела банка.\n",
        "\n",
        "<b>Цель исследования</b>: выяснить как семейное положение и количество детей клиента на факт погашения кредита в срок. Полученные выводы будут использованы для системы построения кредитного скоринга.\n",
        "\n",
        "Для исследования банком был предоставлен датасет с данными клиентов и наличии или отсутствии у них кредитной задолжности.\n",
        "\n",
        "\n",
        "**Описание данных**\n",
        "\n",
        "- `children` — количество детей в семье\n",
        "- `days_employed` — общий трудовой стаж в днях\n",
        "- `dob_years` — возраст клиента в годах\n",
        "- `education` — уровень образования клиента\n",
        "- `education_id` — идентификатор уровня образования\n",
        "- `family_status` — семейное положение\n",
        "- `family_status_id` — идентификатор семейного положения\n",
        "- `gender` — пол клиента\n",
        "- `income_type` — тип занятости\n",
        "- `debt` — имел ли задолженность по возврату кредитов\n",
        "- `total_income` — ежемесячный доход\n",
        "- `purpose` — цель получения кредита\n"
      ],
      "metadata": {
        "id": "rEqVgMMQVLLL"
      },
      "id": "rEqVgMMQVLLL"
    },
    {
      "cell_type": "markdown",
      "id": "631667d8",
      "metadata": {
        "deletable": false,
        "editable": false,
        "id": "631667d8"
      },
      "source": [
        "## Импорт и изучение данных"
      ]
    },
    {
      "cell_type": "code",
      "execution_count": null,
      "id": "d5ea852c",
      "metadata": {
        "deletable": false,
        "id": "d5ea852c"
      },
      "outputs": [],
      "source": [
        "import pandas as pd\n",
        "import seaborn as sns\n",
        "from statsmodels.stats.proportion import proportions_ztest"
      ]
    },
    {
      "cell_type": "code",
      "source": [
        "try:\n",
        "    data = pd.read_csv('.../data.csv')\n",
        "except:\n",
        "    data = pd.read_csv('.../data.csv')"
      ],
      "metadata": {
        "id": "pARFDnQ1QOT4"
      },
      "id": "pARFDnQ1QOT4",
      "execution_count": null,
      "outputs": []
    },
    {
      "cell_type": "markdown",
      "id": "54b66297",
      "metadata": {
        "deletable": false,
        "editable": false,
        "id": "54b66297"
      },
      "source": [
        "Выведем первые 20 строчек датафрейма `data` на экран."
      ]
    },
    {
      "cell_type": "code",
      "execution_count": null,
      "id": "466d7876",
      "metadata": {
        "deletable": false,
        "id": "466d7876",
        "outputId": "1a8f3ef2-d323-4ec2-ddf7-89670b5944c4"
      },
      "outputs": [
        {
          "data": {
            "text/html": [
              "<div>\n",
              "<style scoped>\n",
              "    .dataframe tbody tr th:only-of-type {\n",
              "        vertical-align: middle;\n",
              "    }\n",
              "\n",
              "    .dataframe tbody tr th {\n",
              "        vertical-align: top;\n",
              "    }\n",
              "\n",
              "    .dataframe thead th {\n",
              "        text-align: right;\n",
              "    }\n",
              "</style>\n",
              "<table border=\"1\" class=\"dataframe\">\n",
              "  <thead>\n",
              "    <tr style=\"text-align: right;\">\n",
              "      <th></th>\n",
              "      <th>children</th>\n",
              "      <th>days_employed</th>\n",
              "      <th>dob_years</th>\n",
              "      <th>education</th>\n",
              "      <th>education_id</th>\n",
              "      <th>family_status</th>\n",
              "      <th>family_status_id</th>\n",
              "      <th>gender</th>\n",
              "      <th>income_type</th>\n",
              "      <th>debt</th>\n",
              "      <th>total_income</th>\n",
              "      <th>purpose</th>\n",
              "    </tr>\n",
              "  </thead>\n",
              "  <tbody>\n",
              "    <tr>\n",
              "      <th>0</th>\n",
              "      <td>1</td>\n",
              "      <td>-8437.673028</td>\n",
              "      <td>42</td>\n",
              "      <td>высшее</td>\n",
              "      <td>0</td>\n",
              "      <td>женат / замужем</td>\n",
              "      <td>0</td>\n",
              "      <td>F</td>\n",
              "      <td>сотрудник</td>\n",
              "      <td>0</td>\n",
              "      <td>253875.639453</td>\n",
              "      <td>покупка жилья</td>\n",
              "    </tr>\n",
              "    <tr>\n",
              "      <th>1</th>\n",
              "      <td>1</td>\n",
              "      <td>-4024.803754</td>\n",
              "      <td>36</td>\n",
              "      <td>среднее</td>\n",
              "      <td>1</td>\n",
              "      <td>женат / замужем</td>\n",
              "      <td>0</td>\n",
              "      <td>F</td>\n",
              "      <td>сотрудник</td>\n",
              "      <td>0</td>\n",
              "      <td>112080.014102</td>\n",
              "      <td>приобретение автомобиля</td>\n",
              "    </tr>\n",
              "    <tr>\n",
              "      <th>2</th>\n",
              "      <td>0</td>\n",
              "      <td>-5623.422610</td>\n",
              "      <td>33</td>\n",
              "      <td>Среднее</td>\n",
              "      <td>1</td>\n",
              "      <td>женат / замужем</td>\n",
              "      <td>0</td>\n",
              "      <td>M</td>\n",
              "      <td>сотрудник</td>\n",
              "      <td>0</td>\n",
              "      <td>145885.952297</td>\n",
              "      <td>покупка жилья</td>\n",
              "    </tr>\n",
              "    <tr>\n",
              "      <th>3</th>\n",
              "      <td>3</td>\n",
              "      <td>-4124.747207</td>\n",
              "      <td>32</td>\n",
              "      <td>среднее</td>\n",
              "      <td>1</td>\n",
              "      <td>женат / замужем</td>\n",
              "      <td>0</td>\n",
              "      <td>M</td>\n",
              "      <td>сотрудник</td>\n",
              "      <td>0</td>\n",
              "      <td>267628.550329</td>\n",
              "      <td>дополнительное образование</td>\n",
              "    </tr>\n",
              "    <tr>\n",
              "      <th>4</th>\n",
              "      <td>0</td>\n",
              "      <td>340266.072047</td>\n",
              "      <td>53</td>\n",
              "      <td>среднее</td>\n",
              "      <td>1</td>\n",
              "      <td>гражданский брак</td>\n",
              "      <td>1</td>\n",
              "      <td>F</td>\n",
              "      <td>пенсионер</td>\n",
              "      <td>0</td>\n",
              "      <td>158616.077870</td>\n",
              "      <td>сыграть свадьбу</td>\n",
              "    </tr>\n",
              "    <tr>\n",
              "      <th>5</th>\n",
              "      <td>0</td>\n",
              "      <td>-926.185831</td>\n",
              "      <td>27</td>\n",
              "      <td>высшее</td>\n",
              "      <td>0</td>\n",
              "      <td>гражданский брак</td>\n",
              "      <td>1</td>\n",
              "      <td>M</td>\n",
              "      <td>компаньон</td>\n",
              "      <td>0</td>\n",
              "      <td>255763.565419</td>\n",
              "      <td>покупка жилья</td>\n",
              "    </tr>\n",
              "    <tr>\n",
              "      <th>6</th>\n",
              "      <td>0</td>\n",
              "      <td>-2879.202052</td>\n",
              "      <td>43</td>\n",
              "      <td>высшее</td>\n",
              "      <td>0</td>\n",
              "      <td>женат / замужем</td>\n",
              "      <td>0</td>\n",
              "      <td>F</td>\n",
              "      <td>компаньон</td>\n",
              "      <td>0</td>\n",
              "      <td>240525.971920</td>\n",
              "      <td>операции с жильем</td>\n",
              "    </tr>\n",
              "    <tr>\n",
              "      <th>7</th>\n",
              "      <td>0</td>\n",
              "      <td>-152.779569</td>\n",
              "      <td>50</td>\n",
              "      <td>СРЕДНЕЕ</td>\n",
              "      <td>1</td>\n",
              "      <td>женат / замужем</td>\n",
              "      <td>0</td>\n",
              "      <td>M</td>\n",
              "      <td>сотрудник</td>\n",
              "      <td>0</td>\n",
              "      <td>135823.934197</td>\n",
              "      <td>образование</td>\n",
              "    </tr>\n",
              "    <tr>\n",
              "      <th>8</th>\n",
              "      <td>2</td>\n",
              "      <td>-6929.865299</td>\n",
              "      <td>35</td>\n",
              "      <td>ВЫСШЕЕ</td>\n",
              "      <td>0</td>\n",
              "      <td>гражданский брак</td>\n",
              "      <td>1</td>\n",
              "      <td>F</td>\n",
              "      <td>сотрудник</td>\n",
              "      <td>0</td>\n",
              "      <td>95856.832424</td>\n",
              "      <td>на проведение свадьбы</td>\n",
              "    </tr>\n",
              "    <tr>\n",
              "      <th>9</th>\n",
              "      <td>0</td>\n",
              "      <td>-2188.756445</td>\n",
              "      <td>41</td>\n",
              "      <td>среднее</td>\n",
              "      <td>1</td>\n",
              "      <td>женат / замужем</td>\n",
              "      <td>0</td>\n",
              "      <td>M</td>\n",
              "      <td>сотрудник</td>\n",
              "      <td>0</td>\n",
              "      <td>144425.938277</td>\n",
              "      <td>покупка жилья для семьи</td>\n",
              "    </tr>\n",
              "    <tr>\n",
              "      <th>10</th>\n",
              "      <td>2</td>\n",
              "      <td>-4171.483647</td>\n",
              "      <td>36</td>\n",
              "      <td>высшее</td>\n",
              "      <td>0</td>\n",
              "      <td>женат / замужем</td>\n",
              "      <td>0</td>\n",
              "      <td>M</td>\n",
              "      <td>компаньон</td>\n",
              "      <td>0</td>\n",
              "      <td>113943.491460</td>\n",
              "      <td>покупка недвижимости</td>\n",
              "    </tr>\n",
              "    <tr>\n",
              "      <th>11</th>\n",
              "      <td>0</td>\n",
              "      <td>-792.701887</td>\n",
              "      <td>40</td>\n",
              "      <td>среднее</td>\n",
              "      <td>1</td>\n",
              "      <td>женат / замужем</td>\n",
              "      <td>0</td>\n",
              "      <td>F</td>\n",
              "      <td>сотрудник</td>\n",
              "      <td>0</td>\n",
              "      <td>77069.234271</td>\n",
              "      <td>покупка коммерческой недвижимости</td>\n",
              "    </tr>\n",
              "    <tr>\n",
              "      <th>12</th>\n",
              "      <td>0</td>\n",
              "      <td>NaN</td>\n",
              "      <td>65</td>\n",
              "      <td>среднее</td>\n",
              "      <td>1</td>\n",
              "      <td>гражданский брак</td>\n",
              "      <td>1</td>\n",
              "      <td>M</td>\n",
              "      <td>пенсионер</td>\n",
              "      <td>0</td>\n",
              "      <td>NaN</td>\n",
              "      <td>сыграть свадьбу</td>\n",
              "    </tr>\n",
              "    <tr>\n",
              "      <th>13</th>\n",
              "      <td>0</td>\n",
              "      <td>-1846.641941</td>\n",
              "      <td>54</td>\n",
              "      <td>неоконченное высшее</td>\n",
              "      <td>2</td>\n",
              "      <td>женат / замужем</td>\n",
              "      <td>0</td>\n",
              "      <td>F</td>\n",
              "      <td>сотрудник</td>\n",
              "      <td>0</td>\n",
              "      <td>130458.228857</td>\n",
              "      <td>приобретение автомобиля</td>\n",
              "    </tr>\n",
              "    <tr>\n",
              "      <th>14</th>\n",
              "      <td>0</td>\n",
              "      <td>-1844.956182</td>\n",
              "      <td>56</td>\n",
              "      <td>высшее</td>\n",
              "      <td>0</td>\n",
              "      <td>гражданский брак</td>\n",
              "      <td>1</td>\n",
              "      <td>F</td>\n",
              "      <td>компаньон</td>\n",
              "      <td>1</td>\n",
              "      <td>165127.911772</td>\n",
              "      <td>покупка жилой недвижимости</td>\n",
              "    </tr>\n",
              "    <tr>\n",
              "      <th>15</th>\n",
              "      <td>1</td>\n",
              "      <td>-972.364419</td>\n",
              "      <td>26</td>\n",
              "      <td>среднее</td>\n",
              "      <td>1</td>\n",
              "      <td>женат / замужем</td>\n",
              "      <td>0</td>\n",
              "      <td>F</td>\n",
              "      <td>сотрудник</td>\n",
              "      <td>0</td>\n",
              "      <td>116820.904450</td>\n",
              "      <td>строительство собственной недвижимости</td>\n",
              "    </tr>\n",
              "    <tr>\n",
              "      <th>16</th>\n",
              "      <td>0</td>\n",
              "      <td>-1719.934226</td>\n",
              "      <td>35</td>\n",
              "      <td>среднее</td>\n",
              "      <td>1</td>\n",
              "      <td>женат / замужем</td>\n",
              "      <td>0</td>\n",
              "      <td>F</td>\n",
              "      <td>сотрудник</td>\n",
              "      <td>0</td>\n",
              "      <td>289202.704229</td>\n",
              "      <td>недвижимость</td>\n",
              "    </tr>\n",
              "    <tr>\n",
              "      <th>17</th>\n",
              "      <td>0</td>\n",
              "      <td>-2369.999720</td>\n",
              "      <td>33</td>\n",
              "      <td>высшее</td>\n",
              "      <td>0</td>\n",
              "      <td>гражданский брак</td>\n",
              "      <td>1</td>\n",
              "      <td>M</td>\n",
              "      <td>сотрудник</td>\n",
              "      <td>0</td>\n",
              "      <td>90410.586745</td>\n",
              "      <td>строительство недвижимости</td>\n",
              "    </tr>\n",
              "    <tr>\n",
              "      <th>18</th>\n",
              "      <td>0</td>\n",
              "      <td>400281.136913</td>\n",
              "      <td>53</td>\n",
              "      <td>среднее</td>\n",
              "      <td>1</td>\n",
              "      <td>вдовец / вдова</td>\n",
              "      <td>2</td>\n",
              "      <td>F</td>\n",
              "      <td>пенсионер</td>\n",
              "      <td>0</td>\n",
              "      <td>56823.777243</td>\n",
              "      <td>на покупку подержанного автомобиля</td>\n",
              "    </tr>\n",
              "    <tr>\n",
              "      <th>19</th>\n",
              "      <td>0</td>\n",
              "      <td>-10038.818549</td>\n",
              "      <td>48</td>\n",
              "      <td>СРЕДНЕЕ</td>\n",
              "      <td>1</td>\n",
              "      <td>в разводе</td>\n",
              "      <td>3</td>\n",
              "      <td>F</td>\n",
              "      <td>сотрудник</td>\n",
              "      <td>0</td>\n",
              "      <td>242831.107982</td>\n",
              "      <td>на покупку своего автомобиля</td>\n",
              "    </tr>\n",
              "  </tbody>\n",
              "</table>\n",
              "</div>"
            ],
            "text/plain": [
              "    children  days_employed  dob_years            education  education_id  \\\n",
              "0          1   -8437.673028         42               высшее             0   \n",
              "1          1   -4024.803754         36              среднее             1   \n",
              "2          0   -5623.422610         33              Среднее             1   \n",
              "3          3   -4124.747207         32              среднее             1   \n",
              "4          0  340266.072047         53              среднее             1   \n",
              "5          0    -926.185831         27               высшее             0   \n",
              "6          0   -2879.202052         43               высшее             0   \n",
              "7          0    -152.779569         50              СРЕДНЕЕ             1   \n",
              "8          2   -6929.865299         35               ВЫСШЕЕ             0   \n",
              "9          0   -2188.756445         41              среднее             1   \n",
              "10         2   -4171.483647         36               высшее             0   \n",
              "11         0    -792.701887         40              среднее             1   \n",
              "12         0            NaN         65              среднее             1   \n",
              "13         0   -1846.641941         54  неоконченное высшее             2   \n",
              "14         0   -1844.956182         56               высшее             0   \n",
              "15         1    -972.364419         26              среднее             1   \n",
              "16         0   -1719.934226         35              среднее             1   \n",
              "17         0   -2369.999720         33               высшее             0   \n",
              "18         0  400281.136913         53              среднее             1   \n",
              "19         0  -10038.818549         48              СРЕДНЕЕ             1   \n",
              "\n",
              "       family_status  family_status_id gender income_type  debt  \\\n",
              "0    женат / замужем                 0      F   сотрудник     0   \n",
              "1    женат / замужем                 0      F   сотрудник     0   \n",
              "2    женат / замужем                 0      M   сотрудник     0   \n",
              "3    женат / замужем                 0      M   сотрудник     0   \n",
              "4   гражданский брак                 1      F   пенсионер     0   \n",
              "5   гражданский брак                 1      M   компаньон     0   \n",
              "6    женат / замужем                 0      F   компаньон     0   \n",
              "7    женат / замужем                 0      M   сотрудник     0   \n",
              "8   гражданский брак                 1      F   сотрудник     0   \n",
              "9    женат / замужем                 0      M   сотрудник     0   \n",
              "10   женат / замужем                 0      M   компаньон     0   \n",
              "11   женат / замужем                 0      F   сотрудник     0   \n",
              "12  гражданский брак                 1      M   пенсионер     0   \n",
              "13   женат / замужем                 0      F   сотрудник     0   \n",
              "14  гражданский брак                 1      F   компаньон     1   \n",
              "15   женат / замужем                 0      F   сотрудник     0   \n",
              "16   женат / замужем                 0      F   сотрудник     0   \n",
              "17  гражданский брак                 1      M   сотрудник     0   \n",
              "18    вдовец / вдова                 2      F   пенсионер     0   \n",
              "19         в разводе                 3      F   сотрудник     0   \n",
              "\n",
              "     total_income                                 purpose  \n",
              "0   253875.639453                           покупка жилья  \n",
              "1   112080.014102                 приобретение автомобиля  \n",
              "2   145885.952297                           покупка жилья  \n",
              "3   267628.550329              дополнительное образование  \n",
              "4   158616.077870                         сыграть свадьбу  \n",
              "5   255763.565419                           покупка жилья  \n",
              "6   240525.971920                       операции с жильем  \n",
              "7   135823.934197                             образование  \n",
              "8    95856.832424                   на проведение свадьбы  \n",
              "9   144425.938277                 покупка жилья для семьи  \n",
              "10  113943.491460                    покупка недвижимости  \n",
              "11   77069.234271       покупка коммерческой недвижимости  \n",
              "12            NaN                         сыграть свадьбу  \n",
              "13  130458.228857                 приобретение автомобиля  \n",
              "14  165127.911772              покупка жилой недвижимости  \n",
              "15  116820.904450  строительство собственной недвижимости  \n",
              "16  289202.704229                            недвижимость  \n",
              "17   90410.586745              строительство недвижимости  \n",
              "18   56823.777243      на покупку подержанного автомобиля  \n",
              "19  242831.107982            на покупку своего автомобиля  "
            ]
          },
          "execution_count": 2,
          "metadata": {},
          "output_type": "execute_result"
        }
      ],
      "source": [
        "data.head(20)"
      ]
    },
    {
      "cell_type": "markdown",
      "id": "d84f6487",
      "metadata": {
        "deletable": false,
        "editable": false,
        "id": "d84f6487"
      },
      "source": [
        "Выведем основную информацию о датафрейме с помощью метода `info()`."
      ]
    },
    {
      "cell_type": "code",
      "execution_count": null,
      "id": "b9910199",
      "metadata": {
        "deletable": false,
        "id": "b9910199",
        "outputId": "15376089-8dad-46c9-b520-c05248d43158"
      },
      "outputs": [
        {
          "name": "stdout",
          "output_type": "stream",
          "text": [
            "<class 'pandas.core.frame.DataFrame'>\n",
            "RangeIndex: 21525 entries, 0 to 21524\n",
            "Data columns (total 12 columns):\n",
            " #   Column            Non-Null Count  Dtype  \n",
            "---  ------            --------------  -----  \n",
            " 0   children          21525 non-null  int64  \n",
            " 1   days_employed     19351 non-null  float64\n",
            " 2   dob_years         21525 non-null  int64  \n",
            " 3   education         21525 non-null  object \n",
            " 4   education_id      21525 non-null  int64  \n",
            " 5   family_status     21525 non-null  object \n",
            " 6   family_status_id  21525 non-null  int64  \n",
            " 7   gender            21525 non-null  object \n",
            " 8   income_type       21525 non-null  object \n",
            " 9   debt              21525 non-null  int64  \n",
            " 10  total_income      19351 non-null  float64\n",
            " 11  purpose           21525 non-null  object \n",
            "dtypes: float64(2), int64(5), object(5)\n",
            "memory usage: 2.0+ MB\n"
          ]
        }
      ],
      "source": [
        "data.info()"
      ]
    },
    {
      "cell_type": "markdown",
      "id": "5833f534",
      "metadata": {
        "deletable": false,
        "editable": false,
        "id": "5833f534"
      },
      "source": [
        "## Предобработка данных"
      ]
    },
    {
      "cell_type": "markdown",
      "id": "52e97b2e",
      "metadata": {
        "deletable": false,
        "editable": false,
        "id": "52e97b2e"
      },
      "source": [
        "### Удаление пропусков"
      ]
    },
    {
      "cell_type": "markdown",
      "id": "fe404049",
      "metadata": {
        "deletable": false,
        "editable": false,
        "id": "fe404049"
      },
      "source": [
        "Выведем количество пропущенных значений для каждого столбца."
      ]
    },
    {
      "cell_type": "code",
      "execution_count": null,
      "id": "142203e8",
      "metadata": {
        "deletable": false,
        "id": "142203e8",
        "outputId": "81f4d817-781c-465c-ed15-91ce4446810d"
      },
      "outputs": [
        {
          "data": {
            "text/plain": [
              "children               0\n",
              "days_employed       2174\n",
              "dob_years              0\n",
              "education              0\n",
              "education_id           0\n",
              "family_status          0\n",
              "family_status_id       0\n",
              "gender                 0\n",
              "income_type            0\n",
              "debt                   0\n",
              "total_income        2174\n",
              "purpose                0\n",
              "dtype: int64"
            ]
          },
          "execution_count": 4,
          "metadata": {},
          "output_type": "execute_result"
        }
      ],
      "source": [
        "data.isna().sum()"
      ]
    },
    {
      "cell_type": "markdown",
      "id": "0d3e9733",
      "metadata": {
        "deletable": false,
        "editable": false,
        "id": "0d3e9733"
      },
      "source": [
        "В двух столбцах есть пропущенные значения. Один из них — `days_employed`. Пропуски в этом столбце мы обработаем на следующем этапе.\n",
        "\n",
        "Другой столбец с пропущенными значениями — `total_income` — хранит данные о доходах. На сумму дохода сильнее всего влияет тип занятости, поэтому заполним пропуски в этом столбце медианным значением по каждому типу из столбца `income_type`."
      ]
    },
    {
      "cell_type": "code",
      "execution_count": null,
      "id": "fcfda7d1",
      "metadata": {
        "deletable": false,
        "id": "fcfda7d1"
      },
      "outputs": [],
      "source": [
        "data['total_income'] = data.groupby('income_type')['total_income'].fillna(data['total_income'].median())"
      ]
    },
    {
      "cell_type": "markdown",
      "id": "9de0f2fa",
      "metadata": {
        "deletable": false,
        "editable": false,
        "id": "9de0f2fa"
      },
      "source": [
        "### Обработка аномальных значений"
      ]
    },
    {
      "cell_type": "markdown",
      "id": "ed552055",
      "metadata": {
        "deletable": false,
        "editable": false,
        "id": "ed552055"
      },
      "source": [
        "В столбце `days_employed` есть записи с отрицательным количеством дней трудового стажа . Заменим все отрицательные значения положительными с помощью метода `abs()`."
      ]
    },
    {
      "cell_type": "code",
      "execution_count": null,
      "id": "69556bc2",
      "metadata": {
        "deletable": false,
        "id": "69556bc2"
      },
      "outputs": [],
      "source": [
        "data['days_employed'] = data['days_employed'].abs()"
      ]
    },
    {
      "cell_type": "markdown",
      "id": "7ee5053d",
      "metadata": {
        "deletable": false,
        "editable": false,
        "id": "7ee5053d"
      },
      "source": [
        "Для каждого типа занятости выведем медианное значение трудового стажа `days_employed` в днях."
      ]
    },
    {
      "cell_type": "code",
      "execution_count": null,
      "id": "10d8d135",
      "metadata": {
        "deletable": false,
        "id": "10d8d135",
        "outputId": "801ef80e-522b-4668-f34e-565af7432bcf"
      },
      "outputs": [
        {
          "data": {
            "text/plain": [
              "income_type\n",
              "безработный        366413.652744\n",
              "в декрете            3296.759962\n",
              "госслужащий          2689.368353\n",
              "компаньон            1547.382223\n",
              "пенсионер          365213.306266\n",
              "предприниматель       520.848083\n",
              "сотрудник            1574.202821\n",
              "студент               578.751554\n",
              "Name: days_employed, dtype: float64"
            ]
          },
          "execution_count": 8,
          "metadata": {},
          "output_type": "execute_result"
        }
      ],
      "source": [
        "data.groupby('income_type')['days_employed'].agg('median')"
      ]
    },
    {
      "cell_type": "markdown",
      "id": "4abd00be",
      "metadata": {
        "deletable": false,
        "editable": false,
        "id": "4abd00be"
      },
      "source": [
        "У двух типов (безработные и пенсионеры) получились аномально большие значения. Исправить такие значения сложно, поэтому оставим их как есть. Тем более этот столбец не понадобится нам для дальнейшего исследования."
      ]
    },
    {
      "cell_type": "markdown",
      "id": "911bfbe0",
      "metadata": {
        "deletable": false,
        "editable": false,
        "id": "911bfbe0"
      },
      "source": [
        "Выведем перечень уникальных значений столбца `children`."
      ]
    },
    {
      "cell_type": "code",
      "execution_count": null,
      "id": "864f5266",
      "metadata": {
        "deletable": false,
        "id": "864f5266",
        "outputId": "6975b15c-7f95-4697-d16d-a0c79b657b03"
      },
      "outputs": [
        {
          "data": {
            "text/plain": [
              "array([ 1,  0,  3,  2, -1,  4, 20,  5])"
            ]
          },
          "execution_count": 9,
          "metadata": {},
          "output_type": "execute_result"
        }
      ],
      "source": [
        "data['children'].unique()"
      ]
    },
    {
      "cell_type": "markdown",
      "id": "26f8cac2",
      "metadata": {
        "deletable": false,
        "editable": false,
        "id": "26f8cac2"
      },
      "source": [
        "В столбце `children` есть два аномальных значения. Удалим строки, в которых встречаются такие аномальные значения из датафрейма `data`."
      ]
    },
    {
      "cell_type": "code",
      "execution_count": null,
      "id": "53ebf723",
      "metadata": {
        "deletable": false,
        "id": "53ebf723"
      },
      "outputs": [],
      "source": [
        "data = data[~data['children'].isin([-1, 20])]"
      ]
    },
    {
      "cell_type": "markdown",
      "id": "49262624",
      "metadata": {
        "deletable": false,
        "editable": false,
        "id": "49262624"
      },
      "source": [
        "Выведем перечень уникальных значений столбца `children`, чтобы убедиться, что артефакты удалены."
      ]
    },
    {
      "cell_type": "code",
      "execution_count": null,
      "id": "a155ebf0",
      "metadata": {
        "deletable": false,
        "id": "a155ebf0",
        "outputId": "b2097101-d49d-44d9-901b-32a65c9463d1"
      },
      "outputs": [
        {
          "data": {
            "text/plain": [
              "array([1, 0, 3, 2, 4, 5])"
            ]
          },
          "execution_count": 11,
          "metadata": {},
          "output_type": "execute_result"
        }
      ],
      "source": [
        "data['children'].unique()"
      ]
    },
    {
      "cell_type": "markdown",
      "id": "74abc6e6",
      "metadata": {
        "deletable": false,
        "editable": false,
        "id": "74abc6e6"
      },
      "source": [
        "Заполним пропуски в столбце `days_employed` медианными значениями по каждого типа занятости `income_type`."
      ]
    },
    {
      "cell_type": "code",
      "execution_count": null,
      "id": "6661d851",
      "metadata": {
        "deletable": false,
        "id": "6661d851"
      },
      "outputs": [],
      "source": [
        "data['days_employed'] = data.groupby('income_type')['days_employed'].transform(lambda x: x.fillna(x.median()))"
      ]
    },
    {
      "cell_type": "markdown",
      "id": "7d8943f1",
      "metadata": {
        "deletable": false,
        "editable": false,
        "id": "7d8943f1"
      },
      "source": [
        "Убедимся, что все пропуски заполнены. Проверим себя и ещё раз выведем количество пропущенных значений для каждого столбца."
      ]
    },
    {
      "cell_type": "code",
      "execution_count": null,
      "id": "7db749f1",
      "metadata": {
        "deletable": false,
        "id": "7db749f1",
        "outputId": "8da1e4e1-358e-4e87-98c9-f261bce0a7b2"
      },
      "outputs": [
        {
          "data": {
            "text/plain": [
              "children            0\n",
              "days_employed       0\n",
              "dob_years           0\n",
              "education           0\n",
              "education_id        0\n",
              "family_status       0\n",
              "family_status_id    0\n",
              "gender              0\n",
              "income_type         0\n",
              "debt                0\n",
              "total_income        0\n",
              "purpose             0\n",
              "dtype: int64"
            ]
          },
          "execution_count": 13,
          "metadata": {},
          "output_type": "execute_result"
        }
      ],
      "source": [
        "data.isna().sum()"
      ]
    },
    {
      "cell_type": "markdown",
      "id": "b418abfe",
      "metadata": {
        "deletable": false,
        "editable": false,
        "id": "b418abfe"
      },
      "source": [
        "### Изменение типов данных"
      ]
    },
    {
      "cell_type": "markdown",
      "id": "d535dc71",
      "metadata": {
        "deletable": false,
        "editable": false,
        "id": "d535dc71"
      },
      "source": [
        "Заменим вещественный тип данных в столбце `total_income` на целочисленный с помощью метода `astype()`.**"
      ]
    },
    {
      "cell_type": "code",
      "execution_count": null,
      "id": "5f176608",
      "metadata": {
        "deletable": false,
        "id": "5f176608"
      },
      "outputs": [],
      "source": [
        "data['total_income'] = data['total_income'].astype(int)"
      ]
    },
    {
      "cell_type": "markdown",
      "id": "2e411336",
      "metadata": {
        "deletable": false,
        "editable": false,
        "id": "2e411336"
      },
      "source": [
        "### Обработка дубликатов"
      ]
    },
    {
      "cell_type": "markdown",
      "id": "b7a15b64",
      "metadata": {
        "deletable": false,
        "editable": false,
        "id": "b7a15b64"
      },
      "source": [
        "Обработаем неявные дубликаты в столбце `education`. В этом столбце есть одни и те же значения, но записанные по-разному: с использованием заглавных и строчных букв. Приведем их к нижнему регистру."
      ]
    },
    {
      "cell_type": "code",
      "execution_count": null,
      "id": "ac67c9fe",
      "metadata": {
        "deletable": false,
        "id": "ac67c9fe"
      },
      "outputs": [],
      "source": [
        "data['education'] = data['education'].str.lower()"
      ]
    },
    {
      "cell_type": "markdown",
      "id": "6416de62",
      "metadata": {
        "deletable": false,
        "editable": false,
        "id": "6416de62"
      },
      "source": [
        "Выведем на экран количество строк-дубликатов в данных и удалим их."
      ]
    },
    {
      "cell_type": "code",
      "execution_count": null,
      "id": "0571f793",
      "metadata": {
        "deletable": false,
        "id": "0571f793",
        "outputId": "9684deba-1934-42d1-99e1-cda61740f822"
      },
      "outputs": [
        {
          "data": {
            "text/plain": [
              "71"
            ]
          },
          "execution_count": 16,
          "metadata": {},
          "output_type": "execute_result"
        }
      ],
      "source": [
        "data.duplicated().sum()"
      ]
    },
    {
      "cell_type": "code",
      "execution_count": null,
      "id": "8b93c30c",
      "metadata": {
        "deletable": false,
        "id": "8b93c30c"
      },
      "outputs": [],
      "source": [
        "data = data.drop_duplicates()"
      ]
    },
    {
      "cell_type": "markdown",
      "id": "bd143562",
      "metadata": {
        "deletable": false,
        "editable": false,
        "id": "bd143562"
      },
      "source": [
        "### Категоризация данных"
      ]
    },
    {
      "cell_type": "markdown",
      "id": "fa1c543a",
      "metadata": {
        "deletable": false,
        "editable": false,
        "id": "fa1c543a"
      },
      "source": [
        "Создадим в датафрейме `data` столбец `total_income_category` с категориями:**\n",
        "\n",
        "- 0–30000 — `'E'`;\n",
        "- 30001–50000 — `'D'`;\n",
        "- 50001–200000 — `'C'`;\n",
        "- 200001–1000000 — `'B'`;\n",
        "- 1000001 и выше — `'A'`."
      ]
    },
    {
      "cell_type": "code",
      "execution_count": null,
      "id": "54af3825",
      "metadata": {
        "deletable": false,
        "id": "54af3825"
      },
      "outputs": [],
      "source": [
        "def categorize_income(income):\n",
        "    try:\n",
        "        if 0 <= income <= 30000:\n",
        "            return 'E'\n",
        "        elif 30001 <= income <= 50000:\n",
        "            return 'D'\n",
        "        elif 50001 <= income <= 200000:\n",
        "            return 'C'\n",
        "        elif 200001 <= income <= 1000000:\n",
        "            return 'B'\n",
        "        elif income >= 1000001:\n",
        "            return 'A'\n",
        "    except:\n",
        "        pass"
      ]
    },
    {
      "cell_type": "code",
      "execution_count": null,
      "id": "47180169",
      "metadata": {
        "deletable": false,
        "id": "47180169"
      },
      "outputs": [],
      "source": [
        "data['total_income_category'] = data['total_income'].apply(categorize_income)"
      ]
    },
    {
      "cell_type": "markdown",
      "id": "b253bbb4",
      "metadata": {
        "deletable": false,
        "editable": false,
        "id": "b253bbb4"
      },
      "source": [
        "Выведем на экран перечень уникальных целей взятия кредита из столбца `purpose`."
      ]
    },
    {
      "cell_type": "code",
      "execution_count": null,
      "id": "91d2a30f",
      "metadata": {
        "deletable": false,
        "id": "91d2a30f",
        "outputId": "673c12d9-7d7e-4ae0-9812-c622c89dd244"
      },
      "outputs": [
        {
          "data": {
            "text/plain": [
              "array(['покупка жилья', 'приобретение автомобиля',\n",
              "       'дополнительное образование', 'сыграть свадьбу',\n",
              "       'операции с жильем', 'образование', 'на проведение свадьбы',\n",
              "       'покупка жилья для семьи', 'покупка недвижимости',\n",
              "       'покупка коммерческой недвижимости', 'покупка жилой недвижимости',\n",
              "       'строительство собственной недвижимости', 'недвижимость',\n",
              "       'строительство недвижимости', 'на покупку подержанного автомобиля',\n",
              "       'на покупку своего автомобиля',\n",
              "       'операции с коммерческой недвижимостью',\n",
              "       'строительство жилой недвижимости', 'жилье',\n",
              "       'операции со своей недвижимостью', 'автомобили',\n",
              "       'заняться образованием', 'сделка с подержанным автомобилем',\n",
              "       'получение образования', 'автомобиль', 'свадьба',\n",
              "       'получение дополнительного образования', 'покупка своего жилья',\n",
              "       'операции с недвижимостью', 'получение высшего образования',\n",
              "       'свой автомобиль', 'сделка с автомобилем',\n",
              "       'профильное образование', 'высшее образование',\n",
              "       'покупка жилья для сдачи', 'на покупку автомобиля', 'ремонт жилью',\n",
              "       'заняться высшим образованием'], dtype=object)"
            ]
          },
          "execution_count": 20,
          "metadata": {},
          "output_type": "execute_result"
        }
      ],
      "source": [
        "data['purpose'].unique()"
      ]
    },
    {
      "cell_type": "markdown",
      "id": "29dee0fa",
      "metadata": {
        "deletable": false,
        "editable": false,
        "id": "29dee0fa"
      },
      "source": [
        "Создадим функцию, которая на основании данных из столбца `purpose` сформирует новый столбец `purpose_category`, в который войдут следующие категории:\n",
        "\n",
        "- `'операции с автомобилем'`,\n",
        "- `'операции с недвижимостью'`,\n",
        "- `'проведение свадьбы'`,\n",
        "- `'получение образования'`."
      ]
    },
    {
      "cell_type": "code",
      "execution_count": null,
      "id": "c688d888",
      "metadata": {
        "deletable": false,
        "id": "c688d888"
      },
      "outputs": [],
      "source": [
        "def categorize_purpose(row):\n",
        "    try:\n",
        "        if 'автом' in row:\n",
        "            return 'операции с автомобилем'\n",
        "        elif 'жил' in row or 'недвиж' in row:\n",
        "            return 'операции с недвижимостью'\n",
        "        elif 'свад' in row:\n",
        "            return 'проведение свадьбы'\n",
        "        elif 'образов' in row:\n",
        "            return 'получение образования'\n",
        "    except:\n",
        "        return 'нет категории'"
      ]
    },
    {
      "cell_type": "code",
      "execution_count": null,
      "id": "5f352f36",
      "metadata": {
        "deletable": false,
        "id": "5f352f36"
      },
      "outputs": [],
      "source": [
        "data['purpose_category'] = data['purpose'].apply(categorize_purpose)"
      ]
    },
    {
      "cell_type": "markdown",
      "id": "3f6b1a53",
      "metadata": {
        "deletable": false,
        "editable": false,
        "id": "3f6b1a53"
      },
      "source": [
        "## Исследование данных"
      ]
    },
    {
      "cell_type": "markdown",
      "id": "6f38e438",
      "metadata": {
        "deletable": false,
        "editable": false,
        "id": "6f38e438"
      },
      "source": [
        "### Связь между количеством детей и возвратом кредита в срок."
      ]
    },
    {
      "cell_type": "markdown",
      "id": "e28be35b",
      "metadata": {
        "id": "e28be35b"
      },
      "source": [
        "Изучим колонку `children` и посмотрим на распределение количества детей у клиентов банка.\n"
      ]
    },
    {
      "cell_type": "code",
      "execution_count": null,
      "id": "30cd7707",
      "metadata": {
        "scrolled": false,
        "id": "30cd7707",
        "outputId": "494f6f00-25cc-463f-cfca-026e056f2b1f"
      },
      "outputs": [
        {
          "name": "stdout",
          "output_type": "stream",
          "text": [
            "0    0.660588\n",
            "1    0.225400\n",
            "2    0.096198\n",
            "3    0.015470\n",
            "4    0.001922\n",
            "5    0.000422\n",
            "Name: children, dtype: float64\n"
          ]
        },
        {
          "data": {
            "image/png": "[encoded data removed]",
            "text/plain": [
              "<Figure size 432x288 with 1 Axes>"
            ]
          },
          "metadata": {
            "needs_background": "light"
          },
          "output_type": "display_data"
        }
      ],
      "source": [
        "data['children'].hist()\n",
        "print(data['children'].value_counts(normalize=True))"
      ]
    },
    {
      "cell_type": "markdown",
      "id": "0ea9b94e",
      "metadata": {
        "id": "0ea9b94e"
      },
      "source": [
        "Изучим полученные данные:\n",
        "\n",
        "- У 66% клиентов нет детей,\n",
        "- У 10% двое дете`,\n",
        "- У 0.2% четверо детей,\n",
        "- У 0.05% пятеро детей.\n",
        "\n",
        "Посмотрим как количество детей связаны с задолжностями."
      ]
    },
    {
      "cell_type": "markdown",
      "source": [
        "Сгрупируем данные по столбцу ['children'] и посчитаем % должников для каждой категории."
      ],
      "metadata": {
        "id": "nDVW9Ps2QTmd"
      },
      "id": "nDVW9Ps2QTmd"
    },
    {
      "cell_type": "code",
      "execution_count": null,
      "id": "fd17ae2b",
      "metadata": {
        "scrolled": true,
        "id": "fd17ae2b",
        "outputId": "427d5bee-5bd8-4fca-a529-3949169b0aee"
      },
      "outputs": [
        {
          "data": {
            "text/html": [
              "<div>\n",
              "<style scoped>\n",
              "    .dataframe tbody tr th:only-of-type {\n",
              "        vertical-align: middle;\n",
              "    }\n",
              "\n",
              "    .dataframe tbody tr th {\n",
              "        vertical-align: top;\n",
              "    }\n",
              "\n",
              "    .dataframe thead th {\n",
              "        text-align: right;\n",
              "    }\n",
              "</style>\n",
              "<table border=\"1\" class=\"dataframe\">\n",
              "  <thead>\n",
              "    <tr style=\"text-align: right;\">\n",
              "      <th></th>\n",
              "      <th>number of clients</th>\n",
              "      <th>number of debtors</th>\n",
              "      <th>percentage of debtors</th>\n",
              "    </tr>\n",
              "    <tr>\n",
              "      <th>children</th>\n",
              "      <th></th>\n",
              "      <th></th>\n",
              "      <th></th>\n",
              "    </tr>\n",
              "  </thead>\n",
              "  <tbody>\n",
              "    <tr>\n",
              "      <th>0</th>\n",
              "      <td>1063</td>\n",
              "      <td>14091</td>\n",
              "      <td>7.543822</td>\n",
              "    </tr>\n",
              "    <tr>\n",
              "      <th>1</th>\n",
              "      <td>444</td>\n",
              "      <td>4808</td>\n",
              "      <td>9.234609</td>\n",
              "    </tr>\n",
              "    <tr>\n",
              "      <th>2</th>\n",
              "      <td>194</td>\n",
              "      <td>2052</td>\n",
              "      <td>9.454191</td>\n",
              "    </tr>\n",
              "    <tr>\n",
              "      <th>3</th>\n",
              "      <td>27</td>\n",
              "      <td>330</td>\n",
              "      <td>8.181818</td>\n",
              "    </tr>\n",
              "    <tr>\n",
              "      <th>4</th>\n",
              "      <td>4</td>\n",
              "      <td>41</td>\n",
              "      <td>9.756098</td>\n",
              "    </tr>\n",
              "    <tr>\n",
              "      <th>5</th>\n",
              "      <td>0</td>\n",
              "      <td>9</td>\n",
              "      <td>0.000000</td>\n",
              "    </tr>\n",
              "  </tbody>\n",
              "</table>\n",
              "</div>"
            ],
            "text/plain": [
              "          number of clients  number of debtors  percentage of debtors\n",
              "children                                                             \n",
              "0                      1063              14091               7.543822\n",
              "1                       444               4808               9.234609\n",
              "2                       194               2052               9.454191\n",
              "3                        27                330               8.181818\n",
              "4                         4                 41               9.756098\n",
              "5                         0                  9               0.000000"
            ]
          },
          "execution_count": 28,
          "metadata": {},
          "output_type": "execute_result"
        }
      ],
      "source": [
        "group_by_children = data.groupby('children')['debt'].agg(['sum', 'count'])\n",
        "group_by_children['percentage of debtors'] = group_by_children['sum']/group_by_children['count']* 100\n",
        "group_by_children.rename(columns = {'sum' : 'number of clients', 'count' : 'number of debtors'}, inplace = True)\n",
        "group_by_children"
      ]
    },
    {
      "cell_type": "code",
      "execution_count": null,
      "id": "d675ddb0",
      "metadata": {
        "scrolled": false,
        "id": "d675ddb0",
        "outputId": "35d304f6-20a8-4a4f-8078-3328bd65e2be"
      },
      "outputs": [
        {
          "name": "stdout",
          "output_type": "stream",
          "text": [
            "Количество должников среди клиентов с 1 ребенком на 22 % больше, чем у клиентов без детей.\n",
            "Количество должников среди клиентов с 2 ребенком на 2 % больше, чем у клиентов с одним.\n"
          ]
        }
      ],
      "source": [
        "print(f'Количество должников среди клиентов с 1 ребенком на {int(9.234609/7.543822*100-100)} % больше, чем у клиентов без детей.')\n",
        "print(f'Количество должников среди клиентов с 2 ребенком на {int(9.454191/9.234609*100-100)} % больше, чем у клиентов с одним.')"
      ]
    },
    {
      "cell_type": "markdown",
      "id": "2abd286d",
      "metadata": {
        "id": "2abd286d"
      },
      "source": [
        "Среди клиентов с детьми выше процент должников. Но зависимость не линейная — с ростом количество детей процент должников не растет. А среди родителей 3х детей он даже падает!\n",
        "\n",
        "Спишем последнее на отклонение связанное с недостаточным количество наблюдений и сформулируем гипотезу:\n",
        "\n",
        "**\"Клиенты с детьми чаще оказываются должниками, чем клиенты без детей\"**.\n",
        "\n",
        "Проверим нашу гипотезу с помощью статистичесих методов. Найдем p-valeu, используя метод z-тест.\n",
        "\n",
        "Удалим столбец с клиентами без детей и посчитаем их общие показатели"
      ]
    },
    {
      "cell_type": "code",
      "execution_count": null,
      "id": "9b572452",
      "metadata": {
        "scrolled": true,
        "id": "9b572452",
        "outputId": "9308290f-ed71-468c-e5f8-901c3b58248d"
      },
      "outputs": [
        {
          "name": "stdout",
          "output_type": "stream",
          "text": [
            "number of clients     669\n",
            "number of debtors    7240\n",
            "dtype: int64\n"
          ]
        }
      ],
      "source": [
        "total_children = group_by_children.drop(labels = [0],axis = 0)\n",
        "total_children = total_children[[\"number of clients\", \"number of debtors\"]].sum()\n",
        "\n",
        "print(total_children)"
      ]
    },
    {
      "cell_type": "markdown",
      "source": [
        "Вычислим p-valeu. Для этого передаем функции в качестве аргументов количество целевых дейсвий. В нашем случае это наличие задолжности) и количество наблюдений. Родителей 5 детей уберем из рассчета, т.к. там слишком мало данных."
      ],
      "metadata": {
        "id": "65g86CszQdw9"
      },
      "id": "65g86CszQdw9"
    },
    {
      "cell_type": "code",
      "execution_count": null,
      "id": "b899a033",
      "metadata": {
        "deletable": false,
        "id": "b899a033",
        "outputId": "21db3dbb-ed0f-412a-94fa-3aad57eb50f1"
      },
      "outputs": [
        {
          "name": "stdout",
          "output_type": "stream",
          "text": [
            "P-value кредитоспособности клиентов с детьми и без составляет: 0.00002, это значит, что разница статистически значима.\n",
            "P-value кредитоспособности клиентов без детей и с одним ребенком: 0.00019, это значит, что разница статистически значима.\n",
            "P-value кредитоспособности клиентов с 1-2 детьми: 0.77433, это значит, что разница статистически не значима.\n",
            "P-value кредитоспособности клиентов с 2-3 детьми составляет: 0.77433, это значит, что разница статистически не значима.\n"
          ]
        }
      ],
      "source": [
        "with_and_without = proportions_ztest([1063,669],[14091,7240])\n",
        "zero_and_one = proportions_ztest([1063,444],[14091,4808])\n",
        "One_and_two = proportions_ztest([444,194],[4808,2052])\n",
        "Three_and_two = proportions_ztest([27,4],[330,41])\n",
        "\n",
        "\n",
        "#функция, которая меняет отображение малых чисел на более привычное\n",
        "def fixed_num(n, prec=0):\n",
        "    return f\"{n:.{prec}f}\"\n",
        "\n",
        "#возьмем за альфу 0,05 и напишем фукнцию, которая оценивает статзначимость\n",
        "def p_valuer(n):\n",
        "    if n[1] < 0.05:\n",
        "        return 'статистически значима'\n",
        "    else:\n",
        "        return 'статистически не значима'\n",
        "\n",
        "\n",
        "\n",
        "#распечатаем результат\n",
        "print(f'P-value кредитоспособности клиентов с детьми и без составляет: {fixed_num(with_and_without[1], 5)}, это значит, что разница {p_valuer(with_and_without)}.')\n",
        "print(f'P-value кредитоспособности клиентов без детей и с одним ребенком: {fixed_num(zero_and_one[1], 5)}, это значит, что разница {p_valuer(zero_and_one)}.')\n",
        "print(f'P-value кредитоспособности клиентов с 1-2 детьми: {fixed_num(One_and_two[1], 5)}, это значит, что разница {p_valuer(One_and_two)}.')\n",
        "print(f'P-value кредитоспособности клиентов с 2-3 детьми составляет: {fixed_num(One_and_two[1], 5)}, это значит, что разница {p_valuer(One_and_two)}.')\n",
        "\n",
        ""
      ]
    },
    {
      "cell_type": "markdown",
      "id": "e453e6e4",
      "metadata": {
        "deletable": false,
        "id": "e453e6e4"
      },
      "source": [
        "**Вывод:**\n",
        "Клиенты с детьми на 22% чаще оказываются должниками. Разница статистически значима и на этот показтель можно ориентироваться при скоринге клиентов."
      ]
    },
    {
      "cell_type": "markdown",
      "id": "91f0ff8a",
      "metadata": {
        "deletable": false,
        "editable": false,
        "id": "91f0ff8a"
      },
      "source": [
        "### Зависимость между семейным положением и возвратом кредита в срок."
      ]
    },
    {
      "cell_type": "markdown",
      "source": [
        "Сгруппируем данные по семейному положения и смотрим на процент должников для каждой категории."
      ],
      "metadata": {
        "id": "zeuAQHrNQzfT"
      },
      "id": "zeuAQHrNQzfT"
    },
    {
      "cell_type": "code",
      "execution_count": null,
      "id": "d00494ce",
      "metadata": {
        "deletable": false,
        "id": "d00494ce",
        "outputId": "57ca2267-94f5-43ac-dd7f-f28549d95ff1"
      },
      "outputs": [
        {
          "name": "stdout",
          "output_type": "stream",
          "text": [
            "                       total_clients  number of debtors  percentage of debtors\n",
            "family_status                                                                 \n",
            "Не женат / не замужем           2796                273               9.763948\n",
            "в разводе                       1189                 84               7.064760\n",
            "вдовец / вдова                   951                 63               6.624606\n",
            "гражданский брак                4134                385               9.313014\n",
            "женат / замужем                12261                927               7.560558\n"
          ]
        }
      ],
      "source": [
        "group_by_family_status = pd.DataFrame(data.groupby('family_status')['family_status'].count())\n",
        "group_by_family_status['number of debtors'] = data.groupby('family_status')['debt'].sum()\n",
        "group_by_family_status['percentage of debtors'] =  group_by_family_status['number of debtors']/group_by_family_status['family_status']*100\n",
        "group_by_family_status.rename(columns = {'family_status' : 'total_clients'}, inplace = True)\n",
        "\n",
        "print(group_by_family_status)"
      ]
    },
    {
      "cell_type": "markdown",
      "id": "1f4e52ce",
      "metadata": {
        "id": "1f4e52ce"
      },
      "source": [
        "Визуально данные делятся на две категории по признаку наличия официального брака:\n",
        "- Более надежная категория (группа А): \"в разводе\", \"вдовец / вдова\", \"женат / замужем\"\n",
        "- Менее надежная категория (группа B): \"Не женат / не замужем\", \"гражданский брак\"\n",
        "\n",
        "Объединим наблюдения в эти две группы и посчитаем статзначимость."
      ]
    },
    {
      "cell_type": "code",
      "execution_count": null,
      "id": "2b6d9a8e",
      "metadata": {
        "id": "2b6d9a8e",
        "outputId": "9163eee4-1fd0-439f-b92a-ba92a09c9226"
      },
      "outputs": [
        {
          "name": "stdout",
          "output_type": "stream",
          "text": [
            "     group  debt_percent\n",
            "0  Group A      7.457815\n",
            "1  Group B      9.494949\n",
            "\n",
            "P-value незамужних и замужних составляет 0.00000, это значит, что разница статистически значима.\n",
            "Количество клиентов с задолжность в группе B больше на 27.31542614224179%\n"
          ]
        }
      ],
      "source": [
        "# Суммирование общего количества клиентов и должников в группе A и B\n",
        "A_total = group_by_family_status.loc[[\"в разводе\", \"вдовец / вдова\", \"женат / замужем\"], 'total_clients'].sum()\n",
        "A_debs = group_by_family_status.loc[[\"в разводе\", \"вдовец / вдова\", \"женат / замужем\"], 'number of debtors'].sum()\n",
        "B_total = group_by_family_status.loc[[\"Не женат / не замужем\", \"гражданский брак\"], 'total_clients'].sum()\n",
        "B_debs = group_by_family_status.loc[[\"Не женат / не замужем\", \"гражданский брак\"], 'number of debtors'].sum()\n",
        "\n",
        "# Вычисление процента должников\n",
        "A_debt_percent = (A_debs / A_total) * 100\n",
        "B_debt_percent = (B_debs / B_total) * 100\n",
        "\n",
        "# Создание таблицы с результатами\n",
        "ab = pd.DataFrame({'group': ['Group A', 'Group B'], 'debt_percent': [A_debt_percent, B_debt_percent]})\n",
        "print(ab)\n",
        "print()\n",
        "\n",
        "# Вычисление p-value\n",
        "A_and_B = proportions_ztest([A_debs, B_debs], [A_total, B_total])\n",
        "\n",
        "\n",
        "print(f'P-value для разницы между группами составляет {fixed_num(A_and_B[1], 5)}.')\n",
        "print(f'Количество клиентов с задолженностью в группе B больше на {(B_debt_percent / A_debt_percent * 100) - 100}%.')\n"
      ]
    },
    {
      "cell_type": "markdown",
      "id": "2f5ca78c",
      "metadata": {
        "id": "2f5ca78c"
      },
      "source": [
        "**Вывод**: Официальный брак в настоящем или прошлом, говорит о более дисциплинированном заемщике. Клиенты делятся на две группы:\n",
        "- Более надежная категория \"официальный брак\": \"в разводе\", \"вдовец / вдова\", \"женат / замужем\"\n",
        "- Менее надежная категория \"без официального брака\": \"Не женат / не замужем\", \"гражданский брак\"\n",
        "\n",
        "Количество клиентов c задолжность в менее надежной категории больше на 27.3%"
      ]
    },
    {
      "cell_type": "markdown",
      "id": "2d2eb23c",
      "metadata": {
        "deletable": false,
        "editable": false,
        "id": "2d2eb23c"
      },
      "source": [
        "### Зависимость между уровнем дохода и возвратом кредита в срок."
      ]
    },
    {
      "cell_type": "code",
      "execution_count": null,
      "id": "9ed61b4a",
      "metadata": {
        "deletable": false,
        "id": "9ed61b4a",
        "scrolled": true,
        "outputId": "ffeffc9f-5b4a-49ba-f8d7-a70c2efa559b"
      },
      "outputs": [
        {
          "name": "stdout",
          "output_type": "stream",
          "text": [
            "                       total_clients  number of debtors  percentage of debtors\n",
            "total_income_category                                                         \n",
            "A                                 25                  2               8.000000\n",
            "B                               5014                354               7.060231\n",
            "C                              15921               1353               8.498210\n",
            "D                                349                 21               6.017192\n",
            "E                                 22                  2               9.090909\n"
          ]
        }
      ],
      "source": [
        "group_by_income_category = pd.DataFrame(data.groupby('total_income_category')['debt'].count())\n",
        "group_by_income_category['number of debtors'] = data.groupby('total_income_category')['debt'].sum()\n",
        "group_by_income_category['percentage of debtors'] =  group_by_income_category['number of debtors']/group_by_income_category['debt']*100\n",
        "group_by_income_category.rename(columns = {'debt' : 'total_clients'}, inplace = True)\n",
        "\n",
        "\n",
        "print(group_by_income_category)\n"
      ]
    },
    {
      "cell_type": "markdown",
      "id": "71f00158",
      "metadata": {
        "id": "71f00158"
      },
      "source": [
        "Значений в категериях A, D, E мало для статистического анализа. Поэтому посчитаем стазначимость между категориями дохода B и С."
      ]
    },
    {
      "cell_type": "code",
      "execution_count": null,
      "id": "287302ad",
      "metadata": {
        "scrolled": true,
        "id": "287302ad",
        "outputId": "d4588742-36c3-47a5-cb68-4bec3b30e449"
      },
      "outputs": [
        {
          "name": "stdout",
          "output_type": "stream",
          "text": [
            "P-value составляет 0.00118, это значит, что разница статистически значима.\n",
            "Процент клиентов с задолжность среди категории C выше чем у B на 20.367300836013385%\n"
          ]
        }
      ],
      "source": [
        "B_and_C = proportions_ztest([354,1353],[5014,15921])\n",
        "\n",
        "\n",
        "print(f'P-value составляет {fixed_num(B_and_C[1], 5)}, это значит, что разница {p_valuer(B_and_C)}.')\n",
        "print(f'Процент клиентов с задолжность среди категории C выше чем у B на {(1353/15921*100)/(354/5014*100)*100-100}%')"
      ]
    },
    {
      "cell_type": "markdown",
      "id": "00f94910",
      "metadata": {
        "id": "00f94910"
      },
      "source": [
        "**Вывод:**  Более состоятельные клиенты (категория B) на 20% реже допускают задолжности, чем менее состоятельные (категория C). Ситуация кажется предсказуемой — чем больше доход, тем больше возможность платить.\n",
        "\n",
        "Важно отметить, что данные по более низким категорям дохода нет смысла анализировать не только из-за малого количества наблюдений, но и из-за систематической ошибки выжившего. Большинство клиентов с низким доходом просто не получили кредит, а те кто получил скорее всего были надежны по всем остальным критериям."
      ]
    },
    {
      "cell_type": "markdown",
      "id": "abb36fdb",
      "metadata": {
        "deletable": false,
        "editable": false,
        "id": "abb36fdb"
      },
      "source": [
        "###Связь целей кредита на его возврат в срок."
      ]
    },
    {
      "cell_type": "code",
      "execution_count": null,
      "id": "c98fb2a3",
      "metadata": {
        "deletable": false,
        "id": "c98fb2a3",
        "outputId": "c8cb1330-2dec-4276-df5c-4cee7a595be9"
      },
      "outputs": [
        {
          "name": "stdout",
          "output_type": "stream",
          "text": [
            "                          total_clients  number of debtors  \\\n",
            "purpose_category                                             \n",
            "операции с автомобилем             4279                400   \n",
            "операции с недвижимостью          10751                780   \n",
            "получение образования              3988                369   \n",
            "проведение свадьбы                 2313                183   \n",
            "\n",
            "                          percentage of debtors  \n",
            "purpose_category                                 \n",
            "операции с автомобилем                 9.347978  \n",
            "операции с недвижимостью               7.255139  \n",
            "получение образования                  9.252758  \n",
            "проведение свадьбы                     7.911803  \n"
          ]
        }
      ],
      "source": [
        "group_by_purpose_category = pd.DataFrame(data.groupby('purpose_category')['debt'].count())\n",
        "group_by_purpose_category['number of debtors'] = data.groupby('purpose_category')['debt'].sum()\n",
        "group_by_purpose_category['percentage of debtors'] =  group_by_purpose_category['number of debtors']/group_by_purpose_category['debt']*100\n",
        "group_by_purpose_category.rename(columns = {'debt' : 'total_clients'}, inplace = True)\n",
        "\n",
        "print(group_by_purpose_category)\n"
      ]
    },
    {
      "cell_type": "markdown",
      "id": "07dd14fe",
      "metadata": {
        "id": "07dd14fe"
      },
      "source": [
        "Снова наблюдения делятся на две категории по цели получения кредита:\n",
        "- Меньшая надежность: автомобили и образование\n",
        "- Более высокая надежность: недвижимость и свадьба\n",
        "\n",
        "Сгрупируем данные и посчитаем статзначимость различий."
      ]
    },
    {
      "cell_type": "code",
      "execution_count": null,
      "id": "427359da",
      "metadata": {
        "id": "427359da",
        "outputId": "6e24f419-7877-4b73-b74f-920348976a23"
      },
      "outputs": [
        {
          "name": "stdout",
          "output_type": "stream",
          "text": [
            "P-value двух групп 0.00000, это значит, что разница статистически значима.\n"
          ]
        }
      ],
      "source": [
        "A_total = group_by_purpose_category.loc[[\"операции с автомобилем\", \"получение образования\"],['total_clients']].sum()\n",
        "A_total = A_total[0]\n",
        "A_debs = group_by_purpose_category.loc[[\"операции с автомобилем\", \"получение образования\"],['number of debtors']].sum()\n",
        "A_debs = A_debs[0]\n",
        "B_total = group_by_purpose_category.loc[[\"операции с недвижимостью\", \"проведение свадьбы\"],['total_clients']].sum()\n",
        "B_total = B_total[0]\n",
        "B_debs = group_by_purpose_category.loc[[\"операции с недвижимостью\", \"проведение свадьбы\"],['number of debtors']].sum()\n",
        "B_debs = B_debs[0]\n",
        "\n",
        "A_and_B = proportions_ztest([A_debs,B_debs],[A_total,B_total])\n",
        "\n",
        "\n",
        "print(f'P-value двух групп {fixed_num(A_and_B[1], 5)}, это значит, что разница {p_valuer(A_and_B)}.')"
      ]
    },
    {
      "cell_type": "markdown",
      "id": "6f99693e",
      "metadata": {
        "id": "6f99693e"
      },
      "source": [
        "**Вывод**:\n",
        "Значимость подтвердилась. Менее надёжными оказались автомобили и образование, а более надежными недвижимость и свадьба."
      ]
    },
    {
      "cell_type": "markdown",
      "id": "6c20d68b",
      "metadata": {
        "deletable": false,
        "editable": false,
        "id": "6c20d68b"
      },
      "source": [
        "## Общий вывод."
      ]
    },
    {
      "cell_type": "markdown",
      "id": "03fb3398",
      "metadata": {
        "deletable": false,
        "id": "03fb3398"
      },
      "source": [
        "**Исследование и обработка данных**\n",
        "\n",
        "В ходе исследования был выявлен и устранен ряд проблем в данных:\n",
        "\n",
        "- Столбцы `days_employed` и `total_income` имели пропущенные значения. Эти значения были заменены медианными значениями согласно типу занятости.\n",
        "- При этом у двух типов `income_type` — безработных и пенсионеров аномально большие медиальные значения дохода.\n",
        "- Столбец `days_employed` содержал отрицательные данные. Отрицательные значения были переведын в положительные.\n",
        "- В датасете в столбце `children` были значения -1, 20. Строки с этими значениями были удалены из исследования.\n",
        "\n",
        "**Рекомендации в будущем**\n",
        "\n",
        "Возможно, причины проблем пропущенных значений `days_employed` и `total_income` связаны с человеческим фактором — некоторые люди отказываются указывать эти значения. Если это действительно так, то рекомендуем сделать эти строки анкеты обязательными для заполнения.\n",
        "\n",
        "Завышенные медианные значения дохода у безработных и пенсионеров тоже могут быть связаны с человеческим фактором — люди завышают свои реальные доходы. Тогда стоит проверить как устроено подтверждение дохода.\n",
        "\n",
        "Проблемы с отрицательными значениями столбцов `days_employed` и `children` скорее носят технический характер. Рекомендуется проверить как заносятся эти данные.\n",
        "\n",
        "**Выводы**\n",
        "\n",
        "В ходе исследования было выделен ряд характеристик, которые ухудшают прогноз — уменьшают вероятность возврата кредита в срок.\n",
        "К факторам ухудшающий прогноз относятся:\n",
        "- Наличие 1 и более детей\n",
        "- Не женат / не замужем, гражданский брак\n",
        "- Цель кредита \"автомобили и образование\"\n",
        "- Низкий уровень дохода\n",
        "\n",
        "\n",
        "К факторам улучшающим прогноз относятся:\n",
        "- Отсуствие детей\n",
        "- Наличие в настоящем или прошлом официального брака\n",
        "- Цель кредита \"недвижимость и свадьба\"\n",
        "- Более высокй уровень дохода\n",
        "\n"
      ]
    }
  ],
  "metadata": {
    "ExecuteTimeLog": [
      {
        "duration": 42,
        "start_time": "2022-10-29T09:59:51.552Z"
      },
      {
        "duration": 479,
        "start_time": "2022-10-29T10:00:00.250Z"
      },
      {
        "duration": 22,
        "start_time": "2022-10-29T10:00:00.730Z"
      },
      {
        "duration": 32,
        "start_time": "2022-10-29T10:00:00.753Z"
      },
      {
        "duration": 13,
        "start_time": "2022-10-29T10:00:00.787Z"
      },
      {
        "duration": 51,
        "start_time": "2022-10-29T10:00:00.801Z"
      },
      {
        "duration": 3,
        "start_time": "2022-10-29T10:00:00.854Z"
      },
      {
        "duration": 71,
        "start_time": "2022-10-29T10:00:00.859Z"
      },
      {
        "duration": 27,
        "start_time": "2022-10-29T10:00:00.932Z"
      },
      {
        "duration": 23,
        "start_time": "2022-10-29T10:00:00.961Z"
      },
      {
        "duration": 16,
        "start_time": "2022-10-29T10:00:00.986Z"
      },
      {
        "duration": 76,
        "start_time": "2022-10-29T10:00:01.003Z"
      },
      {
        "duration": 23,
        "start_time": "2022-10-29T10:00:01.081Z"
      },
      {
        "duration": 15,
        "start_time": "2022-10-29T10:00:01.106Z"
      },
      {
        "duration": 34,
        "start_time": "2022-10-29T10:00:01.123Z"
      },
      {
        "duration": 75,
        "start_time": "2022-10-29T10:00:01.158Z"
      },
      {
        "duration": 45,
        "start_time": "2022-10-29T10:00:01.234Z"
      },
      {
        "duration": 6,
        "start_time": "2022-10-29T10:00:01.280Z"
      },
      {
        "duration": 40,
        "start_time": "2022-10-29T10:00:01.287Z"
      },
      {
        "duration": 11,
        "start_time": "2022-10-29T10:00:01.329Z"
      },
      {
        "duration": 17,
        "start_time": "2022-10-29T10:00:01.342Z"
      },
      {
        "duration": 62,
        "start_time": "2022-10-29T10:00:01.361Z"
      },
      {
        "duration": 8,
        "start_time": "2022-10-29T10:00:02.760Z"
      },
      {
        "duration": 24,
        "start_time": "2022-10-29T10:14:36.552Z"
      },
      {
        "duration": 5,
        "start_time": "2022-10-29T10:14:45.164Z"
      },
      {
        "duration": 7,
        "start_time": "2022-10-29T10:14:54.832Z"
      },
      {
        "duration": 968,
        "start_time": "2022-10-29T10:19:23.607Z"
      },
      {
        "duration": 41,
        "start_time": "2022-10-29T10:20:21.778Z"
      },
      {
        "duration": 16,
        "start_time": "2022-10-29T10:20:31.912Z"
      },
      {
        "duration": 1299,
        "start_time": "2022-10-29T10:22:37.826Z"
      },
      {
        "duration": 347,
        "start_time": "2022-10-29T10:22:54.680Z"
      },
      {
        "duration": 20,
        "start_time": "2022-10-29T10:26:13.693Z"
      },
      {
        "duration": 10,
        "start_time": "2022-10-29T10:28:16.423Z"
      },
      {
        "duration": 13,
        "start_time": "2022-10-29T10:29:33.380Z"
      },
      {
        "duration": 12,
        "start_time": "2022-10-29T10:29:40.202Z"
      },
      {
        "duration": 1497,
        "start_time": "2022-10-29T10:30:01.395Z"
      },
      {
        "duration": 1141,
        "start_time": "2022-10-29T10:30:31.306Z"
      },
      {
        "duration": 9,
        "start_time": "2022-10-29T10:32:27.785Z"
      },
      {
        "duration": 10,
        "start_time": "2022-10-29T10:33:10.235Z"
      },
      {
        "duration": 47,
        "start_time": "2022-10-30T05:04:50.764Z"
      },
      {
        "duration": 43,
        "start_time": "2022-10-30T05:04:55.342Z"
      },
      {
        "duration": 682,
        "start_time": "2022-10-30T05:05:04.382Z"
      },
      {
        "duration": 21,
        "start_time": "2022-10-30T05:05:05.066Z"
      },
      {
        "duration": 14,
        "start_time": "2022-10-30T05:05:05.088Z"
      },
      {
        "duration": 9,
        "start_time": "2022-10-30T05:05:05.104Z"
      },
      {
        "duration": 31,
        "start_time": "2022-10-30T05:05:05.114Z"
      },
      {
        "duration": 3,
        "start_time": "2022-10-30T05:05:05.147Z"
      },
      {
        "duration": 32,
        "start_time": "2022-10-30T05:05:05.152Z"
      },
      {
        "duration": 10,
        "start_time": "2022-10-30T05:05:05.186Z"
      },
      {
        "duration": 21,
        "start_time": "2022-10-30T05:05:05.198Z"
      },
      {
        "duration": 5,
        "start_time": "2022-10-30T05:05:05.222Z"
      },
      {
        "duration": 48,
        "start_time": "2022-10-30T05:05:05.229Z"
      },
      {
        "duration": 13,
        "start_time": "2022-10-30T05:05:05.279Z"
      },
      {
        "duration": 5,
        "start_time": "2022-10-30T05:05:05.294Z"
      },
      {
        "duration": 19,
        "start_time": "2022-10-30T05:05:05.301Z"
      },
      {
        "duration": 25,
        "start_time": "2022-10-30T05:05:05.322Z"
      },
      {
        "duration": 35,
        "start_time": "2022-10-30T05:05:05.349Z"
      },
      {
        "duration": 4,
        "start_time": "2022-10-30T05:05:05.386Z"
      },
      {
        "duration": 14,
        "start_time": "2022-10-30T05:05:05.392Z"
      },
      {
        "duration": 5,
        "start_time": "2022-10-30T05:05:05.408Z"
      },
      {
        "duration": 4,
        "start_time": "2022-10-30T05:05:05.415Z"
      },
      {
        "duration": 15,
        "start_time": "2022-10-30T05:05:05.420Z"
      },
      {
        "duration": 11,
        "start_time": "2022-10-30T05:05:05.437Z"
      },
      {
        "duration": 16,
        "start_time": "2022-10-30T05:05:07.739Z"
      },
      {
        "duration": 10,
        "start_time": "2022-10-30T05:12:38.706Z"
      },
      {
        "duration": 738,
        "start_time": "2022-10-30T05:16:58.240Z"
      },
      {
        "duration": 11,
        "start_time": "2022-10-30T05:17:41.425Z"
      },
      {
        "duration": 12,
        "start_time": "2022-10-30T05:17:58.878Z"
      },
      {
        "duration": 13,
        "start_time": "2022-10-30T05:20:51.509Z"
      },
      {
        "duration": 13,
        "start_time": "2022-10-30T05:21:53.059Z"
      },
      {
        "duration": 13,
        "start_time": "2022-10-30T05:26:08.515Z"
      },
      {
        "duration": 49,
        "start_time": "2022-10-30T10:36:22.965Z"
      },
      {
        "duration": 736,
        "start_time": "2022-10-30T10:36:30.215Z"
      },
      {
        "duration": 26,
        "start_time": "2022-10-30T10:36:30.953Z"
      },
      {
        "duration": 20,
        "start_time": "2022-10-30T10:36:30.980Z"
      },
      {
        "duration": 12,
        "start_time": "2022-10-30T10:36:31.001Z"
      },
      {
        "duration": 47,
        "start_time": "2022-10-30T10:36:31.015Z"
      },
      {
        "duration": 3,
        "start_time": "2022-10-30T10:36:31.064Z"
      },
      {
        "duration": 25,
        "start_time": "2022-10-30T10:36:31.069Z"
      },
      {
        "duration": 19,
        "start_time": "2022-10-30T10:36:31.095Z"
      },
      {
        "duration": 9,
        "start_time": "2022-10-30T10:36:31.116Z"
      },
      {
        "duration": 4,
        "start_time": "2022-10-30T10:36:31.126Z"
      },
      {
        "duration": 35,
        "start_time": "2022-10-30T10:36:31.132Z"
      },
      {
        "duration": 10,
        "start_time": "2022-10-30T10:36:31.168Z"
      },
      {
        "duration": 4,
        "start_time": "2022-10-30T10:36:31.179Z"
      },
      {
        "duration": 14,
        "start_time": "2022-10-30T10:36:31.185Z"
      },
      {
        "duration": 17,
        "start_time": "2022-10-30T10:36:31.200Z"
      },
      {
        "duration": 17,
        "start_time": "2022-10-30T10:36:31.238Z"
      },
      {
        "duration": 3,
        "start_time": "2022-10-30T10:36:31.256Z"
      },
      {
        "duration": 15,
        "start_time": "2022-10-30T10:36:31.261Z"
      },
      {
        "duration": 6,
        "start_time": "2022-10-30T10:36:31.288Z"
      },
      {
        "duration": 8,
        "start_time": "2022-10-30T10:36:31.296Z"
      },
      {
        "duration": 11,
        "start_time": "2022-10-30T10:36:31.306Z"
      },
      {
        "duration": 13,
        "start_time": "2022-10-30T10:36:35.280Z"
      },
      {
        "duration": 12,
        "start_time": "2022-10-30T10:37:13.906Z"
      },
      {
        "duration": 37,
        "start_time": "2022-10-30T10:39:23.677Z"
      },
      {
        "duration": 15,
        "start_time": "2022-10-30T10:39:38.406Z"
      },
      {
        "duration": 73,
        "start_time": "2022-10-30T10:40:53.121Z"
      },
      {
        "duration": 66,
        "start_time": "2022-10-30T10:42:04.745Z"
      },
      {
        "duration": 50,
        "start_time": "2022-10-30T10:42:50.377Z"
      },
      {
        "duration": 46,
        "start_time": "2022-10-30T10:43:14.710Z"
      },
      {
        "duration": 532,
        "start_time": "2022-10-30T10:43:21.559Z"
      },
      {
        "duration": 143,
        "start_time": "2022-10-30T10:43:40.357Z"
      },
      {
        "duration": 549,
        "start_time": "2022-10-30T10:47:11.216Z"
      },
      {
        "duration": 246,
        "start_time": "2022-10-30T10:47:28.554Z"
      },
      {
        "duration": 305,
        "start_time": "2022-10-30T10:48:05.021Z"
      },
      {
        "duration": 315,
        "start_time": "2022-10-30T11:46:15.680Z"
      },
      {
        "duration": 9,
        "start_time": "2022-10-30T11:46:38.464Z"
      },
      {
        "duration": 12,
        "start_time": "2022-10-30T11:47:26.889Z"
      },
      {
        "duration": 286,
        "start_time": "2022-10-30T11:47:54.376Z"
      },
      {
        "duration": 242,
        "start_time": "2022-10-30T11:57:52.636Z"
      },
      {
        "duration": 251,
        "start_time": "2022-10-30T12:12:04.606Z"
      },
      {
        "duration": 8,
        "start_time": "2022-10-30T12:22:00.479Z"
      },
      {
        "duration": 8,
        "start_time": "2022-10-30T12:22:05.434Z"
      },
      {
        "duration": 9,
        "start_time": "2022-10-30T12:23:47.813Z"
      },
      {
        "duration": 12,
        "start_time": "2022-10-30T12:24:50.842Z"
      },
      {
        "duration": 12,
        "start_time": "2022-10-30T12:25:51.240Z"
      },
      {
        "duration": 15,
        "start_time": "2022-10-30T12:26:28.616Z"
      },
      {
        "duration": 12,
        "start_time": "2022-10-30T12:26:34.731Z"
      },
      {
        "duration": 12,
        "start_time": "2022-10-30T12:26:58.300Z"
      },
      {
        "duration": 14,
        "start_time": "2022-10-30T12:28:56.163Z"
      },
      {
        "duration": 14,
        "start_time": "2022-10-30T12:29:15.783Z"
      },
      {
        "duration": 14,
        "start_time": "2022-10-30T12:29:25.806Z"
      },
      {
        "duration": 236,
        "start_time": "2022-10-30T12:32:51.322Z"
      },
      {
        "duration": 337,
        "start_time": "2022-10-30T12:33:00.274Z"
      },
      {
        "duration": 228,
        "start_time": "2022-10-30T12:33:06.330Z"
      },
      {
        "duration": 237,
        "start_time": "2022-10-30T12:33:14.463Z"
      },
      {
        "duration": 238,
        "start_time": "2022-10-30T12:33:35.925Z"
      },
      {
        "duration": 247,
        "start_time": "2022-10-30T12:34:16.779Z"
      },
      {
        "duration": 356,
        "start_time": "2022-10-30T12:34:26.568Z"
      },
      {
        "duration": 233,
        "start_time": "2022-10-30T12:45:57.707Z"
      },
      {
        "duration": 248,
        "start_time": "2022-10-30T12:46:15.715Z"
      },
      {
        "duration": 237,
        "start_time": "2022-10-30T12:47:34.903Z"
      },
      {
        "duration": 228,
        "start_time": "2022-10-30T12:47:53.233Z"
      },
      {
        "duration": 263,
        "start_time": "2022-10-30T12:48:07.737Z"
      },
      {
        "duration": 341,
        "start_time": "2022-10-30T12:49:13.438Z"
      },
      {
        "duration": 234,
        "start_time": "2022-10-30T12:49:43.698Z"
      },
      {
        "duration": 3,
        "start_time": "2022-10-30T12:49:59.431Z"
      },
      {
        "duration": 4,
        "start_time": "2022-10-30T13:05:06.263Z"
      },
      {
        "duration": 18,
        "start_time": "2022-10-30T13:07:03.171Z"
      },
      {
        "duration": 11,
        "start_time": "2022-10-30T13:07:30.469Z"
      },
      {
        "duration": 9,
        "start_time": "2022-10-30T13:07:34.283Z"
      },
      {
        "duration": 9,
        "start_time": "2022-10-30T13:07:39.531Z"
      },
      {
        "duration": 8,
        "start_time": "2022-10-30T13:11:41.633Z"
      },
      {
        "duration": 13,
        "start_time": "2022-10-30T13:11:47.079Z"
      },
      {
        "duration": 8,
        "start_time": "2022-10-30T13:23:53.592Z"
      },
      {
        "duration": 11,
        "start_time": "2022-10-30T13:29:23.966Z"
      },
      {
        "duration": 11,
        "start_time": "2022-10-30T13:30:07.823Z"
      },
      {
        "duration": 6,
        "start_time": "2022-10-30T13:30:43.516Z"
      },
      {
        "duration": 16,
        "start_time": "2022-10-30T13:32:05.496Z"
      },
      {
        "duration": 13,
        "start_time": "2022-10-30T13:32:12.969Z"
      },
      {
        "duration": 6,
        "start_time": "2022-10-30T13:33:48.715Z"
      },
      {
        "duration": 44,
        "start_time": "2022-10-30T13:34:34.709Z"
      },
      {
        "duration": 13,
        "start_time": "2022-10-30T13:35:17.796Z"
      },
      {
        "duration": 16,
        "start_time": "2022-10-30T13:35:41.095Z"
      },
      {
        "duration": 15,
        "start_time": "2022-10-30T13:35:47.616Z"
      },
      {
        "duration": 6,
        "start_time": "2022-10-30T13:35:51.086Z"
      },
      {
        "duration": 7,
        "start_time": "2022-10-30T13:36:13.848Z"
      },
      {
        "duration": 7,
        "start_time": "2022-10-30T13:44:25.384Z"
      },
      {
        "duration": 7,
        "start_time": "2022-10-30T13:56:02.487Z"
      },
      {
        "duration": 53,
        "start_time": "2022-10-30T13:57:43.650Z"
      },
      {
        "duration": 59,
        "start_time": "2022-10-30T13:58:04.067Z"
      },
      {
        "duration": 6,
        "start_time": "2022-10-30T13:58:36.936Z"
      },
      {
        "duration": 9,
        "start_time": "2022-10-30T13:58:50.376Z"
      },
      {
        "duration": 49,
        "start_time": "2022-10-30T13:58:52.927Z"
      },
      {
        "duration": 8,
        "start_time": "2022-10-30T13:59:09.594Z"
      },
      {
        "duration": 9,
        "start_time": "2022-10-30T14:14:24.017Z"
      },
      {
        "duration": 8,
        "start_time": "2022-10-30T14:14:45.491Z"
      },
      {
        "duration": 16,
        "start_time": "2022-10-30T14:17:03.712Z"
      },
      {
        "duration": 17,
        "start_time": "2022-10-30T14:17:07.186Z"
      },
      {
        "duration": 14,
        "start_time": "2022-10-30T14:17:23.351Z"
      },
      {
        "duration": 10,
        "start_time": "2022-10-30T14:17:31.455Z"
      },
      {
        "duration": 11,
        "start_time": "2022-10-30T14:17:54.695Z"
      },
      {
        "duration": 22,
        "start_time": "2022-10-30T14:18:04.562Z"
      },
      {
        "duration": 11,
        "start_time": "2022-10-30T14:18:37.852Z"
      },
      {
        "duration": 11,
        "start_time": "2022-10-30T14:19:45.901Z"
      },
      {
        "duration": 14,
        "start_time": "2022-10-30T14:21:01.581Z"
      },
      {
        "duration": 74,
        "start_time": "2022-10-30T14:21:13.405Z"
      },
      {
        "duration": 16,
        "start_time": "2022-10-30T14:21:13.482Z"
      },
      {
        "duration": 17,
        "start_time": "2022-10-30T14:21:13.500Z"
      },
      {
        "duration": 26,
        "start_time": "2022-10-30T14:21:13.518Z"
      },
      {
        "duration": 34,
        "start_time": "2022-10-30T14:21:13.545Z"
      },
      {
        "duration": 3,
        "start_time": "2022-10-30T14:21:13.581Z"
      },
      {
        "duration": 12,
        "start_time": "2022-10-30T14:21:13.586Z"
      },
      {
        "duration": 4,
        "start_time": "2022-10-30T14:21:13.599Z"
      },
      {
        "duration": 7,
        "start_time": "2022-10-30T14:21:13.604Z"
      },
      {
        "duration": 30,
        "start_time": "2022-10-30T14:21:13.612Z"
      },
      {
        "duration": 32,
        "start_time": "2022-10-30T14:21:13.652Z"
      },
      {
        "duration": 9,
        "start_time": "2022-10-30T14:21:13.686Z"
      },
      {
        "duration": 3,
        "start_time": "2022-10-30T14:21:13.696Z"
      },
      {
        "duration": 13,
        "start_time": "2022-10-30T14:21:13.700Z"
      },
      {
        "duration": 36,
        "start_time": "2022-10-30T14:21:13.715Z"
      },
      {
        "duration": 15,
        "start_time": "2022-10-30T14:21:13.753Z"
      },
      {
        "duration": 4,
        "start_time": "2022-10-30T14:21:13.786Z"
      },
      {
        "duration": 11,
        "start_time": "2022-10-30T14:21:13.791Z"
      },
      {
        "duration": 6,
        "start_time": "2022-10-30T14:21:13.803Z"
      },
      {
        "duration": 4,
        "start_time": "2022-10-30T14:21:13.810Z"
      },
      {
        "duration": 26,
        "start_time": "2022-10-30T14:21:13.815Z"
      },
      {
        "duration": 231,
        "start_time": "2022-10-30T14:21:13.905Z"
      },
      {
        "duration": 13,
        "start_time": "2022-10-30T14:21:14.137Z"
      },
      {
        "duration": 4,
        "start_time": "2022-10-30T14:21:14.151Z"
      },
      {
        "duration": 8,
        "start_time": "2022-10-30T14:21:14.157Z"
      },
      {
        "duration": 8,
        "start_time": "2022-10-30T14:21:14.167Z"
      },
      {
        "duration": 15,
        "start_time": "2022-10-30T14:21:14.176Z"
      },
      {
        "duration": 9,
        "start_time": "2022-10-30T14:21:14.193Z"
      },
      {
        "duration": 13,
        "start_time": "2022-10-30T14:21:15.133Z"
      },
      {
        "duration": 10,
        "start_time": "2022-10-30T14:21:42.768Z"
      },
      {
        "duration": 13,
        "start_time": "2022-10-30T14:24:59.007Z"
      },
      {
        "duration": 15,
        "start_time": "2022-10-30T14:28:01.094Z"
      },
      {
        "duration": 11,
        "start_time": "2022-10-30T14:28:27.380Z"
      },
      {
        "duration": 8,
        "start_time": "2022-10-30T14:28:37.564Z"
      },
      {
        "duration": 73,
        "start_time": "2022-10-30T14:28:49.680Z"
      },
      {
        "duration": 16,
        "start_time": "2022-10-30T14:28:49.755Z"
      },
      {
        "duration": 19,
        "start_time": "2022-10-30T14:28:49.773Z"
      },
      {
        "duration": 10,
        "start_time": "2022-10-30T14:28:49.794Z"
      },
      {
        "duration": 57,
        "start_time": "2022-10-30T14:28:49.807Z"
      },
      {
        "duration": 4,
        "start_time": "2022-10-30T14:28:49.865Z"
      },
      {
        "duration": 12,
        "start_time": "2022-10-30T14:28:49.870Z"
      },
      {
        "duration": 4,
        "start_time": "2022-10-30T14:28:49.884Z"
      },
      {
        "duration": 9,
        "start_time": "2022-10-30T14:28:49.890Z"
      },
      {
        "duration": 4,
        "start_time": "2022-10-30T14:28:49.901Z"
      },
      {
        "duration": 56,
        "start_time": "2022-10-30T14:28:49.910Z"
      },
      {
        "duration": 11,
        "start_time": "2022-10-30T14:28:49.969Z"
      },
      {
        "duration": 5,
        "start_time": "2022-10-30T14:28:49.981Z"
      },
      {
        "duration": 12,
        "start_time": "2022-10-30T14:28:49.988Z"
      },
      {
        "duration": 51,
        "start_time": "2022-10-30T14:28:50.002Z"
      },
      {
        "duration": 17,
        "start_time": "2022-10-30T14:28:50.055Z"
      },
      {
        "duration": 4,
        "start_time": "2022-10-30T14:28:50.075Z"
      },
      {
        "duration": 13,
        "start_time": "2022-10-30T14:28:50.080Z"
      },
      {
        "duration": 8,
        "start_time": "2022-10-30T14:28:50.095Z"
      },
      {
        "duration": 36,
        "start_time": "2022-10-30T14:28:50.104Z"
      },
      {
        "duration": 10,
        "start_time": "2022-10-30T14:28:50.141Z"
      },
      {
        "duration": 253,
        "start_time": "2022-10-30T14:28:50.153Z"
      },
      {
        "duration": 27,
        "start_time": "2022-10-30T14:28:50.408Z"
      },
      {
        "duration": 7,
        "start_time": "2022-10-30T14:28:50.437Z"
      },
      {
        "duration": 8,
        "start_time": "2022-10-30T14:28:50.446Z"
      },
      {
        "duration": 9,
        "start_time": "2022-10-30T14:28:50.456Z"
      },
      {
        "duration": 12,
        "start_time": "2022-10-30T14:28:52.366Z"
      },
      {
        "duration": 8,
        "start_time": "2022-10-30T14:29:13.980Z"
      },
      {
        "duration": 14,
        "start_time": "2022-10-30T14:29:26.558Z"
      },
      {
        "duration": 8,
        "start_time": "2022-10-30T14:29:57.187Z"
      },
      {
        "duration": 12,
        "start_time": "2022-10-30T14:30:09.499Z"
      },
      {
        "duration": 9,
        "start_time": "2022-10-30T14:30:55.700Z"
      },
      {
        "duration": 13,
        "start_time": "2022-10-30T14:31:07.049Z"
      },
      {
        "duration": 173,
        "start_time": "2022-10-30T14:31:10.402Z"
      },
      {
        "duration": 16,
        "start_time": "2022-10-30T14:31:16.343Z"
      },
      {
        "duration": 43,
        "start_time": "2022-10-30T14:32:15.488Z"
      },
      {
        "duration": 45,
        "start_time": "2022-10-30T14:32:33.507Z"
      },
      {
        "duration": 57,
        "start_time": "2022-10-30T14:32:37.016Z"
      },
      {
        "duration": 122,
        "start_time": "2022-10-30T14:32:50.034Z"
      },
      {
        "duration": 4,
        "start_time": "2022-10-30T14:32:57.717Z"
      },
      {
        "duration": 12,
        "start_time": "2022-10-30T14:33:07.752Z"
      },
      {
        "duration": 14,
        "start_time": "2022-10-30T14:33:51.318Z"
      },
      {
        "duration": 14,
        "start_time": "2022-10-30T14:34:12.259Z"
      },
      {
        "duration": 21,
        "start_time": "2022-10-30T14:36:00.527Z"
      },
      {
        "duration": 13,
        "start_time": "2022-10-30T14:36:10.167Z"
      },
      {
        "duration": 13,
        "start_time": "2022-10-30T14:36:18.267Z"
      },
      {
        "duration": 13,
        "start_time": "2022-10-30T14:36:26.098Z"
      },
      {
        "duration": 15,
        "start_time": "2022-10-30T14:38:22.012Z"
      },
      {
        "duration": 13,
        "start_time": "2022-10-30T14:38:34.194Z"
      },
      {
        "duration": 14,
        "start_time": "2022-10-30T14:38:38.291Z"
      },
      {
        "duration": 12,
        "start_time": "2022-10-30T14:39:01.188Z"
      },
      {
        "duration": 13,
        "start_time": "2022-10-30T14:39:16.303Z"
      },
      {
        "duration": 789,
        "start_time": "2022-10-30T14:39:40.895Z"
      },
      {
        "duration": 12,
        "start_time": "2022-10-30T14:39:45.939Z"
      },
      {
        "duration": 5,
        "start_time": "2022-10-30T14:42:55.332Z"
      },
      {
        "duration": 15,
        "start_time": "2022-10-30T14:43:15.733Z"
      },
      {
        "duration": 25,
        "start_time": "2022-10-30T14:43:31.677Z"
      },
      {
        "duration": 17,
        "start_time": "2022-10-30T14:49:41.681Z"
      },
      {
        "duration": 16,
        "start_time": "2022-10-30T14:51:55.073Z"
      },
      {
        "duration": 17,
        "start_time": "2022-10-30T14:52:56.627Z"
      },
      {
        "duration": 12,
        "start_time": "2022-10-30T14:54:34.306Z"
      },
      {
        "duration": 13,
        "start_time": "2022-10-30T14:54:54.901Z"
      },
      {
        "duration": 806,
        "start_time": "2022-10-30T14:55:12.135Z"
      },
      {
        "duration": 11,
        "start_time": "2022-10-30T14:55:16.649Z"
      },
      {
        "duration": 15,
        "start_time": "2022-10-30T14:55:59.548Z"
      },
      {
        "duration": 1300,
        "start_time": "2022-10-30T15:01:10.711Z"
      },
      {
        "duration": 7,
        "start_time": "2022-10-30T15:01:43.629Z"
      },
      {
        "duration": 12,
        "start_time": "2022-10-30T15:01:46.868Z"
      },
      {
        "duration": 966,
        "start_time": "2022-10-30T15:01:54.642Z"
      },
      {
        "duration": 0,
        "start_time": "2022-10-30T15:02:09.139Z"
      },
      {
        "duration": 832,
        "start_time": "2022-10-30T15:02:10.179Z"
      },
      {
        "duration": 12,
        "start_time": "2022-10-30T15:02:21.666Z"
      },
      {
        "duration": 1056,
        "start_time": "2022-10-30T15:03:01.071Z"
      },
      {
        "duration": 768,
        "start_time": "2022-10-30T15:03:12.865Z"
      },
      {
        "duration": 11,
        "start_time": "2022-10-30T15:03:28.152Z"
      },
      {
        "duration": 13,
        "start_time": "2022-10-30T15:04:10.972Z"
      },
      {
        "duration": 15,
        "start_time": "2022-10-30T15:06:11.995Z"
      },
      {
        "duration": 19,
        "start_time": "2022-10-30T15:08:16.460Z"
      },
      {
        "duration": 12,
        "start_time": "2022-10-30T15:08:20.926Z"
      },
      {
        "duration": 13,
        "start_time": "2022-10-30T15:09:24.789Z"
      },
      {
        "duration": 12,
        "start_time": "2022-10-30T16:55:15.400Z"
      },
      {
        "duration": 63,
        "start_time": "2022-10-30T16:55:39.461Z"
      },
      {
        "duration": 53,
        "start_time": "2022-10-30T16:56:16.808Z"
      },
      {
        "duration": 931,
        "start_time": "2022-10-30T16:56:26.520Z"
      },
      {
        "duration": 13,
        "start_time": "2022-10-30T16:56:44.203Z"
      },
      {
        "duration": 103,
        "start_time": "2022-10-30T16:56:51.725Z"
      },
      {
        "duration": 24,
        "start_time": "2022-10-30T16:56:51.831Z"
      },
      {
        "duration": 14,
        "start_time": "2022-10-30T16:56:51.856Z"
      },
      {
        "duration": 12,
        "start_time": "2022-10-30T16:56:51.872Z"
      },
      {
        "duration": 53,
        "start_time": "2022-10-30T16:56:51.885Z"
      },
      {
        "duration": 3,
        "start_time": "2022-10-30T16:56:51.940Z"
      },
      {
        "duration": 11,
        "start_time": "2022-10-30T16:56:51.945Z"
      },
      {
        "duration": 5,
        "start_time": "2022-10-30T16:56:51.958Z"
      },
      {
        "duration": 12,
        "start_time": "2022-10-30T16:56:51.965Z"
      },
      {
        "duration": 6,
        "start_time": "2022-10-30T16:56:52.009Z"
      },
      {
        "duration": 34,
        "start_time": "2022-10-30T16:56:52.019Z"
      },
      {
        "duration": 15,
        "start_time": "2022-10-30T16:56:52.055Z"
      },
      {
        "duration": 12,
        "start_time": "2022-10-30T16:56:52.072Z"
      },
      {
        "duration": 42,
        "start_time": "2022-10-30T16:56:52.086Z"
      },
      {
        "duration": 31,
        "start_time": "2022-10-30T16:56:52.130Z"
      },
      {
        "duration": 27,
        "start_time": "2022-10-30T16:56:52.163Z"
      },
      {
        "duration": 18,
        "start_time": "2022-10-30T16:56:52.192Z"
      },
      {
        "duration": 42,
        "start_time": "2022-10-30T16:56:52.212Z"
      },
      {
        "duration": 9,
        "start_time": "2022-10-30T16:56:52.255Z"
      },
      {
        "duration": 4,
        "start_time": "2022-10-30T16:56:52.266Z"
      },
      {
        "duration": 13,
        "start_time": "2022-10-30T16:56:52.272Z"
      },
      {
        "duration": 13,
        "start_time": "2022-10-30T16:56:52.287Z"
      },
      {
        "duration": 0,
        "start_time": "2022-10-30T16:56:52.302Z"
      },
      {
        "duration": 0,
        "start_time": "2022-10-30T16:56:52.303Z"
      },
      {
        "duration": 0,
        "start_time": "2022-10-30T16:56:52.304Z"
      },
      {
        "duration": 15,
        "start_time": "2022-10-30T16:57:08.725Z"
      },
      {
        "duration": 9,
        "start_time": "2022-10-30T16:57:57.311Z"
      },
      {
        "duration": 9,
        "start_time": "2022-10-30T16:58:18.342Z"
      },
      {
        "duration": 6,
        "start_time": "2022-10-30T16:59:40.476Z"
      },
      {
        "duration": 6,
        "start_time": "2022-10-30T17:02:06.268Z"
      },
      {
        "duration": 11,
        "start_time": "2022-10-30T17:02:18.030Z"
      },
      {
        "duration": 10,
        "start_time": "2022-10-30T17:03:07.706Z"
      },
      {
        "duration": 10,
        "start_time": "2022-10-30T17:03:13.345Z"
      },
      {
        "duration": 9,
        "start_time": "2022-10-30T17:03:16.320Z"
      },
      {
        "duration": 67,
        "start_time": "2022-10-30T17:03:22.827Z"
      },
      {
        "duration": 14,
        "start_time": "2022-10-30T17:03:22.896Z"
      },
      {
        "duration": 16,
        "start_time": "2022-10-30T17:03:22.911Z"
      },
      {
        "duration": 9,
        "start_time": "2022-10-30T17:03:22.928Z"
      },
      {
        "duration": 32,
        "start_time": "2022-10-30T17:03:22.940Z"
      },
      {
        "duration": 3,
        "start_time": "2022-10-30T17:03:22.974Z"
      },
      {
        "duration": 32,
        "start_time": "2022-10-30T17:03:22.978Z"
      },
      {
        "duration": 5,
        "start_time": "2022-10-30T17:03:23.011Z"
      },
      {
        "duration": 10,
        "start_time": "2022-10-30T17:03:23.017Z"
      },
      {
        "duration": 19,
        "start_time": "2022-10-30T17:03:23.028Z"
      },
      {
        "duration": 36,
        "start_time": "2022-10-30T17:03:23.048Z"
      },
      {
        "duration": 9,
        "start_time": "2022-10-30T17:03:23.085Z"
      },
      {
        "duration": 13,
        "start_time": "2022-10-30T17:03:23.096Z"
      },
      {
        "duration": 10,
        "start_time": "2022-10-30T17:03:23.111Z"
      },
      {
        "duration": 21,
        "start_time": "2022-10-30T17:03:23.123Z"
      },
      {
        "duration": 17,
        "start_time": "2022-10-30T17:03:23.145Z"
      },
      {
        "duration": 3,
        "start_time": "2022-10-30T17:03:23.164Z"
      },
      {
        "duration": 12,
        "start_time": "2022-10-30T17:03:23.169Z"
      },
      {
        "duration": 30,
        "start_time": "2022-10-30T17:03:23.183Z"
      },
      {
        "duration": 18,
        "start_time": "2022-10-30T17:03:23.215Z"
      },
      {
        "duration": 15,
        "start_time": "2022-10-30T17:03:23.234Z"
      },
      {
        "duration": 8,
        "start_time": "2022-10-30T17:03:23.251Z"
      },
      {
        "duration": 0,
        "start_time": "2022-10-30T17:03:23.261Z"
      },
      {
        "duration": 0,
        "start_time": "2022-10-30T17:03:23.262Z"
      },
      {
        "duration": 0,
        "start_time": "2022-10-30T17:03:23.264Z"
      },
      {
        "duration": 14,
        "start_time": "2022-10-30T17:03:24.595Z"
      },
      {
        "duration": 9,
        "start_time": "2022-10-30T17:03:27.470Z"
      },
      {
        "duration": 17,
        "start_time": "2022-10-30T17:03:27.487Z"
      },
      {
        "duration": 11,
        "start_time": "2022-10-30T17:03:27.505Z"
      },
      {
        "duration": 15,
        "start_time": "2022-10-30T17:03:27.517Z"
      },
      {
        "duration": 9,
        "start_time": "2022-10-30T17:03:40.381Z"
      },
      {
        "duration": 8,
        "start_time": "2022-10-30T17:03:56.242Z"
      },
      {
        "duration": 14,
        "start_time": "2022-10-30T17:05:46.223Z"
      },
      {
        "duration": 8,
        "start_time": "2022-10-30T17:06:16.740Z"
      },
      {
        "duration": 68,
        "start_time": "2022-10-30T17:06:22.230Z"
      },
      {
        "duration": 14,
        "start_time": "2022-10-30T17:06:22.300Z"
      },
      {
        "duration": 14,
        "start_time": "2022-10-30T17:06:22.315Z"
      },
      {
        "duration": 30,
        "start_time": "2022-10-30T17:06:22.331Z"
      },
      {
        "duration": 33,
        "start_time": "2022-10-30T17:06:22.363Z"
      },
      {
        "duration": 4,
        "start_time": "2022-10-30T17:06:22.397Z"
      },
      {
        "duration": 13,
        "start_time": "2022-10-30T17:06:22.402Z"
      },
      {
        "duration": 54,
        "start_time": "2022-10-30T17:06:22.416Z"
      },
      {
        "duration": 12,
        "start_time": "2022-10-30T17:06:22.472Z"
      },
      {
        "duration": 6,
        "start_time": "2022-10-30T17:06:22.486Z"
      },
      {
        "duration": 40,
        "start_time": "2022-10-30T17:06:22.493Z"
      },
      {
        "duration": 10,
        "start_time": "2022-10-30T17:06:22.535Z"
      },
      {
        "duration": 9,
        "start_time": "2022-10-30T17:06:22.547Z"
      },
      {
        "duration": 17,
        "start_time": "2022-10-30T17:06:22.558Z"
      },
      {
        "duration": 41,
        "start_time": "2022-10-30T17:06:22.577Z"
      },
      {
        "duration": 20,
        "start_time": "2022-10-30T17:06:22.620Z"
      },
      {
        "duration": 4,
        "start_time": "2022-10-30T17:06:22.642Z"
      },
      {
        "duration": 16,
        "start_time": "2022-10-30T17:06:22.648Z"
      },
      {
        "duration": 11,
        "start_time": "2022-10-30T17:06:22.666Z"
      },
      {
        "duration": 9,
        "start_time": "2022-10-30T17:06:22.679Z"
      },
      {
        "duration": 32,
        "start_time": "2022-10-30T17:06:22.690Z"
      },
      {
        "duration": 13,
        "start_time": "2022-10-30T17:06:22.725Z"
      },
      {
        "duration": 0,
        "start_time": "2022-10-30T17:06:22.740Z"
      },
      {
        "duration": 0,
        "start_time": "2022-10-30T17:06:22.741Z"
      },
      {
        "duration": 8,
        "start_time": "2022-10-30T17:06:23.778Z"
      },
      {
        "duration": 12,
        "start_time": "2022-10-30T17:06:43.212Z"
      },
      {
        "duration": 7,
        "start_time": "2022-10-30T17:06:46.553Z"
      },
      {
        "duration": 5,
        "start_time": "2022-10-30T17:29:32.476Z"
      },
      {
        "duration": 3,
        "start_time": "2022-10-30T17:31:07.170Z"
      },
      {
        "duration": 9,
        "start_time": "2022-10-30T17:33:39.721Z"
      },
      {
        "duration": 4,
        "start_time": "2022-10-30T17:33:44.538Z"
      },
      {
        "duration": 4,
        "start_time": "2022-10-30T17:34:24.170Z"
      },
      {
        "duration": 4,
        "start_time": "2022-10-30T17:35:23.482Z"
      },
      {
        "duration": 6,
        "start_time": "2022-10-30T17:36:58.327Z"
      },
      {
        "duration": 8,
        "start_time": "2022-10-30T17:37:08.296Z"
      },
      {
        "duration": 9,
        "start_time": "2022-10-30T17:38:14.336Z"
      },
      {
        "duration": 14,
        "start_time": "2022-10-30T17:39:14.113Z"
      },
      {
        "duration": 14,
        "start_time": "2022-10-30T17:39:21.386Z"
      },
      {
        "duration": 17,
        "start_time": "2022-10-30T17:39:37.238Z"
      },
      {
        "duration": 11,
        "start_time": "2022-10-30T17:39:40.435Z"
      },
      {
        "duration": 13,
        "start_time": "2022-10-30T17:40:29.307Z"
      },
      {
        "duration": 11,
        "start_time": "2022-10-30T17:41:17.135Z"
      },
      {
        "duration": 11,
        "start_time": "2022-10-30T17:42:53.654Z"
      },
      {
        "duration": 16,
        "start_time": "2022-10-30T17:47:11.956Z"
      },
      {
        "duration": 11,
        "start_time": "2022-10-30T17:47:21.594Z"
      },
      {
        "duration": 12,
        "start_time": "2022-10-30T17:49:04.851Z"
      },
      {
        "duration": 53,
        "start_time": "2022-10-30T17:50:09.953Z"
      },
      {
        "duration": 11,
        "start_time": "2022-10-30T17:50:29.239Z"
      },
      {
        "duration": 12,
        "start_time": "2022-10-30T17:51:00.641Z"
      },
      {
        "duration": 17,
        "start_time": "2022-10-30T17:51:07.879Z"
      },
      {
        "duration": 686,
        "start_time": "2022-10-30T17:57:11.812Z"
      },
      {
        "duration": 17,
        "start_time": "2022-10-30T17:57:27.634Z"
      },
      {
        "duration": 20,
        "start_time": "2022-10-30T17:57:43.063Z"
      },
      {
        "duration": 52,
        "start_time": "2022-10-30T18:00:00.419Z"
      },
      {
        "duration": 6,
        "start_time": "2022-10-30T18:00:06.615Z"
      },
      {
        "duration": 15,
        "start_time": "2022-10-30T18:00:23.727Z"
      },
      {
        "duration": 555,
        "start_time": "2022-10-30T18:00:45.943Z"
      },
      {
        "duration": 72,
        "start_time": "2022-10-30T18:01:03.646Z"
      },
      {
        "duration": 29,
        "start_time": "2022-10-30T18:01:27.987Z"
      },
      {
        "duration": 146,
        "start_time": "2022-10-30T18:01:40.848Z"
      },
      {
        "duration": 19,
        "start_time": "2022-10-30T18:02:06.574Z"
      },
      {
        "duration": 19,
        "start_time": "2022-10-30T18:02:52.413Z"
      },
      {
        "duration": 14,
        "start_time": "2022-10-30T18:03:11.116Z"
      },
      {
        "duration": 18,
        "start_time": "2022-10-30T18:07:15.275Z"
      },
      {
        "duration": 125,
        "start_time": "2022-10-30T18:07:22.206Z"
      },
      {
        "duration": 139,
        "start_time": "2022-10-30T18:08:10.529Z"
      },
      {
        "duration": 123,
        "start_time": "2022-10-30T18:08:17.477Z"
      },
      {
        "duration": 23,
        "start_time": "2022-10-30T18:08:43.299Z"
      },
      {
        "duration": 63,
        "start_time": "2022-10-30T18:09:57.695Z"
      },
      {
        "duration": 25,
        "start_time": "2022-10-30T18:10:28.980Z"
      },
      {
        "duration": 27,
        "start_time": "2022-10-30T18:12:03.931Z"
      },
      {
        "duration": 43,
        "start_time": "2022-10-30T18:12:39.204Z"
      },
      {
        "duration": 39,
        "start_time": "2022-10-30T18:12:51.714Z"
      },
      {
        "duration": 49,
        "start_time": "2022-10-30T18:12:58.425Z"
      },
      {
        "duration": 47,
        "start_time": "2022-10-30T18:13:11.152Z"
      },
      {
        "duration": 19,
        "start_time": "2022-10-30T18:14:05.743Z"
      },
      {
        "duration": 848,
        "start_time": "2022-10-30T18:14:30.206Z"
      },
      {
        "duration": 12,
        "start_time": "2022-10-30T18:14:49.683Z"
      },
      {
        "duration": 7,
        "start_time": "2022-10-30T18:30:57.495Z"
      },
      {
        "duration": 6,
        "start_time": "2022-10-30T18:31:55.737Z"
      },
      {
        "duration": 6,
        "start_time": "2022-10-30T18:32:30.885Z"
      },
      {
        "duration": 3,
        "start_time": "2022-10-30T18:49:05.780Z"
      },
      {
        "duration": 5,
        "start_time": "2022-10-30T18:49:28.159Z"
      },
      {
        "duration": 7,
        "start_time": "2022-10-30T18:49:44.105Z"
      },
      {
        "duration": 7,
        "start_time": "2022-10-30T18:49:56.687Z"
      },
      {
        "duration": 6,
        "start_time": "2022-10-30T18:50:03.404Z"
      },
      {
        "duration": 5,
        "start_time": "2022-10-30T18:50:18.213Z"
      },
      {
        "duration": 6,
        "start_time": "2022-10-30T18:50:27.796Z"
      },
      {
        "duration": 125,
        "start_time": "2022-10-30T18:51:20.826Z"
      },
      {
        "duration": 7,
        "start_time": "2022-10-30T18:51:54.144Z"
      },
      {
        "duration": 4,
        "start_time": "2022-10-30T18:55:57.448Z"
      },
      {
        "duration": 4,
        "start_time": "2022-10-30T18:57:26.223Z"
      },
      {
        "duration": 14,
        "start_time": "2022-10-30T19:02:37.886Z"
      },
      {
        "duration": 16,
        "start_time": "2022-10-30T19:03:00.144Z"
      },
      {
        "duration": 14,
        "start_time": "2022-10-30T19:05:05.164Z"
      },
      {
        "duration": 17,
        "start_time": "2022-10-30T19:09:59.895Z"
      },
      {
        "duration": 14,
        "start_time": "2022-10-30T19:10:53.966Z"
      },
      {
        "duration": 4,
        "start_time": "2022-10-30T19:11:11.852Z"
      },
      {
        "duration": 4,
        "start_time": "2022-10-30T19:11:14.723Z"
      },
      {
        "duration": 15,
        "start_time": "2022-10-30T19:11:38.297Z"
      },
      {
        "duration": 712,
        "start_time": "2022-10-30T19:11:57.666Z"
      },
      {
        "duration": 51,
        "start_time": "2022-10-30T19:12:13.454Z"
      },
      {
        "duration": 39,
        "start_time": "2022-10-30T19:12:24.108Z"
      },
      {
        "duration": 53,
        "start_time": "2022-10-30T19:12:33.694Z"
      },
      {
        "duration": 41,
        "start_time": "2022-10-30T19:12:37.054Z"
      },
      {
        "duration": 5,
        "start_time": "2022-10-30T19:13:05.709Z"
      },
      {
        "duration": 7,
        "start_time": "2022-10-30T19:13:32.147Z"
      },
      {
        "duration": 25,
        "start_time": "2022-10-30T19:13:44.121Z"
      },
      {
        "duration": 8,
        "start_time": "2022-10-30T19:13:59.057Z"
      },
      {
        "duration": 10,
        "start_time": "2022-10-30T19:14:07.270Z"
      },
      {
        "duration": 10,
        "start_time": "2022-10-30T19:14:09.969Z"
      },
      {
        "duration": 10,
        "start_time": "2022-10-30T19:14:15.674Z"
      },
      {
        "duration": 12,
        "start_time": "2022-10-30T19:14:20.077Z"
      },
      {
        "duration": 50,
        "start_time": "2022-10-30T19:15:25.084Z"
      },
      {
        "duration": 284,
        "start_time": "2022-10-30T19:31:09.367Z"
      },
      {
        "duration": 3,
        "start_time": "2022-10-30T19:31:14.910Z"
      },
      {
        "duration": 711,
        "start_time": "2022-10-31T06:51:48.375Z"
      },
      {
        "duration": 25,
        "start_time": "2022-10-31T06:51:49.088Z"
      },
      {
        "duration": 21,
        "start_time": "2022-10-31T06:51:49.116Z"
      },
      {
        "duration": 24,
        "start_time": "2022-10-31T06:51:49.139Z"
      },
      {
        "duration": 52,
        "start_time": "2022-10-31T06:51:49.165Z"
      },
      {
        "duration": 4,
        "start_time": "2022-10-31T06:51:49.219Z"
      },
      {
        "duration": 34,
        "start_time": "2022-10-31T06:51:49.225Z"
      },
      {
        "duration": 11,
        "start_time": "2022-10-31T06:51:49.261Z"
      },
      {
        "duration": 20,
        "start_time": "2022-10-31T06:51:49.274Z"
      },
      {
        "duration": 9,
        "start_time": "2022-10-31T06:51:49.296Z"
      },
      {
        "duration": 43,
        "start_time": "2022-10-31T06:51:49.307Z"
      },
      {
        "duration": 11,
        "start_time": "2022-10-31T06:51:49.352Z"
      },
      {
        "duration": 15,
        "start_time": "2022-10-31T06:51:49.364Z"
      },
      {
        "duration": 23,
        "start_time": "2022-10-31T06:51:49.383Z"
      },
      {
        "duration": 28,
        "start_time": "2022-10-31T06:51:49.407Z"
      },
      {
        "duration": 33,
        "start_time": "2022-10-31T06:51:49.436Z"
      },
      {
        "duration": 3,
        "start_time": "2022-10-31T06:51:49.470Z"
      },
      {
        "duration": 25,
        "start_time": "2022-10-31T06:51:49.475Z"
      },
      {
        "duration": 22,
        "start_time": "2022-10-31T06:51:49.502Z"
      },
      {
        "duration": 25,
        "start_time": "2022-10-31T06:51:49.525Z"
      },
      {
        "duration": 25,
        "start_time": "2022-10-31T06:51:49.551Z"
      },
      {
        "duration": 85,
        "start_time": "2022-10-31T06:51:49.577Z"
      },
      {
        "duration": 0,
        "start_time": "2022-10-31T06:51:49.664Z"
      },
      {
        "duration": 0,
        "start_time": "2022-10-31T06:51:49.665Z"
      },
      {
        "duration": 0,
        "start_time": "2022-10-31T06:51:49.666Z"
      },
      {
        "duration": 0,
        "start_time": "2022-10-31T06:51:49.667Z"
      },
      {
        "duration": 0,
        "start_time": "2022-10-31T06:51:49.668Z"
      },
      {
        "duration": 0,
        "start_time": "2022-10-31T06:51:49.669Z"
      },
      {
        "duration": 0,
        "start_time": "2022-10-31T06:51:49.670Z"
      },
      {
        "duration": 0,
        "start_time": "2022-10-31T06:51:49.671Z"
      },
      {
        "duration": 0,
        "start_time": "2022-10-31T06:51:49.672Z"
      },
      {
        "duration": 0,
        "start_time": "2022-10-31T06:51:49.673Z"
      },
      {
        "duration": 1010,
        "start_time": "2022-10-31T06:52:36.454Z"
      },
      {
        "duration": 1212,
        "start_time": "2022-10-31T06:52:41.197Z"
      },
      {
        "duration": 18,
        "start_time": "2022-10-31T06:52:42.411Z"
      },
      {
        "duration": 24,
        "start_time": "2022-10-31T06:52:42.431Z"
      },
      {
        "duration": 24,
        "start_time": "2022-10-31T06:52:42.457Z"
      },
      {
        "duration": 48,
        "start_time": "2022-10-31T06:52:42.482Z"
      },
      {
        "duration": 4,
        "start_time": "2022-10-31T06:52:42.532Z"
      },
      {
        "duration": 29,
        "start_time": "2022-10-31T06:52:42.539Z"
      },
      {
        "duration": 26,
        "start_time": "2022-10-31T06:52:42.570Z"
      },
      {
        "duration": 38,
        "start_time": "2022-10-31T06:52:42.598Z"
      },
      {
        "duration": 11,
        "start_time": "2022-10-31T06:52:42.639Z"
      },
      {
        "duration": 47,
        "start_time": "2022-10-31T06:52:42.651Z"
      },
      {
        "duration": 8,
        "start_time": "2022-10-31T06:52:42.700Z"
      },
      {
        "duration": 10,
        "start_time": "2022-10-31T06:52:42.709Z"
      },
      {
        "duration": 24,
        "start_time": "2022-10-31T06:52:42.720Z"
      },
      {
        "duration": 30,
        "start_time": "2022-10-31T06:52:42.745Z"
      },
      {
        "duration": 16,
        "start_time": "2022-10-31T06:52:42.776Z"
      },
      {
        "duration": 14,
        "start_time": "2022-10-31T06:52:42.793Z"
      },
      {
        "duration": 36,
        "start_time": "2022-10-31T06:52:42.809Z"
      },
      {
        "duration": 12,
        "start_time": "2022-10-31T06:52:42.847Z"
      },
      {
        "duration": 17,
        "start_time": "2022-10-31T06:52:42.861Z"
      },
      {
        "duration": 30,
        "start_time": "2022-10-31T06:52:42.879Z"
      },
      {
        "duration": 254,
        "start_time": "2022-10-31T06:52:42.910Z"
      },
      {
        "duration": 13,
        "start_time": "2022-10-31T06:52:43.165Z"
      },
      {
        "duration": 7,
        "start_time": "2022-10-31T06:52:43.179Z"
      },
      {
        "duration": 35,
        "start_time": "2022-10-31T06:52:43.188Z"
      },
      {
        "duration": 34,
        "start_time": "2022-10-31T06:52:43.224Z"
      },
      {
        "duration": 27,
        "start_time": "2022-10-31T06:52:43.259Z"
      },
      {
        "duration": 13,
        "start_time": "2022-10-31T06:52:43.289Z"
      },
      {
        "duration": 42,
        "start_time": "2022-10-31T06:52:43.303Z"
      },
      {
        "duration": 17,
        "start_time": "2022-10-31T06:52:43.346Z"
      },
      {
        "duration": 20,
        "start_time": "2022-10-31T06:52:43.364Z"
      },
      {
        "duration": 117,
        "start_time": "2022-10-31T06:52:43.385Z"
      },
      {
        "duration": 204,
        "start_time": "2022-10-31T07:00:13.009Z"
      },
      {
        "duration": 72,
        "start_time": "2022-10-31T07:05:48.162Z"
      },
      {
        "duration": 455,
        "start_time": "2022-10-31T07:31:09.165Z"
      },
      {
        "duration": 22,
        "start_time": "2022-10-31T07:31:09.621Z"
      },
      {
        "duration": 15,
        "start_time": "2022-10-31T07:31:09.645Z"
      },
      {
        "duration": 10,
        "start_time": "2022-10-31T07:31:09.661Z"
      },
      {
        "duration": 57,
        "start_time": "2022-10-31T07:31:09.674Z"
      },
      {
        "duration": 4,
        "start_time": "2022-10-31T07:31:09.732Z"
      },
      {
        "duration": 11,
        "start_time": "2022-10-31T07:31:09.738Z"
      },
      {
        "duration": 4,
        "start_time": "2022-10-31T07:31:09.751Z"
      },
      {
        "duration": 8,
        "start_time": "2022-10-31T07:31:09.757Z"
      },
      {
        "duration": 7,
        "start_time": "2022-10-31T07:31:09.766Z"
      },
      {
        "duration": 65,
        "start_time": "2022-10-31T07:31:09.775Z"
      },
      {
        "duration": 10,
        "start_time": "2022-10-31T07:31:09.842Z"
      },
      {
        "duration": 4,
        "start_time": "2022-10-31T07:31:09.853Z"
      },
      {
        "duration": 12,
        "start_time": "2022-10-31T07:31:09.859Z"
      },
      {
        "duration": 44,
        "start_time": "2022-10-31T07:31:09.872Z"
      },
      {
        "duration": 16,
        "start_time": "2022-10-31T07:31:09.918Z"
      },
      {
        "duration": 3,
        "start_time": "2022-10-31T07:31:09.936Z"
      },
      {
        "duration": 13,
        "start_time": "2022-10-31T07:31:09.940Z"
      },
      {
        "duration": 12,
        "start_time": "2022-10-31T07:31:09.954Z"
      },
      {
        "duration": 4,
        "start_time": "2022-10-31T07:31:09.968Z"
      },
      {
        "duration": 11,
        "start_time": "2022-10-31T07:31:09.973Z"
      },
      {
        "duration": 90,
        "start_time": "2022-10-31T07:31:09.985Z"
      },
      {
        "duration": 0,
        "start_time": "2022-10-31T07:31:10.077Z"
      },
      {
        "duration": 0,
        "start_time": "2022-10-31T07:31:10.078Z"
      },
      {
        "duration": 0,
        "start_time": "2022-10-31T07:31:10.080Z"
      },
      {
        "duration": 0,
        "start_time": "2022-10-31T07:31:10.081Z"
      },
      {
        "duration": 0,
        "start_time": "2022-10-31T07:31:10.082Z"
      },
      {
        "duration": 0,
        "start_time": "2022-10-31T07:31:10.084Z"
      },
      {
        "duration": 0,
        "start_time": "2022-10-31T07:31:10.085Z"
      },
      {
        "duration": 0,
        "start_time": "2022-10-31T07:31:10.086Z"
      },
      {
        "duration": 0,
        "start_time": "2022-10-31T07:31:10.087Z"
      },
      {
        "duration": 0,
        "start_time": "2022-10-31T07:31:10.108Z"
      },
      {
        "duration": 47,
        "start_time": "2022-10-31T16:39:24.613Z"
      },
      {
        "duration": 1273,
        "start_time": "2022-10-31T16:39:45.923Z"
      },
      {
        "duration": 262,
        "start_time": "2022-10-31T16:39:56.707Z"
      },
      {
        "duration": 24,
        "start_time": "2022-10-31T16:39:56.971Z"
      },
      {
        "duration": 16,
        "start_time": "2022-10-31T16:39:56.997Z"
      },
      {
        "duration": 12,
        "start_time": "2022-10-31T16:39:57.016Z"
      },
      {
        "duration": 61,
        "start_time": "2022-10-31T16:39:57.030Z"
      },
      {
        "duration": 4,
        "start_time": "2022-10-31T16:39:57.092Z"
      },
      {
        "duration": 18,
        "start_time": "2022-10-31T16:39:57.098Z"
      },
      {
        "duration": 3,
        "start_time": "2022-10-31T16:39:57.119Z"
      },
      {
        "duration": 8,
        "start_time": "2022-10-31T16:39:57.124Z"
      },
      {
        "duration": 4,
        "start_time": "2022-10-31T16:39:57.135Z"
      },
      {
        "duration": 51,
        "start_time": "2022-10-31T16:39:57.141Z"
      },
      {
        "duration": 9,
        "start_time": "2022-10-31T16:39:57.193Z"
      },
      {
        "duration": 12,
        "start_time": "2022-10-31T16:39:57.203Z"
      },
      {
        "duration": 22,
        "start_time": "2022-10-31T16:39:57.216Z"
      },
      {
        "duration": 40,
        "start_time": "2022-10-31T16:39:57.239Z"
      },
      {
        "duration": 23,
        "start_time": "2022-10-31T16:39:57.281Z"
      },
      {
        "duration": 3,
        "start_time": "2022-10-31T16:39:57.306Z"
      },
      {
        "duration": 16,
        "start_time": "2022-10-31T16:39:57.311Z"
      },
      {
        "duration": 10,
        "start_time": "2022-10-31T16:39:57.329Z"
      },
      {
        "duration": 10,
        "start_time": "2022-10-31T16:39:57.341Z"
      },
      {
        "duration": 27,
        "start_time": "2022-10-31T16:39:57.352Z"
      },
      {
        "duration": 286,
        "start_time": "2022-10-31T16:39:58.480Z"
      },
      {
        "duration": 270,
        "start_time": "2022-10-31T16:40:28.437Z"
      },
      {
        "duration": 225,
        "start_time": "2022-10-31T16:41:46.183Z"
      },
      {
        "duration": 241,
        "start_time": "2022-10-31T16:41:49.083Z"
      },
      {
        "duration": 314,
        "start_time": "2022-10-31T16:41:53.042Z"
      },
      {
        "duration": 6,
        "start_time": "2022-10-31T16:42:06.006Z"
      },
      {
        "duration": 242,
        "start_time": "2022-10-31T16:43:01.939Z"
      },
      {
        "duration": 125,
        "start_time": "2022-10-31T16:43:05.989Z"
      },
      {
        "duration": 214,
        "start_time": "2022-10-31T16:43:12.909Z"
      },
      {
        "duration": 44,
        "start_time": "2022-10-31T16:47:19.889Z"
      },
      {
        "duration": 14,
        "start_time": "2022-10-31T16:49:21.401Z"
      },
      {
        "duration": 14,
        "start_time": "2022-10-31T16:53:52.668Z"
      },
      {
        "duration": 18,
        "start_time": "2022-10-31T16:53:55.770Z"
      },
      {
        "duration": 9,
        "start_time": "2022-10-31T16:54:07.557Z"
      },
      {
        "duration": 12,
        "start_time": "2022-10-31T16:54:14.199Z"
      },
      {
        "duration": 11,
        "start_time": "2022-10-31T16:54:18.006Z"
      },
      {
        "duration": 13,
        "start_time": "2022-10-31T16:54:20.967Z"
      },
      {
        "duration": 16,
        "start_time": "2022-10-31T16:54:28.725Z"
      },
      {
        "duration": 15,
        "start_time": "2022-10-31T16:54:35.659Z"
      },
      {
        "duration": 4,
        "start_time": "2022-10-31T16:54:42.951Z"
      },
      {
        "duration": 18,
        "start_time": "2022-10-31T16:54:48.862Z"
      },
      {
        "duration": 11,
        "start_time": "2022-10-31T16:55:09.408Z"
      },
      {
        "duration": 128,
        "start_time": "2022-10-31T17:15:56.739Z"
      },
      {
        "duration": 131,
        "start_time": "2022-10-31T17:15:58.986Z"
      },
      {
        "duration": 5,
        "start_time": "2022-10-31T17:16:11.553Z"
      },
      {
        "duration": 18,
        "start_time": "2022-10-31T17:34:04.591Z"
      },
      {
        "duration": 16,
        "start_time": "2022-10-31T17:35:43.434Z"
      },
      {
        "duration": 14,
        "start_time": "2022-10-31T17:35:54.364Z"
      },
      {
        "duration": 9,
        "start_time": "2022-10-31T17:36:47.520Z"
      },
      {
        "duration": 10,
        "start_time": "2022-10-31T17:37:27.330Z"
      },
      {
        "duration": 9,
        "start_time": "2022-10-31T17:37:47.785Z"
      },
      {
        "duration": 9,
        "start_time": "2022-10-31T17:38:18.100Z"
      },
      {
        "duration": 16,
        "start_time": "2022-10-31T17:38:40.179Z"
      },
      {
        "duration": 9,
        "start_time": "2022-10-31T17:38:54.328Z"
      },
      {
        "duration": 20,
        "start_time": "2022-10-31T17:41:03.828Z"
      },
      {
        "duration": 4,
        "start_time": "2022-10-31T17:41:21.925Z"
      },
      {
        "duration": 14,
        "start_time": "2022-10-31T17:41:33.860Z"
      },
      {
        "duration": 13,
        "start_time": "2022-10-31T17:41:50.006Z"
      },
      {
        "duration": 8,
        "start_time": "2022-10-31T17:41:54.363Z"
      },
      {
        "duration": 10,
        "start_time": "2022-10-31T17:42:00.310Z"
      },
      {
        "duration": 10,
        "start_time": "2022-10-31T17:42:56.868Z"
      },
      {
        "duration": 9,
        "start_time": "2022-10-31T17:44:34.937Z"
      },
      {
        "duration": 13,
        "start_time": "2022-10-31T17:48:53.200Z"
      },
      {
        "duration": 9,
        "start_time": "2022-10-31T17:51:17.153Z"
      },
      {
        "duration": 10,
        "start_time": "2022-10-31T17:53:40.263Z"
      },
      {
        "duration": 11,
        "start_time": "2022-10-31T17:54:10.512Z"
      },
      {
        "duration": 4,
        "start_time": "2022-10-31T17:54:14.581Z"
      },
      {
        "duration": 9,
        "start_time": "2022-10-31T17:58:52.863Z"
      },
      {
        "duration": 11,
        "start_time": "2022-10-31T17:59:08.614Z"
      },
      {
        "duration": 32,
        "start_time": "2022-10-31T18:35:00.980Z"
      },
      {
        "duration": 68,
        "start_time": "2022-10-31T18:54:53.402Z"
      },
      {
        "duration": 15,
        "start_time": "2022-10-31T18:54:53.473Z"
      },
      {
        "duration": 30,
        "start_time": "2022-10-31T18:54:53.489Z"
      },
      {
        "duration": 10,
        "start_time": "2022-10-31T18:54:53.521Z"
      },
      {
        "duration": 42,
        "start_time": "2022-10-31T18:54:53.532Z"
      },
      {
        "duration": 3,
        "start_time": "2022-10-31T18:54:53.575Z"
      },
      {
        "duration": 9,
        "start_time": "2022-10-31T18:54:53.579Z"
      },
      {
        "duration": 16,
        "start_time": "2022-10-31T18:54:53.590Z"
      },
      {
        "duration": 9,
        "start_time": "2022-10-31T18:54:53.607Z"
      },
      {
        "duration": 11,
        "start_time": "2022-10-31T18:54:53.619Z"
      },
      {
        "duration": 7,
        "start_time": "2022-10-31T18:54:53.632Z"
      },
      {
        "duration": 53,
        "start_time": "2022-10-31T18:54:53.640Z"
      },
      {
        "duration": 9,
        "start_time": "2022-10-31T18:54:53.694Z"
      },
      {
        "duration": 6,
        "start_time": "2022-10-31T18:54:53.705Z"
      },
      {
        "duration": 16,
        "start_time": "2022-10-31T18:54:53.712Z"
      },
      {
        "duration": 21,
        "start_time": "2022-10-31T18:54:53.730Z"
      },
      {
        "duration": 34,
        "start_time": "2022-10-31T18:54:53.753Z"
      },
      {
        "duration": 4,
        "start_time": "2022-10-31T18:54:53.788Z"
      },
      {
        "duration": 17,
        "start_time": "2022-10-31T18:54:53.794Z"
      },
      {
        "duration": 10,
        "start_time": "2022-10-31T18:54:53.812Z"
      },
      {
        "duration": 18,
        "start_time": "2022-10-31T18:54:53.823Z"
      },
      {
        "duration": 32,
        "start_time": "2022-10-31T18:54:53.842Z"
      },
      {
        "duration": 129,
        "start_time": "2022-10-31T18:54:53.875Z"
      },
      {
        "duration": 11,
        "start_time": "2022-10-31T18:54:54.005Z"
      },
      {
        "duration": 49,
        "start_time": "2022-10-31T18:54:54.017Z"
      },
      {
        "duration": 17,
        "start_time": "2022-10-31T18:54:54.068Z"
      },
      {
        "duration": 17,
        "start_time": "2022-10-31T18:54:54.087Z"
      },
      {
        "duration": 30,
        "start_time": "2022-10-31T18:54:54.107Z"
      },
      {
        "duration": 27,
        "start_time": "2022-10-31T18:54:54.139Z"
      },
      {
        "duration": 16,
        "start_time": "2022-10-31T18:54:54.167Z"
      },
      {
        "duration": 15,
        "start_time": "2022-10-31T18:54:54.185Z"
      },
      {
        "duration": 24,
        "start_time": "2022-10-31T18:54:54.202Z"
      },
      {
        "duration": 11,
        "start_time": "2022-10-31T18:54:54.227Z"
      },
      {
        "duration": 548,
        "start_time": "2022-10-31T19:47:41.289Z"
      },
      {
        "duration": 32,
        "start_time": "2022-10-31T19:47:41.839Z"
      },
      {
        "duration": 22,
        "start_time": "2022-10-31T19:47:41.873Z"
      },
      {
        "duration": 34,
        "start_time": "2022-10-31T19:47:41.898Z"
      },
      {
        "duration": 50,
        "start_time": "2022-10-31T19:47:41.934Z"
      },
      {
        "duration": 3,
        "start_time": "2022-10-31T19:47:41.987Z"
      },
      {
        "duration": 5,
        "start_time": "2022-10-31T19:47:41.992Z"
      },
      {
        "duration": 10,
        "start_time": "2022-10-31T19:47:42.025Z"
      },
      {
        "duration": 7,
        "start_time": "2022-10-31T19:47:42.037Z"
      },
      {
        "duration": 9,
        "start_time": "2022-10-31T19:47:42.049Z"
      },
      {
        "duration": 7,
        "start_time": "2022-10-31T19:47:42.060Z"
      },
      {
        "duration": 81,
        "start_time": "2022-10-31T19:47:42.069Z"
      },
      {
        "duration": 10,
        "start_time": "2022-10-31T19:47:42.151Z"
      },
      {
        "duration": 4,
        "start_time": "2022-10-31T19:47:42.163Z"
      },
      {
        "duration": 15,
        "start_time": "2022-10-31T19:47:42.168Z"
      },
      {
        "duration": 42,
        "start_time": "2022-10-31T19:47:42.184Z"
      },
      {
        "duration": 18,
        "start_time": "2022-10-31T19:47:42.228Z"
      },
      {
        "duration": 3,
        "start_time": "2022-10-31T19:47:42.248Z"
      },
      {
        "duration": 17,
        "start_time": "2022-10-31T19:47:42.253Z"
      },
      {
        "duration": 15,
        "start_time": "2022-10-31T19:47:42.272Z"
      },
      {
        "duration": 4,
        "start_time": "2022-10-31T19:47:42.288Z"
      },
      {
        "duration": 13,
        "start_time": "2022-10-31T19:47:42.293Z"
      },
      {
        "duration": 593,
        "start_time": "2022-10-31T19:47:42.307Z"
      },
      {
        "duration": 22,
        "start_time": "2022-10-31T19:47:42.903Z"
      },
      {
        "duration": 3,
        "start_time": "2022-10-31T19:47:42.927Z"
      },
      {
        "duration": 10,
        "start_time": "2022-10-31T19:47:42.931Z"
      },
      {
        "duration": 500,
        "start_time": "2022-10-31T19:47:42.942Z"
      },
      {
        "duration": 16,
        "start_time": "2022-10-31T19:47:43.445Z"
      },
      {
        "duration": 16,
        "start_time": "2022-10-31T19:47:43.463Z"
      },
      {
        "duration": 88,
        "start_time": "2022-10-31T19:47:43.481Z"
      },
      {
        "duration": 5,
        "start_time": "2022-10-31T19:47:43.571Z"
      },
      {
        "duration": 16,
        "start_time": "2022-10-31T19:47:43.577Z"
      },
      {
        "duration": 36,
        "start_time": "2022-10-31T19:47:43.595Z"
      },
      {
        "duration": 1088,
        "start_time": "2023-03-03T03:53:52.619Z"
      },
      {
        "duration": 29,
        "start_time": "2023-03-03T03:53:53.709Z"
      },
      {
        "duration": 17,
        "start_time": "2023-03-03T03:53:53.740Z"
      },
      {
        "duration": 11,
        "start_time": "2023-03-03T03:53:53.759Z"
      },
      {
        "duration": 34,
        "start_time": "2023-03-03T03:53:53.772Z"
      },
      {
        "duration": 3,
        "start_time": "2023-03-03T03:53:53.807Z"
      },
      {
        "duration": 18,
        "start_time": "2023-03-03T03:53:53.812Z"
      },
      {
        "duration": 20,
        "start_time": "2023-03-03T03:53:53.832Z"
      },
      {
        "duration": 4,
        "start_time": "2023-03-03T03:53:53.854Z"
      },
      {
        "duration": 15,
        "start_time": "2023-03-03T03:53:53.861Z"
      },
      {
        "duration": 40,
        "start_time": "2023-03-03T03:53:53.878Z"
      },
      {
        "duration": 44,
        "start_time": "2023-03-03T03:53:53.920Z"
      },
      {
        "duration": 9,
        "start_time": "2023-03-03T03:53:53.966Z"
      },
      {
        "duration": 4,
        "start_time": "2023-03-03T03:53:53.977Z"
      },
      {
        "duration": 16,
        "start_time": "2023-03-03T03:53:53.983Z"
      },
      {
        "duration": 19,
        "start_time": "2023-03-03T03:53:54.001Z"
      },
      {
        "duration": 20,
        "start_time": "2023-03-03T03:53:54.048Z"
      },
      {
        "duration": 4,
        "start_time": "2023-03-03T03:53:54.070Z"
      },
      {
        "duration": 13,
        "start_time": "2023-03-03T03:53:54.076Z"
      },
      {
        "duration": 10,
        "start_time": "2023-03-03T03:53:54.091Z"
      },
      {
        "duration": 4,
        "start_time": "2023-03-03T03:53:54.103Z"
      },
      {
        "duration": 40,
        "start_time": "2023-03-03T03:53:54.110Z"
      },
      {
        "duration": 604,
        "start_time": "2023-03-03T03:53:54.152Z"
      },
      {
        "duration": 6,
        "start_time": "2023-03-03T03:54:42.806Z"
      },
      {
        "duration": 4,
        "start_time": "2023-03-03T03:54:54.672Z"
      },
      {
        "duration": 11,
        "start_time": "2023-03-03T03:55:00.954Z"
      },
      {
        "duration": 13,
        "start_time": "2023-03-03T03:55:26.481Z"
      },
      {
        "duration": 17,
        "start_time": "2023-03-03T03:55:32.813Z"
      },
      {
        "duration": 3,
        "start_time": "2023-03-03T03:57:52.018Z"
      },
      {
        "duration": 4,
        "start_time": "2023-03-03T03:58:23.110Z"
      },
      {
        "duration": 118,
        "start_time": "2023-03-03T04:00:53.473Z"
      },
      {
        "duration": 125,
        "start_time": "2023-03-03T04:01:07.362Z"
      },
      {
        "duration": 114,
        "start_time": "2023-03-03T04:01:20.123Z"
      }
    ],
    "colab": {
      "provenance": []
    },
    "kernelspec": {
      "display_name": "Python 3 (ipykernel)",
      "language": "python",
      "name": "python3"
    },
    "language_info": {
      "codemirror_mode": {
        "name": "ipython",
        "version": 3
      },
      "file_extension": ".py",
      "mimetype": "text/x-python",
      "name": "python",
      "nbconvert_exporter": "python",
      "pygments_lexer": "ipython3",
      "version": "3.9.5"
    },
    "toc": {
      "base_numbering": 1,
      "nav_menu": {},
      "number_sections": true,
      "sideBar": true,
      "skip_h1_title": true,
      "title_cell": "Table of Contents",
      "title_sidebar": "Contents",
      "toc_cell": false,
      "toc_position": {},
      "toc_section_display": true,
      "toc_window_display": false
    }
  },
  "nbformat": 4,
  "nbformat_minor": 5
}